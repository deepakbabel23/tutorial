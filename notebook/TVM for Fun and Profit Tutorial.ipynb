{
  "nbformat": 4,
  "nbformat_minor": 0,
  "metadata": {
    "colab": {
      "name": "TVM for Fun and Profit Tutorial.ipynb",
      "version": "0.3.2",
      "provenance": []
    },
    "language_info": {
      "codemirror_mode": {
        "name": "ipython",
        "version": 3
      },
      "file_extension": ".py",
      "mimetype": "text/x-python",
      "name": "python",
      "nbconvert_exporter": "python",
      "pygments_lexer": "ipython3",
      "version": "3.7.2"
    },
    "kernelspec": {
      "name": "python3",
      "display_name": "Python 3"
    },
    "accelerator": "GPU"
  },
  "cells": [
    {
      "cell_type": "markdown",
      "metadata": {
        "id": "HDROSZ2XRHM6",
        "colab_type": "text"
      },
      "source": [
        "[![Open In Colab](https://colab.research.google.com/assets/colab-badge.svg)](https://colab.research.google.com/github/uwsampl/tutorial/blob/master/notebooks/TVM%20for%20Fun%20and%20Profit%20Tutorial.ipynb)"
      ]
    },
    {
      "cell_type": "markdown",
      "metadata": {
        "id": "TNcBzaPcVcp2",
        "colab_type": "text"
      },
      "source": [
        "Welcome to the TVM tutorial. First we are going to get you setup so you can run the tutorial completely in the Cloud.\n",
        "\n",
        "Google's Colab notebook's run on ephmeral nodes in the cloud. In order to preserve your build of TVM across notebooks and sessions we will be using Google Drive to cache your build of TVM.\n",
        "\n",
        "If you have already done this step, for this notebook or another, please skip ahead to the content\n",
        "after running these cells.\n",
        "\n",
        "# Installing TVM\n",
        "\n",
        "First we will connect to your Google drive, please follow the authentication steps below, after executing the cell."
      ]
    },
    {
      "cell_type": "code",
      "metadata": {
        "id": "R4PJa-AETUf3",
        "colab_type": "code",
        "colab": {
          "base_uri": "https://localhost:8080/",
          "height": 34
        },
        "outputId": "20312558-0011-48c4-e730-b1c0b80dbaa2"
      },
      "source": [
        "from google.colab import drive\n",
        "drive.mount('/content/gdrive')"
      ],
      "execution_count": 13,
      "outputs": [
        {
          "output_type": "stream",
          "text": [
            "Drive already mounted at /content/gdrive; to attempt to forcibly remount, call drive.mount(\"/content/gdrive\", force_remount=True).\n"
          ],
          "name": "stdout"
        }
      ]
    },
    {
      "cell_type": "markdown",
      "metadata": {
        "id": "EMJSjZOwWnjp",
        "colab_type": "text"
      },
      "source": [
        "Next we will install TVM in the Colab notebook, so we may use it for the rest of the tutorial."
      ]
    },
    {
      "cell_type": "code",
      "metadata": {
        "id": "VdUJuJBbRHM8",
        "colab_type": "code",
        "colab": {
          "base_uri": "https://localhost:8080/",
          "height": 34
        },
        "outputId": "5c5c5fe2-3e04-467f-f4e7-ae8b2efb639a"
      },
      "source": [
        "%%bash\n",
        "[[ ! -e /tools/google-cloud-sdk ]] && exit \n",
        "echo \"Installing Dependencies ...\"\n",
        "sudo apt-get update\n",
        "sudo apt-get install -y -q llvm-6.0 libglfw3-dev libtinfo-dev libffi-dev zlib1g-dev clinfo"
      ],
      "execution_count": 17,
      "outputs": [
        {
          "output_type": "stream",
          "text": [
            "Process is terminated.\n"
          ],
          "name": "stdout"
        }
      ]
    },
    {
      "cell_type": "code",
      "metadata": {
        "id": "9OGo3n7qW9mL",
        "colab_type": "code",
        "colab": {}
      },
      "source": [
        "%%bash\n",
        "[[ ! -e /tools/google-cloud-sdk ]] && exit \n",
        "cd /content/gdrive/\"My Drive\"\n",
        "if [[ ! -e tvm ]]; then\n",
        "    echo \"Cloning TVM ...\"\n",
        "    git clone --recursive https://github.com/dmlc/tvm\n",
        "fi\n"
      ],
      "execution_count": 0,
      "outputs": []
    },
    {
      "cell_type": "code",
      "metadata": {
        "id": "a0ntbF1vXH5L",
        "colab_type": "code",
        "colab": {
          "base_uri": "https://localhost:8080/",
          "height": 2414
        },
        "outputId": "78050443-03e0-444f-eb2d-3341a5efb082"
      },
      "source": [
        "%%bash\n",
        "[[ ! -e /tools/google-cloud-sdk ]] && exit \n",
        "echo \"Configuring Build ...\"\n",
        "cd \"/content/gdrive/My Drive/tvm\"\n",
        "mkdir -p build\n",
        "cp cmake/config.cmake build\n",
        "sed -i -e 's/USE_OPONGL OFF/USE_OPONGL ON/g' build/config.cmake\n",
        "sed -i -e 's/USE_CUDA OFF/USE_CUDA ON/g' build/config.cmake\n",
        "sed -i -e 's/USE_CUDNN OFF/USE_CUDNN ON/g' build/config.cmake\n",
        "sed -i -e 's/USE_LLVM OFF/USE_LLVM ON/g' build/config.cmake\n",
        "sed -i -e 's/USE_VTA_TSIM OFF/USE_VTA_TSIM ON/g' build/config.cmake\n",
        "cat build/config.cmake"
      ],
      "execution_count": 27,
      "outputs": [
        {
          "output_type": "stream",
          "text": [
            "Configuring Build ...\n",
            "#--------------------------------------------------------------------\n",
            "#  Template custom cmake configuration for compiling\n",
            "#\n",
            "#  This file is used to override the build options in build.\n",
            "#  If you want to change the configuration, please use the following\n",
            "#  steps. Assume you are on the root directory. First copy the this\n",
            "#  file so that any local changes will be ignored by git\n",
            "#\n",
            "#  $ mkdir build\n",
            "#  $ cp cmake/config.cmake build\n",
            "#\n",
            "#  Next modify the according entries, and then compile by\n",
            "#\n",
            "#  $ cd build\n",
            "#  $ cmake ..\n",
            "#\n",
            "#  Then buld in parallel with 8 threads\n",
            "#\n",
            "#  $ make -j8\n",
            "#--------------------------------------------------------------------\n",
            "\n",
            "#---------------------------------------------\n",
            "# Backend runtimes.\n",
            "#---------------------------------------------\n",
            "\n",
            "# Whether enable CUDA during compile,\n",
            "#\n",
            "# Possible values:\n",
            "# - ON: enable CUDA with cmake's auto search\n",
            "# - OFF: disable CUDA\n",
            "# - /path/to/cuda: use specific path to cuda toolkit\n",
            "set(USE_CUDA ON)\n",
            "\n",
            "# Whether enable ROCM runtime\n",
            "#\n",
            "# Possible values:\n",
            "# - ON: enable ROCM with cmake's auto search\n",
            "# - OFF: disable ROCM\n",
            "# - /path/to/rocm: use specific path to rocm\n",
            "set(USE_ROCM OFF)\n",
            "\n",
            "# Whether enable SDAccel runtime\n",
            "set(USE_SDACCEL OFF)\n",
            "\n",
            "# Whether enable Intel FPGA SDK for OpenCL (AOCL) runtime\n",
            "set(USE_AOCL OFF)\n",
            "\n",
            "# Whether enable OpenCL runtime\n",
            "set(USE_OPENCL OFF)\n",
            "\n",
            "# Whether enable Metal runtime\n",
            "set(USE_METAL OFF)\n",
            "\n",
            "# Whether enable Vulkan runtime\n",
            "#\n",
            "# Possible values:\n",
            "# - ON: enable Vulkan with cmake's auto search\n",
            "# - OFF: disable vulkan\n",
            "# - /path/to/vulkan-sdk: use specific path to vulkan-sdk\n",
            "set(USE_VULKAN OFF)\n",
            "\n",
            "# Whether enable OpenGL runtime\n",
            "set(USE_OPENGL OFF)\n",
            "\n",
            "# Whether to enable SGX runtime\n",
            "#\n",
            "# Possible values for USE_SGX:\n",
            "# - /path/to/sgxsdk: path to Intel SGX SDK\n",
            "# - OFF: disable SGX\n",
            "#\n",
            "# SGX_MODE := HW|SIM\n",
            "set(USE_SGX OFF)\n",
            "set(SGX_MODE \"SIM\")\n",
            "set(RUST_SGX_SDK \"/path/to/rust-sgx-sdk\")\n",
            "\n",
            "# Whether enable RPC runtime\n",
            "set(USE_RPC ON)\n",
            "\n",
            "# Whether embed stackvm into the runtime\n",
            "set(USE_STACKVM_RUNTIME OFF)\n",
            "\n",
            "# Whether enable tiny embedded graph runtime.\n",
            "set(USE_GRAPH_RUNTIME ON)\n",
            "\n",
            "# Whether enable additional graph debug functions\n",
            "set(USE_GRAPH_RUNTIME_DEBUG OFF)\n",
            "\n",
            "# Whether build with LLVM support\n",
            "# Requires LLVM version >= 4.0\n",
            "#\n",
            "# Possible values:\n",
            "# - ON: enable llvm with cmake's find search\n",
            "# - OFF: disable llvm\n",
            "# - /path/to/llvm-config: enable specific LLVM when multiple llvm-dev is available.\n",
            "set(USE_LLVM ON)\n",
            "\n",
            "#---------------------------------------------\n",
            "# Contrib libraries\n",
            "#---------------------------------------------\n",
            "# Whether use BLAS, choices: openblas, mkl, atlas, apple\n",
            "set(USE_BLAS none)\n",
            "\n",
            "# /path/to/mkl: mkl root path when use mkl blas library\n",
            "# set(USE_MKL_PATH /opt/intel/mkl) for UNIX\n",
            "# set(USE_MKL_PATH ../IntelSWTools/compilers_and_libraries_2018/windows/mkl) for WIN32\n",
            "set(USE_MKL_PATH none)\n",
            "\n",
            "# Whether use contrib.random in runtime\n",
            "set(USE_RANDOM OFF)\n",
            "\n",
            "# Whether use NNPack\n",
            "set(USE_NNPACK OFF)\n",
            "\n",
            "# Whether use CuDNN\n",
            "set(USE_CUDNN ON)\n",
            "\n",
            "# Whether use cuBLAS\n",
            "set(USE_CUBLAS OFF)\n",
            "\n",
            "# Whether use MIOpen\n",
            "set(USE_MIOPEN OFF)\n",
            "\n",
            "# Whether use MPS\n",
            "set(USE_MPS OFF)\n",
            "\n",
            "# Whether use rocBlas\n",
            "set(USE_ROCBLAS OFF)\n",
            "\n",
            "# Whether use contrib sort\n",
            "set(USE_SORT ON)\n",
            "\n",
            "# Build ANTLR parser for Relay text format\n",
            "set(USE_ANTLR OFF)\n",
            "\n",
            "# Build TSIM for VTA\n",
            "set(USE_VTA_TSIM ON)\n",
            "\n",
            "# Whether use Relay debug mode\n",
            "set(USE_RELAY_DEBUG OFF)\n",
            "\n"
          ],
          "name": "stdout"
        }
      ]
    },
    {
      "cell_type": "code",
      "metadata": {
        "id": "67PfNCAsXUwL",
        "colab_type": "code",
        "colab": {
          "base_uri": "https://localhost:8080/",
          "height": 612
        },
        "outputId": "5291d5d8-172f-4864-ab7f-5c99bdd2ca10"
      },
      "source": [
        "%%bash\n",
        "[[ ! -e /tools/google-cloud-sdk ]] && exit \n",
        "echo \"Building TVM ...\"\n",
        "cd \"/content/gdrive/My Drive/tvm\"\n",
        "ls -la\n",
        "make\n",
        "# echo \"Installing Python libraries ...\"\n",
        "# cd python; python setup.py install; cd ..\n",
        "# cd topi / python; python setup.py install; cd ../ .."
      ],
      "execution_count": 32,
      "outputs": [
        {
          "output_type": "stream",
          "text": [
            "Building TVM ...\n",
            "total 147\n",
            "drwx------  8 root root  4096 May 20 22:20 3rdparty\n",
            "drwx------ 12 root root  4096 May 20 22:20 apps\n",
            "drwx------  3 root root  4096 May 20 22:33 build\n",
            "-rw-------  1 root root   292 May 20 22:20 .clang-format\n",
            "drwx------  4 root root  4096 May 20 22:20 cmake\n",
            "-rw-------  1 root root 10406 May 20 22:20 CMakeLists.txt\n",
            "drwx------  6 root root  4096 May 20 22:20 conda\n",
            "-rw-------  1 root root  5609 May 20 22:20 CONTRIBUTORS.md\n",
            "drwx------  3 root root  4096 May 20 22:20 docker\n",
            "drwx------ 11 root root  4096 May 20 22:20 docs\n",
            "drwx------  9 root root  4096 May 20 22:20 .git\n",
            "drwx------  2 root root  4096 May 20 22:20 .github\n",
            "-rw-------  1 root root  2242 May 20 22:20 .gitignore\n",
            "-rw-------  1 root root   355 May 20 22:20 .gitmodules\n",
            "drwx------  4 root root  4096 May 20 22:20 golang\n",
            "drwx------  3 root root  4096 May 20 22:20 include\n",
            "-rw-------  1 root root 10027 May 20 22:20 Jenkinsfile\n",
            "drwx------  6 root root  4096 May 20 22:20 jvm\n",
            "-rw-------  1 root root 11357 May 20 22:20 LICENSE\n",
            "-rw-------  1 root root  4267 May 20 22:20 Makefile\n",
            "-rw-------  1 root root 10476 May 20 22:20 NEWS.md\n",
            "drwx------  9 root root  4096 May 20 22:20 nnvm\n",
            "-rw-------  1 root root    61 May 20 22:20 NOTICE\n",
            "drwx------  3 root root  4096 May 20 22:20 python\n",
            "-rw-------  1 root root  2705 May 20 22:20 README.md\n",
            "drwx------  5 root root  4096 May 20 22:20 rust\n",
            "drwx------ 14 root root  4096 May 20 22:20 src\n",
            "drwx------  9 root root  4096 May 20 22:20 tests\n",
            "drwx------  7 root root  4096 May 20 22:20 topi\n",
            "drwx------  8 root root  4096 May 20 22:20 tutorials\n",
            "-rw-------  1 root root  2902 May 20 22:20 version.py\n",
            "drwx------ 10 root root  4096 May 20 22:20 vta\n",
            "drwx------  2 root root  4096 May 20 22:20 web\n"
          ],
          "name": "stdout"
        }
      ]
    },
    {
      "cell_type": "code",
      "metadata": {
        "id": "4DD4ho6KRHNA",
        "colab_type": "code",
        "colab": {}
      },
      "source": [
        "try:\n",
        "  import google.colab\n",
        "  IN_COLAB = True\n",
        "except:\n",
        "  IN_COLAB = False"
      ],
      "execution_count": 0,
      "outputs": []
    },
    {
      "cell_type": "code",
      "metadata": {
        "id": "Rh2qd09PRHNC",
        "colab_type": "code",
        "colab": {}
      },
      "source": [
        ""
      ],
      "execution_count": 0,
      "outputs": []
    },
    {
      "cell_type": "code",
      "metadata": {
        "id": "lWrQztEERHNE",
        "colab_type": "code",
        "colab": {}
      },
      "source": [
        ""
      ],
      "execution_count": 0,
      "outputs": []
    },
    {
      "cell_type": "code",
      "metadata": {
        "id": "ce07LqMIRHNG",
        "colab_type": "code",
        "colab": {}
      },
      "source": [
        ""
      ],
      "execution_count": 0,
      "outputs": []
    }
  ]
}