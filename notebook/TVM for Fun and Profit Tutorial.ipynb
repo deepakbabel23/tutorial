{
  "nbformat": 4,
  "nbformat_minor": 0,
  "metadata": {
    "colab": {
      "name": "TVM for Fun and Profit Tutorial.ipynb",
      "version": "0.3.2",
      "provenance": []
    },
    "language_info": {
      "codemirror_mode": {
        "name": "ipython",
        "version": 3
      },
      "file_extension": ".py",
      "mimetype": "text/x-python",
      "name": "python",
      "nbconvert_exporter": "python",
      "pygments_lexer": "ipython3",
      "version": "3.7.2"
    },
    "kernelspec": {
      "name": "python3",
      "display_name": "Python 3"
    },
    "accelerator": "GPU"
  },
  "cells": [
    {
      "cell_type": "markdown",
      "metadata": {
        "id": "HDROSZ2XRHM6",
        "colab_type": "text"
      },
      "source": [
        "[![Open In Colab](https://colab.research.google.com/assets/colab-badge.svg)](https://colab.research.google.com/github/uwsampl/tutorial/blob/master/notebooks/TVM%20for%20Fun%20and%20Profit%20Tutorial.ipynb)"
      ]
    },
    {
      "cell_type": "markdown",
      "metadata": {
        "id": "TNcBzaPcVcp2",
        "colab_type": "text"
      },
      "source": [
        "Welcome to the TVM tutorial. First we are going to get you setup so you can run the tutorial completely in the Cloud.\n",
        "\n",
        "Google's Colab notebook's run on ephmeral nodes in the cloud. In order to preserve your build of TVM across notebooks and sessions we will be using Google Drive to cache your build of TVM.\n",
        "\n",
        "If you have already done this step, for this notebook or another, please skip ahead to the content\n",
        "after running these cells.\n",
        "\n",
        "# Installing TVM\n",
        "\n",
        "First we will connect to your Google drive, please follow the authentication steps below, after executing the cell."
      ]
    },
    {
      "cell_type": "code",
      "metadata": {
        "id": "R4PJa-AETUf3",
        "colab_type": "code",
        "colab": {
          "base_uri": "https://localhost:8080/",
          "height": 34
        },
        "outputId": "20312558-0011-48c4-e730-b1c0b80dbaa2"
      },
      "source": [
        "from google.colab import drive\n",
        "drive.mount('/content/gdrive')"
      ],
      "execution_count": 13,
      "outputs": [
        {
          "output_type": "stream",
          "text": [
            "Drive already mounted at /content/gdrive; to attempt to forcibly remount, call drive.mount(\"/content/gdrive\", force_remount=True).\n"
          ],
          "name": "stdout"
        }
      ]
    },
    {
      "cell_type": "markdown",
      "metadata": {
        "id": "EMJSjZOwWnjp",
        "colab_type": "text"
      },
      "source": [
        "Next we will install TVM in the Colab notebook, so we may use it for the rest of the tutorial."
      ]
    },
    {
      "cell_type": "code",
      "metadata": {
        "id": "VdUJuJBbRHM8",
        "colab_type": "code",
        "colab": {
          "base_uri": "https://localhost:8080/",
          "height": 34
        },
        "outputId": "5c5c5fe2-3e04-467f-f4e7-ae8b2efb639a"
      },
      "source": [
        "%%bash\n",
        "[[ ! -e /tools/google-cloud-sdk ]] && exit \n",
        "echo \"Installing Dependencies ...\"\n",
        "sudo apt-get update\n",
        "sudo apt-get install -y -q llvm-6.0 libglfw3-dev libtinfo-dev libffi-dev zlib1g-dev clinfo"
      ],
      "execution_count": 17,
      "outputs": [
        {
          "output_type": "stream",
          "text": [
            "Process is terminated.\n"
          ],
          "name": "stdout"
        }
      ]
    },
    {
      "cell_type": "code",
      "metadata": {
        "id": "9OGo3n7qW9mL",
        "colab_type": "code",
        "colab": {}
      },
      "source": [
        "%%bash\n",
        "[[ ! -e /tools/google-cloud-sdk ]] && exit \n",
        "cd /content/gdrive/\"My Drive\"\n",
        "if [[ ! -e tvm ]]; then\n",
        "    echo \"Cloning TVM ...\"\n",
        "    git clone --recursive https://github.com/dmlc/tvm\n",
        "fi\n"
      ],
      "execution_count": 0,
      "outputs": []
    },
    {
      "cell_type": "code",
      "metadata": {
        "id": "a0ntbF1vXH5L",
        "colab_type": "code",
        "colab": {
          "base_uri": "https://localhost:8080/",
          "height": 2414
        },
        "outputId": "e95caac6-d197-4f43-cc3c-45e39cef900b"
      },
      "source": [
        "%%bash\n",
        "[[ ! -e /tools/google-cloud-sdk ]] && exit \n",
        "echo \"Configuring Build ...\"\n",
        "cd \"/content/gdrive/My Drive/tvm\"\n",
        "mkdir -p build\n",
        "cp cmake/config.cmake build\n",
        "# sed -i -e 's/USE_OPONGL OFF/USE_OPONGL ON/g' build/config.cmake\n",
        "sed -i -e 's/USE_CUDA OFF/USE_CUDA ON/g' build/config.cmake\n",
        "sed -i -e 's/USE_CUDNN OFF/USE_CUDNN ON/g' build/config.cmake\n",
        "sed -i -e 's/USE_LLVM OFF/USE_LLVM ON/g' build/config.cmake\n",
        "sed -i -e 's/USE_VTA_TSIM OFF/USE_VTA_TSIM ON/g' build/config.cmake\n",
        "cat build/config.cmake"
      ],
      "execution_count": 39,
      "outputs": [
        {
          "output_type": "stream",
          "text": [
            "Configuring Build ...\n",
            "#--------------------------------------------------------------------\n",
            "#  Template custom cmake configuration for compiling\n",
            "#\n",
            "#  This file is used to override the build options in build.\n",
            "#  If you want to change the configuration, please use the following\n",
            "#  steps. Assume you are on the root directory. First copy the this\n",
            "#  file so that any local changes will be ignored by git\n",
            "#\n",
            "#  $ mkdir build\n",
            "#  $ cp cmake/config.cmake build\n",
            "#\n",
            "#  Next modify the according entries, and then compile by\n",
            "#\n",
            "#  $ cd build\n",
            "#  $ cmake ..\n",
            "#\n",
            "#  Then buld in parallel with 8 threads\n",
            "#\n",
            "#  $ make -j8\n",
            "#--------------------------------------------------------------------\n",
            "\n",
            "#---------------------------------------------\n",
            "# Backend runtimes.\n",
            "#---------------------------------------------\n",
            "\n",
            "# Whether enable CUDA during compile,\n",
            "#\n",
            "# Possible values:\n",
            "# - ON: enable CUDA with cmake's auto search\n",
            "# - OFF: disable CUDA\n",
            "# - /path/to/cuda: use specific path to cuda toolkit\n",
            "set(USE_CUDA ON)\n",
            "\n",
            "# Whether enable ROCM runtime\n",
            "#\n",
            "# Possible values:\n",
            "# - ON: enable ROCM with cmake's auto search\n",
            "# - OFF: disable ROCM\n",
            "# - /path/to/rocm: use specific path to rocm\n",
            "set(USE_ROCM OFF)\n",
            "\n",
            "# Whether enable SDAccel runtime\n",
            "set(USE_SDACCEL OFF)\n",
            "\n",
            "# Whether enable Intel FPGA SDK for OpenCL (AOCL) runtime\n",
            "set(USE_AOCL OFF)\n",
            "\n",
            "# Whether enable OpenCL runtime\n",
            "set(USE_OPENCL OFF)\n",
            "\n",
            "# Whether enable Metal runtime\n",
            "set(USE_METAL OFF)\n",
            "\n",
            "# Whether enable Vulkan runtime\n",
            "#\n",
            "# Possible values:\n",
            "# - ON: enable Vulkan with cmake's auto search\n",
            "# - OFF: disable vulkan\n",
            "# - /path/to/vulkan-sdk: use specific path to vulkan-sdk\n",
            "set(USE_VULKAN OFF)\n",
            "\n",
            "# Whether enable OpenGL runtime\n",
            "set(USE_OPENGL OFF)\n",
            "\n",
            "# Whether to enable SGX runtime\n",
            "#\n",
            "# Possible values for USE_SGX:\n",
            "# - /path/to/sgxsdk: path to Intel SGX SDK\n",
            "# - OFF: disable SGX\n",
            "#\n",
            "# SGX_MODE := HW|SIM\n",
            "set(USE_SGX OFF)\n",
            "set(SGX_MODE \"SIM\")\n",
            "set(RUST_SGX_SDK \"/path/to/rust-sgx-sdk\")\n",
            "\n",
            "# Whether enable RPC runtime\n",
            "set(USE_RPC ON)\n",
            "\n",
            "# Whether embed stackvm into the runtime\n",
            "set(USE_STACKVM_RUNTIME OFF)\n",
            "\n",
            "# Whether enable tiny embedded graph runtime.\n",
            "set(USE_GRAPH_RUNTIME ON)\n",
            "\n",
            "# Whether enable additional graph debug functions\n",
            "set(USE_GRAPH_RUNTIME_DEBUG OFF)\n",
            "\n",
            "# Whether build with LLVM support\n",
            "# Requires LLVM version >= 4.0\n",
            "#\n",
            "# Possible values:\n",
            "# - ON: enable llvm with cmake's find search\n",
            "# - OFF: disable llvm\n",
            "# - /path/to/llvm-config: enable specific LLVM when multiple llvm-dev is available.\n",
            "set(USE_LLVM ON)\n",
            "\n",
            "#---------------------------------------------\n",
            "# Contrib libraries\n",
            "#---------------------------------------------\n",
            "# Whether use BLAS, choices: openblas, mkl, atlas, apple\n",
            "set(USE_BLAS none)\n",
            "\n",
            "# /path/to/mkl: mkl root path when use mkl blas library\n",
            "# set(USE_MKL_PATH /opt/intel/mkl) for UNIX\n",
            "# set(USE_MKL_PATH ../IntelSWTools/compilers_and_libraries_2018/windows/mkl) for WIN32\n",
            "set(USE_MKL_PATH none)\n",
            "\n",
            "# Whether use contrib.random in runtime\n",
            "set(USE_RANDOM OFF)\n",
            "\n",
            "# Whether use NNPack\n",
            "set(USE_NNPACK OFF)\n",
            "\n",
            "# Whether use CuDNN\n",
            "set(USE_CUDNN ON)\n",
            "\n",
            "# Whether use cuBLAS\n",
            "set(USE_CUBLAS OFF)\n",
            "\n",
            "# Whether use MIOpen\n",
            "set(USE_MIOPEN OFF)\n",
            "\n",
            "# Whether use MPS\n",
            "set(USE_MPS OFF)\n",
            "\n",
            "# Whether use rocBlas\n",
            "set(USE_ROCBLAS OFF)\n",
            "\n",
            "# Whether use contrib sort\n",
            "set(USE_SORT ON)\n",
            "\n",
            "# Build ANTLR parser for Relay text format\n",
            "set(USE_ANTLR OFF)\n",
            "\n",
            "# Build TSIM for VTA\n",
            "set(USE_VTA_TSIM ON)\n",
            "\n",
            "# Whether use Relay debug mode\n",
            "set(USE_RELAY_DEBUG OFF)\n",
            "\n"
          ],
          "name": "stdout"
        }
      ]
    },
    {
      "cell_type": "code",
      "metadata": {
        "id": "67PfNCAsXUwL",
        "colab_type": "code",
        "colab": {
          "base_uri": "https://localhost:8080/",
          "height": 765
        },
        "outputId": "28355dc4-a4b1-4685-8560-b69ec924a9e7"
      },
      "source": [
        "%%bash\n",
        "[[ ! -e /tools/google-cloud-sdk ]] && exit \n",
        "echo \"Running CMake ...\"\n",
        "cd \"/content/gdrive/My Drive/tvm/build\"\n",
        "cmake .."
      ],
      "execution_count": 40,
      "outputs": [
        {
          "output_type": "stream",
          "text": [
            "Running CMake ...\n",
            "-- Build with RPC support...\n",
            "-- Build with Graph runtime support...\n",
            "-- Build VTA runtime with target: sim\n",
            "-- Found CUDA_TOOLKIT_ROOT_DIR=/usr/local/cuda\n",
            "-- Found CUDA_CUDA_LIBRARY=/usr/local/cuda/targets/x86_64-linux/lib/stubs/libcuda.so\n",
            "-- Found CUDA_CUDART_LIBRARY=/usr/local/cuda/lib64/libcudart.so\n",
            "-- Found CUDA_NVRTC_LIBRARY=/usr/local/cuda/lib64/libnvrtc.so\n",
            "-- Found CUDA_CUDNN_LIBRARY=/usr/lib/x86_64-linux-gnu/libcudnn.so\n",
            "-- Found CUDA_CUBLAS_LIBRARY=/usr/local/cuda/lib64/libcublas.so\n",
            "-- Build with CUDA support\n",
            "-- Build with cuDNN support\n",
            "-- Link with dynamic LLVM library\n",
            "-- Found LLVM_INCLUDE_DIRS=/usr/lib/llvm-6.0/include\n",
            "-- Found LLVM_DEFINITIONS=-D_GNU_SOURCE -D__STDC_CONSTANT_MACROS -D__STDC_FORMAT_MACROS -D__STDC_LIMIT_MACROS\n",
            "-- Found TVM_LLVM_VERSION=60\n",
            "-- Build with LLVM 6.0.0\n",
            "-- Set TVM_LLVM_VERSION=60\n",
            "-- Build with contrib.sort\n",
            "-- Build with contrib.hybriddump\n",
            "-- Configuring done\n",
            "-- Generating done\n",
            "-- Build files have been written to: /content/gdrive/My Drive/tvm/build\n"
          ],
          "name": "stdout"
        },
        {
          "output_type": "stream",
          "text": [
            "CMake Warning (dev) at /usr/local/lib/python2.7/dist-packages/cmake/data/share/cmake-3.12/Modules/FindOpenGL.cmake:270 (message):\n",
            "  Policy CMP0072 is not set: FindOpenGL prefers GLVND by default when\n",
            "  available.  Run \"cmake --help-policy CMP0072\" for policy details.  Use the\n",
            "  cmake_policy command to set the policy and suppress this warning.\n",
            "\n",
            "  FindOpenGL found both a legacy GL library:\n",
            "\n",
            "    OPENGL_gl_LIBRARY: /usr/lib/x86_64-linux-gnu/libGL.so\n",
            "\n",
            "  and GLVND libraries for OpenGL and GLX:\n",
            "\n",
            "    OPENGL_opengl_LIBRARY: /usr/lib/x86_64-linux-gnu/libOpenGL.so\n",
            "    OPENGL_glx_LIBRARY: /usr/lib/x86_64-linux-gnu/libGLX.so\n",
            "\n",
            "  OpenGL_GL_PREFERENCE has not been set to \"GLVND\" or \"LEGACY\", so for\n",
            "  compatibility with CMake 3.10 and below the legacy GL library will be used.\n",
            "Call Stack (most recent call first):\n",
            "  cmake/modules/OpenGL.cmake:18 (find_package)\n",
            "  CMakeLists.txt:192 (include)\n",
            "This warning is for project developers.  Use -Wno-dev to suppress it.\n",
            "\n"
          ],
          "name": "stderr"
        }
      ]
    },
    {
      "cell_type": "code",
      "metadata": {
        "id": "I7TdPtnqaOuJ",
        "colab_type": "code",
        "colab": {
          "base_uri": "https://localhost:8080/",
          "height": 34
        },
        "outputId": "9da6261e-d683-4f47-f3e2-fbe0c2b1f97b"
      },
      "source": [
        "%%bash\n",
        "[[ ! -e /tools/google-cloud-sdk ]] && exit \n",
        "echo \"Building TVM ...\"\n",
        "cd \"/content/gdrive/My Drive/tvm/build\"\n",
        "make -j4"
      ],
      "execution_count": 45,
      "outputs": [
        {
          "output_type": "stream",
          "text": [
            "Process is interrupted.\n"
          ],
          "name": "stdout"
        }
      ]
    },
    {
      "cell_type": "code",
      "metadata": {
        "id": "c_VfoQx0gVVZ",
        "colab_type": "code",
        "colab": {
          "base_uri": "https://localhost:8080/",
          "height": 1666
        },
        "outputId": "d8b0c34a-4664-458a-8aca-4836506534b0"
      },
      "source": [
        "%%bash\n",
        "[[ ! -e /tools/google-cloud-sdk ]] && exit \n",
        "echo \"Installing Python libraries ...\"\n",
        "cd \"/content/gdrive/My Drive/tvm/\"\n",
        "cd python; python setup.py install; cd ..\n",
        "cd topi/python; python setup.py install"
      ],
      "execution_count": 58,
      "outputs": [
        {
          "output_type": "stream",
          "text": [
            "Installing Python libraries ...\n",
            "running install\n",
            "running bdist_egg\n",
            "running egg_info\n",
            "writing tvm.egg-info/PKG-INFO\n",
            "writing dependency_links to tvm.egg-info/dependency_links.txt\n",
            "writing requirements to tvm.egg-info/requires.txt\n",
            "writing top-level names to tvm.egg-info/top_level.txt\n",
            "writing manifest file 'tvm.egg-info/SOURCES.txt'\n",
            "installing library code to build/bdist.linux-x86_64/egg\n",
            "running install_lib\n",
            "running build_py\n",
            "running build_ext\n",
            "byte-compiling build/bdist.linux-x86_64/egg/tvm/relay/op/image/image.py to image.cpython-36.pyc\n",
            "byte-compiling build/bdist.linux-x86_64/egg/tvm/relay/op/nn/__init__.py to __init__.cpython-36.pyc\n",
            "byte-compiling build/bdist.linux-x86_64/egg/tvm/relay/op/nn/_make.py to _make.cpython-36.pyc\n",
            "byte-compiling build/bdist.linux-x86_64/egg/tvm/relay/op/nn/_nn.py to _nn.cpython-36.pyc\n",
            "byte-compiling build/bdist.linux-x86_64/egg/tvm/relay/op/nn/nn.py to nn.cpython-36.pyc\n",
            "byte-compiling build/bdist.linux-x86_64/egg/tvm/relay/op/vision/__init__.py to __init__.cpython-36.pyc\n",
            "byte-compiling build/bdist.linux-x86_64/egg/tvm/relay/op/vision/_make.py to _make.cpython-36.pyc\n",
            "byte-compiling build/bdist.linux-x86_64/egg/tvm/relay/op/vision/_rcnn.py to _rcnn.cpython-36.pyc\n",
            "byte-compiling build/bdist.linux-x86_64/egg/tvm/relay/op/vision/_vision.py to _vision.cpython-36.pyc\n",
            "byte-compiling build/bdist.linux-x86_64/egg/tvm/relay/op/vision/_yolo.py to _yolo.cpython-36.pyc\n",
            "byte-compiling build/bdist.linux-x86_64/egg/tvm/relay/op/vision/multibox.py to multibox.cpython-36.pyc\n",
            "byte-compiling build/bdist.linux-x86_64/egg/tvm/relay/op/vision/nms.py to nms.cpython-36.pyc\n",
            "byte-compiling build/bdist.linux-x86_64/egg/tvm/relay/op/vision/rcnn.py to rcnn.cpython-36.pyc\n",
            "byte-compiling build/bdist.linux-x86_64/egg/tvm/relay/op/vision/yolo.py to yolo.cpython-36.pyc\n",
            "byte-compiling build/bdist.linux-x86_64/egg/tvm/relay/quantize/__init__.py to __init__.cpython-36.pyc\n",
            "byte-compiling build/bdist.linux-x86_64/egg/tvm/relay/quantize/_annotate.py to _annotate.cpython-36.pyc\n",
            "byte-compiling build/bdist.linux-x86_64/egg/tvm/relay/quantize/_quantize.py to _quantize.cpython-36.pyc\n",
            "byte-compiling build/bdist.linux-x86_64/egg/tvm/relay/quantize/quantize.py to quantize.cpython-36.pyc\n",
            "byte-compiling build/bdist.linux-x86_64/egg/tvm/relay/testing/__init__.py to __init__.cpython-36.pyc\n",
            "byte-compiling build/bdist.linux-x86_64/egg/tvm/relay/testing/config.py to config.cpython-36.pyc\n",
            "byte-compiling build/bdist.linux-x86_64/egg/tvm/relay/testing/dcgan.py to dcgan.cpython-36.pyc\n",
            "byte-compiling build/bdist.linux-x86_64/egg/tvm/relay/testing/densenet.py to densenet.cpython-36.pyc\n",
            "byte-compiling build/bdist.linux-x86_64/egg/tvm/relay/testing/dqn.py to dqn.cpython-36.pyc\n",
            "byte-compiling build/bdist.linux-x86_64/egg/tvm/relay/testing/inception_v3.py to inception_v3.cpython-36.pyc\n",
            "byte-compiling build/bdist.linux-x86_64/egg/tvm/relay/testing/init.py to init.cpython-36.pyc\n",
            "byte-compiling build/bdist.linux-x86_64/egg/tvm/relay/testing/layers.py to layers.cpython-36.pyc\n",
            "byte-compiling build/bdist.linux-x86_64/egg/tvm/relay/testing/lstm.py to lstm.cpython-36.pyc\n",
            "byte-compiling build/bdist.linux-x86_64/egg/tvm/relay/testing/mlp.py to mlp.cpython-36.pyc\n",
            "byte-compiling build/bdist.linux-x86_64/egg/tvm/relay/testing/mobilenet.py to mobilenet.cpython-36.pyc\n",
            "byte-compiling build/bdist.linux-x86_64/egg/tvm/relay/testing/resnet.py to resnet.cpython-36.pyc\n",
            "byte-compiling build/bdist.linux-x86_64/egg/tvm/relay/testing/squeezenet.py to squeezenet.cpython-36.pyc\n",
            "byte-compiling build/bdist.linux-x86_64/egg/tvm/relay/testing/tf.py to tf.cpython-36.pyc\n",
            "byte-compiling build/bdist.linux-x86_64/egg/tvm/relay/testing/vgg.py to vgg.cpython-36.pyc\n",
            "byte-compiling build/bdist.linux-x86_64/egg/tvm/rpc/__init__.py to __init__.cpython-36.pyc\n",
            "byte-compiling build/bdist.linux-x86_64/egg/tvm/rpc/base.py to base.cpython-36.pyc\n",
            "byte-compiling build/bdist.linux-x86_64/egg/tvm/rpc/client.py to client.cpython-36.pyc\n",
            "byte-compiling build/bdist.linux-x86_64/egg/tvm/rpc/proxy.py to proxy.cpython-36.pyc\n",
            "byte-compiling build/bdist.linux-x86_64/egg/tvm/rpc/server.py to server.cpython-36.pyc\n",
            "byte-compiling build/bdist.linux-x86_64/egg/tvm/rpc/tornado_util.py to tornado_util.cpython-36.pyc\n",
            "byte-compiling build/bdist.linux-x86_64/egg/tvm/rpc/tracker.py to tracker.cpython-36.pyc\n",
            "creating stub loader for tvm/_ffi/_cy3/core.cpython-36m-x86_64-linux-gnu.so\n",
            "byte-compiling build/bdist.linux-x86_64/egg/tvm/_ffi/_cy3/core.py to core.cpython-36.pyc\n",
            "installing package data to build/bdist.linux-x86_64/egg\n",
            "running install_data\n",
            "copying ../build/libtvm.so -> build/bdist.linux-x86_64/egg/tvm\n",
            "copying ../build/libtvm_runtime.so -> build/bdist.linux-x86_64/egg/tvm\n",
            "creating build/bdist.linux-x86_64/egg/EGG-INFO\n",
            "copying tvm.egg-info/PKG-INFO -> build/bdist.linux-x86_64/egg/EGG-INFO\n",
            "copying tvm.egg-info/SOURCES.txt -> build/bdist.linux-x86_64/egg/EGG-INFO\n",
            "copying tvm.egg-info/dependency_links.txt -> build/bdist.linux-x86_64/egg/EGG-INFO\n",
            "copying tvm.egg-info/not-zip-safe -> build/bdist.linux-x86_64/egg/EGG-INFO\n",
            "copying tvm.egg-info/requires.txt -> build/bdist.linux-x86_64/egg/EGG-INFO\n",
            "copying tvm.egg-info/top_level.txt -> build/bdist.linux-x86_64/egg/EGG-INFO\n",
            "writing build/bdist.linux-x86_64/egg/EGG-INFO/native_libs.txt\n",
            "creating 'dist/tvm-0.6.dev0-py3.6-linux-x86_64.egg' and adding 'build/bdist.linux-x86_64/egg' to it\n",
            "removing 'build/bdist.linux-x86_64/egg' (and everything under it)\n",
            "Processing tvm-0.6.dev0-py3.6-linux-x86_64.egg\n",
            "creating /root/.local/lib/python3.6/site-packages/tvm-0.6.dev0-py3.6-linux-x86_64.egg\n",
            "Extracting tvm-0.6.dev0-py3.6-linux-x86_64.egg to /root/.local/lib/python3.6/site-packages\n",
            "Adding tvm 0.6.dev0 to easy-install.pth file\n",
            "\n",
            "Installed /root/.local/lib/python3.6/site-packages/tvm-0.6.dev0-py3.6-linux-x86_64.egg\n",
            "Processing dependencies for tvm==0.6.dev0\n",
            "Searching for attrs==19.1.0\n",
            "Best match: attrs 19.1.0\n",
            "Adding attrs 19.1.0 to easy-install.pth file\n",
            "\n",
            "Using /usr/local/lib/python3.6/dist-packages\n",
            "Searching for decorator==4.4.0\n",
            "Best match: decorator 4.4.0\n",
            "Adding decorator 4.4.0 to easy-install.pth file\n",
            "\n",
            "Using /usr/local/lib/python3.6/dist-packages\n",
            "Searching for numpy==1.16.3\n",
            "Best match: numpy 1.16.3\n",
            "Adding numpy 1.16.3 to easy-install.pth file\n",
            "Installing f2py script to /root/.local/bin\n",
            "Installing f2py3 script to /root/.local/bin\n",
            "Installing f2py3.6 script to /root/.local/bin\n",
            "\n",
            "Using /usr/local/lib/python3.6/dist-packages\n",
            "Finished processing dependencies for tvm==0.6.dev0\n"
          ],
          "name": "stdout"
        },
        {
          "output_type": "stream",
          "text": [
            "/usr/local/lib/python3.6/dist-packages/setuptools/dist.py:472: UserWarning: Normalizing '0.6.dev' to '0.6.dev0'\n",
            "  normalized_version,\n"
          ],
          "name": "stderr"
        }
      ]
    },
    {
      "cell_type": "markdown",
      "metadata": {
        "id": "D6to0yixgsFd",
        "colab_type": "text"
      },
      "source": [
        "We will set a global variable so we can later check if we are in the Cloud notebook or running locally."
      ]
    },
    {
      "cell_type": "code",
      "metadata": {
        "id": "4DD4ho6KRHNA",
        "colab_type": "code",
        "colab": {}
      },
      "source": [
        "try:\n",
        "  import google.colab\n",
        "  IN_COLAB = True\n",
        "except:\n",
        "  IN_COLAB = False"
      ],
      "execution_count": 0,
      "outputs": []
    },
    {
      "cell_type": "markdown",
      "metadata": {
        "id": "-2qO4_PajP3m",
        "colab_type": "text"
      },
      "source": [
        "Now that we have installed everything, please restart the runtime. If you have run all the above steps you are now be ready to use TVM.\n",
        "\n",
        "![Restart the runtime](https://raw.githubusercontent.com/uwsampl/tutorial/master/images/restart_runtime.png?token=AAFKBPNVSTP3W677WTPD42C45RZE6)"
      ]
    },
    {
      "cell_type": "code",
      "metadata": {
        "id": "lWrQztEERHNE",
        "colab_type": "code",
        "colab": {
          "base_uri": "https://localhost:8080/",
          "height": 51
        },
        "outputId": "a5855e4e-ee04-48d6-c390-9e8966698086"
      },
      "source": [
        "import tvm\n",
        "print(tvm)\n",
        "import topi\n",
        "print(topi)"
      ],
      "execution_count": 5,
      "outputs": [
        {
          "output_type": "stream",
          "text": [
            "<module 'tvm' from '/root/.local/lib/python3.6/site-packages/tvm-0.6.dev0-py3.6-linux-x86_64.egg/tvm/__init__.py'>\n",
            "<module 'topi' from '/usr/local/lib/python3.6/dist-packages/topi-0.6.dev0-py3.6.egg/topi/__init__.py'>\n"
          ],
          "name": "stdout"
        }
      ]
    }
  ]
}