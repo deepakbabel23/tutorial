{
 "cells": [
  {
   "cell_type": "markdown",
   "metadata": {},
   "source": [
    "[![Open In Colab](https://colab.research.google.com/assets/colab-badge.svg)](https://colab.research.google.com/github/uwsampl/tutorial/blob/master/notebooks/TVM%20for%20Fun%20and%20Profit%20Tutorial.ipynb)"
   ]
  },
  {
   "cell_type": "code",
   "execution_count": null,
   "metadata": {},
   "outputs": [],
   "source": [
    "%% bash\n",
    "[[ ! -e /colabtools ]] && exit \n",
    "sudo apt-get update\n",
    "sudo apt-get install -y -q llvm-6.0 libglfw3-dev libtinfo-dev libffi-dev zlib1g-dev clinfo nvidia-opencl-dev opencl-headers\n",
    "git clone --recursive https://github.com/dmlc/tvm\n",
    "cd tvm\n",
    "mkdir -p build\n",
    "cp cmake / config.cmake build\n",
    "sed -i -e 's / USE_OPONGL OFF / USE_OPONGL ON / g' build / config.cmake\n",
    "sed -i -e 's / USE_CUDA OFF / USE_CUDA ON / g' build / config.cmake\n",
    "sed -i -e 's / USE_CUDNN OFF / USE_CUDNN ON / g' build / config.cmake\n",
    "sed -i -e 's / USE_LLVM OFF / USE_LLVM ON / g' build / config.cmake\n",
    "cd build\n",
    "cmake ..\n",
    "make -j4\n",
    "cd ..\n",
    "cd python; python setup.py install; cd ..\n",
    "cd topi / python; python setup.py install; cd ../ ..\n",
    "cd nnvm / python; python setup.py install; cd ../ .."
   ]
  },
  {
   "cell_type": "code",
   "execution_count": 2,
   "metadata": {},
   "outputs": [],
   "source": [
    "try:\n",
    "  import google.colab\n",
    "  IN_COLAB = True\n",
    "except:\n",
    "  IN_COLAB = False"
   ]
  },
  {
   "cell_type": "code",
   "execution_count": null,
   "metadata": {},
   "outputs": [],
   "source": []
  },
  {
   "cell_type": "code",
   "execution_count": null,
   "metadata": {},
   "outputs": [],
   "source": []
  },
  {
   "cell_type": "code",
   "execution_count": null,
   "metadata": {},
   "outputs": [],
   "source": []
  }
 ],
 "metadata": {
  "kernelspec": {
   "display_name": "Python 3",
   "language": "python",
   "name": "python3"
  },
  "language_info": {
   "codemirror_mode": {
    "name": "ipython",
    "version": 3
   },
   "file_extension": ".py",
   "mimetype": "text/x-python",
   "name": "python",
   "nbconvert_exporter": "python",
   "pygments_lexer": "ipython3",
   "version": "3.7.2"
  }
 },
 "nbformat": 4,
 "nbformat_minor": 2
}
