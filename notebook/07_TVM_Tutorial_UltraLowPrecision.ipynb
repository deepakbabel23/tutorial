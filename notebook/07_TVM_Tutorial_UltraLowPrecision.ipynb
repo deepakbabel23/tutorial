{
  "nbformat": 4,
  "nbformat_minor": 0,
  "metadata": {
    "colab": {
      "name": "07_TVM_Tutorial_UltraLowPrecision.ipynb",
      "version": "0.3.2",
      "provenance": [],
      "collapsed_sections": []
    },
    "kernelspec": {
      "name": "python3",
      "display_name": "Python 3"
    }
  },
  "cells": [
    {
      "cell_type": "markdown",
      "metadata": {
        "id": "uWChWjwLwLhg",
        "colab_type": "text"
      },
      "source": [
        "\n",
        "Please follow the introduction of the TVM tutorial before running this. The below code assumes you have already setup TVM, and merely loads it from your Google Drive."
      ]
    },
    {
      "cell_type": "code",
      "metadata": {
        "id": "gwFLyWdevweJ",
        "colab_type": "code",
        "outputId": "d7c42556-aedd-4405-8140-5d01a517fe13",
        "colab": {
          "base_uri": "https://localhost:8080/",
          "height": 122
        }
      },
      "source": [
        "from google.colab import drive\n",
        "drive.mount('/content/gdrive')"
      ],
      "execution_count": 1,
      "outputs": [
        {
          "output_type": "stream",
          "text": [
            "Go to this URL in a browser: https://accounts.google.com/o/oauth2/auth?client_id=947318989803-6bn6qk8qdgf4n4g3pfee6491hc0brc4i.apps.googleusercontent.com&redirect_uri=urn%3Aietf%3Awg%3Aoauth%3A2.0%3Aoob&scope=email%20https%3A%2F%2Fwww.googleapis.com%2Fauth%2Fdocs.test%20https%3A%2F%2Fwww.googleapis.com%2Fauth%2Fdrive%20https%3A%2F%2Fwww.googleapis.com%2Fauth%2Fdrive.photos.readonly%20https%3A%2F%2Fwww.googleapis.com%2Fauth%2Fpeopleapi.readonly&response_type=code\n",
            "\n",
            "Enter your authorization code:\n",
            "··········\n",
            "Mounted at /content/gdrive\n"
          ],
          "name": "stdout"
        }
      ]
    },
    {
      "cell_type": "code",
      "metadata": {
        "id": "PwCwyoC5v2Ji",
        "colab_type": "code",
        "colab": {
          "base_uri": "https://localhost:8080/",
          "height": 2757
        },
        "outputId": "10a025a7-16e9-4067-9628-52db33035388"
      },
      "source": [
        "\n",
        "try:\n",
        "  import google.colab\n",
        "  IN_COLAB = True\n",
        "except:\n",
        "  IN_COLAB = False\n",
        "\n",
        "if IN_COLAB:\n",
        "    ! gsutil cp \"gs://tvm-fcrc-binariesd5fce43e-8373-11e9-bfb6-0242ac1c0002/tvm.tar.gz\" /tmp/tvm.tar.gz\n",
        "    ! mkdir -p /tvm\n",
        "    ! tar -xf /tmp/tvm.tar.gz --strip-components=4 --directory /tvm\n",
        "    ! ls -la /tvm\n",
        "    ! bash /tvm/package.sh\n",
        "    # Add TVM to the Python path.\n",
        "    import sys\n",
        "    sys.path.append('/tvm/python')\n",
        "    sys.path.append('/tvm/topi/python')\n",
        "else:\n",
        "    print(\"Notebook executing locally, skipping Colab setup ...\")"
      ],
      "execution_count": 2,
      "outputs": [
        {
          "output_type": "stream",
          "text": [
            "Copying gs://tvm-fcrc-binariesd5fce43e-8373-11e9-bfb6-0242ac1c0002/tvm.tar.gz...\n",
            "- [1 files][112.9 MiB/112.9 MiB]                                                \n",
            "Operation completed over 1 objects/112.9 MiB.                                    \n",
            "total 164\n",
            "drwxr-xr-x 21 root root  4096 Jun  9 03:20 .\n",
            "drwxr-xr-x  1 root root  4096 Jun  9 03:20 ..\n",
            "drwx------  8 root root  4096 May 31 08:14 3rdparty\n",
            "drwx------ 12 root root  4096 May 31 08:14 apps\n",
            "drwx------  3 root root  4096 Jun  4 09:46 build\n",
            "drwx------  4 root root  4096 May 31 08:14 cmake\n",
            "-rw-------  1 root root 10406 May 31 08:14 CMakeLists.txt\n",
            "drwx------  6 root root  4096 May 31 08:14 conda\n",
            "-rw-------  1 root root  5673 May 31 08:14 CONTRIBUTORS.md\n",
            "drwx------  3 root root  4096 May 31 08:14 docker\n",
            "drwx------ 11 root root  4096 May 31 08:14 docs\n",
            "drwx------  4 root root  4096 May 31 08:14 golang\n",
            "drwx------  3 root root  4096 May 31 08:14 include\n",
            "-rw-------  1 root root 10027 May 31 08:14 Jenkinsfile\n",
            "drwx------  6 root root  4096 May 31 08:14 jvm\n",
            "-rw-------  1 root root 11357 May 31 08:14 LICENSE\n",
            "-rw-------  1 root root  4267 May 31 08:14 Makefile\n",
            "-rw-------  1 root root 10476 May 31 08:14 NEWS.md\n",
            "drwx------  9 root root  4096 May 31 08:14 nnvm\n",
            "-rw-------  1 root root    61 May 31 08:14 NOTICE\n",
            "-rw-------  1 root root   369 Jun  3 22:49 package.sh\n",
            "drwx------  3 root root  4096 May 31 08:14 python\n",
            "-rw-------  1 root root  2705 May 31 08:14 README.md\n",
            "drwx------  5 root root  4096 May 31 08:14 rust\n",
            "drwx------ 14 root root  4096 May 31 08:14 src\n",
            "drwx------  9 root root  4096 May 31 08:14 tests\n",
            "drwx------  7 root root  4096 May 31 08:14 topi\n",
            "drwx------  8 root root  4096 May 31 08:14 tutorials\n",
            "-rw-------  1 root root  2902 May 31 08:14 version.py\n",
            "drwx------ 10 root root  4096 May 31 08:14 vta\n",
            "drwx------  2 root root  4096 May 31 08:14 web\n",
            "Installing Dependencies ...\n",
            "deb https://dl.bintray.com/sbt/debian /\n",
            "Executing: /tmp/apt-key-gpghome.A7b07BdjrU/gpg.1.sh --keyserver hkp://keyserver.ubuntu.com:80 --recv 2EE0EA64E40A89B84B2DF73499E82A75642AC823\n",
            "gpg: key 99E82A75642AC823: public key \"sbt build tool <scalasbt@gmail.com>\" imported\n",
            "gpg: Total number processed: 1\n",
            "gpg:               imported: 1\n",
            "Ign:1 https://dl.bintray.com/sbt/debian  InRelease\n",
            "Get:2 https://dl.bintray.com/sbt/debian  Release [815 B]\n",
            "Get:3 https://dl.bintray.com/sbt/debian  Release.gpg [821 B]\n",
            "Ign:4 https://developer.download.nvidia.com/compute/cuda/repos/ubuntu1804/x86_64  InRelease\n",
            "Get:5 https://cloud.r-project.org/bin/linux/ubuntu bionic-cran35/ InRelease [3,626 B]\n",
            "Get:6 http://security.ubuntu.com/ubuntu bionic-security InRelease [88.7 kB]\n",
            "Ign:7 https://developer.download.nvidia.com/compute/machine-learning/repos/ubuntu1804/x86_64  InRelease\n",
            "Hit:8 https://developer.download.nvidia.com/compute/cuda/repos/ubuntu1804/x86_64  Release\n",
            "Hit:9 https://developer.download.nvidia.com/compute/machine-learning/repos/ubuntu1804/x86_64  Release\n",
            "Get:10 https://dl.bintray.com/sbt/debian  Packages [3,424 B]\n",
            "Hit:11 http://archive.ubuntu.com/ubuntu bionic InRelease\n",
            "Hit:12 http://ppa.launchpad.net/graphics-drivers/ppa/ubuntu bionic InRelease\n",
            "Get:13 http://archive.ubuntu.com/ubuntu bionic-updates InRelease [88.7 kB]\n",
            "Get:16 http://ppa.launchpad.net/marutter/c2d4u3.5/ubuntu bionic InRelease [15.4 kB]\n",
            "Get:17 https://cloud.r-project.org/bin/linux/ubuntu bionic-cran35/ Packages [56.4 kB]\n",
            "Get:18 http://archive.ubuntu.com/ubuntu bionic-backports InRelease [74.6 kB]\n",
            "Get:19 http://security.ubuntu.com/ubuntu bionic-security/main amd64 Packages [486 kB]\n",
            "Get:20 http://archive.ubuntu.com/ubuntu bionic-updates/main amd64 Packages [829 kB]\n",
            "Get:21 http://security.ubuntu.com/ubuntu bionic-security/universe amd64 Packages [324 kB]\n",
            "Get:22 http://archive.ubuntu.com/ubuntu bionic-updates/universe amd64 Packages [1,215 kB]\n",
            "Get:23 http://archive.ubuntu.com/ubuntu bionic-backports/universe amd64 Packages [3,902 B]\n",
            "Get:24 http://ppa.launchpad.net/marutter/c2d4u3.5/ubuntu bionic/main Sources [1,647 kB]\n",
            "Get:25 http://ppa.launchpad.net/marutter/c2d4u3.5/ubuntu bionic/main amd64 Packages [790 kB]\n",
            "Fetched 5,628 kB in 10s (562 kB/s)\n",
            "Reading package lists... Done\n",
            "Reading package lists...\n",
            "Building dependency tree...\n",
            "Reading state information...\n",
            "zlib1g-dev is already the newest version (1:1.2.11.dfsg-0ubuntu2).\n",
            "zlib1g-dev set to manually installed.\n",
            "clinfo is already the newest version (2.2.18.03.26-1).\n",
            "libtinfo-dev is already the newest version (6.1-1ubuntu1.18.04).\n",
            "libtinfo-dev set to manually installed.\n",
            "The following package was automatically installed and is no longer required:\n",
            "  libnvidia-common-410\n",
            "Use 'sudo apt autoremove' to remove it.\n",
            "Suggested packages:\n",
            "  llvm-6.0-doc\n",
            "The following NEW packages will be installed:\n",
            "  binfmt-support libffi-dev llvm-6.0 llvm-6.0-dev llvm-6.0-runtime\n",
            "0 upgraded, 5 newly installed, 0 to remove and 44 not upgraded.\n",
            "Need to get 28.2 MB of archives.\n",
            "After this operation, 178 MB of additional disk space will be used.\n",
            "Get:1 http://archive.ubuntu.com/ubuntu bionic/main amd64 binfmt-support amd64 2.1.8-2 [51.6 kB]\n",
            "Get:2 http://archive.ubuntu.com/ubuntu bionic/main amd64 llvm-6.0-runtime amd64 1:6.0-1ubuntu2 [200 kB]\n",
            "Get:3 http://archive.ubuntu.com/ubuntu bionic/main amd64 llvm-6.0 amd64 1:6.0-1ubuntu2 [4,838 kB]\n",
            "Get:4 http://archive.ubuntu.com/ubuntu bionic/main amd64 libffi-dev amd64 3.2.1-8 [156 kB]\n",
            "Get:5 http://archive.ubuntu.com/ubuntu bionic/main amd64 llvm-6.0-dev amd64 1:6.0-1ubuntu2 [23.0 MB]\n",
            "Fetched 28.2 MB in 1s (19.2 MB/s)\n",
            "debconf: unable to initialize frontend: Dialog\n",
            "debconf: (No usable dialog-like program is installed, so the dialog based frontend cannot be used. at /usr/share/perl5/Debconf/FrontEnd/Dialog.pm line 76, <> line 5.)\n",
            "debconf: falling back to frontend: Readline\n",
            "debconf: unable to initialize frontend: Readline\n",
            "debconf: (This frontend requires a controlling tty.)\n",
            "debconf: falling back to frontend: Teletype\n",
            "dpkg-preconfigure: unable to re-open stdin: \n",
            "Selecting previously unselected package binfmt-support.\n",
            "(Reading database ... 130912 files and directories currently installed.)\n",
            "Preparing to unpack .../binfmt-support_2.1.8-2_amd64.deb ...\n",
            "Unpacking binfmt-support (2.1.8-2) ...\n",
            "Selecting previously unselected package llvm-6.0-runtime.\n",
            "Preparing to unpack .../llvm-6.0-runtime_1%3a6.0-1ubuntu2_amd64.deb ...\n",
            "Unpacking llvm-6.0-runtime (1:6.0-1ubuntu2) ...\n",
            "Selecting previously unselected package llvm-6.0.\n",
            "Preparing to unpack .../llvm-6.0_1%3a6.0-1ubuntu2_amd64.deb ...\n",
            "Unpacking llvm-6.0 (1:6.0-1ubuntu2) ...\n",
            "Selecting previously unselected package libffi-dev:amd64.\n",
            "Preparing to unpack .../libffi-dev_3.2.1-8_amd64.deb ...\n",
            "Unpacking libffi-dev:amd64 (3.2.1-8) ...\n",
            "Selecting previously unselected package llvm-6.0-dev.\n",
            "Preparing to unpack .../llvm-6.0-dev_1%3a6.0-1ubuntu2_amd64.deb ...\n",
            "Unpacking llvm-6.0-dev (1:6.0-1ubuntu2) ...\n",
            "Setting up binfmt-support (2.1.8-2) ...\n",
            "Created symlink /etc/systemd/system/multi-user.target.wants/binfmt-support.service → /lib/systemd/system/binfmt-support.service.\n",
            "invoke-rc.d: could not determine current runlevel\n",
            "invoke-rc.d: policy-rc.d denied execution of start.\n",
            "Setting up libffi-dev:amd64 (3.2.1-8) ...\n",
            "Setting up llvm-6.0-runtime (1:6.0-1ubuntu2) ...\n",
            "Processing triggers for libc-bin (2.27-3ubuntu1) ...\n",
            "Setting up llvm-6.0 (1:6.0-1ubuntu2) ...\n",
            "Processing triggers for systemd (237-3ubuntu10.21) ...\n",
            "Processing triggers for man-db (2.8.3-2ubuntu0.1) ...\n",
            "Setting up llvm-6.0-dev (1:6.0-1ubuntu2) ...\n",
            "Processing triggers for libc-bin (2.27-3ubuntu1) ...\n",
            "Reading package lists... Done\n",
            "Building dependency tree       \n",
            "Reading state information... Done\n",
            "The following package was automatically installed and is no longer required:\n",
            "  libnvidia-common-410\n",
            "Use 'sudo apt autoremove' to remove it.\n",
            "Suggested packages:\n",
            "  gtkwave systemc\n",
            "The following NEW packages will be installed:\n",
            "  sbt verilator\n",
            "0 upgraded, 2 newly installed, 0 to remove and 44 not upgraded.\n",
            "Need to get 4,005 kB of archives.\n",
            "After this operation, 14.4 MB of additional disk space will be used.\n",
            "Get:1 https://dl.bintray.com/sbt/debian  sbt 1.2.8 [1,126 kB]\n",
            "Get:2 http://archive.ubuntu.com/ubuntu bionic/universe amd64 verilator amd64 3.916-1build1 [2,878 kB]\n",
            "Fetched 4,005 kB in 1s (5,429 kB/s)\n",
            "debconf: unable to initialize frontend: Dialog\n",
            "debconf: (No usable dialog-like program is installed, so the dialog based frontend cannot be used. at /usr/share/perl5/Debconf/FrontEnd/Dialog.pm line 76, <> line 2.)\n",
            "debconf: falling back to frontend: Readline\n",
            "debconf: unable to initialize frontend: Readline\n",
            "debconf: (This frontend requires a controlling tty.)\n",
            "debconf: falling back to frontend: Teletype\n",
            "dpkg-preconfigure: unable to re-open stdin: \n",
            "Selecting previously unselected package sbt.\n",
            "(Reading database ... 132546 files and directories currently installed.)\n",
            "Preparing to unpack .../apt/archives/sbt_1.2.8_all.deb ...\n",
            "Unpacking sbt (1.2.8) ...\n",
            "Selecting previously unselected package verilator.\n",
            "Preparing to unpack .../verilator_3.916-1build1_amd64.deb ...\n",
            "Unpacking verilator (3.916-1build1) ...\n",
            "Processing triggers for man-db (2.8.3-2ubuntu0.1) ...\n",
            "Setting up verilator (3.916-1build1) ...\n",
            "Setting up sbt (1.2.8) ...\n",
            "Creating system group: sbt\n",
            "Creating system user: sbt in sbt with sbt daemon-user and shell /bin/false\n"
          ],
          "name": "stdout"
        }
      ]
    },
    {
      "cell_type": "markdown",
      "metadata": {
        "id": "SESTKUeawiNL",
        "colab_type": "text"
      },
      "source": [
        "# **Ultra Low Precision Operators**\n",
        "\n",
        "This tutorial will show how TVM can be used to define new operators, specifically ultra low precision operators used in networks like XNOR-Net and DoReFa-Net that perform computation on activation and weights quantized to a few bits.\n",
        "The first half will show how to write a simple low precision dot product operator to demonstrate the basic concepts of bitserial computation. Then, show how to call tvm ultra low precision operators in topi."
      ]
    },
    {
      "cell_type": "code",
      "metadata": {
        "id": "1oUECGv2wFqo",
        "colab_type": "code",
        "colab": {}
      },
      "source": [
        "import tvm\n",
        "import numpy as np\n",
        "from topi.transform import concatenate"
      ],
      "execution_count": 0,
      "outputs": []
    },
    {
      "cell_type": "markdown",
      "metadata": {
        "id": "mbbIac86SL0n",
        "colab_type": "text"
      },
      "source": [
        "# Ultra Low Precision Dot Product\n",
        "**Step 1: Bitpacking**:\n",
        "Efficient ultra low precision operators compute data *bit-serially*, processing each bit-position one at a time, on data that is *bitpacked*. The input vectors must be separated into *bitplanes* that  represent the binary value of each bit-position of the inputs. The bitplanes are packed into a single integer.\n",
        "\n",
        "For this tutorial we assume that the data has already been quantized to the desired precision and is integer format. Different networks emply different quantization schemes that map floating point values to low-bit integers."
      ]
    },
    {
      "cell_type": "code",
      "metadata": {
        "id": "Mbn3ZbKcXaSA",
        "colab_type": "code",
        "colab": {
          "base_uri": "https://localhost:8080/",
          "height": 68
        },
        "outputId": "ebb39ca3-0d4a-4054-c785-474db98f0eee"
      },
      "source": [
        "# Ultra low precision dot product between a 2-bit and 1-bit vector\n",
        "K = 8\n",
        "input_shape = (K,)\n",
        "a_bits = 2\n",
        "b_bits = 1\n",
        "input_dtype=\"uint8\"\n",
        "assert(K%8 == 0)\n",
        "\n",
        "# TVM parameters to generate code for CPU\n",
        "target = 'llvm'\n",
        "ctx = tvm.context(target, 0)\n",
        "\n",
        "\n",
        "# Creating two ultra low precision vectors a and b.\n",
        "a = tvm.nd.array(np.random.randint(0, 2**a_bits, input_shape).astype(input_dtype), ctx)\n",
        "b = tvm.nd.array(np.random.randint(0, 2**b_bits, input_shape).astype(input_dtype), ctx)\n",
        "\n",
        "a_dot_b = np.dot(a.asnumpy(), b.asnumpy())\n",
        "\n",
        "print (\"a:\", a)\n",
        "print(\"b:\", b)\n",
        "print (\"dot product:\", a_dot_b)"
      ],
      "execution_count": 40,
      "outputs": [
        {
          "output_type": "stream",
          "text": [
            "a: [2 3 2 2 1 0 2 1]\n",
            "b: [1 1 1 0 0 0 1 1]\n",
            "dot product: 10\n"
          ],
          "name": "stdout"
        }
      ]
    },
    {
      "cell_type": "code",
      "metadata": {
        "id": "8hIDeBzP8Zk5",
        "colab_type": "code",
        "colab": {
          "base_uri": "https://localhost:8080/",
          "height": 85
        },
        "outputId": "6c798556-b137-45c6-b6ba-57ba381e726b"
      },
      "source": [
        "# Bitpacking efficiently stores low precision data into a pack data type\n",
        "# Here we pick uint8's because our input vectors are only 8 elements\n",
        "pack_type = 'uint8'\n",
        "pack_size = 8\n",
        "\n",
        "# Since vector b is simple to bitpack \n",
        "print(\"b:\", b)\n",
        "print(\"b bitpacked:\", np.packbits(b.asnumpy()))\n",
        "\n",
        "# To bitpack a we want to first separate out a into bitplanes representing the values of each bit position\n",
        "a_bit0 = a.asnumpy() & 0x1\n",
        "a_bit1 = (a.asnumpy() & 0x2) >> 1\n",
        "print(\"a:\", a)\n",
        "print(\"a bitpacked\", np.packbits(a_bit0), np.packbits(a_bit1))"
      ],
      "execution_count": 69,
      "outputs": [
        {
          "output_type": "stream",
          "text": [
            "b: [1 1 1 0 0 0 1 1]\n",
            "b bitpacked: [227]\n",
            "a: [2 3 2 2 1 0 2 1]\n",
            "a bitpacked [73] [242]\n"
          ],
          "name": "stdout"
        }
      ]
    },
    {
      "cell_type": "code",
      "metadata": {
        "id": "P8rcHSlRzRRe",
        "colab_type": "code",
        "colab": {
          "base_uri": "https://localhost:8080/",
          "height": 85
        },
        "outputId": "662bb0ee-714d-4632-9b56-3a2f73cc4269"
      },
      "source": [
        "# Here is how to express the same rountine in TVM\n",
        "def bitpack(data, bits, name):\n",
        "    bitplane_shape = (K//8, 1)\n",
        "    masks = np.array([0x1, 0x2, 0x4, 0x8, 0x10, 0x20, 0x40, 0x80])\n",
        "\n",
        "    def _bitpack(i, j):\n",
        "        bitplane = [tvm.const(0, pack_type)] * bits\n",
        "        # Iterate over elements that are being packed\n",
        "        for k in range(pack_size):\n",
        "            element = data[i*pack_size + k]\n",
        "            \n",
        "            # Extract each bit of the element and pack it into a separate element\n",
        "            for b in range(bits):\n",
        "                extracted_bit = ((element & tvm.const(masks[b], pack_type)) >> b).astype(pack_type)\n",
        "                bitplane[b] = (bitplane[b] | extracted_bit)\n",
        "                if k < pack_size - 1:\n",
        "                    bitplane[b] = bitplane[b] << 1\n",
        "\n",
        "            if k == pack_size - 1:\n",
        "                return tuple(bitplane)\n",
        "\n",
        "    output_tuple = tvm.compute(bitplane_shape, _bitpack, name=name)\n",
        "\n",
        "    if bits > 1:\n",
        "        return concatenate(output_tuple, axis=1).astype(pack_type)\n",
        "    else:\n",
        "        return output_tuple\n",
        "\n",
        "\n",
        "      \n",
        "# Schedule and call packing vector a\n",
        "# Declaring inputs and outputs\n",
        "A = tvm.placeholder(a.shape, dtype=dtype, name='A')\n",
        "APacked = bitpack(A, a_bits, \"PackedA\")\n",
        "\n",
        "s = tvm.create_schedule(APacked.op)\n",
        "f = tvm.build(s, [A, APacked], target=target)\n",
        "a_packed = tvm.nd.array(np.zeros((K//pack_size, a_bits), dtype = pack_type), ctx)\n",
        "f(a, a_packed)\n",
        "\n",
        "print(\"a:          \", a)\n",
        "print(\"bits 0 of a:\", a.asnumpy()&0x1)\n",
        "print(\"bits 1 of a:\", (a.asnumpy()&0x2) >> 1)\n",
        "print(\"bitpacked a:\", a_packed)\n",
        "\n",
        "# Bitpacking for vector b\n",
        "B = tvm.placeholder(b.shape, dtype=dtype, name='B')\n",
        "BPacked = bitpack(B, b_bits, \"PackedB\")\n",
        "\n",
        "s = tvm.create_schedule(BPacked.op)\n",
        "f = tvm.build(s, [B, BPacked], target=target)\n",
        "b_packed = tvm.nd.array(np.zeros((K//pack_size, b_bits), dtype = pack_type), ctx)\n",
        "f(b, b_packed)"
      ],
      "execution_count": 70,
      "outputs": [
        {
          "output_type": "stream",
          "text": [
            "a:           [2 3 2 2 1 0 2 1]\n",
            "bits 0 of a: [0 1 0 0 1 0 0 1]\n",
            "bits 1 of a: [1 1 1 1 0 0 1 0]\n",
            "bitpacked a: [[ 73 242]]\n"
          ],
          "name": "stdout"
        }
      ]
    },
    {
      "cell_type": "markdown",
      "metadata": {
        "id": "fKySK-5xGPGc",
        "colab_type": "text"
      },
      "source": [
        "**Step 2: Dot product:**"
      ]
    },
    {
      "cell_type": "code",
      "metadata": {
        "id": "7FZDULPGVf27",
        "colab_type": "code",
        "colab": {
          "base_uri": "https://localhost:8080/",
          "height": 51
        },
        "outputId": "4f5546b5-ce3b-47e9-b06b-c0bf6b7b47ad"
      },
      "source": [
        "# Declare reduction axes\n",
        "ab = tvm.reduce_axis((0, a_bits), name='ab')\n",
        "bb = tvm.reduce_axis((0, b_bits), name='bb')\n",
        "k = tvm.reduce_axis((0, K//pack_size), name='k')\n",
        "\n",
        "out_dtype = 'int8'\n",
        "out_shape = (1,)\n",
        "\n",
        "C = tvm.compute(out_shape, lambda i: \n",
        "  tvm.sum(tvm.popcount(APacked[k, ab] & BPacked[k, bb]).astype(out_dtype) \n",
        "          << (ab+bb).astype(out_dtype), axis=[k, ab, bb]))\n",
        "\n",
        "\n",
        "s = tvm.create_schedule(C.op)\n",
        "f = tvm.build(s, [A, B, C], target=target)\n",
        "c = tvm.nd.array(np.zeros(out_shape, dtype = out_dtype), ctx)\n",
        "f(a, b, c)\n",
        "\n",
        "print(\"Correct:\", a_dot_b)\n",
        "print(\"Calculated:\", c)\n",
        "np.testing.assert_allclose(c.asnumpy(), a_dot_b)"
      ],
      "execution_count": 57,
      "outputs": [
        {
          "output_type": "stream",
          "text": [
            "Correct: 10\n",
            "Calculated: [10]\n"
          ],
          "name": "stdout"
        }
      ]
    },
    {
      "cell_type": "markdown",
      "metadata": {
        "id": "uS0i69l-QkPM",
        "colab_type": "text"
      },
      "source": [
        "# TVM Low Precision Operators\n",
        "The low precision operators support a variety of different configurations.\n",
        "We also provide a flexible bitpacking operators that accepts generic shapes and allows the user to specify which axis to pack and the relative axis to place the new bitplane axis.\n",
        "- Packing datat types. For example uint8 or uint32.\n",
        "- Output data types. For example int16 or int32.\n",
        "- Bitserial dotproduct style. \n",
        "- For 2D convolutions, NHWC and NCHW layouts.\n",
        "\n"
      ]
    },
    {
      "cell_type": "code",
      "metadata": {
        "id": "-laa-CXIzXMT",
        "colab_type": "code",
        "colab": {
          "base_uri": "https://localhost:8080/",
          "height": 54
        },
        "outputId": "05d99936-2323-48ee-d826-253a4c348218"
      },
      "source": [
        "import topi\n",
        "import topi.testing\n",
        "from topi.util import get_const_tuple\n",
        "\n",
        "\n",
        "batch = 1\n",
        "in_height = in_width = 56\n",
        "in_channel = 64\n",
        "num_filter = 64\n",
        "kernel = 3\n",
        "padding = 0\n",
        "stride = (1, 1)\n",
        "activation_bits = 2\n",
        "weight_bits = 1\n",
        "unipolar=True\n",
        "input_dtype='uint32'\n",
        "out_dtype='int32'\n",
        "\n",
        "with tvm.target.create('llvm'):\n",
        "    A = tvm.placeholder((batch, in_height, in_width, in_channel), dtype=input_dtype, name='A')\n",
        "    W = tvm.placeholder((kernel, kernel, in_channel, num_filter), dtype=input_dtype, name='W')\n",
        "    B = topi.nn.bitserial_conv2d_nhwc(A, W, stride, padding, activation_bits, weight_bits,\n",
        "                                      out_dtype=out_dtype, unipolar=unipolar)\n",
        "    s = topi.generic.schedule_bitserial_conv2d_nhwc([B])\n",
        "\n",
        "a_shape = get_const_tuple(A.shape)\n",
        "w_shape = get_const_tuple(W.shape)\n",
        "\n",
        "def generate_quantized_np(shape, bits, out_dtype):\n",
        "    min_val = 0\n",
        "    max_val = 1 << bits\n",
        "    return np.random.randint(min_val, max_val, size=shape).astype(out_dtype)\n",
        "\n",
        "def get_ref_data():\n",
        "    a_np = generate_quantized_np(get_const_tuple(a_shape), activation_bits, input_dtype)\n",
        "    w_np = generate_quantized_np(get_const_tuple(w_shape), weight_bits, input_dtype)\n",
        "    if unipolar:\n",
        "        w_ = np.copy(w_np).astype(out_dtype)\n",
        "        for x in np.nditer(w_, op_flags=['readwrite']):\n",
        "            x[...] = 1 if x == 1 else -1\n",
        "        b_np = topi.testing.conv2d_nhwc_python(a_np, w_, stride, padding).astype(out_dtype)\n",
        "    else:\n",
        "        b_np = topi.testing.conv2d_nhwc_python(a_np, w_np, stride, padding).astype(out_dtype)\n",
        "    return a_np, w_np, b_np\n",
        "a_np, w_np, b_np = get_ref_data()\n",
        "\n",
        "ctx = tvm.cpu(0)\n",
        "a = tvm.nd.array(a_np, ctx)\n",
        "w = tvm.nd.array(w_np, ctx)\n",
        "b = tvm.nd.array(np.zeros(get_const_tuple(B.shape), dtype=B.dtype), ctx)\n",
        "func = tvm.build(s, [A, W, B], 'llvm')\n",
        "\n",
        "func(a, w, b)\n",
        "tvm.testing.assert_allclose(b.asnumpy(), b_np, rtol=1e-5)\n"
      ],
      "execution_count": 82,
      "outputs": [
        {
          "output_type": "stream",
          "text": [
            "Cannot find config for target=llvm, workload=('bitserial_conv2d_nhwc', (1, 56, 56, 64, 'uint32'), (3, 3, 64, 64, 'uint32'), (1, 1), 0, 2, 1, 'uint32', 'int32', True). A fallback configuration is used, which may bring great performance regression.\n"
          ],
          "name": "stderr"
        }
      ]
    }
  ]
}