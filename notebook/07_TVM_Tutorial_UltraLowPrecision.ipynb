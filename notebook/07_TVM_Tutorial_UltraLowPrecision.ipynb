{
  "nbformat": 4,
  "nbformat_minor": 0,
  "metadata": {
    "colab": {
      "name": "07_TVM_Tutorial_UltraLowPrecision.ipynb",
      "version": "0.3.2",
      "provenance": [],
      "collapsed_sections": [],
      "toc_visible": true
    },
    "kernelspec": {
      "name": "python3",
      "display_name": "Python 3"
    }
  },
  "cells": [
    {
      "cell_type": "markdown",
      "metadata": {
        "id": "uWChWjwLwLhg",
        "colab_type": "text"
      },
      "source": [
        "\n",
        "Please follow the introduction of the TVM tutorial before running this. The below code assumes you have already setup TVM, and merely loads it from your Google Drive."
      ]
    },
    {
      "cell_type": "code",
      "metadata": {
        "id": "gwFLyWdevweJ",
        "colab_type": "code",
        "outputId": "cc3ec1c3-abab-403d-e790-03487505418d",
        "colab": {
          "base_uri": "https://localhost:8080/",
          "height": 122
        }
      },
      "source": [
        "from google.colab import drive\n",
        "drive.mount('/content/gdrive')"
      ],
      "execution_count": 1,
      "outputs": [
        {
          "output_type": "stream",
          "text": [
            "Go to this URL in a browser: https://accounts.google.com/o/oauth2/auth?client_id=947318989803-6bn6qk8qdgf4n4g3pfee6491hc0brc4i.apps.googleusercontent.com&redirect_uri=urn%3Aietf%3Awg%3Aoauth%3A2.0%3Aoob&scope=email%20https%3A%2F%2Fwww.googleapis.com%2Fauth%2Fdocs.test%20https%3A%2F%2Fwww.googleapis.com%2Fauth%2Fdrive%20https%3A%2F%2Fwww.googleapis.com%2Fauth%2Fdrive.photos.readonly%20https%3A%2F%2Fwww.googleapis.com%2Fauth%2Fpeopleapi.readonly&response_type=code\n",
            "\n",
            "Enter your authorization code:\n",
            "··········\n",
            "Mounted at /content/gdrive\n"
          ],
          "name": "stdout"
        }
      ]
    },
    {
      "cell_type": "code",
      "metadata": {
        "id": "PwCwyoC5v2Ji",
        "colab_type": "code",
        "outputId": "52d23777-de46-4e20-801f-bb083f342c45",
        "colab": {
          "base_uri": "https://localhost:8080/",
          "height": 2774
        }
      },
      "source": [
        "\n",
        "try:\n",
        "  import google.colab\n",
        "  IN_COLAB = True\n",
        "except:\n",
        "  IN_COLAB = False\n",
        "\n",
        "if IN_COLAB:\n",
        "    ! gsutil cp \"gs://tvm-fcrc-binariesd5fce43e-8373-11e9-bfb6-0242ac1c0002/tvm.tar.gz\" /tmp/tvm.tar.gz\n",
        "    ! mkdir -p /tvm\n",
        "    ! tar -xf /tmp/tvm.tar.gz --strip-components=4 --directory /tvm\n",
        "    ! ls -la /tvm\n",
        "    ! bash /tvm/package.sh\n",
        "    # Add TVM to the Python path.\n",
        "    import sys\n",
        "    sys.path.append('/tvm/python')\n",
        "    sys.path.append('/tvm/topi/python')\n",
        "else:\n",
        "    print(\"Notebook executing locally, skipping Colab setup ...\")"
      ],
      "execution_count": 2,
      "outputs": [
        {
          "output_type": "stream",
          "text": [
            "Copying gs://tvm-fcrc-binariesd5fce43e-8373-11e9-bfb6-0242ac1c0002/tvm.tar.gz...\n",
            "| [1 files][119.5 MiB/119.5 MiB]                                                \n",
            "Operation completed over 1 objects/119.5 MiB.                                    \n",
            "total 164\n",
            "drwxr-xr-x 21 root root  4096 Jun 21 04:43 .\n",
            "drwxr-xr-x  1 root root  4096 Jun 21 04:43 ..\n",
            "drwx------  8 root root  4096 May 31 08:14 3rdparty\n",
            "drwx------ 12 root root  4096 May 31 08:14 apps\n",
            "drwx------  3 root root  4096 Jun 19 07:58 build\n",
            "drwx------  4 root root  4096 May 31 08:14 cmake\n",
            "-rw-------  1 root root 11053 Jun 19 04:54 CMakeLists.txt\n",
            "drwx------  6 root root  4096 May 31 08:14 conda\n",
            "-rw-------  1 root root  5736 Jun 19 04:54 CONTRIBUTORS.md\n",
            "drwx------  3 root root  4096 May 31 08:14 docker\n",
            "drwx------ 11 root root  4096 May 31 08:14 docs\n",
            "drwx------  4 root root  4096 May 31 08:14 golang\n",
            "drwx------  3 root root  4096 May 31 08:14 include\n",
            "-rw-------  1 root root 10607 Jun 19 04:54 Jenkinsfile\n",
            "drwx------  6 root root  4096 May 31 08:14 jvm\n",
            "-rw-------  1 root root 11357 Jun 19 04:54 LICENSE\n",
            "-rw-------  1 root root  4267 Jun 19 04:54 Makefile\n",
            "-rw-------  1 root root 10476 Jun 19 04:54 NEWS.md\n",
            "drwx------  9 root root  4096 May 31 08:14 nnvm\n",
            "-rw-------  1 root root    61 Jun 19 04:54 NOTICE\n",
            "-rwx------  1 root root   374 Jun 19 04:57 package.sh\n",
            "drwx------  3 root root  4096 May 31 08:14 python\n",
            "-rw-------  1 root root  2705 Jun 19 04:54 README.md\n",
            "drwx------  6 root root  4096 May 31 08:14 rust\n",
            "drwx------ 14 root root  4096 May 31 08:14 src\n",
            "drwx------  9 root root  4096 May 31 08:14 tests\n",
            "drwx------  7 root root  4096 May 31 08:14 topi\n",
            "drwx------  8 root root  4096 May 31 08:14 tutorials\n",
            "-rw-------  1 root root  2902 Jun 19 05:04 version.py\n",
            "drwx------ 10 root root  4096 May 31 08:14 vta\n",
            "drwx------  2 root root  4096 May 31 08:14 web\n",
            "Installing Dependencies ...\n",
            "deb https://dl.bintray.com/sbt/debian /\n",
            "Executing: /tmp/apt-key-gpghome.wqYnx29A61/gpg.1.sh --keyserver hkp://keyserver.ubuntu.com:80 --recv 2EE0EA64E40A89B84B2DF73499E82A75642AC823\n",
            "gpg: key 99E82A75642AC823: public key \"sbt build tool <scalasbt@gmail.com>\" imported\n",
            "gpg: Total number processed: 1\n",
            "gpg:               imported: 1\n",
            "Ign:1 https://developer.download.nvidia.com/compute/cuda/repos/ubuntu1804/x86_64  InRelease\n",
            "Get:2 http://security.ubuntu.com/ubuntu bionic-security InRelease [88.7 kB]\n",
            "Hit:3 http://ppa.launchpad.net/graphics-drivers/ppa/ubuntu bionic InRelease\n",
            "Hit:4 http://archive.ubuntu.com/ubuntu bionic InRelease\n",
            "Ign:5 https://developer.download.nvidia.com/compute/machine-learning/repos/ubuntu1804/x86_64  InRelease\n",
            "Hit:6 https://developer.download.nvidia.com/compute/cuda/repos/ubuntu1804/x86_64  Release\n",
            "Hit:7 https://developer.download.nvidia.com/compute/machine-learning/repos/ubuntu1804/x86_64  Release\n",
            "Get:8 https://cloud.r-project.org/bin/linux/ubuntu bionic-cran35/ InRelease [3,626 B]\n",
            "Get:9 http://archive.ubuntu.com/ubuntu bionic-updates InRelease [88.7 kB]\n",
            "Hit:10 http://ppa.launchpad.net/marutter/c2d4u3.5/ubuntu bionic InRelease\n",
            "Ign:11 https://dl.bintray.com/sbt/debian  InRelease\n",
            "Get:12 https://dl.bintray.com/sbt/debian  Release [815 B]\n",
            "Get:14 https://dl.bintray.com/sbt/debian  Release.gpg [821 B]\n",
            "Get:15 http://archive.ubuntu.com/ubuntu bionic-backports InRelease [74.6 kB]\n",
            "Get:17 http://security.ubuntu.com/ubuntu bionic-security/universe amd64 Packages [719 kB]\n",
            "Get:18 http://archive.ubuntu.com/ubuntu bionic-updates/main amd64 Packages [856 kB]\n",
            "Get:19 https://dl.bintray.com/sbt/debian  Packages [3,424 B]\n",
            "Get:20 http://security.ubuntu.com/ubuntu bionic-security/main amd64 Packages [553 kB]\n",
            "Get:21 http://archive.ubuntu.com/ubuntu bionic-updates/universe amd64 Packages [1,222 kB]\n",
            "Fetched 3,611 kB in 2s (2,039 kB/s)\n",
            "Reading package lists... Done\n",
            "Reading package lists...\n",
            "Building dependency tree...\n",
            "Reading state information...\n",
            "zlib1g-dev is already the newest version (1:1.2.11.dfsg-0ubuntu2).\n",
            "zlib1g-dev set to manually installed.\n",
            "clinfo is already the newest version (2.2.18.03.26-1).\n",
            "libtinfo-dev is already the newest version (6.1-1ubuntu1.18.04).\n",
            "libtinfo-dev set to manually installed.\n",
            "The following package was automatically installed and is no longer required:\n",
            "  libnvidia-common-410\n",
            "Use 'sudo apt autoremove' to remove it.\n",
            "Suggested packages:\n",
            "  llvm-6.0-doc\n",
            "The following NEW packages will be installed:\n",
            "  binfmt-support libffi-dev llvm-6.0 llvm-6.0-dev llvm-6.0-runtime tree\n",
            "0 upgraded, 6 newly installed, 0 to remove and 26 not upgraded.\n",
            "Need to get 28.3 MB of archives.\n",
            "After this operation, 178 MB of additional disk space will be used.\n",
            "Get:1 http://archive.ubuntu.com/ubuntu bionic/main amd64 binfmt-support amd64 2.1.8-2 [51.6 kB]\n",
            "Get:2 http://archive.ubuntu.com/ubuntu bionic/main amd64 llvm-6.0-runtime amd64 1:6.0-1ubuntu2 [200 kB]\n",
            "Get:3 http://archive.ubuntu.com/ubuntu bionic/main amd64 llvm-6.0 amd64 1:6.0-1ubuntu2 [4,838 kB]\n",
            "Get:4 http://archive.ubuntu.com/ubuntu bionic/main amd64 libffi-dev amd64 3.2.1-8 [156 kB]\n",
            "Get:5 http://archive.ubuntu.com/ubuntu bionic/main amd64 llvm-6.0-dev amd64 1:6.0-1ubuntu2 [23.0 MB]\n",
            "Get:6 http://archive.ubuntu.com/ubuntu bionic/universe amd64 tree amd64 1.7.0-5 [40.7 kB]\n",
            "Fetched 28.3 MB in 2s (16.6 MB/s)\n",
            "debconf: unable to initialize frontend: Dialog\n",
            "debconf: (No usable dialog-like program is installed, so the dialog based frontend cannot be used. at /usr/share/perl5/Debconf/FrontEnd/Dialog.pm line 76, <> line 6.)\n",
            "debconf: falling back to frontend: Readline\n",
            "debconf: unable to initialize frontend: Readline\n",
            "debconf: (This frontend requires a controlling tty.)\n",
            "debconf: falling back to frontend: Teletype\n",
            "dpkg-preconfigure: unable to re-open stdin: \n",
            "Selecting previously unselected package binfmt-support.\n",
            "(Reading database ... 130942 files and directories currently installed.)\n",
            "Preparing to unpack .../0-binfmt-support_2.1.8-2_amd64.deb ...\n",
            "Unpacking binfmt-support (2.1.8-2) ...\n",
            "Selecting previously unselected package llvm-6.0-runtime.\n",
            "Preparing to unpack .../1-llvm-6.0-runtime_1%3a6.0-1ubuntu2_amd64.deb ...\n",
            "Unpacking llvm-6.0-runtime (1:6.0-1ubuntu2) ...\n",
            "Selecting previously unselected package llvm-6.0.\n",
            "Preparing to unpack .../2-llvm-6.0_1%3a6.0-1ubuntu2_amd64.deb ...\n",
            "Unpacking llvm-6.0 (1:6.0-1ubuntu2) ...\n",
            "Selecting previously unselected package libffi-dev:amd64.\n",
            "Preparing to unpack .../3-libffi-dev_3.2.1-8_amd64.deb ...\n",
            "Unpacking libffi-dev:amd64 (3.2.1-8) ...\n",
            "Selecting previously unselected package llvm-6.0-dev.\n",
            "Preparing to unpack .../4-llvm-6.0-dev_1%3a6.0-1ubuntu2_amd64.deb ...\n",
            "Unpacking llvm-6.0-dev (1:6.0-1ubuntu2) ...\n",
            "Selecting previously unselected package tree.\n",
            "Preparing to unpack .../5-tree_1.7.0-5_amd64.deb ...\n",
            "Unpacking tree (1.7.0-5) ...\n",
            "Setting up binfmt-support (2.1.8-2) ...\n",
            "Created symlink /etc/systemd/system/multi-user.target.wants/binfmt-support.service → /lib/systemd/system/binfmt-support.service.\n",
            "invoke-rc.d: could not determine current runlevel\n",
            "invoke-rc.d: policy-rc.d denied execution of start.\n",
            "Setting up tree (1.7.0-5) ...\n",
            "Setting up libffi-dev:amd64 (3.2.1-8) ...\n",
            "Setting up llvm-6.0-runtime (1:6.0-1ubuntu2) ...\n",
            "Processing triggers for libc-bin (2.27-3ubuntu1) ...\n",
            "Setting up llvm-6.0 (1:6.0-1ubuntu2) ...\n",
            "Processing triggers for systemd (237-3ubuntu10.22) ...\n",
            "Processing triggers for man-db (2.8.3-2ubuntu0.1) ...\n",
            "Setting up llvm-6.0-dev (1:6.0-1ubuntu2) ...\n",
            "Processing triggers for libc-bin (2.27-3ubuntu1) ...\n",
            "Reading package lists... Done\n",
            "Building dependency tree       \n",
            "Reading state information... Done\n",
            "The following package was automatically installed and is no longer required:\n",
            "  libnvidia-common-410\n",
            "Use 'sudo apt autoremove' to remove it.\n",
            "Suggested packages:\n",
            "  gtkwave systemc\n",
            "The following NEW packages will be installed:\n",
            "  sbt verilator\n",
            "0 upgraded, 2 newly installed, 0 to remove and 26 not upgraded.\n",
            "Need to get 4,005 kB of archives.\n",
            "After this operation, 14.4 MB of additional disk space will be used.\n",
            "Get:1 http://archive.ubuntu.com/ubuntu bionic/universe amd64 verilator amd64 3.916-1build1 [2,878 kB]\n",
            "Get:2 https://dl.bintray.com/sbt/debian  sbt 1.2.8 [1,126 kB]\n",
            "Fetched 4,005 kB in 1s (4,662 kB/s)\n",
            "debconf: unable to initialize frontend: Dialog\n",
            "debconf: (No usable dialog-like program is installed, so the dialog based frontend cannot be used. at /usr/share/perl5/Debconf/FrontEnd/Dialog.pm line 76, <> line 2.)\n",
            "debconf: falling back to frontend: Readline\n",
            "debconf: unable to initialize frontend: Readline\n",
            "debconf: (This frontend requires a controlling tty.)\n",
            "debconf: falling back to frontend: Teletype\n",
            "dpkg-preconfigure: unable to re-open stdin: \n",
            "Selecting previously unselected package sbt.\n",
            "(Reading database ... 132583 files and directories currently installed.)\n",
            "Preparing to unpack .../apt/archives/sbt_1.2.8_all.deb ...\n",
            "Unpacking sbt (1.2.8) ...\n",
            "Selecting previously unselected package verilator.\n",
            "Preparing to unpack .../verilator_3.916-1build1_amd64.deb ...\n",
            "Unpacking verilator (3.916-1build1) ...\n",
            "Processing triggers for man-db (2.8.3-2ubuntu0.1) ...\n",
            "Setting up verilator (3.916-1build1) ...\n",
            "Setting up sbt (1.2.8) ...\n",
            "Creating system group: sbt\n",
            "Creating system user: sbt in sbt with sbt daemon-user and shell /bin/false\n"
          ],
          "name": "stdout"
        }
      ]
    },
    {
      "cell_type": "markdown",
      "metadata": {
        "id": "SESTKUeawiNL",
        "colab_type": "text"
      },
      "source": [
        "# **Ultra Low Precision Operators**\n",
        "\n",
        "This tutorial will show how TVM can be used to define new operators, specifically ultra low precision operators used in networks like XNOR-Net and DoReFa-Net that perform computation on activation and weights quantized to a few bits.\n",
        "The first half will show how to write a simple low precision dot product operator to demonstrate the basic concepts of bitserial computation. Then, show how to call tvm ultra low precision operators in topi."
      ]
    },
    {
      "cell_type": "code",
      "metadata": {
        "id": "1oUECGv2wFqo",
        "colab_type": "code",
        "colab": {}
      },
      "source": [
        "import tvm\n",
        "import numpy as np\n",
        "from topi.transform import concatenate"
      ],
      "execution_count": 0,
      "outputs": []
    },
    {
      "cell_type": "markdown",
      "metadata": {
        "id": "mbbIac86SL0n",
        "colab_type": "text"
      },
      "source": [
        "# Ultra Low Precision Dot Product\n",
        "**Step 1: Bitpacking**:\n",
        "Efficient ultra low precision operators compute data *bit-serially*, processing each bit-position one at a time, on data that is *bitpacked*. The input vectors must be separated into *bitplanes* that  represent the binary value of each bit-position of the inputs. The bitplanes are packed into a single integer.\n",
        "\n",
        "For this tutorial we assume that the data has already been quantized to the desired precision and is integer format. Different networks emply different quantization schemes that map floating point values to low-bit integers."
      ]
    },
    {
      "cell_type": "code",
      "metadata": {
        "id": "Mbn3ZbKcXaSA",
        "colab_type": "code",
        "outputId": "ab76667b-4460-4d48-b204-549a5e81822c",
        "colab": {
          "base_uri": "https://localhost:8080/",
          "height": 68
        }
      },
      "source": [
        "# Ultra low precision dot product between a 2-bit and 1-bit vector\n",
        "K = 8\n",
        "input_shape = (K,)\n",
        "a_bits = 1\n",
        "b_bits = 2\n",
        "input_dtype=\"uint8\"\n",
        "assert(K%8 == 0)\n",
        "\n",
        "# TVM parameters to generate code for CPU\n",
        "target = 'llvm'\n",
        "ctx = tvm.context(target, 0)\n",
        "\n",
        "\n",
        "# Creating two ultra low precision vectors a and b.\n",
        "a = tvm.nd.array(np.random.randint(0, 2**a_bits, input_shape).astype(input_dtype), ctx)\n",
        "b = tvm.nd.array(np.random.randint(0, 2**b_bits, input_shape).astype(input_dtype), ctx)\n",
        "\n",
        "a_dot_b = np.dot(a.asnumpy(), b.asnumpy())\n",
        "\n",
        "print (\"a:\", a)\n",
        "print(\"b:\", b)\n",
        "print (\"dot product:\", a_dot_b)"
      ],
      "execution_count": 4,
      "outputs": [
        {
          "output_type": "stream",
          "text": [
            "a: [1 0 0 1 0 0 0 1]\n",
            "b: [2 2 3 1 3 1 0 0]\n",
            "dot product: 3\n"
          ],
          "name": "stdout"
        }
      ]
    },
    {
      "cell_type": "markdown",
      "metadata": {
        "id": "ZnKLmpMyT4pK",
        "colab_type": "text"
      },
      "source": [
        "Bitpacking a 1-bit vector is simply packing the single bit elements into an integer.\n",
        "\n",
        "![Bitpacking 1-bit vector](https://docs.google.com/uc?export=download&id=1pYbyxNlvx-QYq1y8UxSRKimukwLPRXwe)\n",
        "\n"
      ]
    },
    {
      "cell_type": "code",
      "metadata": {
        "id": "2gZkF3HwdBtx",
        "colab_type": "code",
        "outputId": "e3fdfc51-9605-4b76-fa0a-85521e0a32c7",
        "colab": {
          "base_uri": "https://localhost:8080/",
          "height": 51
        }
      },
      "source": [
        "# Bitpacking efficiently stores low precision data into a pack data type\n",
        "# Here we pick uint8's because our input vectors are only 8 elements\n",
        "pack_type = 'uint8'\n",
        "pack_size = 8\n",
        "\n",
        "# Since vector a contains 1-bit data, it is simple to bitpack.\n",
        "# The bits of vector b are just packed into a single uint8\n",
        "print(\"a:\", a)\n",
        "print(\"a bitpacked:\", np.packbits(a.asnumpy()))\n"
      ],
      "execution_count": 5,
      "outputs": [
        {
          "output_type": "stream",
          "text": [
            "a: [1 0 0 1 0 0 0 1]\n",
            "a bitpacked: [145]\n"
          ],
          "name": "stdout"
        }
      ]
    },
    {
      "cell_type": "markdown",
      "metadata": {
        "id": "nEhcWCu8a71U",
        "colab_type": "text"
      },
      "source": [
        "To bitpack a multi-bit vector, first separate the data into bitplanes and then pack the bitplanes.\n",
        "![Bitpacking 2-bit vector](https://docs.google.com/uc?export=download&id=1hla9JcjnOL6ZgmatyeRW3Z1zVWnAhUHF)"
      ]
    },
    {
      "cell_type": "code",
      "metadata": {
        "id": "8hIDeBzP8Zk5",
        "colab_type": "code",
        "outputId": "1462140c-e05c-4f31-c854-a314503932cc",
        "colab": {
          "base_uri": "https://localhost:8080/",
          "height": 51
        }
      },
      "source": [
        "# To bitpack a we want to first separate out a into bitplanes representing the values of each bit position\n",
        "# For vector a, there are two bitplanes\n",
        "# Then each of the bitplanes of vector a are packed into uint8s\n",
        "b_bit0 = b.asnumpy() & 0x1\n",
        "b_bit1 = (b.asnumpy() & 0x2) >> 1\n",
        "print(\"b:\", b)\n",
        "print(\"b bitpacked\", np.packbits(b_bit0), np.packbits(b_bit1))"
      ],
      "execution_count": 7,
      "outputs": [
        {
          "output_type": "stream",
          "text": [
            "b: [2 2 3 1 3 1 0 0]\n",
            "b bitpacked [60] [232]\n"
          ],
          "name": "stdout"
        }
      ]
    },
    {
      "cell_type": "code",
      "metadata": {
        "id": "P8rcHSlRzRRe",
        "colab_type": "code",
        "colab": {}
      },
      "source": [
        "# Here is how to express a flexible bitpacking routing in TVM.\n",
        "# Unlike most TVM operators that express one to one, or many to one functions\n",
        "# bitpacking is a many to many function.\n",
        "\n",
        "def bitpack(data, bits, name):\n",
        "    bitplane_shape = (K//8, 1)\n",
        "    masks = np.array([0x1, 0x2, 0x4, 0x8, 0x10, 0x20, 0x40, 0x80])\n",
        "\n",
        "    def _bitpack(i, j):\n",
        "        bitplane = [tvm.const(0, pack_type)] * bits\n",
        "        \n",
        "        # Iterate over elements that are being packed\n",
        "        for k in range(pack_size):\n",
        "            element = data[i*pack_size + k]\n",
        "            \n",
        "            # Extract each bit of the element and pack it into a separate element\n",
        "            for b in range(bits):\n",
        "                extracted_bit = ((element & tvm.const(masks[b], pack_type)) >> b).astype(pack_type)\n",
        "                bitplane[b] = (bitplane[b] | extracted_bit)\n",
        "                if k < pack_size - 1:\n",
        "                    bitplane[b] = bitplane[b] << 1\n",
        "\n",
        "            if k == pack_size - 1:\n",
        "                return tuple(bitplane)\n",
        "\n",
        "    output_tuple = tvm.compute(bitplane_shape, _bitpack, name=name)\n",
        "\n",
        "    # If we have more than one bit, combine the bitplanes with concatentate\n",
        "    if bits > 1:\n",
        "        return concatenate(output_tuple, axis=1).astype(pack_type)\n",
        "    else:\n",
        "        return output_tuple\n"
      ],
      "execution_count": 0,
      "outputs": []
    },
    {
      "cell_type": "code",
      "metadata": {
        "id": "vHyQU2LSbzMY",
        "colab_type": "code",
        "outputId": "e6d653b4-b425-49b5-c846-04bdd3d37017",
        "colab": {
          "base_uri": "https://localhost:8080/",
          "height": 85
        }
      },
      "source": [
        "# Schedule and call packing vector b\n",
        "# Declaring inputs and outputs\n",
        "B = tvm.placeholder(b.shape, dtype=input_dtype, name='B')\n",
        "BPacked = bitpack(B, b_bits, \"PackedB\")\n",
        "\n",
        "s = tvm.create_schedule(BPacked.op)\n",
        "f = tvm.build(s, [B, BPacked], target=target)\n",
        "b_packed = tvm.nd.array(np.zeros((K//pack_size, b_bits), dtype = pack_type), ctx)\n",
        "f(b, b_packed)\n",
        "\n",
        "print(\"b:          \", b)\n",
        "print(\"bits 0 of b:\", b.asnumpy()&0x1)\n",
        "print(\"bits 1 of b:\", (b.asnumpy()&0x2) >> 1)\n",
        "print(\"bitpacked b:\", b_packed)"
      ],
      "execution_count": 13,
      "outputs": [
        {
          "output_type": "stream",
          "text": [
            "b:           [2 2 3 1 3 1 0 0]\n",
            "bits 0 of b: [0 0 1 1 1 1 0 0]\n",
            "bits 1 of b: [1 1 1 0 1 0 0 0]\n",
            "bitpacked b: [[ 60 232]]\n"
          ],
          "name": "stdout"
        }
      ]
    },
    {
      "cell_type": "code",
      "metadata": {
        "id": "QBj5vXxTeQER",
        "colab_type": "code",
        "colab": {}
      },
      "source": [
        "# Bitpack vector a with the same routine - just indicate that the number of bits is different\n",
        "A = tvm.placeholder(a.shape, dtype=input_dtype, name='A')\n",
        "APacked = bitpack(A, a_bits, \"PackedA\")\n",
        "\n",
        "s = tvm.create_schedule(APacked.op)\n",
        "f = tvm.build(s, [A, APacked], target=target)\n",
        "a_packed = tvm.nd.array(np.zeros((K//pack_size, a_bits), dtype = pack_type), ctx)\n",
        "f(a, a_packed)"
      ],
      "execution_count": 0,
      "outputs": []
    },
    {
      "cell_type": "markdown",
      "metadata": {
        "id": "fKySK-5xGPGc",
        "colab_type": "text"
      },
      "source": [
        "**Step 2: Dot product:**"
      ]
    },
    {
      "cell_type": "code",
      "metadata": {
        "id": "7FZDULPGVf27",
        "colab_type": "code",
        "outputId": "24c7c325-c2c7-4701-d5d5-5212d2b18308",
        "colab": {
          "base_uri": "https://localhost:8080/",
          "height": 51
        }
      },
      "source": [
        "# Declare reduction axes\n",
        "ab = tvm.reduce_axis((0, a_bits), name='ab')\n",
        "bb = tvm.reduce_axis((0, b_bits), name='bb')\n",
        "k = tvm.reduce_axis((0, K//pack_size), name='k')\n",
        "\n",
        "out_dtype = 'int8'\n",
        "out_shape = (1,)\n",
        "\n",
        "C = tvm.compute(out_shape, lambda i: \n",
        "  tvm.sum(tvm.popcount(APacked[k, ab] & BPacked[k, bb]).astype(out_dtype) \n",
        "          << (ab+bb).astype(out_dtype), axis=[k, ab, bb]))\n",
        "\n",
        "\n",
        "s = tvm.create_schedule(C.op)\n",
        "f = tvm.build(s, [A, B, C], target=target)\n",
        "c = tvm.nd.array(np.zeros(out_shape, dtype = out_dtype), ctx)\n",
        "f(a, b, c)\n",
        "\n",
        "print(\"Correct:\", a_dot_b)\n",
        "print(\"Calculated:\", c)\n",
        "np.testing.assert_allclose(c.asnumpy(), a_dot_b)"
      ],
      "execution_count": 19,
      "outputs": [
        {
          "output_type": "stream",
          "text": [
            "Correct: 3\n",
            "Calculated: [3]\n"
          ],
          "name": "stdout"
        }
      ]
    },
    {
      "cell_type": "markdown",
      "metadata": {
        "id": "uS0i69l-QkPM",
        "colab_type": "text"
      },
      "source": [
        "# TVM Low Precision Operators\n",
        "The low precision operators support a variety of different configurations.\n",
        "We also provide a flexible bitpacking operators that accepts generic shapes and allows the user to specify which axis to pack and the relative axis to place the new bitplane axis.\n",
        "- Packing datat types. For example uint8 or uint32.\n",
        "- Output data types. For example int16 or int32.\n",
        "- Bitserial dotproduct style. \n",
        "- For 2D convolutions, NHWC and NCHW layouts.\n",
        "\n"
      ]
    },
    {
      "cell_type": "code",
      "metadata": {
        "id": "-laa-CXIzXMT",
        "colab_type": "code",
        "outputId": "3f3223bd-7cd0-46dc-831f-fa6595903c11",
        "colab": {
          "base_uri": "https://localhost:8080/",
          "height": 54
        }
      },
      "source": [
        "import topi\n",
        "import topi.testing\n",
        "from topi.util import get_const_tuple\n",
        "\n",
        "\n",
        "batch = 1\n",
        "in_height = in_width = 56\n",
        "in_channel = 64\n",
        "num_filter = 64\n",
        "kernel = 3\n",
        "padding = 0\n",
        "stride = (1, 1)\n",
        "activation_bits = 2\n",
        "weight_bits = 1\n",
        "unipolar=False\n",
        "input_dtype='uint32'\n",
        "out_dtype='int32'\n",
        "\n",
        "with tvm.target.create('llvm'):\n",
        "    # Create input place holders\n",
        "    A = tvm.placeholder((batch, in_height, in_width, in_channel), dtype=input_dtype, name='A')\n",
        "    W = tvm.placeholder((kernel, kernel, in_channel, num_filter), dtype=input_dtype, name='W')\n",
        "    # Declare computation\n",
        "    B = topi.nn.bitserial_conv2d_nhwc(A, W, stride, padding, activation_bits, weight_bits,\n",
        "                                      out_dtype=out_dtype, unipolar=unipolar)\n",
        "    # Schedule computation\n",
        "    s = topi.generic.schedule_bitserial_conv2d_nhwc([B])\n",
        "\n",
        "    \n",
        "# Declare some random inputs\n",
        "a_shape = get_const_tuple(A.shape)\n",
        "w_shape = get_const_tuple(W.shape)\n",
        "a_np = np.random.randint(0, 2**activation_bits, get_const_tuple(a_shape)).astype(input_dtype)\n",
        "w_np = np.random.randint(0, 2**weight_bits, get_const_tuple(w_shape)).astype(input_dtype)\n",
        "\n",
        "# Call the function with inputs\n",
        "ctx = tvm.cpu(0)\n",
        "a = tvm.nd.array(a_np, ctx)\n",
        "w = tvm.nd.array(w_np, ctx)\n",
        "b = tvm.nd.array(np.zeros(get_const_tuple(B.shape), dtype=B.dtype), ctx)\n",
        "func = tvm.build(s, [A, W, B], 'llvm')\n",
        "\n",
        "func(a, w, b)"
      ],
      "execution_count": 20,
      "outputs": [
        {
          "output_type": "stream",
          "text": [
            "Cannot find config for target=llvm, workload=('bitserial_conv2d_nhwc', (1, 56, 56, 64, 'uint32'), (3, 3, 64, 64, 'uint32'), (1, 1), 0, 2, 1, 'uint32', 'int32', False). A fallback configuration is used, which may bring great performance regression.\n"
          ],
          "name": "stderr"
        }
      ]
    }
  ]
}