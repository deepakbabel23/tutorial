{
 "cells": [
  {
   "cell_type": "markdown",
   "metadata": {},
   "source": [
    "[![Open In Colab](https://colab.research.google.com/assets/colab-badge.svg)](https://colab.research.google.com/github/uwsampl/tutorial/blob/master/notebooks/02_TVM_Tutorial_Relay.ipynb)"
   ]
  },
  {
   "cell_type": "markdown",
   "metadata": {},
   "source": [
    "Please follow the introduction of the TVM tutorial before running this. \n",
    "The below code assumes you have already setup TVM, and merely loads it from your Google Drive."
   ]
  },
  {
   "cell_type": "code",
   "execution_count": null,
   "metadata": {},
   "outputs": [],
   "source": [
    "from google.colab import drive\n",
    "drive.mount('/content/gdrive')"
   ]
  },
  {
   "cell_type": "code",
   "execution_count": 1,
   "metadata": {},
   "outputs": [],
   "source": [
    "%%bash\n",
    "[[ ! -e /tools/google-cloud-sdk ]] && exit\n",
    "echo \"Installing Dependencies ...\"\n",
    "sudo apt-get update\n",
    "sudo apt-get install -y -q llvm-6.0 libglfw3-dev libtinfo-dev libffi-dev zlib1g-dev clinfo\n",
    "cd \"/content/gdrive/My Drive\"\n",
    "if [[ ! -e tvm ]]; then\n",
    "    echo \"Cloning TVM ...\"\n",
    "    git clone --recursive https://github.com/dmlc/tvm\n",
    "fi\n",
    "echo \"Configuring Build ...\"\n",
    "cd tvm\n",
    "mkdir -p build\n",
    "cp cmake/config.cmake build\n",
    "# sed -i -e 's/USE_OPONGL OFF/USE_OPONGL ON/g' build/config.cmake\n",
    "sed -i -e 's/USE_CUDA OFF/USE_CUDA ON/g' build/config.cmake\n",
    "sed -i -e 's/USE_CUDNN OFF/USE_CUDNN ON/g' build/config.cmake\n",
    "sed -i -e 's/USE_LLVM OFF/USE_LLVM ON/g' build/config.cmake\n",
    "sed -i -e 's/USE_VTA_TSIM OFF/USE_VTA_TSIM ON/g' build/config.cmake\n",
    "cat build/config.cmake\n",
    "echo \"Running CMake ...\"\n",
    "cd build\n",
    "cmake ..\n",
    "echo \"Building TVM ...\"\n",
    "make -j4\n",
    "cd ..\n",
    "echo \"Installing Python libraries ...\"\n",
    "cd \"/content/gdrive/My Drive/tvm/\"\n",
    "cd python; python setup.py install; cd ..\n",
    "cd topi/python; python setup.py install"
   ]
  },
  {
   "cell_type": "markdown",
   "metadata": {},
   "source": [
    "# Relay: an extensible deep learning IR\n",
    "\n",
    "TODO fill in text"
   ]
  }
 ],
 "metadata": {
  "kernelspec": {
   "display_name": "Python 3",
   "language": "python",
   "name": "python3"
  },
  "language_info": {
   "codemirror_mode": {
    "name": "ipython",
    "version": 3
   },
   "file_extension": ".py",
   "mimetype": "text/x-python",
   "name": "python",
   "nbconvert_exporter": "python",
   "pygments_lexer": "ipython3",
   "version": "3.7.2"
  }
 },
 "nbformat": 4,
 "nbformat_minor": 2
}
