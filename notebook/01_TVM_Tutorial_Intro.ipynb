{
 "cells": [
  {
   "cell_type": "markdown",
   "metadata": {
    "colab_type": "text",
    "id": "HDROSZ2XRHM6"
   },
   "source": [
    "[![Open In Colab](https://colab.research.google.com/assets/colab-badge.svg)](https://colab.research.google.com/github/uwsampl/tutorial/blob/master/notebooks/01_TVM_Tutorial_Intro.ipynb)"
   ]
  },
  {
   "cell_type": "markdown",
   "metadata": {
    "colab_type": "text",
    "id": "TNcBzaPcVcp2"
   },
   "source": [
    "Welcome to the TVM tutorial. First we are going to get you setup so you can run the tutorial completely in the Cloud.\n",
    "\n",
    "Google's Colab notebook's run on ephmeral nodes in the cloud. In order to preserve your build of TVM across notebooks and sessions we will be using Google Drive to cache your build of TVM.\n",
    "\n",
    "If you have already done this step, for this notebook or another, please skip ahead to the content\n",
    "after running these cells.\n",
    "\n",
    "# Installing TVM\n",
    "\n",
    "First we will connect to your Google drive, please follow the authentication steps below, after executing the cell."
   ]
  },
  {
   "cell_type": "code",
   "execution_count": null,
   "metadata": {
    "colab": {
     "base_uri": "https://localhost:8080/",
     "height": 34
    },
    "colab_type": "code",
    "collapsed": true,
    "id": "R4PJa-AETUf3",
    "outputId": "20312558-0011-48c4-e730-b1c0b80dbaa2"
   },
   "outputs": [],
   "source": [
    "from google.colab import drive\n",
    "drive.mount('/content/gdrive')"
   ]
  },
  {
   "cell_type": "markdown",
   "metadata": {
    "colab_type": "text",
    "id": "EMJSjZOwWnjp"
   },
   "source": [
    "Next we will install TVM in the Colab notebook, so we may use it for the rest of the tutorial."
   ]
  },
  {
   "cell_type": "code",
   "execution_count": null,
   "metadata": {
    "colab": {
     "base_uri": "https://localhost:8080/",
     "height": 34
    },
    "colab_type": "code",
    "collapsed": true,
    "id": "VdUJuJBbRHM8",
    "outputId": "5c5c5fe2-3e04-467f-f4e7-ae8b2efb639a"
   },
   "outputs": [],
   "source": [
    "%%bash\n",
    "[[ ! -e /tools/google-cloud-sdk ]] && exit \n",
    "echo \"Installing Dependencies ...\"\n",
    "sudo apt-get update\n",
    "sudo apt-get install -y -q llvm-6.0 libglfw3-dev libtinfo-dev libffi-dev zlib1g-dev clinfo"
   ]
  },
  {
   "cell_type": "code",
   "execution_count": null,
   "metadata": {
    "colab": {},
    "colab_type": "code",
    "collapsed": true,
    "id": "9OGo3n7qW9mL"
   },
   "outputs": [],
   "source": [
    "%%bash\n",
    "[[ ! -e /tools/google-cloud-sdk ]] && exit \n",
    "cd /content/gdrive/\"My Drive\"\n",
    "if [[ ! -e tvm ]]; then\n",
    "    echo \"Cloning TVM ...\"\n",
    "    git clone --recursive https://github.com/dmlc/tvm\n",
    "fi\n"
   ]
  },
  {
   "cell_type": "code",
   "execution_count": null,
   "metadata": {
    "colab": {
     "base_uri": "https://localhost:8080/",
     "height": 2414
    },
    "colab_type": "code",
    "collapsed": true,
    "id": "a0ntbF1vXH5L",
    "outputId": "e95caac6-d197-4f43-cc3c-45e39cef900b"
   },
   "outputs": [],
   "source": [
    "%%bash\n",
    "[[ ! -e /tools/google-cloud-sdk ]] && exit \n",
    "echo \"Configuring Build ...\"\n",
    "cd \"/content/gdrive/My Drive/tvm\"\n",
    "mkdir -p build\n",
    "cp cmake/config.cmake build\n",
    "# sed -i -e 's/USE_OPONGL OFF/USE_OPONGL ON/g' build/config.cmake\n",
    "sed -i -e 's/USE_CUDA OFF/USE_CUDA ON/g' build/config.cmake\n",
    "sed -i -e 's/USE_CUDNN OFF/USE_CUDNN ON/g' build/config.cmake\n",
    "sed -i -e 's/USE_LLVM OFF/USE_LLVM ON/g' build/config.cmake\n",
    "sed -i -e 's/USE_VTA_TSIM OFF/USE_VTA_TSIM ON/g' build/config.cmake\n",
    "cat build/config.cmake"
   ]
  },
  {
   "cell_type": "code",
   "execution_count": null,
   "metadata": {
    "colab": {
     "base_uri": "https://localhost:8080/",
     "height": 765
    },
    "colab_type": "code",
    "collapsed": true,
    "id": "67PfNCAsXUwL",
    "outputId": "28355dc4-a4b1-4685-8560-b69ec924a9e7"
   },
   "outputs": [],
   "source": [
    "%%bash\n",
    "[[ ! -e /tools/google-cloud-sdk ]] && exit \n",
    "echo \"Running CMake ...\"\n",
    "cd \"/content/gdrive/My Drive/tvm/build\"\n",
    "cmake .."
   ]
  },
  {
   "cell_type": "code",
   "execution_count": null,
   "metadata": {
    "colab": {
     "base_uri": "https://localhost:8080/",
     "height": 34
    },
    "colab_type": "code",
    "collapsed": true,
    "id": "I7TdPtnqaOuJ",
    "outputId": "9da6261e-d683-4f47-f3e2-fbe0c2b1f97b"
   },
   "outputs": [],
   "source": [
    "%%bash\n",
    "[[ ! -e /tools/google-cloud-sdk ]] && exit \n",
    "echo \"Building TVM ...\"\n",
    "cd \"/content/gdrive/My Drive/tvm/build\"\n",
    "make -j4"
   ]
  },
  {
   "cell_type": "code",
   "execution_count": null,
   "metadata": {
    "colab": {
     "base_uri": "https://localhost:8080/",
     "height": 1666
    },
    "colab_type": "code",
    "collapsed": true,
    "id": "c_VfoQx0gVVZ",
    "outputId": "d8b0c34a-4664-458a-8aca-4836506534b0"
   },
   "outputs": [],
   "source": [
    "%%bash\n",
    "[[ ! -e /tools/google-cloud-sdk ]] && exit \n",
    "echo \"Installing Python libraries ...\"\n",
    "cd \"/content/gdrive/My Drive/tvm/\"\n",
    "cd python; python setup.py install; cd ..\n",
    "cd topi/python; python setup.py install"
   ]
  },
  {
   "cell_type": "markdown",
   "metadata": {
    "colab_type": "text",
    "id": "D6to0yixgsFd"
   },
   "source": [
    "We will set a global variable so we can later check if we are in the Cloud notebook or running locally."
   ]
  },
  {
   "cell_type": "code",
   "execution_count": null,
   "metadata": {
    "colab": {},
    "colab_type": "code",
    "collapsed": true,
    "id": "4DD4ho6KRHNA"
   },
   "outputs": [],
   "source": [
    "try:\n",
    "  import google.colab\n",
    "  IN_COLAB = True\n",
    "except:\n",
    "  IN_COLAB = False"
   ]
  },
  {
   "cell_type": "markdown",
   "metadata": {
    "colab_type": "text",
    "id": "-2qO4_PajP3m"
   },
   "source": [
    "Now that we have installed everything, please restart the runtime. If you have run all the above steps you are now be ready to use TVM.\n",
    "\n",
    "![Restart the runtime](https://raw.githubusercontent.com/uwsampl/tutorial/master/images/restart_runtime.png?token=AAFKBPNVSTP3W677WTPD42C45RZE6)"
   ]
  },
  {
   "cell_type": "code",
   "execution_count": null,
   "metadata": {
    "colab": {
     "base_uri": "https://localhost:8080/",
     "height": 51
    },
    "colab_type": "code",
    "collapsed": true,
    "id": "lWrQztEERHNE",
    "outputId": "a5855e4e-ee04-48d6-c390-9e8966698086"
   },
   "outputs": [],
   "source": [
    "import tvm\n",
    "print(tvm)\n",
    "import topi\n",
    "print(topi)"
   ]
  }
 ],
 "metadata": {
  "accelerator": "GPU",
  "colab": {
   "name": "TVM for Fun and Profit Tutorial.ipynb",
   "provenance": [],
   "version": "0.3.2"
  },
  "kernelspec": {
   "display_name": "Python 3",
   "language": "python",
   "name": "python3"
  },
  "language_info": {
   "codemirror_mode": {
    "name": "ipython",
    "version": 3
   },
   "file_extension": ".py",
   "mimetype": "text/x-python",
   "name": "python",
   "nbconvert_exporter": "python",
   "pygments_lexer": "ipython3",
   "version": "3.7.2"
  }
 },
 "nbformat": 4,
 "nbformat_minor": 1
}
