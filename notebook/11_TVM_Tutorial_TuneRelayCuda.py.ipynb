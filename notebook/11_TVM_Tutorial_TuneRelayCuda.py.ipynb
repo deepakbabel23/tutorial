{
  "nbformat": 4,
  "nbformat_minor": 0,
  "metadata": {
    "colab": {
      "name": "11_TVM_Tutorial_TuneRelayCuda.py.ipynb",
      "version": "0.3.2",
      "provenance": []
    },
    "kernelspec": {
      "name": "python3",
      "display_name": "Python 3"
    },
    "accelerator": "GPU"
  },
  "cells": [
    {
      "cell_type": "markdown",
      "metadata": {
        "id": "SeiRi-zc0NuZ",
        "colab_type": "text"
      },
      "source": [
        "[![Open In Colab](https://colab.research.google.com/assets/colab-badge.svg)](https://colab.research.google.com/github/uwsampl/tutorial/blob/master/notebook/tune_relay_cuda.py.ipynb)"
      ]
    },
    {
      "cell_type": "markdown",
      "metadata": {
        "id": "OjPh_HPwUSrB",
        "colab_type": "text"
      },
      "source": [
        "\n",
        "Auto-tuning a convolutional network for NVIDIA GPU\n",
        "==================================================\n",
        "**Author**: `Lianmin Zheng <https://github.com/merrymercy>`_, `Eddie Yan <https://github.com/eqy/>`_\n",
        "\n",
        "Auto-tuning for specific devices and workloads is critical for getting the\n",
        "best performance. This is a tutorial on how to tune a whole convolutional\n",
        "network for NVIDIA GPU and an extension of the previous tutorial, which focused on tuning a single operator for the GPU.\n",
        "\n",
        "The operator implementation for NVIDIA GPU in TVM is written in template form.\n",
        "Whereas the previous tutorial showed how to write a template, in this tutorial we will leverage previously defined templates in TVM's operator inventori (TOPI).\n",
        "As we have seen, each template has many tunable knobs (tile factor, unrolling, etc).\n",
        "We will tune all convolution and depthwise convolution operators\n",
        "in the neural network. After tuning, we produce a log file which stores\n",
        "the best knob values for all required operators. When the tvm compiler compiles\n",
        "these operators, it will query this log file to get the best knob values.\n",
        "\n",
        "We also released pre-tuned parameters for some NVIDIA GPUs. You can go to\n",
        "[NVIDIA GPU Benchmark](https://github.com/dmlc/tvm/wiki/Benchmark#nvidia-gpu)\n",
        "to see the results."
      ]
    },
    {
      "cell_type": "markdown",
      "metadata": {
        "id": "BYNJGUSR0Nub",
        "colab_type": "text"
      },
      "source": [
        "Please run the following block to ensure TVM is setup for *this notebook*, each notebook may have its own runtime."
      ]
    },
    {
      "cell_type": "code",
      "metadata": {
        "id": "bdiA6WVx0Nuc",
        "colab_type": "code",
        "outputId": "4b8f89c8-2198-4056-cb5e-13e7d10cb0fe",
        "colab": {
          "base_uri": "https://localhost:8080/",
          "height": 3103
        }
      },
      "source": [
        "! gsutil cp \"gs://tvm-fcrc-binariesd5fce43e-8373-11e9-bfb6-0242ac1c0002/tvm.tar.gz\" /tmp/tvm.tar.gz\n",
        "! mkdir -p /tvm\n",
        "! tar -xf /tmp/tvm.tar.gz --strip-components=4 --directory /tvm\n",
        "! ls -la /tvm\n",
        "# Move this block after we are done with pkg step\n",
        "! bash /tvm/package.sh\n",
        "import sys\n",
        "sys.path.append('/tvm/python')\n",
        "sys.path.append('/tvm/topi/python')\n"
      ],
      "execution_count": 1,
      "outputs": [
        {
          "output_type": "stream",
          "text": [
            "Copying gs://tvm-fcrc-binariesd5fce43e-8373-11e9-bfb6-0242ac1c0002/tvm.tar.gz...\n",
            "- [1 files][114.1 MiB/114.1 MiB]                                                \n",
            "Operation completed over 1 objects/114.1 MiB.                                    \n",
            "total 164\n",
            "drwxr-xr-x 21 root root  4096 Jun 14 00:13 .\n",
            "drwxr-xr-x  1 root root  4096 Jun 14 00:13 ..\n",
            "drwx------  8 root root  4096 May 31 08:14 3rdparty\n",
            "drwx------ 12 root root  4096 May 31 08:14 apps\n",
            "drwx------  3 root root  4096 Jun 11 02:29 build\n",
            "drwx------  4 root root  4096 Jun 11 02:03 cmake\n",
            "-rw-------  1 root root 10486 Jun 11 02:03 CMakeLists.txt\n",
            "drwx------  6 root root  4096 Jun 11 02:03 conda\n",
            "-rw-------  1 root root  5673 May 31 08:14 CONTRIBUTORS.md\n",
            "drwx------  3 root root  4096 Jun 11 02:04 docker\n",
            "drwx------ 11 root root  4096 May 31 08:14 docs\n",
            "drwx------  4 root root  4096 May 31 08:14 golang\n",
            "drwx------  3 root root  4096 May 31 08:14 include\n",
            "-rw-------  1 root root 10243 Jun 11 02:03 Jenkinsfile\n",
            "drwx------  6 root root  4096 May 31 08:14 jvm\n",
            "-rw-------  1 root root 11357 May 31 08:14 LICENSE\n",
            "-rw-------  1 root root  4267 May 31 08:14 Makefile\n",
            "-rw-------  1 root root 10476 May 31 08:14 NEWS.md\n",
            "drwx------  9 root root  4096 May 31 08:14 nnvm\n",
            "-rw-------  1 root root    61 May 31 08:14 NOTICE\n",
            "-rwx------  1 root root   374 Jun 11 02:04 package.sh\n",
            "drwx------  3 root root  4096 May 31 08:14 python\n",
            "-rw-------  1 root root  2705 May 31 08:14 README.md\n",
            "drwx------  6 root root  4096 Jun 11 02:03 rust\n",
            "drwx------ 14 root root  4096 May 31 08:14 src\n",
            "drwx------  9 root root  4096 May 31 08:14 tests\n",
            "drwx------  7 root root  4096 May 31 08:14 topi\n",
            "drwx------  8 root root  4096 Jun 11 02:03 tutorials\n",
            "-rw-------  1 root root  2902 May 31 08:14 version.py\n",
            "drwx------ 10 root root  4096 May 31 08:14 vta\n",
            "drwx------  2 root root  4096 May 31 08:14 web\n",
            "Installing Dependencies ...\n",
            "deb https://dl.bintray.com/sbt/debian /\n",
            "Executing: /tmp/apt-key-gpghome.HR06v8UbMn/gpg.1.sh --keyserver hkp://keyserver.ubuntu.com:80 --recv 2EE0EA64E40A89B84B2DF73499E82A75642AC823\n",
            "gpg: key 99E82A75642AC823: public key \"sbt build tool <scalasbt@gmail.com>\" imported\n",
            "gpg: Total number processed: 1\n",
            "gpg:               imported: 1\n",
            "Ign:1 https://developer.download.nvidia.com/compute/cuda/repos/ubuntu1804/x86_64  InRelease\n",
            "Ign:2 https://dl.bintray.com/sbt/debian  InRelease\n",
            "Get:3 https://dl.bintray.com/sbt/debian  Release [815 B]\n",
            "Get:4 https://dl.bintray.com/sbt/debian  Release.gpg [821 B]\n",
            "Ign:5 https://developer.download.nvidia.com/compute/machine-learning/repos/ubuntu1804/x86_64  InRelease\n",
            "Hit:6 https://developer.download.nvidia.com/compute/cuda/repos/ubuntu1804/x86_64  Release\n",
            "Get:7 https://cloud.r-project.org/bin/linux/ubuntu bionic-cran35/ InRelease [3,626 B]\n",
            "Hit:8 https://developer.download.nvidia.com/compute/machine-learning/repos/ubuntu1804/x86_64  Release\n",
            "Get:9 https://dl.bintray.com/sbt/debian  Packages [3,424 B]\n",
            "Hit:10 http://archive.ubuntu.com/ubuntu bionic InRelease\n",
            "Get:11 http://security.ubuntu.com/ubuntu bionic-security InRelease [88.7 kB]\n",
            "Get:12 http://ppa.launchpad.net/graphics-drivers/ppa/ubuntu bionic InRelease [21.3 kB]\n",
            "Get:14 http://archive.ubuntu.com/ubuntu bionic-updates InRelease [88.7 kB]\n",
            "Get:15 https://cloud.r-project.org/bin/linux/ubuntu bionic-cran35/ Packages [58.0 kB]\n",
            "Get:17 http://ppa.launchpad.net/marutter/c2d4u3.5/ubuntu bionic InRelease [15.4 kB]\n",
            "Get:18 http://security.ubuntu.com/ubuntu bionic-security/multiverse amd64 Packages [4,169 B]\n",
            "Get:19 http://archive.ubuntu.com/ubuntu bionic-backports InRelease [74.6 kB]\n",
            "Get:20 http://ppa.launchpad.net/graphics-drivers/ppa/ubuntu bionic/main amd64 Packages [33.0 kB]\n",
            "Get:21 http://security.ubuntu.com/ubuntu bionic-security/main amd64 Packages [535 kB]\n",
            "Get:22 http://archive.ubuntu.com/ubuntu bionic-updates/multiverse amd64 Packages [7,239 B]\n",
            "Get:23 http://archive.ubuntu.com/ubuntu bionic-updates/main amd64 Packages [837 kB]\n",
            "Get:24 http://ppa.launchpad.net/marutter/c2d4u3.5/ubuntu bionic/main Sources [1,647 kB]\n",
            "Get:25 http://security.ubuntu.com/ubuntu bionic-security/universe amd64 Packages [717 kB]\n",
            "Get:26 http://archive.ubuntu.com/ubuntu bionic-updates/universe amd64 Packages [1,220 kB]\n",
            "Get:27 http://archive.ubuntu.com/ubuntu bionic-backports/universe amd64 Packages [3,902 B]\n",
            "Get:28 http://ppa.launchpad.net/marutter/c2d4u3.5/ubuntu bionic/main amd64 Packages [791 kB]\n",
            "Fetched 6,151 kB in 4s (1,627 kB/s)\n",
            "Reading package lists... Done\n",
            "Reading package lists...\n",
            "Building dependency tree...\n",
            "Reading state information...\n",
            "zlib1g-dev is already the newest version (1:1.2.11.dfsg-0ubuntu2).\n",
            "zlib1g-dev set to manually installed.\n",
            "clinfo is already the newest version (2.2.18.03.26-1).\n",
            "libtinfo-dev is already the newest version (6.1-1ubuntu1.18.04).\n",
            "libtinfo-dev set to manually installed.\n",
            "The following package was automatically installed and is no longer required:\n",
            "  libnvidia-common-410\n",
            "Use 'sudo apt autoremove' to remove it.\n",
            "Suggested packages:\n",
            "  llvm-6.0-doc\n",
            "The following NEW packages will be installed:\n",
            "  binfmt-support libffi-dev llvm-6.0 llvm-6.0-dev llvm-6.0-runtime tree\n",
            "0 upgraded, 6 newly installed, 0 to remove and 120 not upgraded.\n",
            "Need to get 28.3 MB of archives.\n",
            "After this operation, 178 MB of additional disk space will be used.\n",
            "Get:1 http://archive.ubuntu.com/ubuntu bionic/main amd64 binfmt-support amd64 2.1.8-2 [51.6 kB]\n",
            "Get:2 http://archive.ubuntu.com/ubuntu bionic/main amd64 llvm-6.0-runtime amd64 1:6.0-1ubuntu2 [200 kB]\n",
            "Get:3 http://archive.ubuntu.com/ubuntu bionic/main amd64 llvm-6.0 amd64 1:6.0-1ubuntu2 [4,838 kB]\n",
            "Get:4 http://archive.ubuntu.com/ubuntu bionic/main amd64 libffi-dev amd64 3.2.1-8 [156 kB]\n",
            "Get:5 http://archive.ubuntu.com/ubuntu bionic/main amd64 llvm-6.0-dev amd64 1:6.0-1ubuntu2 [23.0 MB]\n",
            "Get:6 http://archive.ubuntu.com/ubuntu bionic/universe amd64 tree amd64 1.7.0-5 [40.7 kB]\n",
            "Fetched 28.3 MB in 3s (9,706 kB/s)\n",
            "debconf: unable to initialize frontend: Dialog\n",
            "debconf: (No usable dialog-like program is installed, so the dialog based frontend cannot be used. at /usr/share/perl5/Debconf/FrontEnd/Dialog.pm line 76, <> line 6.)\n",
            "debconf: falling back to frontend: Readline\n",
            "debconf: unable to initialize frontend: Readline\n",
            "debconf: (This frontend requires a controlling tty.)\n",
            "debconf: falling back to frontend: Teletype\n",
            "dpkg-preconfigure: unable to re-open stdin: \n",
            "Selecting previously unselected package binfmt-support.\n",
            "(Reading database ... 130912 files and directories currently installed.)\n",
            "Preparing to unpack .../0-binfmt-support_2.1.8-2_amd64.deb ...\n",
            "Unpacking binfmt-support (2.1.8-2) ...\n",
            "Selecting previously unselected package llvm-6.0-runtime.\n",
            "Preparing to unpack .../1-llvm-6.0-runtime_1%3a6.0-1ubuntu2_amd64.deb ...\n",
            "Unpacking llvm-6.0-runtime (1:6.0-1ubuntu2) ...\n",
            "Selecting previously unselected package llvm-6.0.\n",
            "Preparing to unpack .../2-llvm-6.0_1%3a6.0-1ubuntu2_amd64.deb ...\n",
            "Unpacking llvm-6.0 (1:6.0-1ubuntu2) ...\n",
            "Selecting previously unselected package libffi-dev:amd64.\n",
            "Preparing to unpack .../3-libffi-dev_3.2.1-8_amd64.deb ...\n",
            "Unpacking libffi-dev:amd64 (3.2.1-8) ...\n",
            "Selecting previously unselected package llvm-6.0-dev.\n",
            "Preparing to unpack .../4-llvm-6.0-dev_1%3a6.0-1ubuntu2_amd64.deb ...\n",
            "Unpacking llvm-6.0-dev (1:6.0-1ubuntu2) ...\n",
            "Selecting previously unselected package tree.\n",
            "Preparing to unpack .../5-tree_1.7.0-5_amd64.deb ...\n",
            "Unpacking tree (1.7.0-5) ...\n",
            "Setting up binfmt-support (2.1.8-2) ...\n",
            "Created symlink /etc/systemd/system/multi-user.target.wants/binfmt-support.service → /lib/systemd/system/binfmt-support.service.\n",
            "invoke-rc.d: could not determine current runlevel\n",
            "invoke-rc.d: policy-rc.d denied execution of start.\n",
            "Setting up tree (1.7.0-5) ...\n",
            "Setting up libffi-dev:amd64 (3.2.1-8) ...\n",
            "Setting up llvm-6.0-runtime (1:6.0-1ubuntu2) ...\n",
            "Processing triggers for libc-bin (2.27-3ubuntu1) ...\n",
            "Setting up llvm-6.0 (1:6.0-1ubuntu2) ...\n",
            "Processing triggers for systemd (237-3ubuntu10.21) ...\n",
            "Processing triggers for man-db (2.8.3-2ubuntu0.1) ...\n",
            "Setting up llvm-6.0-dev (1:6.0-1ubuntu2) ...\n",
            "Processing triggers for libc-bin (2.27-3ubuntu1) ...\n",
            "Reading package lists... Done\n",
            "Building dependency tree       \n",
            "Reading state information... Done\n",
            "The following package was automatically installed and is no longer required:\n",
            "  libnvidia-common-410\n",
            "Use 'sudo apt autoremove' to remove it.\n",
            "Suggested packages:\n",
            "  gtkwave systemc\n",
            "The following NEW packages will be installed:\n",
            "  sbt verilator\n",
            "0 upgraded, 2 newly installed, 0 to remove and 120 not upgraded.\n",
            "Need to get 4,005 kB of archives.\n",
            "After this operation, 14.4 MB of additional disk space will be used.\n",
            "Get:1 https://dl.bintray.com/sbt/debian  sbt 1.2.8 [1,126 kB]\n",
            "Get:2 http://archive.ubuntu.com/ubuntu bionic/universe amd64 verilator amd64 3.916-1build1 [2,878 kB]\n",
            "Fetched 4,005 kB in 1s (2,981 kB/s)\n",
            "debconf: unable to initialize frontend: Dialog\n",
            "debconf: (No usable dialog-like program is installed, so the dialog based frontend cannot be used. at /usr/share/perl5/Debconf/FrontEnd/Dialog.pm line 76, <> line 2.)\n",
            "debconf: falling back to frontend: Readline\n",
            "debconf: unable to initialize frontend: Readline\n",
            "debconf: (This frontend requires a controlling tty.)\n",
            "debconf: falling back to frontend: Teletype\n",
            "dpkg-preconfigure: unable to re-open stdin: \n",
            "Selecting previously unselected package sbt.\n",
            "(Reading database ... 132553 files and directories currently installed.)\n",
            "Preparing to unpack .../apt/archives/sbt_1.2.8_all.deb ...\n",
            "Unpacking sbt (1.2.8) ...\n",
            "Selecting previously unselected package verilator.\n",
            "Preparing to unpack .../verilator_3.916-1build1_amd64.deb ...\n",
            "Unpacking verilator (3.916-1build1) ...\n",
            "Processing triggers for man-db (2.8.3-2ubuntu0.1) ...\n",
            "Setting up verilator (3.916-1build1) ...\n",
            "Setting up sbt (1.2.8) ...\n",
            "Creating system group: sbt\n",
            "Creating system user: sbt in sbt with sbt daemon-user and shell /bin/false\n"
          ],
          "name": "stdout"
        }
      ]
    },
    {
      "cell_type": "markdown",
      "metadata": {
        "id": "sUXKS7OtKFod",
        "colab_type": "text"
      },
      "source": [
        "Starting a Tracker\n",
        "---------------------\n",
        "We start an RPC tracker as in the previous tutorial to manage hardware resources for tuning."
      ]
    },
    {
      "cell_type": "code",
      "metadata": {
        "id": "yq48ZP-BpjK2",
        "colab_type": "code",
        "outputId": "e0a742aa-d426-4f18-d756-f6dc44f64f1d",
        "colab": {
          "base_uri": "https://localhost:8080/",
          "height": 35
        }
      },
      "source": [
        "%%script bash --bg --out output --err error\n",
        "PYTHONPATH=/tvm/python:$PYTHONPATH && python3 -m tvm.exec.rpc_tracker --host 0.0.0.0 --port 9190 &\n",
        "while true; do\n",
        "  res=$(PYTHONPATH=/tvm/python:$PYTHONPATH && python3 -m tvm.exec.query_rpc_tracker --host 0.0.0.0 --port 9190 2>&1 | grep 'Cannot connect to tracker')\n",
        "  if [ \"$res\" == \"\" ]; then\n",
        "    echo \"OK @ \" $(date) \"...\" >> status.log\n",
        "  else\n",
        "    echo \"RESTARTING @ \" $(date) \"...\" >> status.log\n",
        "    PYTHONPATH=/tvm/python:$PYTHONPATH && python3 -m tvm.exec.rpc_tracker --host 0.0.0.0 --port 9190 &\n",
        "  fi\n",
        "  sleep 5\n",
        "done"
      ],
      "execution_count": 2,
      "outputs": [
        {
          "output_type": "stream",
          "text": [
            "Starting job # 0 in a separate thread.\n"
          ],
          "name": "stdout"
        }
      ]
    },
    {
      "cell_type": "markdown",
      "metadata": {
        "id": "0Ig3Y1KIKRWz",
        "colab_type": "text"
      },
      "source": [
        "Starting an RPC Server\n",
        "-------------------------------------\n",
        "We stat an RPC server as in the previous tutorial to profile schedule configurations during tuning (in this case the GPU associated with the colab runtime), and connect it to the tracker."
      ]
    },
    {
      "cell_type": "code",
      "metadata": {
        "id": "Tuwb66vmpjK9",
        "colab_type": "code",
        "outputId": "706a89d1-f7ac-4871-b9dc-5fad44c03f83",
        "colab": {
          "base_uri": "https://localhost:8080/",
          "height": 35
        }
      },
      "source": [
        "%%script bash --bg --out output2 --err error2\n",
        "while true; do\n",
        "echo \"started server at \" $(date) >> status.log\n",
        "PYTHONPATH=/tvm/python:/tvm/topi/python:$PYTHONPATH && python3 -m tvm.exec.rpc_server --key 1080ti --tracker 0.0.0.0:9190\n",
        "sleep 30\n",
        "done\n"
      ],
      "execution_count": 3,
      "outputs": [
        {
          "output_type": "stream",
          "text": [
            "Starting job # 2 in a separate thread.\n"
          ],
          "name": "stdout"
        }
      ]
    },
    {
      "cell_type": "markdown",
      "metadata": {
        "id": "Vyd3KLYqK7_u",
        "colab_type": "text"
      },
      "source": [
        "Check the status of the Tracker and Server\n",
        "--------------------------------------------------------------------\n",
        "We check that there is a free GPU device reported by the tracker before continuing."
      ]
    },
    {
      "cell_type": "code",
      "metadata": {
        "id": "iwcyXJkIpjLD",
        "colab_type": "code",
        "outputId": "1ad4e517-0012-4688-9e07-33300108dd69",
        "colab": {
          "base_uri": "https://localhost:8080/",
          "height": 329
        }
      },
      "source": [
        "! cat status.log | tail\n",
        "! PYTHONPATH=/tvm/python:$PYTHONPATH && python3 -m tvm.exec.query_rpc_tracker --host 0.0.0.0 --port 9190 "
      ],
      "execution_count": 4,
      "outputs": [
        {
          "output_type": "stream",
          "text": [
            "started server at  Fri Jun 14 00:21:21 UTC 2019\n",
            "Tracker address 0.0.0.0:9190\n",
            "\n",
            "Server List\n",
            "----------------------------\n",
            "server-address\tkey\n",
            "----------------------------\n",
            "127.0.0.1:54028\tserver:1080ti\n",
            "----------------------------\n",
            "\n",
            "Queue Status\n",
            "------------------------------\n",
            "key      total  free  pending\n",
            "------------------------------\n",
            "1080ti   1      1     0      \n",
            "------------------------------\n",
            "\n"
          ],
          "name": "stdout"
        }
      ]
    },
    {
      "cell_type": "markdown",
      "metadata": {
        "id": "hIPeDGkEOtad",
        "colab_type": "text"
      },
      "source": [
        "Import required python modules:"
      ]
    },
    {
      "cell_type": "code",
      "metadata": {
        "id": "YrAnKCTgpjLJ",
        "colab_type": "code",
        "colab": {}
      },
      "source": [
        "import os\n",
        "import numpy as np\n",
        "import tvm\n",
        "from tvm import autotvm\n",
        "from tvm import relay\n",
        "import tvm.relay.testing\n",
        "from tvm.autotvm.tuner import XGBTuner, GATuner, RandomTuner, GridSearchTuner\n",
        "from tvm.contrib.util import tempdir\n",
        "import tvm.contrib.graph_runtime as runtime"
      ],
      "execution_count": 0,
      "outputs": []
    },
    {
      "cell_type": "markdown",
      "metadata": {
        "id": "35ZwaCgjOx-I",
        "colab_type": "text"
      },
      "source": [
        " Define Network\n",
        " --------------\n",
        "First we need to define the network in relay frontend API.\n",
        "We can load some pre-defined network from :code:`nnvm.testing`.\n",
        "We can also load models from MXNet, ONNX and TensorFlow.\n",
        "\n",
        "\n"
      ]
    },
    {
      "cell_type": "code",
      "metadata": {
        "id": "5U927Df_OyPA",
        "colab_type": "code",
        "colab": {}
      },
      "source": [
        "def get_network(name, batch_size):\n",
        "    \"\"\"Get the symbol definition and random weight of a network\"\"\"\n",
        "    input_shape = (batch_size, 3, 224, 224)\n",
        "    output_shape = (batch_size, 1000)\n",
        "\n",
        "    if \"resnet\" in name:\n",
        "        n_layer = int(name.split('-')[1])\n",
        "        net, params = relay.testing.resnet.get_workload(num_layers=n_layer, batch_size=batch_size, dtype=dtype)\n",
        "    elif \"vgg\" in name:\n",
        "        n_layer = int(name.split('-')[1])\n",
        "        net, params = relay.testing.vgg.get_workload(num_layers=n_layer, batch_size=batch_size, dtype=dtype)\n",
        "    elif name == 'mobilenet':\n",
        "        net, params = relay.testing.mobilenet.get_workload(batch_size=batch_size, dtype=dtype)\n",
        "    elif name == 'squeezenet_v1.1':\n",
        "        net, params = relay.testing.squeezenet.get_workload(batch_size=batch_size, version='1.1', dtype=dtype)\n",
        "    elif name == 'inception_v3':\n",
        "        input_shape = (1, 3, 299, 299)\n",
        "        net, params = relay.testing.inception_v3.get_workload(batch_size=batch_size, dtype=dtype)\n",
        "    elif name == 'mxnet':\n",
        "        # an example for mxnet model\n",
        "        from mxnet.gluon.model_zoo.vision import get_model\n",
        "        block = get_model('resnet18_v1', pretrained=True)\n",
        "        net, params = relay.frontend.from_mxnet(block, shape={'data': input_shape}, dtype=dtype)\n",
        "        net = relay.Function(net.params, relay.nn.softmax(net.body), None, net.type_params, net.attrs)\n",
        "    else:\n",
        "        raise ValueError(\"Unsupported network: \" + name)\n",
        "\n",
        "    return net, params, input_shape, output_shape\n",
        "\n"
      ],
      "execution_count": 0,
      "outputs": []
    },
    {
      "cell_type": "markdown",
      "metadata": {
        "id": "MXK6iJXhO-gu",
        "colab_type": "text"
      },
      "source": [
        "Set Tuning Options\n",
        " ------------------\n",
        "Before tuning, we apply some configuration options. Thse include the target device (CUDA GPU), the selected network, paths for logging, and tuning parameters. The tuning parameters specify which tuner to use and how many trials (measurement on hardware) to perform before moving to the next tuning task.\n",
        "\n",
        "These parameters are set given the constraints of the colab runtime (CPU resources) and stability of long running jobs and for demo purposes. We recommend running full-scale experiments on dedicated hardware.\n",
        "If settings with larger time budgets,  set :code:`n_trial`, :code:`early_stopping` larger, which makes the tuning runs longer.\n",
        "If you have multiple devices, you can use all of them for measurement to accelerate the tuning process. (see the 'Scale up measurement` section below)."
      ]
    },
    {
      "cell_type": "code",
      "metadata": {
        "id": "ju3XOmuVO-t0",
        "colab_type": "code",
        "colab": {}
      },
      "source": [
        "#### DEVICE CONFIG ####\n",
        "target = tvm.target.cuda()\n",
        "\n",
        "#### TUNING OPTION ####\n",
        "network = 'resnet-18'\n",
        "log_file = \"%s.log\" % network\n",
        "dtype = 'float32'\n",
        "\n",
        "tuning_option = {\n",
        "    'log_filename': log_file,\n",
        "\n",
        "    'tuner': 'xgb',\n",
        "    'n_trial': 128,\n",
        "    'early_stopping': 32,\n",
        "\n",
        "    'measure_option': autotvm.measure_option(\n",
        "        builder=autotvm.LocalBuilder(timeout=2),\n",
        "        #runner=autotvm.LocalRunner(number=20, repeat=3, timeout=4, min_repeat_ms=150),\n",
        "        runner=autotvm.RPCRunner(\n",
        "            '1080ti',  # change the device key to your key\n",
        "            '0.0.0.0', 9190,\n",
        "            number=20, repeat=3, timeout=1, min_repeat_ms=50)\n",
        "    ),\n",
        "}\n",
        "\n"
      ],
      "execution_count": 0,
      "outputs": []
    },
    {
      "cell_type": "markdown",
      "metadata": {
        "id": "SbWifU_7UaDU",
        "colab_type": "text"
      },
      "source": [
        "Begin Tuning\n",
        "------------\n",
        "Now we can extract tuning tasks from the network and begin tuning.\n",
        "Here, we provide a simple utility function to tune a list of tasks.\n",
        "This function is just an initial implementation which tunes them in sequential order.\n",
        "We will introduce a more sophisticated tuning scheduler in the future."
      ]
    },
    {
      "cell_type": "code",
      "metadata": {
        "id": "iOML20VvUaZ8",
        "colab_type": "code",
        "colab": {}
      },
      "source": [
        "# You can skip the implementation of this function for this tutorial.\n",
        "def tune_tasks(tasks,\n",
        "               measure_option,\n",
        "               tuner='xgb',\n",
        "               n_trial=1000,\n",
        "               early_stopping=None,\n",
        "               log_filename='tuning.log',\n",
        "               use_transfer_learning=True,\n",
        "               try_winograd=True):\n",
        "    if try_winograd:\n",
        "        for i in range(len(tasks)):\n",
        "            try:  # try winograd template\n",
        "                tsk = autotvm.task.create(tasks[i].name, tasks[i].args,\n",
        "                                          tasks[i].target, tasks[i].target_host, 'winograd')\n",
        "                input_channel = tsk.workload[1][1]\n",
        "                if input_channel >= 64:\n",
        "                    tasks[i] = tsk\n",
        "            except Exception:\n",
        "                pass\n",
        "\n",
        "    # create tmp log file\n",
        "    tmp_log_file = log_filename + \".tmp\"\n",
        "    if os.path.exists(tmp_log_file):\n",
        "        os.remove(tmp_log_file)\n",
        "\n",
        "    for i, tsk in enumerate(reversed(tasks)):\n",
        "        prefix = \"[Task %2d/%2d] \" %(i+1, len(tasks))\n",
        "\n",
        "        # create tuner\n",
        "        if tuner == 'xgb' or tuner == 'xgb-rank':\n",
        "            tuner_obj = XGBTuner(tsk, feature_type='knob', loss_type='rank')\n",
        "        elif tuner == 'ga':\n",
        "            tuner_obj = GATuner(tsk, pop_size=100)\n",
        "        elif tuner == 'random':\n",
        "            tuner_obj = RandomTuner(tsk)\n",
        "        elif tuner == 'gridsearch':\n",
        "            tuner_obj = GridSearchTuner(tsk)\n",
        "        else:\n",
        "            raise ValueError(\"Invalid tuner: \" + tuner)\n",
        "\n",
        "        if use_transfer_learning:\n",
        "            if os.path.isfile(tmp_log_file):\n",
        "                tuner_obj.load_history(autotvm.record.load_from_file(tmp_log_file))\n",
        "\n",
        "        # do tuning\n",
        "        tuner_obj.tune(n_trial=min(n_trial, len(tsk.config_space)),\n",
        "                       early_stopping=early_stopping,\n",
        "                       measure_option=measure_option,\n",
        "                       callbacks=[\n",
        "                           autotvm.callback.progress_bar(n_trial, prefix=prefix),\n",
        "                           autotvm.callback.log_to_file(tmp_log_file)])\n",
        "\n",
        "    # pick best records to a cache file\n",
        "    autotvm.record.pick_best(tmp_log_file, log_filename)\n",
        "    os.remove(tmp_log_file)"
      ],
      "execution_count": 0,
      "outputs": []
    },
    {
      "cell_type": "markdown",
      "metadata": {
        "id": "PKt7yceqUrx3",
        "colab_type": "text"
      },
      "source": [
        "Next, we launch tuning jobs and evaluate the end-to-end performance.\n",
        "`tune_and_evaluate` extracts the tuning tasks (the operators/workloads to tune) from the specified network and tunes them.\n",
        "After tuning, `autotvm.apply_history_best` applies the best configurations logged during tuning and evaluates the end-to-end performance achieved when running the entire model using tuned operators."
      ]
    },
    {
      "cell_type": "code",
      "metadata": {
        "id": "I9f46QUKRuC0",
        "colab_type": "code",
        "colab": {
          "base_uri": "https://localhost:8080/",
          "height": 201
        },
        "outputId": "93a8a079-854a-48ee-eea6-501ecac81475"
      },
      "source": [
        "def tune_and_evaluate(tuning_opt):\n",
        "    # extract workloads from relay program\n",
        "    print(\"Extract tasks...\")\n",
        "    net, params, input_shape, out_shape = get_network(network, batch_size=1)\n",
        "    tasks = autotvm.task.extract_from_program(net, target=target,\n",
        "                                            params=params, ops=(relay.op.nn.conv2d,))\n",
        "\n",
        "    # run tuning tasks\n",
        "    print(\"Tuning...\")\n",
        "    tune_tasks(tasks, **tuning_opt)\n",
        "\n",
        "    # compile kernels with history best records\n",
        "    with autotvm.apply_history_best(log_file):\n",
        "        print(\"Compile...\")\n",
        "        with relay.build_config(opt_level=3):\n",
        "            graph, lib, params = relay.build_module.build(\n",
        "                net, target=target, params=params)\n",
        "\n",
        "        # export library\n",
        "        tmp = tempdir()\n",
        "        filename = \"net.tar\"\n",
        "        lib.export_library(tmp.relpath(filename))\n",
        "\n",
        "        # load parameters\n",
        "        ctx = tvm.context(str(target), 0)\n",
        "        module = runtime.create(graph, lib, ctx)\n",
        "        data_tvm = tvm.nd.array((np.random.uniform(size=input_shape)).astype(dtype))\n",
        "        module.set_input('data', data_tvm)\n",
        "        module.set_input(**params)\n",
        "\n",
        "        # evaluate\n",
        "        print(\"Evaluate inference time cost...\")\n",
        "        ftimer = module.module.time_evaluator(\"run\", ctx, number=1, repeat=600)\n",
        "        prof_res = np.array(ftimer().results) * 1000  # convert to millisecond\n",
        "        print(\"Mean inference time (std dev): %.2f ms (%.2f ms)\" %\n",
        "              (np.mean(prof_res), np.std(prof_res)))\n",
        "\n",
        "tune_and_evaluate(tuning_option)\n",
        "\n",
        "#################################################################\n",
        "# Scale up measurement by using multiple devices\n",
        "# ----------------------------------------------\n",
        "#\n",
        "# If you have multiple devices, you can use all of them for measurement.\n",
        "# TVM uses the RPC Tracker to manage distributed devices.\n",
        "# The RPC Tracker is a centralized master node. We can register all devices to\n",
        "# the tracker. For example, if we have 10 GPU cards, we can register all of them\n",
        "# to the tracker, and run 10 measurements in parallel, accelerating the tuning process.\n",
        "#\n",
        "# To start an RPC tracker, run this command on the host machine. The tracker is\n",
        "# required during the whole tuning process, so we need to open a new terminal for\n",
        "# this command:\n",
        "#\n",
        "# .. code-block:: bash\n",
        "#\n",
        "#   python -m tvm.exec.rpc_tracker --host=0.0.0.0 --port=9190\n",
        "#\n",
        "# The expected output is\n",
        "#\n",
        "# .. code-block:: bash\n",
        "#\n",
        "#   INFO:RPCTracker:bind to 0.0.0.0:9190\n",
        "#\n",
        "# Then open another new terminal for the RPC server. We need to start one server\n",
        "# for each dedicated device. We use a string key to distinguish the types of devices.\n",
        "# You can pick a name you like.\n",
        "# (Note: For rocm backend, there are some internal errors with the compiler,\n",
        "# we need to add `--no-fork` to the argument list.)\n",
        "#\n",
        "# .. code-block:: bash\n",
        "#\n",
        "#     python -m tvm.exec.rpc_server --tracker=0.0.0.0:9190 --key=1080ti\n",
        "#\n",
        "# After registering devices, we can confirm it by querying rpc_tracker\n",
        "#\n",
        "# .. code-block:: bash\n",
        "#\n",
        "#   python -m tvm.exec.query_rpc_tracker --host=0.0.0.0 --port=9190\n",
        "#\n",
        "# For example, if we have four 1080ti, two titanx and one gfx900, the output can be\n",
        "#\n",
        "# .. code-block:: bash\n",
        "#\n",
        "#    Queue Status\n",
        "#    ----------------------------------\n",
        "#    key          total  free  pending\n",
        "#    ----------------------------------\n",
        "#    1080ti       4      4     0\n",
        "#    titanx       2      2     0\n",
        "#    gfx900       1      1     0\n",
        "#    ----------------------------------\n",
        "#\n",
        "# Finally, we need to change the tuning option to use RPCRunner. Use the code below\n",
        "# to replace the corresponding part above.\n",
        "\n",
        "tuning_option = {\n",
        "    'log_filename': log_file,\n",
        "\n",
        "    'tuner': 'gatuner',\n",
        "    'n_trial': 2000,\n",
        "    'early_stopping': 200,\n",
        "\n",
        "    'measure_option': autotvm.measure_option(\n",
        "        builder=autotvm.LocalBuilder(timeout=10),\n",
        "        runner=autotvm.RPCRunner(\n",
        "            '1080ti',  # change the device key to your key\n",
        "            '0.0.0.0', 9190,\n",
        "            number=20, repeat=3, timeout=2, min_repeat_ms=50),\n",
        "    ),\n",
        "}"
      ],
      "execution_count": 0,
      "outputs": [
        {
          "output_type": "stream",
          "text": [
            "Extract tasks...\n",
            "...100%, 0.02 MB, 104 KB/s, 0 seconds passed\n",
            "Tuning...\n",
            "[Task  1/12]  Current/Best:  143.35/ 258.37 GFLOPS | Progress: (44/128) | 43.04 s Done.\n",
            "[Task  2/12]  Current/Best:  150.26/ 672.24 GFLOPS | Progress: (80/128) | 97.66 s Done.\n",
            "[Task  3/12]  Current/Best:   23.25/ 298.16 GFLOPS | Progress: (38/128) | 38.68 s Done.\n",
            "[Task  4/12]  Current/Best:    0.00/ 766.28 GFLOPS | Progress: (38/128) | 37.69 s Done.\n",
            "[Task  5/12]  Current/Best:    0.00/1419.15 GFLOPS | Progress: (52/128) | 46.29 s Done.\n",
            "[Task  6/12]  Current/Best: 1329.87/2709.25 GFLOPS | Progress: (38/128) | 50.15 s Done.\n",
            "[Task  7/12]  Current/Best:    0.00/ 931.21 GFLOPS | Progress: (64/128) | 69.56 s"
          ],
          "name": "stdout"
        }
      ]
    }
  ]
}
