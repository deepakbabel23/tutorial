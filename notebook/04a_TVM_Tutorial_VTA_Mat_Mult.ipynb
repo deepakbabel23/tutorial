{
 "cells": [
  {
   "cell_type": "markdown",
   "metadata": {
    "colab_type": "text",
    "id": "SeiRi-zc0NuZ"
   },
   "source": [
    "[![Open In Colab](https://colab.research.google.com/assets/colab-badge.svg)](https://colab.research.google.com/github/uwsampl/tutorial/blob/master/notebook/04a_TVM_Tutorial_VTA_Mat_Mult.ipynb)"
   ]
  },
  {
   "cell_type": "markdown",
   "metadata": {},
   "source": [
    "Please run the following block to ensure TVM is setup for this notebook, each notebook may have its own runtime."
   ]
  },
  {
   "cell_type": "code",
   "execution_count": null,
   "metadata": {},
   "outputs": [],
   "source": [
    "%matplotlib inline\n",
    "\n",
    "try:\n",
    "  import google.colab\n",
    "  IN_COLAB = True\n",
    "except:\n",
    "  IN_COLAB = False\n",
    "\n",
    "if IN_COLAB:\n",
    "    ! gsutil cp \"gs://tvm-fcrc-binaries-7f775516ff9dfab922c304049f294cec/tvm.tar.gz\" /tmp/tvm.tar.gz\n",
    "    ! mkdir -p /tvm\n",
    "    ! tar -xf /tmp/tvm.tar.gz --strip-components=4 --directory /tvm\n",
    "    ! ls -la /tvm\n",
    "    ! bash /tvm/package.sh\n",
    "    # Add TVM to the Python path.\n",
    "    import sys\n",
    "    sys.path.append('/tvm/python')\n",
    "    sys.path.append('/tvm/topi/python')\n",
    "    sys.path.append('/tvm/nnvm/python')\n",
    "    sys.path.append('/tvm/vta/python')\n",
    "else:\n",
    "    print(\"Notebook executing locally, skipping Colab setup ...\")"
   ]
  },
  {
   "cell_type": "markdown",
   "metadata": {},
   "source": [
    "\n",
    "\n",
    "Simple Matrix Multiply\n",
    "======================\n",
    "**Author**: [Thierry Moreau](https://homes.cs.washington.edu/~moreau/)\n",
    "\n",
    "In this tutorial, we will build on top of the `vta-get-started` tutorial\n",
    "and introduce additional concepts required to implement matrix multiplication\n",
    "on VTA with the TVM workflow.\n",
    "\n"
   ]
  },
  {
   "cell_type": "markdown",
   "metadata": {},
   "source": [
    "RPC Setup\n",
    "---------\n",
    "We start by programming the Pynq's FPGA and building its RPC runtime\n",
    "as we did in the VTA introductory tutorial.\n",
    "\n"
   ]
  },
  {
   "cell_type": "code",
   "execution_count": null,
   "metadata": {},
   "outputs": [],
   "source": [
    "from __future__ import absolute_import, print_function\n",
    "\n",
    "import os\n",
    "import tvm\n",
    "import vta\n",
    "import numpy as np\n",
    "from tvm import rpc\n",
    "from tvm.contrib import util\n",
    "from vta.testing import simulator\n",
    "\n",
    "# Load VTA parameters from the vta/config/vta_config.json file\n",
    "env = vta.get_env()\n",
    "\n",
    "# This contains parameters that describe our instance of the VTA design\n",
    "print(env)"
   ]
  },
  {
   "cell_type": "code",
   "execution_count": null,
   "metadata": {},
   "outputs": [],
   "source": [
    "# We read the Pynq RPC host IP address and port number from the OS environment\n",
    "host = os.environ.get(\"VTA_PYNQ_RPC_HOST\", \"192.168.2.99\")\n",
    "port = int(os.environ.get(\"VTA_PYNQ_RPC_PORT\", \"9091\"))\n",
    "\n",
    "# We configure both the bitstream and the runtime system on the Pynq\n",
    "# to match the VTA configuration specified by the vta_config.json file.\n",
    "if env.TARGET == \"pynq\":\n",
    "\n",
    "    # Make sure that TVM was compiled with RPC=1\n",
    "    assert tvm.module.enabled(\"rpc\")\n",
    "    remote = rpc.connect(host, port)\n",
    "\n",
    "    # Reconfigure the JIT runtime\n",
    "    vta.reconfig_runtime(remote)\n",
    "\n",
    "    # Program the FPGA with a pre-compiled VTA bitstream.\n",
    "    # You can program the FPGA with your own custom bitstream\n",
    "    # by passing the path to the bitstream file instead of None.\n",
    "    vta.program_fpga(remote, bitstream=None)\n",
    "\n",
    "# In simulation mode, host the RPC server locally.\n",
    "elif env.TARGET == \"sim\":\n",
    "    remote = rpc.LocalSession()"
   ]
  },
  {
   "cell_type": "markdown",
   "metadata": {},
   "source": [
    "Computation Declaration\n",
    "-----------------------\n",
    "In this example we describe a simple matrix multiplication addition, which\n",
    "requires multiple computation stages, as shown in the dataflow diagram below.\n",
    "First we describe the input tensors `A` and `B` that are living\n",
    "in main memory.\n",
    "Second, we need to declare intermediate tensors `A_buf` and\n",
    "`B_buf`, which will live in VTA's on-chip buffers.\n",
    "Having this extra computational stage allows us to explicitly\n",
    "stage cached reads and writes.\n",
    "Third, we describe the matrix multiplication computation over\n",
    "`A_buf` and `B_buf` to produce the product matrix `C_buf`.\n",
    "The last operation is a cast and copy back to DRAM, into results tensor\n",
    "`C`.\n",
    "\n",
    "![](https://raw.githubusercontent.com/uwsaml/web-data/master/vta/tutorial/gemm_dataflow.png)\n"
   ]
  },
  {
   "cell_type": "markdown",
   "metadata": {},
   "source": [
    "### Data Layout\n",
    "We describe the placeholder tensors `A`, and `B` in a tiled data\n",
    "format to match the data layout requirements imposed by the VTA tensor core.\n",
    "\n"
   ]
  },
  {
   "cell_type": "code",
   "execution_count": null,
   "metadata": {},
   "outputs": [],
   "source": [
    "# Let's look at the specific dimensions of our GEMM core\n",
    "print(\"Weights are {} by {}, and {}bit wide\".format(\n",
    "    env.BLOCK_OUT, env.BLOCK_IN, env.wgt_dtype))\n",
    "print(\"Input activations are {} by {}, and {}bit wide\".format(\n",
    "    env.BATCH, env.BLOCK_IN, env.inp_dtype))\n",
    "print(\"Output activations are {} by {}, and {}bit wide\".format(\n",
    "    env.BATCH, env.BLOCK_OUT, env.acc_type_dtype))"
   ]
  },
  {
   "cell_type": "code",
   "execution_count": null,
   "metadata": {},
   "outputs": [],
   "source": [
    "# We can also derive throughput requirements for each memory\n",
    "print(\"Weight buffer requires {} bits per cycle of read xput\".format(\n",
    "    env.BLOCK_OUT * env.BLOCK_IN * env.wgt_dtype))\n",
    "print(\"Input buffer requires {} bits per cycle of read xput\".format(\n",
    "    env.BATCH * env.BLOCK_IN * env.inp_dtype))\n",
    "print(\"Register file requires {} bits per cycle of read & write xput\".format(\n",
    "    env.BATCH * env.BLOCK_OUT * env.acc_type_dtype))"
   ]
  },
  {
   "cell_type": "code",
   "execution_count": null,
   "metadata": {},
   "outputs": [],
   "source": [
    "# Output channel factor m - total 16x16=256 output channels\n",
    "m = 16\n",
    "# Input channel factor n - total 16x16=256 input channels\n",
    "n = 16\n",
    "# Batch factor o (we use single batch inference)\n",
    "o = 1\n",
    "# A placeholder tensor in tiled data format\n",
    "A = tvm.placeholder((o, n, env.BATCH, env.BLOCK_IN),\n",
    "                    name=\"A\", dtype=env.inp_dtype)\n",
    "# B placeholder tensor in tiled data format\n",
    "B = tvm.placeholder((m, n, env.BLOCK_OUT, env.BLOCK_IN),\n",
    "                    name=\"B\", dtype=env.wgt_dtype)\n",
    "# A copy buffer\n",
    "A_buf = tvm.compute((o, n, env.BATCH, env.BLOCK_IN),\n",
    "                    lambda *i: A(*i), \"A_buf\")\n",
    "# B copy buffer\n",
    "B_buf = tvm.compute((m, n, env.BLOCK_OUT, env.BLOCK_IN),\n",
    "                    lambda *i: B(*i), \"B_buf\")"
   ]
  },
  {
   "cell_type": "markdown",
   "metadata": {},
   "source": [
    "### Matrix Multiplication\n",
    "\n",
    "Now we're ready to describe the matrix multiplication result tensor `C`,\n",
    "with another compute operation.\n",
    "The compute function takes the shape of the tensor, as well as a lambda\n",
    "function that describes the computation rule for each position of the tensor.\n",
    "\n",
    "No computation happens during this phase, as we are only declaring how\n",
    "the computation should be done.\n"
   ]
  },
  {
   "cell_type": "code",
   "execution_count": null,
   "metadata": {},
   "outputs": [],
   "source": [
    "# Outer input feature reduction axis\n",
    "ko = tvm.reduce_axis((0, n), name=\"ko\")\n",
    "# Inner input feature reduction axis\n",
    "ki = tvm.reduce_axis((0, env.BLOCK_IN), name=\"ki\")\n",
    "# Describe the in-VTA matrix multiplication\n",
    "C_buf = tvm.compute(\n",
    "    (o, m, env.BATCH, env.BLOCK_OUT),\n",
    "    lambda bo, co, bi, ci:\n",
    "        tvm.sum(A_buf[bo, ko, bi, ki].astype(env.acc_dtype) *\n",
    "                B_buf[co, ko, ci, ki].astype(env.acc_dtype),\n",
    "                axis=[ko, ki]),\n",
    "    name=\"C_buf\")"
   ]
  },
  {
   "cell_type": "markdown",
   "metadata": {},
   "source": [
    "### Casting the Results\n",
    "\n",
    "After the computation is done, we'll need to send the results computed by VTA back to main memory.\n"
   ]
  },
  {
   "cell_type": "code",
   "execution_count": null,
   "metadata": {},
   "outputs": [],
   "source": [
    "# Cast to output type, and send to main memory\n",
    "C = tvm.compute(\n",
    "    (o, m, env.BATCH, env.BLOCK_OUT),\n",
    "    lambda *i: C_buf(*i).astype(env.inp_dtype),\n",
    "    name=\"C\")"
   ]
  },
  {
   "cell_type": "markdown",
   "metadata": {},
   "source": [
    "This concludes the computation declaration part of this tutorial.\n",
    "\n"
   ]
  },
  {
   "cell_type": "markdown",
   "metadata": {},
   "source": [
    "Scheduling the Computation\n",
    "--------------------------\n",
    "While the above lines describes the computation rule, we can obtain\n",
    "`C` in many ways.\n",
    "TVM asks the user to provide an implementation of the computation called\n",
    "*schedule*.\n",
    "\n",
    "A schedule is a set of transformations to an original computation that\n",
    "transforms the implementation of the computation without affecting\n",
    "correctness.\n",
    "This simple VTA programming tutorial aims to demonstrate basic schedule\n",
    "transformations that will map the original schedule down to VTA hardware\n",
    "primitives.\n",
    "\n"
   ]
  },
  {
   "cell_type": "markdown",
   "metadata": {},
   "source": [
    "### Default Schedule\n",
    "\n",
    "After we construct the schedule, by default the schedule computes\n",
    "`C` in the following way:\n",
    "\n"
   ]
  },
  {
   "cell_type": "code",
   "execution_count": null,
   "metadata": {},
   "outputs": [],
   "source": [
    "# Let's take a look at the generated schedule\n",
    "s = tvm.create_schedule(C.op)\n",
    "print(tvm.lower(s, [A, B, C], simple_mode=True))"
   ]
  },
  {
   "cell_type": "markdown",
   "metadata": {},
   "source": [
    "Although this schedule makes sense, it won't compile to VTA.\n",
    "In order to obtain correct code generation, we need to apply scheduling\n",
    "primitives and code annotation that will transform the schedule into\n",
    "one that can be directly lowered onto VTA hardware intrinsics.\n",
    "Those include:\n",
    "\n",
    " - DMA copy operations which will take globally-scoped tensors and copy\n",
    "   those into locally-scoped tensors.\n",
    " - Tensor operations that will perform the matrix multiplication.\n",
    "\n"
   ]
  },
  {
   "cell_type": "markdown",
   "metadata": {},
   "source": [
    "### Buffer Scopes\n",
    "\n",
    "First, we set the scope of the buffers to tell TVM that these buffers\n",
    "will be living in the VTA's on-chip SRAM caches.\n",
    "Below, we tell TVM that `A_buf`, `B_buf`, `C_buf`\n",
    "will respectively live in VTA's on-chip input, weight and accumulator\n",
    "memory.\n",
    "\n"
   ]
  },
  {
   "cell_type": "markdown",
   "metadata": {},
   "source": [
    "<div class=\"alert alert-info\"><h4>VTA's On-Chip SRAMs</h4><p>\n",
    "\n",
    "  VTA has three different memory scopes, each corresponding to different\n",
    "  on-chip SRAM buffers.\n",
    "\n",
    "   - `env.inp_scope`: Input buffer, which is a read-only SRAM buffer\n",
    "     that stores activation tensors.\n",
    "   - `env.wgt_scope`: Weight buffer, which is a read-only SRAM buffer\n",
    "     that stores weight tensors.\n",
    "   - `env.acc_scope`: Register file for accumulation, which is a\n",
    "      read/write SRAM buffer that stores accumulator tensors.</p></div>\n"
   ]
  },
  {
   "cell_type": "code",
   "execution_count": null,
   "metadata": {},
   "outputs": [],
   "source": [
    "# Set the intermediate tensor's scope to VTA's on-chip buffers\n",
    "s[A_buf].set_scope(env.inp_scope)\n",
    "s[B_buf].set_scope(env.wgt_scope)\n",
    "s[C_buf].set_scope(env.acc_scope)"
   ]
  },
  {
   "cell_type": "markdown",
   "metadata": {},
   "source": [
    "### DMA Transfers\n",
    "\n",
    "We need to schedule DMA transfers to move data living in DRAM to\n",
    "and from the VTA on-chip buffers.\n",
    "This can be achieved using the `compute_at` schedule primitive\n",
    "which nests the copying of the buffers into the computation loop\n",
    "that performs the matrix multiplication.\n",
    "\n",
    "We insert `dma_copy` pragmas to indicate to the compiler\n",
    "that the copy operations will be performed in bulk via DMA,\n",
    "which is common in hardware accelerators.\n",
    "Finally, we print the temporary schedule to observe the effects of\n",
    "moving the copy operations into the matrix multiplication loop.\n",
    "\n"
   ]
  },
  {
   "cell_type": "code",
   "execution_count": null,
   "metadata": {},
   "outputs": [],
   "source": [
    "# Move buffer copy into matrix multiply loop\n",
    "s[A_buf].compute_at(s[C_buf], ko)\n",
    "s[B_buf].compute_at(s[C_buf], ko)\n",
    "\n",
    "# Tag the buffer copies with the DMA pragma to insert a DMA transfer\n",
    "s[A_buf].pragma(s[A_buf].op.axis[0], env.dma_copy)\n",
    "s[B_buf].pragma(s[B_buf].op.axis[0], env.dma_copy)\n",
    "s[C].pragma(s[C].op.axis[0], env.dma_copy)\n",
    "\n",
    "# Let's take a look at the transformed schedule\n",
    "print(tvm.lower(s, [A, B, C], simple_mode=True))"
   ]
  },
  {
   "cell_type": "markdown",
   "metadata": {},
   "source": [
    "### Tensorization\n",
    "\n",
    "The last step of the schedule transformation consists in applying\n",
    "*tensorization* to our schedule.\n",
    "Tensorization is analogous to vectorization, but extends the concept\n",
    "to a higher-dimensional unit of computation.\n",
    "Consequently, tensorization imposes data layout constraints as discussed\n",
    "earlier when declaring the data layout input placeholders.\n",
    "We've already arranged our tensors in a tiled format, so the next thing\n",
    "we need to perform is loop reordering to accommodate for tensorization.\n",
    "\n",
    "Here we choose to move the outermost reduction axis all the way out.\n",
    "This dictates that we first iterate over input channels, then batch\n",
    "dimensions, and finally output channels.\n",
    "Lastly, we apply the tensorization scheduling primitive `tensorize`\n",
    "along the outer axis of the inner-most matrix matrix multiplication tensor\n",
    "block.\n",
    "We print the finalized schedule that is ready for code-generation\n",
    "by the VTA runtime JIT compiler.\n",
    "\n"
   ]
  },
  {
   "cell_type": "code",
   "execution_count": null,
   "metadata": {},
   "outputs": [],
   "source": [
    "s[C_buf].reorder(\n",
    "    ko,\n",
    "    s[C_buf].op.axis[0],\n",
    "    s[C_buf].op.axis[1],\n",
    "    s[C_buf].op.axis[2],\n",
    "    s[C_buf].op.axis[3],\n",
    "    ki)\n",
    "s[C_buf].tensorize(s[C_buf].op.axis[2], env.gemm)\n",
    "\n",
    "# Let's take a look at the finalized schedule\n",
    "print(vta.lower(s, [A, B, C], simple_mode=True))"
   ]
  },
  {
   "cell_type": "markdown",
   "metadata": {},
   "source": [
    "This concludes the scheduling portion of this tutorial.\n",
    "\n"
   ]
  },
  {
   "cell_type": "markdown",
   "metadata": {},
   "source": [
    "TVM Compilation\n",
    "---------------\n",
    "After we have finished specifying the schedule, we can compile it\n",
    "into a TVM function.\n",
    "\n"
   ]
  },
  {
   "cell_type": "code",
   "execution_count": null,
   "metadata": {},
   "outputs": [],
   "source": [
    "# Build GEMM VTA kernel\n",
    "my_gemm = vta.build(s, [A, B, C], \"ext_dev\",\n",
    "                    env.target_host, name=\"my_gemm\")\n",
    "\n",
    "# Write the compiled module into an object file.\n",
    "temp = util.tempdir()\n",
    "my_gemm.save(temp.relpath(\"gemm.o\"))\n",
    "\n",
    "# Send the executable over RPC\n",
    "remote.upload(temp.relpath(\"gemm.o\"))\n",
    "\n",
    "# Load the compiled module\n",
    "f = remote.load_module(\"gemm.o\")"
   ]
  },
  {
   "cell_type": "markdown",
   "metadata": {},
   "source": [
    "Running the Function\n",
    "--------------------\n",
    "The compiled TVM function uses a concise C API and can be invoked from\n",
    "code language.\n",
    "\n",
    "TVM provides an array API in python to aid quick testing and prototyping.\n",
    "The array API is based on [DLPack](https://github.com/dmlc/dlpack) standard.\n",
    "\n",
    "- We first create a remote context (for remote execution on the Pynq).\n",
    "- Then `tvm.nd.array` formats the data accordingly.\n",
    "- `f()` runs the actual computation.\n",
    "- `asnumpy()` copies the result array back in a format that can be\n",
    "  interpreted.\n",
    "\n",
    "\n"
   ]
  },
  {
   "cell_type": "code",
   "execution_count": null,
   "metadata": {},
   "outputs": [],
   "source": [
    "# Get the remote device context\n",
    "ctx = remote.ext_dev(0)\n",
    "\n",
    "# Initialize the A and B arrays randomly in the int range of (-128, 128]\n",
    "A_orig = np.random.randint(\n",
    "    -128, 128,\n",
    "    size=(o * env.BATCH, n * env.BLOCK_IN)).astype(A.dtype)\n",
    "B_orig = np.random.randint(\n",
    "    -128, 128,\n",
    "    size=(m * env.BLOCK_OUT, n * env.BLOCK_IN)).astype(B.dtype)\n",
    "\n",
    "# Apply packing to the A and B arrays from a 2D to a 4D packed layout\n",
    "A_packed = A_orig.reshape(\n",
    "    o, env.BATCH, n, env.BLOCK_IN).transpose((0, 2, 1, 3))\n",
    "B_packed = B_orig.reshape(\n",
    "    m, env.BLOCK_OUT, n, env.BLOCK_IN).transpose((0, 2, 1, 3))\n",
    "\n",
    "# Format the input/output arrays with tvm.nd.array to the DLPack standard\n",
    "A_nd = tvm.nd.array(A_packed, ctx)\n",
    "B_nd = tvm.nd.array(B_packed, ctx)\n",
    "C_nd = tvm.nd.array(\n",
    "    np.zeros((o, m, env.BATCH, env.BLOCK_OUT)).astype(C.dtype), ctx)\n",
    "\n",
    "# Invoke the module to perform the computation\n",
    "f(A_nd, B_nd, C_nd)"
   ]
  },
  {
   "cell_type": "markdown",
   "metadata": {},
   "source": [
    "Verifying Correctness\n",
    "---------------------\n",
    "Compute the reference result with numpy and assert that the output of the\n",
    "matrix multiplication indeed is correct\n",
    "\n"
   ]
  },
  {
   "cell_type": "code",
   "execution_count": null,
   "metadata": {},
   "outputs": [],
   "source": [
    "# Compute reference result with numpy\n",
    "C_ref = np.dot(A_orig.astype(env.acc_dtype),\n",
    "               B_orig.T.astype(env.acc_dtype)).astype(C.dtype)\n",
    "C_ref = C_ref.reshape(\n",
    "    o, env.BATCH, m, env.BLOCK_OUT).transpose((0, 2, 1, 3))\n",
    "np.testing.assert_equal(C_ref, C_nd.asnumpy())\n",
    "print(\"Successful matrix multiply test!\")"
   ]
  },
  {
   "cell_type": "markdown",
   "metadata": {},
   "source": [
    "Summary\n",
    "-------\n",
    "This tutorial showcases the TVM workflow to implement a simple matrix\n",
    "multiplication example on VTA.\n",
    "The general workflow includes:\n",
    "\n",
    "- Programming the FPGA with the VTA bitstream over RPC.\n",
    "- Describing matrix multiplication via a series of computations.\n",
    "- Describing how we want to perform the computation using schedule primitives.\n",
    "- Compiling the function to the VTA target.\n",
    "- Running the compiled module and verifying it against a numpy implementation.\n",
    "\n",
    "\n"
   ]
  }
 ],
 "metadata": {
  "kernelspec": {
   "display_name": "Python 3",
   "language": "python",
   "name": "python3"
  },
  "language_info": {
   "codemirror_mode": {
    "name": "ipython",
    "version": 3
   },
   "file_extension": ".py",
   "mimetype": "text/x-python",
   "name": "python",
   "nbconvert_exporter": "python",
   "pygments_lexer": "ipython3",
   "version": "3.6.7"
  }
 },
 "nbformat": 4,
 "nbformat_minor": 1
}
