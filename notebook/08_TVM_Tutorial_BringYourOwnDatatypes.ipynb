{
 "cells": [
  {
   "cell_type": "markdown",
   "metadata": {},
   "source": [
    "[![Open In Colab](https://colab.research.google.com/assets/colab-badge.svg)](https://colab.research.google.com/github/uwsampl/tutorial/blob/master/notebook/08_TVM_Tutorial_BringYourOwnDatatypes.ipynb)"
   ]
  },
  {
   "cell_type": "markdown",
   "metadata": {},
   "source": [
    "The following code sets up TVM on colab, if you are running on Colab.\n",
    "If you are not on colab, this notebook will use your local TVM install."
   ]
  },
  {
   "cell_type": "code",
   "execution_count": null,
   "metadata": {
    "scrolled": true
   },
   "outputs": [],
   "source": [
    "try:\n",
    "  import google.colab\n",
    "  IN_COLAB = True\n",
    "except:\n",
    "  IN_COLAB = False\n",
    "\n",
    "if IN_COLAB:\n",
    "    ! gsutil cp \"gs://tvm-fcrc-binariesd5fce43e-8373-11e9-bfb6-0242ac1c0002/tvm-with-datatypes.tar.gz\" /tmp/tvm.tar.gz\n",
    "    ! mkdir -p /tvm\n",
    "    ! tar -xf /tmp/tvm.tar.gz --strip-components=4 --directory /tvm\n",
    "    ! ls -la /tvm\n",
    "    ! bash /tvm/package.sh\n",
    "    # Add TVM to the Python path.\n",
    "    import sys\n",
    "    sys.path.append('/tvm/python')\n",
    "    sys.path.append('/tvm/topi/python')\n",
    "else:\n",
    "    print(\"Notebook executing locally, skipping Colab setup ...\")\n"
   ]
  },
  {
   "cell_type": "markdown",
   "metadata": {},
   "source": [
    "# Bring Your Own Datatypes to TVM"
   ]
  },
  {
   "cell_type": "markdown",
   "metadata": {},
   "source": [
    "In this tutorial, we will show you how you can use your own custom datatypes in TVM."
   ]
  },
  {
   "cell_type": "markdown",
   "metadata": {},
   "source": [
    "## A Simple TVM Program\n",
    "We'll begin by writing a simple program in TVM; afterwards, we will re-write it to use custom datatypes."
   ]
  },
  {
   "cell_type": "code",
   "execution_count": null,
   "metadata": {},
   "outputs": [],
   "source": [
    "import tvm\n",
    "# TVM operator index, containing things like topi.add\n",
    "import topi\n",
    "\n",
    "# Our basic program: Z = X + Y\n",
    "X = tvm.placeholder((3, ))\n",
    "Y = tvm.placeholder((3, ))\n",
    "Z = topi.add(X, Y)"
   ]
  },
  {
   "cell_type": "markdown",
   "metadata": {},
   "source": [
    "Next, we compile for LLVM. The process of compiling in TVM is broken into scheduling, lowering, and finally, building:"
   ]
  },
  {
   "cell_type": "code",
   "execution_count": null,
   "metadata": {},
   "outputs": [],
   "source": [
    "target = \"llvm\"\n",
    "schedule = tvm.create_schedule([Z.op])\n",
    "lowered_func = tvm.lower(schedule, [X, Y, Z])\n",
    "built_program = tvm.build(lowered_func, target=target)\n",
    "\n",
    "# Print the lowered IR (simple mode makes it cleaner to read!)\n",
    "print(tvm.lower(schedule, [X, Y, Z], simple_mode=True))"
   ]
  },
  {
   "cell_type": "markdown",
   "metadata": {},
   "source": [
    "Now, we create random inputs to feed into this program using `numpy`."
   ]
  },
  {
   "cell_type": "code",
   "execution_count": null,
   "metadata": {},
   "outputs": [],
   "source": [
    "import numpy as np\n",
    "\n",
    "# Create a device context\n",
    "context = tvm.context(target, 0)\n",
    "\n",
    "# Create random input arrays on the above context\n",
    "x = tvm.nd.array(np.array([1.0, 1.0, 1.0]).astype(\"float32\"), ctx=context)\n",
    "y = tvm.nd.array(np.array([1.333, -0.75, 10.9]).astype(\"float32\"), ctx=context)\n",
    "print(\"x: {}\".format(x))\n",
    "print(\"y: {}\".format(y))\n"
   ]
  },
  {
   "cell_type": "markdown",
   "metadata": {},
   "source": [
    "This empty array will hold our output."
   ]
  },
  {
   "cell_type": "code",
   "execution_count": null,
   "metadata": {},
   "outputs": [],
   "source": [
    "z = tvm.nd.empty(Z.shape, dtype=Z.dtype, ctx=context)"
   ]
  },
  {
   "cell_type": "markdown",
   "metadata": {},
   "source": [
    "Finally, we're ready to run the program:"
   ]
  },
  {
   "cell_type": "code",
   "execution_count": null,
   "metadata": {},
   "outputs": [],
   "source": [
    "built_program(x, y, z)\n",
    "print(\"z: {}\".format(z))"
   ]
  },
  {
   "cell_type": "markdown",
   "metadata": {},
   "source": [
    "## Interlude: `bfloat16`\n",
    "\n",
    "Before we rewrite our program using custom datatypes, let's introduce the custom datatype we will use: the `bfloat16`. `bfloat16` is a very straightforward datatype; it is simply a 32-bit IEEE float chopped in half! Specifically, the 16 least-significant bits of the fraction are chopped off. The result is a format which\n",
    "- is straightforward to convert to and from 32-bit IEEE float\n",
    "- has the same dynamic range as a 32-bit IEEE float, but with less precision\n",
    "- takes up half the space!\n",
    "\n",
    "The `bfloat16` is built in to TensorFlow, and used natively on deep learning hardware (such as the TPU). Training deep learning models with the `bfloat16` often results in the same converged accuracy, [according to TensorFlow docs!](https://cloud.google.com/tpu/docs/bfloat16)\n",
    "\n",
    "TVM has a toy `bfloat16` library built-in for testing and demonstration purposes at [3rdparty/bfloat16/bfloat16.cc](https://github.com/dmlc/tvm/blob/master/3rdparty/bfloat16/bfloat16.cc). The `float->bfloat16` and `bfloat16->float` functions are taken from TensorFlow, while the other functions simply convert to `float` and use the native implementations of the functions they implement. Thus, it is not a true `bfloat16` implementation, but serves perfectly well for demonstration."
   ]
  },
  {
   "cell_type": "markdown",
   "metadata": {},
   "source": [
    "## Adding Custom Datatypes\n",
    "\n",
    "Now, we will do the same, but we will use a custom datatype for our intermediate computation.\n",
    "\n",
    "We use the same input placeholders `X` and `Y` as above, but before adding `X + Y`, we first cast both `X` and `Y` to a custom datatype via the `topi.cast(...)` call.\n",
    "\n",
    "Note how we specify the custom datatype: we indicate it using the special `custom[...]` syntax. Additionally, note the \"16\" after the datatype: this is the bitwidth of the custom datatype. This tells TVM that each instance of `bfloat` is 16 bits wide."
   ]
  },
  {
   "cell_type": "code",
   "execution_count": null,
   "metadata": {},
   "outputs": [],
   "source": [
    "try:\n",
    "    Z = topi.cast(\n",
    "        topi.cast(X, dtype=\"custom[bfloat]16\") +\n",
    "        topi.cast(Y, dtype=\"custom[bfloat]16\"),\n",
    "        dtype=\"float32\")\n",
    "except tvm.TVMError as e:\n",
    "    # Print last line of error\n",
    "    print(str(e).split('\\n')[-1])"
   ]
  },
  {
   "cell_type": "markdown",
   "metadata": {},
   "source": [
    "Trying to generate this program throws an error from TVM:\n",
    "`TVMError: Check failed: name_to_code_.find(type_name) != name_to_code_.end(): Type name bfloat not registered`.\n",
    "Unsurprisingly, TVM does not know how to handle any custom datatype out of the box. We first have to register the custom type with TVM, giving it a name and a type code:"
   ]
  },
  {
   "cell_type": "code",
   "execution_count": null,
   "metadata": {},
   "outputs": [],
   "source": [
    "tvm.datatype.register(\"bfloat\", 129)"
   ]
  },
  {
   "cell_type": "markdown",
   "metadata": {},
   "source": [
    "Note that the type code, 129, is currently chosen manually by the programmer. See `TVMTypeCode::kCustomBegin` in [include/tvm/runtime/c_runtime_api.h](https://github.com/dmlc/tvm/blob/master/include/tvm/runtime/c_runtime_api.h)."
   ]
  },
  {
   "cell_type": "markdown",
   "metadata": {},
   "source": [
    "Now we can generate our program again:"
   ]
  },
  {
   "cell_type": "code",
   "execution_count": null,
   "metadata": {},
   "outputs": [],
   "source": [
    "Z = topi.cast(\n",
    "    topi.cast(X, dtype=\"custom[bfloat]16\") +\n",
    "    topi.cast(Y, dtype=\"custom[bfloat]16\"),\n",
    "    dtype=\"float32\")"
   ]
  },
  {
   "cell_type": "markdown",
   "metadata": {},
   "source": [
    "Next, we again compile our program by scheduling, lowering, and building.\n",
    "\n",
    "Note that we currently have to manually lower custom datatypes via the `tvm.ir_pass.LowerCustomDatatypes(...)` call. This is simply because we have not incorporated the custom datatypes lowering pass into the primary TVM build passes. Once custom datatype lowering is incorporated into these passes, we will not need to do this manually."
   ]
  },
  {
   "cell_type": "code",
   "execution_count": null,
   "metadata": {},
   "outputs": [],
   "source": [
    "try:\n",
    "    schedule = tvm.create_schedule([Z.op])\n",
    "    lowered_func = tvm.lower(schedule, [X, Y, Z])\n",
    "    lowered_func = tvm.ir_pass.LowerCustomDatatypes(lowered_func, target)\n",
    "    built_program = tvm.build(lowered_func, target=target)\n",
    "except tvm.TVMError as e:\n",
    "    # Print last line of error\n",
    "    print(str(e).split('\\n')[-1])"
   ]
  },
  {
   "cell_type": "markdown",
   "metadata": {},
   "source": [
    "Now, trying to compile this program throws an error:\n",
    "`TVMError: Check failed: lower: Cast lowering function for target llvm destination type 129 source type 2 not found`.\n",
    "Let's dissect this error.\n",
    "\n",
    "The error is occurring during our `LowerCustomDatatypes(...)` call. TVM is telling us that it cannot find a _lowering function_ for the `Cast` operation, when casting from source type 2 (`float`, in TVM), to destination type 129 (our custom datatype). When lowering custom datatypes, if TVM encounters an operation over a custom datatype, it looks for a user-registered _lowering function_, which tells it how to lower the operation to an operation over datatypes it understands. We have not told TVM how to lower `Cast` operations for our custom datatypes; thus, the source of this error."
   ]
  },
  {
   "cell_type": "markdown",
   "metadata": {},
   "source": [
    "To fix this error, we simply need to specify a lowering function:"
   ]
  },
  {
   "cell_type": "code",
   "execution_count": null,
   "metadata": {},
   "outputs": [],
   "source": [
    "tvm.datatype.register_op(tvm.datatype.create_lower_func(\"FloatToBFloat16_wrapper\"),\n",
    "                         \"Cast\", target, \"bfloat\", \"float\")"
   ]
  },
  {
   "cell_type": "markdown",
   "metadata": {},
   "source": [
    "The `register_op(...)` call takes a lowering function, and a number of parameters which specify exactly the operation which should be lowered with the provided lowering function. In this case, the arguments we pass specify that this lowering function is for lowering a `Cast` from `float` to `bfloat` for target `\"llvm\"`.\n",
    "\n",
    "The lowering function passed into this call is very general: it should take an operation of the specified type (in this case, `Cast`) and return another operation which only uses datatypes which TVM understands.\n",
    "\n",
    "In the general case, we expect users to implement operations over their custom datatypes using calls to an external library. In our example, our `bfloat16` library (which, remember, is built into TVM) implements a `Cast` from `float` to `bfloat` in the function `FloatToBFloat16_wrapper`. To provide for the general case, we have made a helper function, `create_lower_func(...)`, which does just this: given a function name, it replaces the given operation with a `Call` to the function name provided. It additionally removes usages of the custom datatype by storing the custom datatype in an opaque `uint` of the appropriate width; in our case, a `uint16_t`."
   ]
  },
  {
   "cell_type": "markdown",
   "metadata": {},
   "source": [
    "We can now re-try our build:"
   ]
  },
  {
   "cell_type": "code",
   "execution_count": null,
   "metadata": {},
   "outputs": [],
   "source": [
    "try:\n",
    "    schedule = tvm.create_schedule([Z.op])\n",
    "    lowered_func = tvm.lower(schedule, [X, Y, Z])\n",
    "    lowered_func = tvm.ir_pass.LowerCustomDatatypes(lowered_func, target)\n",
    "    built_program = tvm.build(lowered_func, target=target)\n",
    "except tvm.TVMError as e:\n",
    "    # Print last line of error\n",
    "    print(str(e).split('\\n')[-1])"
   ]
  },
  {
   "cell_type": "markdown",
   "metadata": {},
   "source": [
    "This new error tells us that the `Add` lowering function is not found, which is good news, as it's no longer complaining about the `Cast`! We know what to do from here: we just need to register the lowering functions for the other operations in our program."
   ]
  },
  {
   "cell_type": "code",
   "execution_count": null,
   "metadata": {},
   "outputs": [],
   "source": [
    "tvm.datatype.register_op(tvm.datatype.create_lower_func(\"BFloat16ToFloat_wrapper\"),\n",
    "                         \"Cast\", target, \"float\", \"bfloat\")\n",
    "tvm.datatype.register_op(tvm.datatype.create_lower_func(\"BFloat16Add_wrapper\"),\n",
    "                         \"Add\", target, \"bfloat\")"
   ]
  },
  {
   "cell_type": "markdown",
   "metadata": {},
   "source": [
    "Now, we can build our program without errors."
   ]
  },
  {
   "cell_type": "code",
   "execution_count": null,
   "metadata": {},
   "outputs": [],
   "source": [
    "schedule = tvm.create_schedule([Z.op])\n",
    "lowered_func = tvm.lower(schedule, [X, Y, Z])\n",
    "lowered_func = tvm.ir_pass.LowerCustomDatatypes(lowered_func, target)\n",
    "built_program = tvm.build(lowered_func, target=target)\n",
    "\n",
    "print(lowered_func.body)"
   ]
  },
  {
   "cell_type": "markdown",
   "metadata": {},
   "source": [
    "You can see that the IR contains our program, and implements the program using calls to our library."
   ]
  },
  {
   "cell_type": "markdown",
   "metadata": {},
   "source": [
    "Finally, we'll run the resulting program."
   ]
  },
  {
   "cell_type": "code",
   "execution_count": null,
   "metadata": {},
   "outputs": [],
   "source": [
    "z_bfloat = tvm.nd.empty(Z.shape, dtype=Z.dtype, ctx=context)\n",
    "built_program(x, y, z_bfloat)\n",
    "print(\"z_bfloat: {}\".format(z_bfloat))"
   ]
  },
  {
   "cell_type": "markdown",
   "metadata": {},
   "source": [
    "**NOTE:** The external library functions implementing your datatype (e.g. `FloatToBFloat16_wrapper`, in our example) must be loaded into the process space and visible for lookup at runtime. In our example, this happens automatically, as the library is built into the TVM shared library object. However, in other cases, you can use `CDLL` to load your library in global mode:"
   ]
  },
  {
   "cell_type": "code",
   "execution_count": null,
   "metadata": {},
   "outputs": [],
   "source": [
    "# import ctypes\n",
    "# ctypes.CDLL(library_name, ctypes.RTLD_GLOBAL) "
   ]
  },
  {
   "cell_type": "markdown",
   "metadata": {},
   "source": [
    "We can now look at the results of the two programs side-by-side:"
   ]
  },
  {
   "cell_type": "code",
   "execution_count": null,
   "metadata": {},
   "outputs": [],
   "source": [
    "print(\"x:\\t\\t{}\".format(x))\n",
    "print(\"y:\\t\\t{}\".format(y))\n",
    "print(\"z:\\t\\t{}\".format(z))\n",
    "print(\"z_bfloat:\\t{}\".format(z_bfloat))"
   ]
  },
  {
   "cell_type": "markdown",
   "metadata": {},
   "source": [
    "Perhaps as expected, the `bfloat16` results are very close to the `float` results, but with some loss in precision!"
   ]
  },
  {
   "cell_type": "markdown",
   "metadata": {},
   "source": [
    "## Preview: Running Models With Custom Datatypes\n",
    "\n",
    "**Note:** All code previous to this point will work if you build TVM's `master` branch. This section of the notebook, however, uses code which is not yet merged into mainline TVM.\n",
    "\n",
    "In this final section of the notebook, we will demo additions to the Bring Your Own Datatypes framework which make it easy to run entire models using custom datatypes."
   ]
  },
  {
   "cell_type": "markdown",
   "metadata": {},
   "source": [
    "### Interlude 2: Posits\n",
    "\n",
    "[Posits](https://posithub.org/docs/Posits4.pdf) are a new numerical datatype developed by John Gustafson; see [posithub.org](https://posithub.org/) for a central repository of all information about posits. Posits encode real numbers in a familiar way, using a sign, exponent, and fraction field. However, posits also add an additional _regime_ field, which provide an additional scaling factor on the number. There are a number of interesting practical results of this. A few highlights are:\n",
    "- Posits have greater precision near ±1, and less precision at very large values \n",
    "- Posits represent more numbers around ±1, and less numbers at very large values\n",
    "\n",
    "Both of these features make posits very attractive for deep learning! [Deep Positron](https://arxiv.org/abs/1812.01762) is an example of posit research in the deep learning space, demonstrating promising results when using posits instead of floats."
   ]
  },
  {
   "cell_type": "markdown",
   "metadata": {},
   "source": [
    "### Converting Models to Custom Datatypes\n",
    "\n",
    "We will first choose the model which we would like to run with posits. In this case we use [Mobilenet](https://arxiv.org/abs/1704.04861). We choose Mobilenet due to its small size. In this alpha state of the Bring Your Own Datatypes framework, we have not implemented any software optimizations for running software emulations of custom datatypes; the result is poor performance due to many calls into our datatype emulation library.\n",
    "\n",
    "Relay has packaged up many models within its [python/tvm/relay/testing](https://github.com/dmlc/tvm/tree/master/python/tvm/relay/testing) directory. We will go ahead and grab Mobilenet:"
   ]
  },
  {
   "cell_type": "code",
   "execution_count": null,
   "metadata": {},
   "outputs": [],
   "source": [
    "from tvm.relay.testing.mobilenet import get_workload as get_mobilenet"
   ]
  }
 ],
 "metadata": {
  "kernelspec": {
   "display_name": "Python 3",
   "language": "python",
   "name": "python3"
  },
  "language_info": {
   "codemirror_mode": {
    "name": "ipython",
    "version": 3
   },
   "file_extension": ".py",
   "mimetype": "text/x-python",
   "name": "python",
   "nbconvert_exporter": "python",
   "pygments_lexer": "ipython3",
   "version": "3.6.7"
  }
 },
 "nbformat": 4,
 "nbformat_minor": 2
}
