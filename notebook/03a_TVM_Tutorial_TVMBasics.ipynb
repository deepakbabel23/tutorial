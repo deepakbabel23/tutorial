{
  "nbformat": 4,
  "nbformat_minor": 0,
  "metadata": {
    "colab": {
      "name": "03a_TVM_Tutorial_TVMBasics.ipynb",
      "version": "0.3.2",
      "provenance": [],
      "include_colab_link": true
    },
    "kernelspec": {
      "name": "python3",
      "display_name": "Python 3"
    },
    "accelerator": "GPU"
  },
  "cells": [
    {
      "cell_type": "markdown",
      "metadata": {
        "id": "view-in-github",
        "colab_type": "text"
      },
      "source": [
        "<a href=\"https://colab.research.google.com/github/uwsampl/tutorial/blob/master/notebook/03a_TVM_Tutorial_TVMBasics.ipynb\" target=\"_parent\"><img src=\"https://colab.research.google.com/assets/colab-badge.svg\" alt=\"Open In Colab\"/></a>"
      ]
    },
    {
      "cell_type": "markdown",
      "metadata": {
        "id": "E8T0-Z4MasbY",
        "colab_type": "text"
      },
      "source": [
        "TVM Basics\n",
        "=============================================\n",
        "**Author**:  `Eddie Yan <https://github.com/eqy>`_\n",
        "\n",
        "This tutorial introduces the basics of declaring and scheduling an operator (2D convolution) in TVM.\n",
        "\n"
      ]
    },
    {
      "cell_type": "markdown",
      "metadata": {
        "id": "9soFF1q_cV-y",
        "colab_type": "text"
      },
      "source": [
        "Please run the following block to ensure TVM is setup for *this notebook*, each notebook may have its own runtime.\n",
        "\n"
      ]
    },
    {
      "cell_type": "code",
      "metadata": {
        "id": "G_lzOGuFcUgG",
        "colab_type": "code",
        "colab": {
          "base_uri": "https://localhost:8080/",
          "height": 2893
        },
        "outputId": "2f329b6a-a40d-4b00-b303-f7cff414f26c"
      },
      "source": [
        "! gsutil cp \"gs://tvm-fcrc-binariesd5fce43e-8373-11e9-bfb6-0242ac1c0002/tvm.tar.gz\" /tmp/tvm.tar.gz\n",
        "! mkdir -p /tvm\n",
        "! tar -xf /tmp/tvm.tar.gz --strip-components=4 --directory /tvm\n",
        "! ls -la /tvm\n",
        "# Move this block after we are done with pkg step\n",
        "! bash /tvm/package.sh\n",
        "import sys\n",
        "sys.path.append('/tvm/python')\n",
        "sys.path.append('/tvm/topi/python')"
      ],
      "execution_count": 1,
      "outputs": [
        {
          "output_type": "stream",
          "text": [
            "Copying gs://tvm-fcrc-binariesd5fce43e-8373-11e9-bfb6-0242ac1c0002/tvm.tar.gz...\n",
            "| [1 files][119.6 MiB/119.6 MiB]                                                \n",
            "Operation completed over 1 objects/119.6 MiB.                                    \n",
            "total 164\n",
            "drwxr-xr-x 21 root root  4096 Jun 17 21:17 .\n",
            "drwxr-xr-x  1 root root  4096 Jun 17 21:17 ..\n",
            "drwx------  8 root root  4096 May 31 08:14 3rdparty\n",
            "drwx------ 12 root root  4096 Jun 17 19:41 apps\n",
            "drwx------  3 root root  4096 Jun 17 20:16 build\n",
            "drwx------  4 root root  4096 Jun 17 19:41 cmake\n",
            "-rw-------  1 root root 11053 Jun 17 19:41 CMakeLists.txt\n",
            "drwx------  6 root root  4096 Jun 17 19:41 conda\n",
            "-rw-------  1 root root  5736 Jun 17 19:41 CONTRIBUTORS.md\n",
            "drwx------  3 root root  4096 Jun 17 19:41 docker\n",
            "drwx------ 11 root root  4096 Jun 17 19:41 docs\n",
            "drwx------  4 root root  4096 Jun 17 19:41 golang\n",
            "drwx------  3 root root  4096 May 31 08:14 include\n",
            "-rw-------  1 root root 10607 Jun 17 19:41 Jenkinsfile\n",
            "drwx------  6 root root  4096 Jun 17 19:41 jvm\n",
            "-rw-------  1 root root 11357 Jun 17 19:41 LICENSE\n",
            "-rw-------  1 root root  4267 Jun 17 19:41 Makefile\n",
            "-rw-------  1 root root 10476 Jun 17 19:41 NEWS.md\n",
            "drwx------  9 root root  4096 Jun 17 19:41 nnvm\n",
            "-rw-------  1 root root    61 Jun 17 19:41 NOTICE\n",
            "-rwx------  1 root root   374 Jun 17 19:41 package.sh\n",
            "drwx------  3 root root  4096 Jun 17 19:41 python\n",
            "-rw-------  1 root root  2705 Jun 17 19:41 README.md\n",
            "drwx------  6 root root  4096 Jun 17 19:42 rust\n",
            "drwx------ 14 root root  4096 Jun 17 19:42 src\n",
            "drwx------  9 root root  4096 May 31 08:14 tests\n",
            "drwx------  7 root root  4096 Jun 17 19:42 topi\n",
            "drwx------  8 root root  4096 Jun 17 19:42 tutorials\n",
            "-rw-------  1 root root  2902 Jun 17 19:42 version.py\n",
            "drwx------ 10 root root  4096 Jun 17 19:42 vta\n",
            "drwx------  2 root root  4096 Jun 17 19:42 web\n",
            "Installing Dependencies ...\n",
            "deb https://dl.bintray.com/sbt/debian /\n",
            "Executing: /tmp/apt-key-gpghome.ZDrywqjdYg/gpg.1.sh --keyserver hkp://keyserver.ubuntu.com:80 --recv 2EE0EA64E40A89B84B2DF73499E82A75642AC823\n",
            "gpg: key 99E82A75642AC823: public key \"sbt build tool <scalasbt@gmail.com>\" imported\n",
            "gpg: Total number processed: 1\n",
            "gpg:               imported: 1\n",
            "Ign:1 https://developer.download.nvidia.com/compute/cuda/repos/ubuntu1804/x86_64  InRelease\n",
            "Ign:2 https://dl.bintray.com/sbt/debian  InRelease\n",
            "Get:3 https://dl.bintray.com/sbt/debian  Release [815 B]\n",
            "Hit:4 http://archive.ubuntu.com/ubuntu bionic InRelease\n",
            "Ign:5 https://developer.download.nvidia.com/compute/machine-learning/repos/ubuntu1804/x86_64  InRelease\n",
            "Hit:6 https://developer.download.nvidia.com/compute/cuda/repos/ubuntu1804/x86_64  Release\n",
            "Hit:7 https://developer.download.nvidia.com/compute/machine-learning/repos/ubuntu1804/x86_64  Release\n",
            "Get:8 https://dl.bintray.com/sbt/debian  Release.gpg [821 B]\n",
            "Get:9 http://security.ubuntu.com/ubuntu bionic-security InRelease [88.7 kB]\n",
            "Get:10 http://archive.ubuntu.com/ubuntu bionic-updates InRelease [88.7 kB]\n",
            "Get:11 http://ppa.launchpad.net/graphics-drivers/ppa/ubuntu bionic InRelease [21.3 kB]\n",
            "Get:14 https://cloud.r-project.org/bin/linux/ubuntu bionic-cran35/ InRelease [3,626 B]\n",
            "Get:15 https://dl.bintray.com/sbt/debian  Packages [3,424 B]\n",
            "Get:16 https://cloud.r-project.org/bin/linux/ubuntu bionic-cran35/ Packages [58.0 kB]\n",
            "Get:17 http://ppa.launchpad.net/marutter/c2d4u3.5/ubuntu bionic InRelease [15.4 kB]\n",
            "Get:18 http://archive.ubuntu.com/ubuntu bionic-backports InRelease [74.6 kB]\n",
            "Get:19 http://archive.ubuntu.com/ubuntu bionic-updates/main amd64 Packages [854 kB]\n",
            "Get:20 http://security.ubuntu.com/ubuntu bionic-security/main amd64 Packages [535 kB]\n",
            "Get:21 http://ppa.launchpad.net/graphics-drivers/ppa/ubuntu bionic/main amd64 Packages [33.0 kB]\n",
            "Get:22 http://archive.ubuntu.com/ubuntu bionic-updates/universe amd64 Packages [1,220 kB]\n",
            "Get:23 http://archive.ubuntu.com/ubuntu bionic-updates/multiverse amd64 Packages [7,239 B]\n",
            "Get:24 http://archive.ubuntu.com/ubuntu bionic-backports/universe amd64 Packages [3,918 B]\n",
            "Get:25 http://ppa.launchpad.net/marutter/c2d4u3.5/ubuntu bionic/main Sources [1,647 kB]\n",
            "Get:26 http://security.ubuntu.com/ubuntu bionic-security/universe amd64 Packages [717 kB]\n",
            "Get:27 http://security.ubuntu.com/ubuntu bionic-security/multiverse amd64 Packages [4,169 B]\n",
            "Get:28 http://ppa.launchpad.net/marutter/c2d4u3.5/ubuntu bionic/main amd64 Packages [791 kB]\n",
            "Fetched 6,169 kB in 6s (995 kB/s)\n",
            "Reading package lists... Done\n",
            "Reading package lists...\n",
            "Building dependency tree...\n",
            "Reading state information...\n",
            "zlib1g-dev is already the newest version (1:1.2.11.dfsg-0ubuntu2).\n",
            "zlib1g-dev set to manually installed.\n",
            "clinfo is already the newest version (2.2.18.03.26-1).\n",
            "libtinfo-dev is already the newest version (6.1-1ubuntu1.18.04).\n",
            "libtinfo-dev set to manually installed.\n",
            "The following package was automatically installed and is no longer required:\n",
            "  libnvidia-common-410\n",
            "Use 'sudo apt autoremove' to remove it.\n",
            "Suggested packages:\n",
            "  llvm-6.0-doc\n",
            "The following NEW packages will be installed:\n",
            "  binfmt-support libffi-dev llvm-6.0 llvm-6.0-dev llvm-6.0-runtime tree\n",
            "0 upgraded, 6 newly installed, 0 to remove and 121 not upgraded.\n",
            "Need to get 28.3 MB of archives.\n",
            "After this operation, 178 MB of additional disk space will be used.\n",
            "Get:1 http://archive.ubuntu.com/ubuntu bionic/main amd64 binfmt-support amd64 2.1.8-2 [51.6 kB]\n",
            "Get:2 http://archive.ubuntu.com/ubuntu bionic/main amd64 llvm-6.0-runtime amd64 1:6.0-1ubuntu2 [200 kB]\n",
            "Get:3 http://archive.ubuntu.com/ubuntu bionic/main amd64 llvm-6.0 amd64 1:6.0-1ubuntu2 [4,838 kB]\n",
            "Get:4 http://archive.ubuntu.com/ubuntu bionic/main amd64 libffi-dev amd64 3.2.1-8 [156 kB]\n",
            "Get:5 http://archive.ubuntu.com/ubuntu bionic/main amd64 llvm-6.0-dev amd64 1:6.0-1ubuntu2 [23.0 MB]\n",
            "Get:6 http://archive.ubuntu.com/ubuntu bionic/universe amd64 tree amd64 1.7.0-5 [40.7 kB]\n",
            "Fetched 28.3 MB in 3s (8,744 kB/s)\n",
            "debconf: unable to initialize frontend: Dialog\n",
            "debconf: (No usable dialog-like program is installed, so the dialog based frontend cannot be used. at /usr/share/perl5/Debconf/FrontEnd/Dialog.pm line 76, <> line 6.)\n",
            "debconf: falling back to frontend: Readline\n",
            "debconf: unable to initialize frontend: Readline\n",
            "debconf: (This frontend requires a controlling tty.)\n",
            "debconf: falling back to frontend: Teletype\n",
            "dpkg-preconfigure: unable to re-open stdin: \n",
            "Selecting previously unselected package binfmt-support.\n",
            "(Reading database ... 130912 files and directories currently installed.)\n",
            "Preparing to unpack .../0-binfmt-support_2.1.8-2_amd64.deb ...\n",
            "Unpacking binfmt-support (2.1.8-2) ...\n",
            "Selecting previously unselected package llvm-6.0-runtime.\n",
            "Preparing to unpack .../1-llvm-6.0-runtime_1%3a6.0-1ubuntu2_amd64.deb ...\n",
            "Unpacking llvm-6.0-runtime (1:6.0-1ubuntu2) ...\n",
            "Selecting previously unselected package llvm-6.0.\n",
            "Preparing to unpack .../2-llvm-6.0_1%3a6.0-1ubuntu2_amd64.deb ...\n",
            "Unpacking llvm-6.0 (1:6.0-1ubuntu2) ...\n",
            "Selecting previously unselected package libffi-dev:amd64.\n",
            "Preparing to unpack .../3-libffi-dev_3.2.1-8_amd64.deb ...\n",
            "Unpacking libffi-dev:amd64 (3.2.1-8) ...\n",
            "Selecting previously unselected package llvm-6.0-dev.\n",
            "Preparing to unpack .../4-llvm-6.0-dev_1%3a6.0-1ubuntu2_amd64.deb ...\n",
            "Unpacking llvm-6.0-dev (1:6.0-1ubuntu2) ...\n",
            "Selecting previously unselected package tree.\n",
            "Preparing to unpack .../5-tree_1.7.0-5_amd64.deb ...\n",
            "Unpacking tree (1.7.0-5) ...\n",
            "Setting up binfmt-support (2.1.8-2) ...\n",
            "Created symlink /etc/systemd/system/multi-user.target.wants/binfmt-support.service → /lib/systemd/system/binfmt-support.service.\n",
            "invoke-rc.d: could not determine current runlevel\n",
            "invoke-rc.d: policy-rc.d denied execution of start.\n",
            "Setting up tree (1.7.0-5) ...\n",
            "Setting up libffi-dev:amd64 (3.2.1-8) ...\n",
            "Setting up llvm-6.0-runtime (1:6.0-1ubuntu2) ...\n",
            "Processing triggers for libc-bin (2.27-3ubuntu1) ...\n",
            "Setting up llvm-6.0 (1:6.0-1ubuntu2) ...\n",
            "Processing triggers for systemd (237-3ubuntu10.21) ...\n",
            "Processing triggers for man-db (2.8.3-2ubuntu0.1) ...\n",
            "Setting up llvm-6.0-dev (1:6.0-1ubuntu2) ...\n",
            "Processing triggers for libc-bin (2.27-3ubuntu1) ...\n",
            "Reading package lists... Done\n",
            "Building dependency tree       \n",
            "Reading state information... Done\n",
            "The following package was automatically installed and is no longer required:\n",
            "  libnvidia-common-410\n",
            "Use 'sudo apt autoremove' to remove it.\n",
            "Suggested packages:\n",
            "  gtkwave systemc\n",
            "The following NEW packages will be installed:\n",
            "  sbt verilator\n",
            "0 upgraded, 2 newly installed, 0 to remove and 121 not upgraded.\n",
            "Need to get 4,005 kB of archives.\n",
            "After this operation, 14.4 MB of additional disk space will be used.\n",
            "Get:1 http://archive.ubuntu.com/ubuntu bionic/universe amd64 verilator amd64 3.916-1build1 [2,878 kB]\n",
            "Get:2 https://dl.bintray.com/sbt/debian  sbt 1.2.8 [1,126 kB]\n",
            "Fetched 4,005 kB in 2s (2,531 kB/s)\n",
            "debconf: unable to initialize frontend: Dialog\n",
            "debconf: (No usable dialog-like program is installed, so the dialog based frontend cannot be used. at /usr/share/perl5/Debconf/FrontEnd/Dialog.pm line 76, <> line 2.)\n",
            "debconf: falling back to frontend: Readline\n",
            "debconf: unable to initialize frontend: Readline\n",
            "debconf: (This frontend requires a controlling tty.)\n",
            "debconf: falling back to frontend: Teletype\n",
            "dpkg-preconfigure: unable to re-open stdin: \n",
            "Selecting previously unselected package sbt.\n",
            "(Reading database ... 132553 files and directories currently installed.)\n",
            "Preparing to unpack .../apt/archives/sbt_1.2.8_all.deb ...\n",
            "Unpacking sbt (1.2.8) ...\n",
            "Selecting previously unselected package verilator.\n",
            "Preparing to unpack .../verilator_3.916-1build1_amd64.deb ...\n",
            "Unpacking verilator (3.916-1build1) ...\n",
            "Processing triggers for man-db (2.8.3-2ubuntu0.1) ...\n",
            "Setting up verilator (3.916-1build1) ...\n",
            "Setting up sbt (1.2.8) ...\n",
            "Creating system group: sbt\n",
            "Creating system user: sbt in sbt with sbt daemon-user and shell /bin/false\n"
          ],
          "name": "stdout"
        }
      ]
    },
    {
      "cell_type": "markdown",
      "metadata": {
        "id": "agr421w8a49k",
        "colab_type": "text"
      },
      "source": [
        "Import packages:"
      ]
    },
    {
      "cell_type": "code",
      "metadata": {
        "id": "C9JnukA4aTLJ",
        "colab_type": "code",
        "colab": {}
      },
      "source": [
        "import numpy as np\n",
        "import tvm\n",
        "import matplotlib as mpl\n",
        "from matplotlib import pyplot as plt"
      ],
      "execution_count": 0,
      "outputs": []
    },
    {
      "cell_type": "markdown",
      "metadata": {
        "id": "u5YlgPYma_5r",
        "colab_type": "text"
      },
      "source": [
        "Define the convolution shape\n",
        "---------------------------------------------------------------------------------------------\n",
        "\n",
        "We will implement a convolution operator similar to those found in networks like ResNet-18.\n",
        "We begin by defining the shape for the specific convolution we will implement:\n"
      ]
    },
    {
      "cell_type": "code",
      "metadata": {
        "id": "DhtW-j3bbMLI",
        "colab_type": "code",
        "colab": {}
      },
      "source": [
        "input_channels = 64\n",
        "output_channels = 64\n",
        "kernel_size = 3\n",
        "input_height = 56\n",
        "input_width = 56\n",
        "padding = (1,1)\n",
        "\n",
        "output_height = (input_height + 2*padding[0] - kernel_size + 1)\n",
        "output_width = (input_width + 2*padding[1] - kernel_size + 1)\n",
        "\n",
        "# We define the input in H, W, C (height, width, channels) layout\n",
        "input_shape = (input_height+2*padding[0], input_width+2*padding[1], input_channels)\n",
        "# We define the kernel weights in H, W, I, O (kernel height, kernel width, input\n",
        "# channel, output channel) layout\n",
        "weight_shape = (kernel_size, kernel_size, input_channels, output_channels)\n",
        "# Wed define the output in H, W, C (height, width, channels) layout\n",
        "output_shape = (output_height, output_width, output_channels)"
      ],
      "execution_count": 0,
      "outputs": []
    },
    {
      "cell_type": "markdown",
      "metadata": {
        "id": "PYacZkkNd_xG",
        "colab_type": "text"
      },
      "source": [
        "Define the convolution\n",
        "---------------------------------------------------------------------------------------------\n",
        "\n",
        "To define the convolution operator, we first declare placeholders using the shape dimensions we just defined. We then define the reduction axes for the summation that occurs for each output position of the convolution. There are three reduction axes in this case: the vertical spatial axis, the horizontal spatial axis, and the channel axis.\n",
        "\n"
      ]
    },
    {
      "cell_type": "code",
      "metadata": {
        "id": "afD69lgUd-QG",
        "colab_type": "code",
        "colab": {}
      },
      "source": [
        "input_placeholder = tvm.placeholder(input_shape, name='data')\n",
        "weight_placeholder = tvm.placeholder(weight_shape, name='weight')\n",
        "rc = tvm.reduce_axis((0, input_channels), name='rc')\n",
        "ry = tvm.reduce_axis((0, kernel_size), name='ry')\n",
        "rx = tvm.reduce_axis((0, kernel_size), name='rx')\n",
        "comp = tvm.compute((output_height, output_width, output_channels),\n",
        "    lambda output_y, output_x, output_channel:\n",
        "    tvm.sum(input_placeholder[output_y + ry][output_x + rx][rc]\n",
        "    * weight_placeholder[ry][rx][rc][output_channel],\n",
        "        axis=[ry, rx, rc])\n",
        "    )"
      ],
      "execution_count": 0,
      "outputs": []
    },
    {
      "cell_type": "markdown",
      "metadata": {
        "id": "iDGX2K6MeWH6",
        "colab_type": "text"
      },
      "source": [
        "Generate the Default Schedule\n",
        "---------------------------------------------------------------------------------------------\n",
        "\n",
        "After declaring the convolution we can use TVM to generate a default schedule for the convolution. The default schedule is the generic multi-level loop nest implementation without any optimizations applied. Crucially, we will see that the schedule can be manipulated programmatically.\n",
        "\n"
      ]
    },
    {
      "cell_type": "code",
      "metadata": {
        "id": "yLaKLAH7eWRH",
        "colab_type": "code",
        "colab": {
          "base_uri": "https://localhost:8080/",
          "height": 346
        },
        "outputId": "dac9c438-0ea5-4231-8134-382dcb8ea1d9"
      },
      "source": [
        "s = tvm.create_schedule(comp.op)\n",
        "# print the loop nest (default schedule)\n",
        "print(tvm.lower(s, [input_placeholder, weight_placeholder, comp], simple_mode=True))"
      ],
      "execution_count": 5,
      "outputs": [
        {
          "output_type": "stream",
          "text": [
            "produce compute {\n",
            "  for (output_y, 0, 56) {\n",
            "    for (output_x, 0, 56) {\n",
            "      for (output_channel, 0, 64) {\n",
            "        compute[((((output_y*56) + output_x)*64) + output_channel)] = 0.000000f\n",
            "        for (ry, 0, 3) {\n",
            "          for (rx, 0, 3) {\n",
            "            for (rc, 0, 64) {\n",
            "              compute[((((output_y*56) + output_x)*64) + output_channel)] = (compute[((((output_y*56) + output_x)*64) + output_channel)] + (data[((((((output_y + ry)*58) + output_x) + rx)*64) + rc)]*weight[((((((ry*3) + rx)*64) + rc)*64) + output_channel)]))\n",
            "            }\n",
            "          }\n",
            "        }\n",
            "      }\n",
            "    }\n",
            "  }\n",
            "}\n",
            "\n"
          ],
          "name": "stdout"
        }
      ]
    },
    {
      "cell_type": "markdown",
      "metadata": {
        "id": "Ioy8jp7qRBGW",
        "colab_type": "text"
      },
      "source": [
        "We also evaluate the performance of the default schedule."
      ]
    },
    {
      "cell_type": "code",
      "metadata": {
        "id": "GaR-j8XRRGGa",
        "colab_type": "code",
        "colab": {
          "base_uri": "https://localhost:8080/",
          "height": 34
        },
        "outputId": "2b45d519-d8e4-40a5-d35c-e875aeee01af"
      },
      "source": [
        "# compile the function\n",
        "default_func = tvm.build(s, [input_placeholder, weight_placeholder, comp], target='llvm -mcpu=core-avx2', name='conv')\n",
        "# create a time evaluator instance for measuring the run time\n",
        "timer = default_func.time_evaluator(default_func.entry_name, tvm.cpu(0), min_repeat_ms=100)\n",
        "\n",
        "# data arrays for inputs and outputs to the function\n",
        "data = np.random.random(input_shape).astype('float32')\n",
        "weight = np.random.random(weight_shape).astype('float32')\n",
        "data_tvm = tvm.nd.array(data)\n",
        "weight_tvm = tvm.nd.array(weight)\n",
        "output_tvm = tvm.nd.array(np.empty(output_shape).astype('float32'))\n",
        "# time the execution of the function\n",
        "res_default = timer(data_tvm, weight_tvm, output_tvm)\n",
        "print(\"Conv2D with default schedule finished in:\", res_default.mean, \"seconds\")"
      ],
      "execution_count": 6,
      "outputs": [
        {
          "output_type": "stream",
          "text": [
            "Conv2D with default schedule finished in: 0.1485963415 seconds\n"
          ],
          "name": "stdout"
        }
      ]
    },
    {
      "cell_type": "markdown",
      "metadata": {
        "id": "RH6gor8XjvXM",
        "colab_type": "text"
      },
      "source": [
        "Scheduling the Convolution\n",
        "---------------------------------------------------------------------------------------------\n",
        "\n",
        "Next, we apply some scheduling primitives to the convolution.\n",
        "A useful transformation for many operators is to reorder the loop axes for better locality.\n",
        "Here, we can grab references to the spatial and reduction axes of the computation and reorder them.\n",
        "\n"
      ]
    },
    {
      "cell_type": "code",
      "metadata": {
        "id": "_yIhMYiQjvhQ",
        "colab_type": "code",
        "colab": {
          "base_uri": "https://localhost:8080/",
          "height": 465
        },
        "outputId": "a16cc900-bd50-43dc-b88d-8bf7106d8569"
      },
      "source": [
        "yo, xo, co = comp.op.axis\n",
        "ry, rx, rc = s[comp].op.reduce_axis\n",
        "s[comp].reorder(rx, ry, yo, xo, rc, co)\n",
        "\n",
        "# print the loop nest (reordered schedule)\n",
        "print(tvm.lower(s, [input_placeholder, weight_placeholder, comp], simple_mode=True))\n",
        "\n",
        "reordered_func = tvm.build(s, [input_placeholder, weight_placeholder, comp], target='llvm -mcpu=core-avx2', name='conv')\n",
        "timer = reordered_func.time_evaluator(reordered_func.entry_name, tvm.cpu(0), min_repeat_ms=100)\n",
        "res_reorder = timer(data_tvm, weight_tvm, output_tvm)\n",
        "print(\"Conv2D with reordered schedule finished in:\", res_reorder.mean, \"seconds\")"
      ],
      "execution_count": 7,
      "outputs": [
        {
          "output_type": "stream",
          "text": [
            "produce compute {\n",
            "  for (output_y.init, 0, 56) {\n",
            "    for (output_x.init, 0, 56) {\n",
            "      for (output_channel.init, 0, 64) {\n",
            "        compute[((((output_y.init*56) + output_x.init)*64) + output_channel.init)] = 0.000000f\n",
            "      }\n",
            "    }\n",
            "  }\n",
            "  for (rx, 0, 3) {\n",
            "    for (ry, 0, 3) {\n",
            "      for (output_y, 0, 56) {\n",
            "        for (output_x, 0, 56) {\n",
            "          for (rc, 0, 64) {\n",
            "            for (output_channel, 0, 64) {\n",
            "              compute[((((output_y*56) + output_x)*64) + output_channel)] = (compute[((((output_y*56) + output_x)*64) + output_channel)] + (data[((((((output_y + ry)*58) + output_x) + rx)*64) + rc)]*weight[((((((ry*3) + rx)*64) + rc)*64) + output_channel)]))\n",
            "            }\n",
            "          }\n",
            "        }\n",
            "      }\n",
            "    }\n",
            "  }\n",
            "}\n",
            "\n",
            "Conv2D with reordered schedule finished in: 0.003521764724137931 seconds\n"
          ],
          "name": "stdout"
        }
      ]
    },
    {
      "cell_type": "markdown",
      "metadata": {
        "id": "QSicMUUukiu2",
        "colab_type": "text"
      },
      "source": [
        "More schedule transformations\n",
        "---------------------------------------------------\n",
        "Next, we can vectorize a loop with the `vectorize` schedule primitive."
      ]
    },
    {
      "cell_type": "code",
      "metadata": {
        "id": "VT992Qu6ki6n",
        "colab_type": "code",
        "colab": {
          "base_uri": "https://localhost:8080/",
          "height": 397
        },
        "outputId": "5b7d242e-4e0a-4ab0-c7f4-3077795c1892"
      },
      "source": [
        "# print the loop nest (parallelized and reordered schedule)\n",
        "s[comp].vectorize(co)\n",
        "print(tvm.lower(s, [input_placeholder, weight_placeholder, comp], simple_mode=True))\n",
        "\n",
        "\n",
        "reordered_parallel_func = tvm.build(s, [input_placeholder, weight_placeholder, comp], target='llvm -mcpu=core-avx2', name='conv')\n",
        "timer = reordered_parallel_func.time_evaluator(reordered_parallel_func.entry_name, tvm.cpu(0), min_repeat_ms=100)\n",
        "res_vectorize = timer(data_tvm, weight_tvm, output_tvm)\n",
        "print(\"Conv2D with reordered and vectorized schedule finished in:\", res_vectorize.mean, \"seconds\")"
      ],
      "execution_count": 8,
      "outputs": [
        {
          "output_type": "stream",
          "text": [
            "produce compute {\n",
            "  for (output_y.init, 0, 56) {\n",
            "    for (output_x.init, 0, 56) {\n",
            "      compute[ramp((((output_y.init*56) + output_x.init)*64), 1, 64)] = x64(0.000000f)\n",
            "    }\n",
            "  }\n",
            "  for (rx, 0, 3) {\n",
            "    for (ry, 0, 3) {\n",
            "      for (output_y, 0, 56) {\n",
            "        for (output_x, 0, 56) {\n",
            "          for (rc, 0, 64) {\n",
            "            compute[ramp((((output_y*56) + output_x)*64), 1, 64)] = (compute[ramp((((output_y*56) + output_x)*64), 1, 64)] + (x64(data[((((((output_y + ry)*58) + output_x) + rx)*64) + rc)])*weight[ramp((((((ry*3) + rx)*64) + rc)*64), 1, 64)]))\n",
            "          }\n",
            "        }\n",
            "      }\n",
            "    }\n",
            "  }\n",
            "}\n",
            "\n",
            "Conv2D with reordered and vectorized schedule finished in: 0.002902881971428571 seconds\n"
          ],
          "name": "stdout"
        }
      ]
    },
    {
      "cell_type": "markdown",
      "metadata": {
        "id": "7EE2xVI-U8WY",
        "colab_type": "text"
      },
      "source": [
        "Conclusion\n",
        "--------------\n",
        "We showed how to declare and introduced the concept of scheduling in TVM. Scheduling is a very complex process with many co-dependent steps. Effective schedules often require several manipulations which in isolation may not improve performance."
      ]
    },
    {
      "cell_type": "code",
      "metadata": {
        "id": "qlS0EilTXp7o",
        "colab_type": "code",
        "colab": {
          "base_uri": "https://localhost:8080/",
          "height": 300
        },
        "outputId": "3f0cb43c-678b-44fa-8245-347d0cab9b1d"
      },
      "source": [
        "#performance summary\n",
        "res = [res_default.mean, res_reorder.mean, res_vectorize.mean]\n",
        "y_pos = np.arange(len(res))\n",
        "plt.xlabel('runtime (s)')\n",
        "labels = ['default', '+reorder', '+reorder,vectorize']\n",
        "\n",
        "plt.barh(y_pos, res)\n",
        "plt.yticks(y_pos, labels)\n"
      ],
      "execution_count": 13,
      "outputs": [
        {
          "output_type": "execute_result",
          "data": {
            "text/plain": [
              "Text(0.5, 0, 'runtime (s)')"
            ]
          },
          "metadata": {
            "tags": []
          },
          "execution_count": 13
        },
        {
          "output_type": "display_data",
          "data": {
            "image/png": "[encoded data removed]",
            "text/plain": [
              "<Figure size 432x288 with 1 Axes>"
            ]
          },
          "metadata": {
            "tags": []
          }
        }
      ]
    }
  ]
}
