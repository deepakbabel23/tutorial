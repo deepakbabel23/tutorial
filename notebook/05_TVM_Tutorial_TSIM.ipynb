{
  "nbformat": 4,
  "nbformat_minor": 0,
  "metadata": {
    "colab": {
      "name": "tsim.ipynb",
      "version": "0.3.2",
      "provenance": [],
      "collapsed_sections": [],
      "toc_visible": true,
      "include_colab_link": true
    },
    "kernelspec": {
      "name": "python3",
      "display_name": "Python 3"
    }
  },
  "cells": [
    {
      "cell_type": "markdown",
      "metadata": {
        "id": "view-in-github",
        "colab_type": "text"
      },
      "source": [
        "<a href=\"https://colab.research.google.com/github/uwsampl/tutorial/blob/master/notebook/05_TVM_Tutorial_TSIM.ipynb\" target=\"_parent\"><img src=\"https://colab.research.google.com/assets/colab-badge.svg\" alt=\"Open In Colab\"/></a>"
      ]
    },
    {
      "cell_type": "markdown",
      "metadata": {
        "id": "OH2iSBsvWKuy",
        "colab_type": "text"
      },
      "source": [
        "# TSIM: Cycle Accurate Simulation for Custom HW in TVM\n",
        "\n",
        "TSIM uses [Verilator](https://www.veripool.org/wiki/verilator) to integrate accelerators, including VTA, into TVM and provides flexibility in the hardware language used to implement them.\n",
        "For example, one could use OpenCL, C/C++ or Chisel3 to describe a VTA design that would eventually be compiled down to Verilog, since it is the standard input language for FPGA/ASIC tools.\n",
        "Additionally, Verilator supports the Direct Programming Interface (DPI), which is part of the Verilog standard and provides a mechanism to support foreign programming languages.\n",
        "\n",
        "We leveraged these features available in Verilator and created DPI modules that provide interfaces to hardware and software. The following figure describes at higher level what TSIM can do.\n",
        "\n",
        "<img src=\"https://raw.githubusercontent.com/vegaluisjose/fcrc-images/master/overview.png\" width=\"640\">\n",
        "\n",
        "## TSIM hardware interface\n",
        "\n",
        "Normally, a hardware accelerator interface can be simplified in two main components, one for control and another for data. The control interface is driven by a host CPU, whereas the data interface is connected to either external memories (DRAM) or internal memories in the form of scratchpads or caches. Currently, we support a shared-memory model between the host and accelerator. This implies that the host is in charge of passing values and addresses or pointers, including data and code if needed, to the accelerator.\n",
        "\n",
        "\n",
        "There are two hardware modules written in Verilog implementing these two interfaces called `VTAHostDPI.v` and `VTAMemDPI.v`. Accelerators implemented in Verilog can use these modules directly. However, we also provide Chisel3 wrappers `BlackBox` for accelerators described in this language.\n",
        "\n",
        "The following block diagram shows how to wire-up an accelerator to the host and memory interface.\n",
        "\n",
        "<img src=\"https://raw.githubusercontent.com/vegaluisjose/fcrc-images/master/hwapi.png\" width=\"640\">\n",
        "\n",
        "## TSIM software interface\n",
        "\n",
        "The software DPI module allows users to write drivers to handle the accelerator. For example, some accelerators may need to know memory addresses before issuing data or code requests to memory. This module provides this support via functions that write and read register in the accelerator such as:\n",
        "```c\n",
        "\n",
        "// Read an accelerator register\n",
        "uint32_t ReadReg(int addr);\n",
        "\n",
        "// Write an accelerator register\n",
        "void WriteReg(int addr, uint32_t value);\n",
        "```\n",
        "\n",
        "In addition to accessing registers, users can manage the hardware simulation thread with launch and finish functions.\n",
        "\n",
        "```c\n",
        "// Launch hardware simulation until accelerator finishes or reach max_cycles\n",
        "void Launch(uint64_t max_cycles);\n",
        "\n",
        "// Finish hardware simulation\n",
        "void Finish();\n",
        "```"
      ]
    },
    {
      "cell_type": "markdown",
      "metadata": {
        "id": "1lk73yOB9u8-",
        "colab_type": "text"
      },
      "source": [
        "# Setup"
      ]
    },
    {
      "cell_type": "markdown",
      "metadata": {
        "id": "qp-KxyNpv-iS",
        "colab_type": "text"
      },
      "source": [
        "## Get TVM"
      ]
    },
    {
      "cell_type": "code",
      "metadata": {
        "id": "s8etCk-x7mlG",
        "colab_type": "code",
        "colab": {}
      },
      "source": [
        "try:\n",
        "  import google.colab\n",
        "  IN_COLAB = True\n",
        "except:\n",
        "  IN_COLAB = False\n",
        "\n",
        "if IN_COLAB:\n",
        "    ! gsutil cp \"gs://tvm-fcrc-binariesd5fce43e-8373-11e9-bfb6-0242ac1c0002/tvm.tar.gz\" /tmp/tvm.tar.gz\n",
        "    ! mkdir -p /tvm\n",
        "    ! tar -xf /tmp/tvm.tar.gz --strip-components=4 --directory /tvm\n",
        "    ! ls -la /tvm\n",
        "    ! bash /tvm/package.sh\n",
        "    # Add TVM to the Python path.\n",
        "    import sys\n",
        "    sys.path.append('/tvm/python')\n",
        "    sys.path.append('/tvm/topi/python')\n",
        "    sys.path.append('/tvm/nnvm/python')\n",
        "    sys.path.append('/tvm/vta/python')\n",
        "else:\n",
        "    print(\"Notebook executing locally, skipping Colab setup ...\")"
      ],
      "execution_count": 0,
      "outputs": []
    },
    {
      "cell_type": "markdown",
      "metadata": {
        "id": "AatLeNA290fc",
        "colab_type": "text"
      },
      "source": [
        "# Vanilla accelerator\n",
        "\n",
        "We built a vanilla accelerator to showcase how TSIM works in TVM. The vanilla accelerator is implemented in two hardware backends, including Verilog and Chisel3, to demonstrate the flexibility of this infrastructure and help users understand how to add accelerators written in Verilog and \"hardware languages\" that can generate Verilog. \n",
        "\n",
        "The accelerator performs the operation **A = B + C**, where **A** and **B** are 1-D tensors and **C** just a constant. The following figure shows the hardware architecture.\n",
        "\n",
        "<img src=\"https://raw.githubusercontent.com/vegaluisjose/fcrc-images/master/accel.png\" width=\"320\">"
      ]
    },
    {
      "cell_type": "markdown",
      "metadata": {
        "id": "fEODcTJPNuwf",
        "colab_type": "text"
      },
      "source": [
        "## Verilog backend"
      ]
    },
    {
      "cell_type": "markdown",
      "metadata": {
        "id": "E19tjgUkaadY",
        "colab_type": "text"
      },
      "source": [
        "### Source files"
      ]
    },
    {
      "cell_type": "code",
      "metadata": {
        "id": "DorxT0OpbNLZ",
        "colab_type": "code",
        "colab": {}
      },
      "source": [
        "%%bash\n",
        "tree -C /tvm/vta/apps/tsim_example/hardware/verilog"
      ],
      "execution_count": 0,
      "outputs": []
    },
    {
      "cell_type": "markdown",
      "metadata": {
        "id": "KMqRb-psaeHf",
        "colab_type": "text"
      },
      "source": [
        "### How to build"
      ]
    },
    {
      "cell_type": "code",
      "metadata": {
        "id": "z-HdlAPObgQW",
        "colab_type": "code",
        "colab": {}
      },
      "source": [
        "%%bash\n",
        "cd /tvm/vta/apps/tsim_example/hardware/verilog\n",
        "make 2> /dev/null"
      ],
      "execution_count": 0,
      "outputs": []
    },
    {
      "cell_type": "markdown",
      "metadata": {
        "id": "U2f-4bS_anKl",
        "colab_type": "text"
      },
      "source": [
        "## Chisel3 backend"
      ]
    },
    {
      "cell_type": "markdown",
      "metadata": {
        "id": "B4yPwse4apGO",
        "colab_type": "text"
      },
      "source": [
        "### Source files"
      ]
    },
    {
      "cell_type": "code",
      "metadata": {
        "id": "79v7pEeNbYPp",
        "colab_type": "code",
        "colab": {}
      },
      "source": [
        "%%bash\n",
        "tree -C /tvm/vta/apps/tsim_example/hardware/chisel/src"
      ],
      "execution_count": 0,
      "outputs": []
    },
    {
      "cell_type": "markdown",
      "metadata": {
        "id": "ubsiaH9iaqfF",
        "colab_type": "text"
      },
      "source": [
        "### How to build"
      ]
    },
    {
      "cell_type": "code",
      "metadata": {
        "id": "b4uMRE07Z2-9",
        "colab_type": "code",
        "colab": {}
      },
      "source": [
        "%%bash\n",
        "cd /tvm/vta/apps/tsim_example/hardware/chisel\n",
        "make 2> /dev/null"
      ],
      "execution_count": 0,
      "outputs": []
    },
    {
      "cell_type": "markdown",
      "metadata": {
        "id": "4WsxS9S1axu5",
        "colab_type": "text"
      },
      "source": [
        "## Software driver"
      ]
    },
    {
      "cell_type": "markdown",
      "metadata": {
        "id": "QTeDBNP-aEtn",
        "colab_type": "text"
      },
      "source": [
        "### Source files\n",
        "\n",
        "The software driver for the accelerator can be found at `/tvm/vta/apps/tsim_example/src/driver.cc`. Here are some of the most important bits of this driver.\n",
        "\n",
        "The following method in the `Device` class execute all the steps during a accelerator run. \n",
        "\n",
        "```cpp\n",
        "  uint32_t Run(uint32_t c, uint32_t length, void* inp, void* out) {\n",
        "    uint32_t cycles;\n",
        "    this->Launch(c, length, inp, out);\n",
        "    cycles = this->WaitForCompletion();\n",
        "    dpi_->Finish();\n",
        "    return cycles;\n",
        "  }\n",
        "\n",
        "```\n",
        "\n",
        "Also, the driver is registered as TVM function, so it can be invoked in Python.\n",
        "\n",
        "```cpp\n",
        "TVM_REGISTER_GLOBAL(\"tvm.vta.driver\")\n",
        ".set_body([](TVMArgs args, TVMRetValue* rv) {\n",
        "    Module dev_mod = args[0];\n",
        "    DLTensor* A = args[1];\n",
        "    DLTensor* B = args[2];\n",
        "    Device dev_(dev_mod);\n",
        "    uint32_t cycles = dev_.Run(static_cast<int>(args[3]), A->shape[0], A->data, B->data);\n",
        "    *rv = static_cast<int>(cycles);\n",
        "});\n",
        "```"
      ]
    },
    {
      "cell_type": "markdown",
      "metadata": {
        "id": "m5F7fygIZ_P1",
        "colab_type": "text"
      },
      "source": [
        "### How to build"
      ]
    },
    {
      "cell_type": "code",
      "metadata": {
        "id": "6gzmonAiZ-ae",
        "colab_type": "code",
        "colab": {}
      },
      "source": [
        "%%bash\n",
        "cd /tvm/vta/apps/tsim_example\n",
        "make driver"
      ],
      "execution_count": 0,
      "outputs": []
    },
    {
      "cell_type": "markdown",
      "metadata": {
        "id": "pwSWJVIDbB9O",
        "colab_type": "text"
      },
      "source": [
        "## Create a test"
      ]
    },
    {
      "cell_type": "code",
      "metadata": {
        "id": "50mFCsaacQfp",
        "colab_type": "code",
        "colab": {}
      },
      "source": [
        "import tvm\n",
        "import numpy as np\n",
        "import ctypes"
      ],
      "execution_count": 0,
      "outputs": []
    },
    {
      "cell_type": "code",
      "metadata": {
        "id": "Hv3C59bxb3gl",
        "colab_type": "code",
        "colab": {}
      },
      "source": [
        "def tsim(hw_backend):\n",
        "  def load_dll(dll):\n",
        "    try:\n",
        "      return [ctypes.CDLL(dll, ctypes.RTLD_GLOBAL)]\n",
        "    except OSError:\n",
        "      return []\n",
        "\n",
        "  def run(a, b, c):\n",
        "    if hw_backend in [\"chisel\"]:\n",
        "      hw_lib = '/tvm/vta/apps/tsim_example/hardware/chisel/build/libhw.so'\n",
        "    else:\n",
        "      hw_lib = '/tvm/vta/apps/tsim_example/hardware/verilog/build/libhw.so'\n",
        "    sw_lib = '/tvm/vta/apps/tsim_example/build/libsw.so'\n",
        "    load_dll(sw_lib)\n",
        "    f = tvm.get_global_func(\"tvm.vta.driver\")\n",
        "    m = tvm.module.load(hw_lib, \"vta-tsim\")\n",
        "    cycles = f(m, a, b, c)\n",
        "    print(\"cycles:{}\".format(cycles))\n",
        "  return run"
      ],
      "execution_count": 0,
      "outputs": []
    },
    {
      "cell_type": "code",
      "metadata": {
        "id": "CTqdN7vHb_kg",
        "colab_type": "code",
        "colab": {}
      },
      "source": [
        "def test_accel(n, c, hw_backend):\n",
        "    ctx = tvm.cpu(0)\n",
        "    rmax = 64\n",
        "    a = tvm.nd.array(np.random.randint(rmax, size=n).astype(\"uint64\"), ctx)\n",
        "    b = tvm.nd.array(np.zeros(n).astype(\"uint64\"), ctx)\n",
        "    f = tsim(hw_backend)\n",
        "    f(a, b, c)\n",
        "    for i, (x, y) in enumerate(zip(a.asnumpy(), b.asnumpy())):\n",
        "      print(\"i:{0:<4} c:{1:<4} a:{2:<4} b:{3:<4}\".format(i, c, x, y))"
      ],
      "execution_count": 0,
      "outputs": []
    },
    {
      "cell_type": "markdown",
      "metadata": {
        "id": "E2yX6a6qbDQ7",
        "colab_type": "text"
      },
      "source": [
        "## Run Accelerator in Verilog"
      ]
    },
    {
      "cell_type": "code",
      "metadata": {
        "id": "InAbJlhXcCfc",
        "colab_type": "code",
        "colab": {}
      },
      "source": [
        "# the number of clock cycles is directly proportional to the size of the array\n",
        "\n",
        "n = 10 # size of array\n",
        "c = 2 # constant value\n",
        "\n",
        "# run test\n",
        "test_accel(n, c, \"verilog\")"
      ],
      "execution_count": 0,
      "outputs": []
    },
    {
      "cell_type": "markdown",
      "metadata": {
        "id": "D4Obo36bcqwS",
        "colab_type": "text"
      },
      "source": [
        "## Run Accelerator in Chisel"
      ]
    },
    {
      "cell_type": "code",
      "metadata": {
        "id": "WHG1D238cvgZ",
        "colab_type": "code",
        "colab": {}
      },
      "source": [
        "# the number of clock cycles is directly proportional to the size of the array\n",
        "\n",
        "n = 5 # size of array\n",
        "c = 2 # constant value\n",
        "\n",
        "# run test\n",
        "test_accel(n, c, \"chisel\")"
      ],
      "execution_count": 0,
      "outputs": []
    }
  ]
}