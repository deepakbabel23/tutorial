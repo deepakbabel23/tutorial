{
  "nbformat": 4,
  "nbformat_minor": 0,
  "metadata": {
    "colab": {
      "name": "tsim.ipynb",
      "version": "0.3.2",
      "provenance": [],
      "collapsed_sections": [],
      "toc_visible": true,
      "include_colab_link": true
    },
    "kernelspec": {
      "name": "python3",
      "display_name": "Python 3"
    }
  },
  "cells": [
    {
      "cell_type": "markdown",
      "metadata": {
        "id": "view-in-github",
        "colab_type": "text"
      },
      "source": [
        "<a href=\"https://colab.research.google.com/github/uwsampl/tutorial/blob/master/notebook/05_TVM_Tutorial_TSIM.ipynb\" target=\"_parent\"><img src=\"https://colab.research.google.com/assets/colab-badge.svg\" alt=\"Open In Colab\"/></a>"
      ]
    },
    {
      "cell_type": "markdown",
      "metadata": {
        "id": "OH2iSBsvWKuy",
        "colab_type": "text"
      },
      "source": [
        "# TSIM: Cycle Accurate Simulation for Custom HW in TVM\n",
        "\n",
        "TSIM uses [Verilator](https://www.veripool.org/wiki/verilator) to integrate accelerators, including VTA, into TVM and provides flexibility in the hardware language used to implement them.\n",
        "For example, one could use OpenCL, C/C++ or Chisel3 to describe a VTA design that would eventually be compiled down to Verilog, since it is the standard input language for FPGA/ASIC tools.\n",
        "Additionally, Verilator supports the Direct Programming Interface (DPI), which is part of the Verilog standard and provides a mechanism to support foreign programming languages.\n",
        "\n",
        "We leveraged these features available in Verilator and created DPI modules that provide interfaces to hardware and software. The following figure describes at higher level what TSIM can do.\n",
        "\n",
        "<img src=\"https://raw.githubusercontent.com/vegaluisjose/fcrc-images/master/overview.png\" width=\"640\">\n",
        "\n",
        "## Hardware DPI module\n",
        "\n",
        "Normally, a hardware accelerator interface can be simplified in two main components, one for control and another for data. The control interface is driven by a host CPU, whereas the data interface is connected to either external memories (DRAM) or internal memories in the form of scratchpads or caches. Currently, we support a shared-memory model between the host and accelerator. This implies that the host is in charge of passing values and addresses or pointers, including data and code if needed, to the accelerator.\n",
        "\n",
        "\n",
        "There are two hardware modules written in Verilog implementing these two interfaces called `VTAHostDPI.v` and `VTAMemDPI.v`. Accelerators implemented in Verilog can use these modules directly. However, we also provide Chisel3 wrappers `BlackBox` for accelerators described in this language.\n",
        "\n",
        "The following block diagram shows how to wire-up an accelerator to the host and memory interface.\n",
        "\n",
        "<img src=\"https://raw.githubusercontent.com/vegaluisjose/fcrc-images/master/hwapi.png\" width=\"640\">\n",
        "\n",
        "## Software DPI module\n",
        "\n",
        "The software DPI module allows users to write drivers to handle the accelerator. For example, some accelerators may need to know memory addresses before issuing data or code requests to memory. This module provides this support via functions that write and read register in the accelerator such as:\n",
        "```c\n",
        "\n",
        "// Read an accelerator register\n",
        "uint32_t ReadReg(int addr);\n",
        "\n",
        "// Write an accelerator register\n",
        "void WriteReg(int addr, uint32_t value);\n",
        "```\n",
        "\n",
        "In addition to accessing registers, users can manage the hardware simulation thread with launch and finish functions.\n",
        "\n",
        "```c\n",
        "// Launch hardware simulation until accelerator finishes or reach max_cycles\n",
        "void Launch(uint64_t max_cycles);\n",
        "\n",
        "// Finish hardware simulation\n",
        "void Finish();\n",
        "```"
      ]
    },
    {
      "cell_type": "markdown",
      "metadata": {
        "id": "1lk73yOB9u8-",
        "colab_type": "text"
      },
      "source": [
        "# Setup"
      ]
    },
    {
      "cell_type": "markdown",
      "metadata": {
        "id": "qp-KxyNpv-iS",
        "colab_type": "text"
      },
      "source": [
        "## Get TVM"
      ]
    },
    {
      "cell_type": "code",
      "metadata": {
        "id": "s8etCk-x7mlG",
        "colab_type": "code",
        "colab": {
          "base_uri": "https://localhost:8080/",
          "height": 2893
        },
        "outputId": "148afbe2-1a08-4c42-9966-d67ad460849c"
      },
      "source": [
        "try:\n",
        "  import google.colab\n",
        "  IN_COLAB = True\n",
        "except:\n",
        "  IN_COLAB = False\n",
        "\n",
        "if IN_COLAB:\n",
        "    ! gsutil cp \"gs://tvm-fcrc-binariesd5fce43e-8373-11e9-bfb6-0242ac1c0002/tvm.tar.gz\" /tmp/tvm.tar.gz\n",
        "    ! mkdir -p /tvm\n",
        "    ! tar -xf /tmp/tvm.tar.gz --strip-components=4 --directory /tvm\n",
        "    ! ls -la /tvm\n",
        "    ! bash /tvm/package.sh\n",
        "    # Add TVM to the Python path.\n",
        "    import sys\n",
        "    sys.path.append('/tvm/python')\n",
        "    sys.path.append('/tvm/topi/python')\n",
        "    sys.path.append('/tvm/nnvm/python')\n",
        "    sys.path.append('/tvm/vta/python')\n",
        "else:\n",
        "    print(\"Notebook executing locally, skipping Colab setup ...\")"
      ],
      "execution_count": 1,
      "outputs": [
        {
          "output_type": "stream",
          "text": [
            "Copying gs://tvm-fcrc-binariesd5fce43e-8373-11e9-bfb6-0242ac1c0002/tvm.tar.gz...\n",
            "- [1 files][115.9 MiB/115.9 MiB]                                                \n",
            "Operation completed over 1 objects/115.9 MiB.                                    \n",
            "total 164\n",
            "drwxr-xr-x 21 root root  4096 Jun 15 00:52 .\n",
            "drwxr-xr-x  1 root root  4096 Jun 15 00:52 ..\n",
            "drwx------  8 root root  4096 May 31 08:14 3rdparty\n",
            "drwx------ 12 root root  4096 Jun 14 21:19 apps\n",
            "drwx------  3 root root  4096 Jun 15 00:20 build\n",
            "drwx------  4 root root  4096 Jun 14 21:19 cmake\n",
            "-rw-------  1 root root 10778 Jun 14 21:19 CMakeLists.txt\n",
            "drwx------  6 root root  4096 Jun 14 21:19 conda\n",
            "-rw-------  1 root root  5736 Jun 14 21:19 CONTRIBUTORS.md\n",
            "drwx------  3 root root  4096 Jun 14 21:19 docker\n",
            "drwx------ 11 root root  4096 Jun 14 21:19 docs\n",
            "drwx------  4 root root  4096 Jun 14 21:19 golang\n",
            "drwx------  3 root root  4096 May 31 08:14 include\n",
            "-rw-------  1 root root 10542 Jun 14 21:19 Jenkinsfile\n",
            "drwx------  6 root root  4096 Jun 14 21:19 jvm\n",
            "-rw-------  1 root root 11357 Jun 14 21:19 LICENSE\n",
            "-rw-------  1 root root  4267 Jun 14 21:19 Makefile\n",
            "-rw-------  1 root root 10476 Jun 14 21:19 NEWS.md\n",
            "drwx------  9 root root  4096 Jun 14 21:19 nnvm\n",
            "-rw-------  1 root root    61 Jun 14 21:19 NOTICE\n",
            "-rwx------  1 root root   374 Jun 14 21:19 package.sh\n",
            "drwx------  3 root root  4096 Jun 14 21:19 python\n",
            "-rw-------  1 root root  2705 Jun 14 21:19 README.md\n",
            "drwx------  6 root root  4096 Jun 14 21:19 rust\n",
            "drwx------ 14 root root  4096 Jun 14 21:19 src\n",
            "drwx------  9 root root  4096 May 31 08:14 tests\n",
            "drwx------  7 root root  4096 Jun 14 21:19 topi\n",
            "drwx------  8 root root  4096 Jun 14 21:19 tutorials\n",
            "-rw-------  1 root root  2902 Jun 14 21:19 version.py\n",
            "drwx------ 10 root root  4096 Jun 14 21:19 vta\n",
            "drwx------  2 root root  4096 Jun 14 21:19 web\n",
            "Installing Dependencies ...\n",
            "deb https://dl.bintray.com/sbt/debian /\n",
            "Executing: /tmp/apt-key-gpghome.FThbGsnvch/gpg.1.sh --keyserver hkp://keyserver.ubuntu.com:80 --recv 2EE0EA64E40A89B84B2DF73499E82A75642AC823\n",
            "gpg: key 99E82A75642AC823: public key \"sbt build tool <scalasbt@gmail.com>\" imported\n",
            "gpg: Total number processed: 1\n",
            "gpg:               imported: 1\n",
            "Ign:1 https://dl.bintray.com/sbt/debian  InRelease\n",
            "Get:2 https://dl.bintray.com/sbt/debian  Release [815 B]\n",
            "Get:3 https://dl.bintray.com/sbt/debian  Release.gpg [821 B]\n",
            "Ign:4 https://developer.download.nvidia.com/compute/cuda/repos/ubuntu1804/x86_64  InRelease\n",
            "Ign:5 https://developer.download.nvidia.com/compute/machine-learning/repos/ubuntu1804/x86_64  InRelease\n",
            "Hit:6 https://developer.download.nvidia.com/compute/cuda/repos/ubuntu1804/x86_64  Release\n",
            "Hit:7 https://developer.download.nvidia.com/compute/machine-learning/repos/ubuntu1804/x86_64  Release\n",
            "Get:8 https://dl.bintray.com/sbt/debian  Packages [3,424 B]\n",
            "Get:9 http://security.ubuntu.com/ubuntu bionic-security InRelease [88.7 kB]\n",
            "Get:10 http://ppa.launchpad.net/graphics-drivers/ppa/ubuntu bionic InRelease [21.3 kB]\n",
            "Hit:12 http://archive.ubuntu.com/ubuntu bionic InRelease\n",
            "Get:14 http://archive.ubuntu.com/ubuntu bionic-updates InRelease [88.7 kB]\n",
            "Get:15 https://cloud.r-project.org/bin/linux/ubuntu bionic-cran35/ InRelease [3,626 B]\n",
            "Get:16 http://ppa.launchpad.net/marutter/c2d4u3.5/ubuntu bionic InRelease [15.4 kB]\n",
            "Get:17 https://cloud.r-project.org/bin/linux/ubuntu bionic-cran35/ Packages [58.0 kB]\n",
            "Get:18 http://ppa.launchpad.net/graphics-drivers/ppa/ubuntu bionic/main amd64 Packages [33.0 kB]\n",
            "Get:19 http://security.ubuntu.com/ubuntu bionic-security/universe amd64 Packages [717 kB]\n",
            "Get:20 http://archive.ubuntu.com/ubuntu bionic-backports InRelease [74.6 kB]\n",
            "Get:21 http://archive.ubuntu.com/ubuntu bionic-updates/main amd64 Packages [837 kB]\n",
            "Get:22 http://ppa.launchpad.net/marutter/c2d4u3.5/ubuntu bionic/main Sources [1,647 kB]\n",
            "Get:23 http://security.ubuntu.com/ubuntu bionic-security/main amd64 Packages [535 kB]\n",
            "Get:24 http://security.ubuntu.com/ubuntu bionic-security/multiverse amd64 Packages [4,169 B]\n",
            "Get:25 http://archive.ubuntu.com/ubuntu bionic-updates/universe amd64 Packages [1,220 kB]\n",
            "Get:26 http://archive.ubuntu.com/ubuntu bionic-updates/multiverse amd64 Packages [7,239 B]\n",
            "Get:27 http://archive.ubuntu.com/ubuntu bionic-backports/universe amd64 Packages [3,902 B]\n",
            "Get:28 http://ppa.launchpad.net/marutter/c2d4u3.5/ubuntu bionic/main amd64 Packages [791 kB]\n",
            "Fetched 6,151 kB in 6s (1,046 kB/s)\n",
            "Reading package lists... Done\n",
            "Reading package lists...\n",
            "Building dependency tree...\n",
            "Reading state information...\n",
            "zlib1g-dev is already the newest version (1:1.2.11.dfsg-0ubuntu2).\n",
            "zlib1g-dev set to manually installed.\n",
            "clinfo is already the newest version (2.2.18.03.26-1).\n",
            "libtinfo-dev is already the newest version (6.1-1ubuntu1.18.04).\n",
            "libtinfo-dev set to manually installed.\n",
            "The following package was automatically installed and is no longer required:\n",
            "  libnvidia-common-410\n",
            "Use 'sudo apt autoremove' to remove it.\n",
            "Suggested packages:\n",
            "  llvm-6.0-doc\n",
            "The following NEW packages will be installed:\n",
            "  binfmt-support libffi-dev llvm-6.0 llvm-6.0-dev llvm-6.0-runtime tree\n",
            "0 upgraded, 6 newly installed, 0 to remove and 120 not upgraded.\n",
            "Need to get 28.3 MB of archives.\n",
            "After this operation, 178 MB of additional disk space will be used.\n",
            "Get:1 http://archive.ubuntu.com/ubuntu bionic/main amd64 binfmt-support amd64 2.1.8-2 [51.6 kB]\n",
            "Get:2 http://archive.ubuntu.com/ubuntu bionic/main amd64 llvm-6.0-runtime amd64 1:6.0-1ubuntu2 [200 kB]\n",
            "Get:3 http://archive.ubuntu.com/ubuntu bionic/main amd64 llvm-6.0 amd64 1:6.0-1ubuntu2 [4,838 kB]\n",
            "Get:4 http://archive.ubuntu.com/ubuntu bionic/main amd64 libffi-dev amd64 3.2.1-8 [156 kB]\n",
            "Get:5 http://archive.ubuntu.com/ubuntu bionic/main amd64 llvm-6.0-dev amd64 1:6.0-1ubuntu2 [23.0 MB]\n",
            "Get:6 http://archive.ubuntu.com/ubuntu bionic/universe amd64 tree amd64 1.7.0-5 [40.7 kB]\n",
            "Fetched 28.3 MB in 3s (10.3 MB/s)\n",
            "debconf: unable to initialize frontend: Dialog\n",
            "debconf: (No usable dialog-like program is installed, so the dialog based frontend cannot be used. at /usr/share/perl5/Debconf/FrontEnd/Dialog.pm line 76, <> line 6.)\n",
            "debconf: falling back to frontend: Readline\n",
            "debconf: unable to initialize frontend: Readline\n",
            "debconf: (This frontend requires a controlling tty.)\n",
            "debconf: falling back to frontend: Teletype\n",
            "dpkg-preconfigure: unable to re-open stdin: \n",
            "Selecting previously unselected package binfmt-support.\n",
            "(Reading database ... 130912 files and directories currently installed.)\n",
            "Preparing to unpack .../0-binfmt-support_2.1.8-2_amd64.deb ...\n",
            "Unpacking binfmt-support (2.1.8-2) ...\n",
            "Selecting previously unselected package llvm-6.0-runtime.\n",
            "Preparing to unpack .../1-llvm-6.0-runtime_1%3a6.0-1ubuntu2_amd64.deb ...\n",
            "Unpacking llvm-6.0-runtime (1:6.0-1ubuntu2) ...\n",
            "Selecting previously unselected package llvm-6.0.\n",
            "Preparing to unpack .../2-llvm-6.0_1%3a6.0-1ubuntu2_amd64.deb ...\n",
            "Unpacking llvm-6.0 (1:6.0-1ubuntu2) ...\n",
            "Selecting previously unselected package libffi-dev:amd64.\n",
            "Preparing to unpack .../3-libffi-dev_3.2.1-8_amd64.deb ...\n",
            "Unpacking libffi-dev:amd64 (3.2.1-8) ...\n",
            "Selecting previously unselected package llvm-6.0-dev.\n",
            "Preparing to unpack .../4-llvm-6.0-dev_1%3a6.0-1ubuntu2_amd64.deb ...\n",
            "Unpacking llvm-6.0-dev (1:6.0-1ubuntu2) ...\n",
            "Selecting previously unselected package tree.\n",
            "Preparing to unpack .../5-tree_1.7.0-5_amd64.deb ...\n",
            "Unpacking tree (1.7.0-5) ...\n",
            "Setting up binfmt-support (2.1.8-2) ...\n",
            "Created symlink /etc/systemd/system/multi-user.target.wants/binfmt-support.service → /lib/systemd/system/binfmt-support.service.\n",
            "invoke-rc.d: could not determine current runlevel\n",
            "invoke-rc.d: policy-rc.d denied execution of start.\n",
            "Setting up tree (1.7.0-5) ...\n",
            "Setting up libffi-dev:amd64 (3.2.1-8) ...\n",
            "Setting up llvm-6.0-runtime (1:6.0-1ubuntu2) ...\n",
            "Processing triggers for libc-bin (2.27-3ubuntu1) ...\n",
            "Setting up llvm-6.0 (1:6.0-1ubuntu2) ...\n",
            "Processing triggers for systemd (237-3ubuntu10.21) ...\n",
            "Processing triggers for man-db (2.8.3-2ubuntu0.1) ...\n",
            "Setting up llvm-6.0-dev (1:6.0-1ubuntu2) ...\n",
            "Processing triggers for libc-bin (2.27-3ubuntu1) ...\n",
            "Reading package lists... Done\n",
            "Building dependency tree       \n",
            "Reading state information... Done\n",
            "The following package was automatically installed and is no longer required:\n",
            "  libnvidia-common-410\n",
            "Use 'sudo apt autoremove' to remove it.\n",
            "Suggested packages:\n",
            "  gtkwave systemc\n",
            "The following NEW packages will be installed:\n",
            "  sbt verilator\n",
            "0 upgraded, 2 newly installed, 0 to remove and 120 not upgraded.\n",
            "Need to get 4,005 kB of archives.\n",
            "After this operation, 14.4 MB of additional disk space will be used.\n",
            "Get:1 https://dl.bintray.com/sbt/debian  sbt 1.2.8 [1,126 kB]\n",
            "Get:2 http://archive.ubuntu.com/ubuntu bionic/universe amd64 verilator amd64 3.916-1build1 [2,878 kB]\n",
            "Fetched 4,005 kB in 1s (2,985 kB/s)\n",
            "debconf: unable to initialize frontend: Dialog\n",
            "debconf: (No usable dialog-like program is installed, so the dialog based frontend cannot be used. at /usr/share/perl5/Debconf/FrontEnd/Dialog.pm line 76, <> line 2.)\n",
            "debconf: falling back to frontend: Readline\n",
            "debconf: unable to initialize frontend: Readline\n",
            "debconf: (This frontend requires a controlling tty.)\n",
            "debconf: falling back to frontend: Teletype\n",
            "dpkg-preconfigure: unable to re-open stdin: \n",
            "Selecting previously unselected package sbt.\n",
            "(Reading database ... 132553 files and directories currently installed.)\n",
            "Preparing to unpack .../apt/archives/sbt_1.2.8_all.deb ...\n",
            "Unpacking sbt (1.2.8) ...\n",
            "Selecting previously unselected package verilator.\n",
            "Preparing to unpack .../verilator_3.916-1build1_amd64.deb ...\n",
            "Unpacking verilator (3.916-1build1) ...\n",
            "Processing triggers for man-db (2.8.3-2ubuntu0.1) ...\n",
            "Setting up verilator (3.916-1build1) ...\n",
            "Setting up sbt (1.2.8) ...\n",
            "Creating system group: sbt\n",
            "Creating system user: sbt in sbt with sbt daemon-user and shell /bin/false\n"
          ],
          "name": "stdout"
        }
      ]
    },
    {
      "cell_type": "markdown",
      "metadata": {
        "id": "AatLeNA290fc",
        "colab_type": "text"
      },
      "source": [
        "# Vanilla accelerator\n",
        "\n",
        "We built a vanilla accelerator to showcase how TSIM works in TVM. The vanilla accelerator is implemented in two hardware backends, including Verilog and Chisel3, to demonstrate the flexibility of this infrastructure and help users understand how to add accelerators written in Verilog and \"hardware languages\" that can generate Verilog. \n",
        "\n",
        "The accelerator performs the operation **A = B + C**, where **A** and **B** are 1-D tensors and **C** just a constant. The following figure shows the hardware architecture.\n",
        "\n",
        "<img src=\"https://raw.githubusercontent.com/vegaluisjose/fcrc-images/master/accel.png\" width=\"320\">"
      ]
    },
    {
      "cell_type": "markdown",
      "metadata": {
        "id": "fEODcTJPNuwf",
        "colab_type": "text"
      },
      "source": [
        "## Verilog backend"
      ]
    },
    {
      "cell_type": "markdown",
      "metadata": {
        "id": "E19tjgUkaadY",
        "colab_type": "text"
      },
      "source": [
        "### Source files"
      ]
    },
    {
      "cell_type": "code",
      "metadata": {
        "id": "DorxT0OpbNLZ",
        "colab_type": "code",
        "colab": {
          "base_uri": "https://localhost:8080/",
          "height": 170
        },
        "outputId": "f8ac927a-61de-446f-ccc7-f95735bc13c5"
      },
      "source": [
        "%%bash\n",
        "tree -C /tvm/vta/apps/tsim_example/hardware/verilog"
      ],
      "execution_count": 2,
      "outputs": [
        {
          "output_type": "stream",
          "text": [
            "\u001b[01;34m/tvm/vta/apps/tsim_example/hardware/verilog\u001b[00m\n",
            "├── Makefile\n",
            "└── \u001b[01;34msrc\u001b[00m\n",
            "    ├── Accel.v\n",
            "    ├── Compute.v\n",
            "    ├── RegFile.v\n",
            "    └── TestAccel.v\n",
            "\n",
            "1 directory, 5 files\n"
          ],
          "name": "stdout"
        }
      ]
    },
    {
      "cell_type": "markdown",
      "metadata": {
        "id": "KMqRb-psaeHf",
        "colab_type": "text"
      },
      "source": [
        "### How to build"
      ]
    },
    {
      "cell_type": "code",
      "metadata": {
        "id": "z-HdlAPObgQW",
        "colab_type": "code",
        "colab": {
          "base_uri": "https://localhost:8080/",
          "height": 683
        },
        "outputId": "6cff87ab-1a19-4318-d043-aca0c699c645"
      },
      "source": [
        "%%bash\n",
        "cd /tvm/vta/apps/tsim_example/hardware/verilog\n",
        "make"
      ],
      "execution_count": 3,
      "outputs": [
        {
          "output_type": "stream",
          "text": [
            "mkdir -p /tvm/vta/apps/tsim_example/hardware/verilog/build\n",
            "verilator --cc +define+RANDOMIZE_GARBAGE_ASSIGN +define+RANDOMIZE_REG_INIT +define+RANDOMIZE_MEM_INIT --x-assign unique --output-split 20000 --output-split-cfuncs 20000 --top-module TestAccel -Mdir /tvm/vta/apps/tsim_example/hardware/verilog/build /tvm/vta/apps/tsim_example/hardware/verilog/src/Accel.v /tvm/vta/apps/tsim_example/hardware/verilog/src/RegFile.v /tvm/vta/apps/tsim_example/hardware/verilog/src/TestAccel.v /tvm/vta/apps/tsim_example/hardware/verilog/src/Compute.v /tvm/vta/hardware/chisel/src/main/resources/verilog/VTAMemDPI.v /tvm/vta/hardware/chisel/src/main/resources/verilog/VTAHostDPI.v\n",
            "g++ -O2 -Wall -fPIC -shared -fvisibility=hidden -std=c++11 -DVL_TSIM_NAME=VTestAccel -DVL_PRINTF=printf -DVL_USER_FINISH -DVM_COVERAGE=0 -DVM_SC=0 -Wno-sign-compare -include VTestAccel.h -I/tvm/vta/apps/tsim_example/hardware/verilog/build -I/usr/share/verilator/include -I/usr/share/verilator/include/vltstd -I/tvm/vta/include -I/tvm/include -I/tvm/3rdparty/dlpack/include -DVM_TRACE=0 /usr/share/verilator/include/verilated.cpp /usr/share/verilator/include/verilated_dpi.cpp /tvm/vta/apps/tsim_example/hardware/verilog/build/VTestAccel.cpp /tvm/vta/apps/tsim_example/hardware/verilog/build/VTestAccel__Slow.cpp /tvm/vta/apps/tsim_example/hardware/verilog/build/VTestAccel__Syms.cpp /tvm/vta/apps/tsim_example/hardware/verilog/build/VTestAccel__Dpi.cpp /tvm/vta/hardware/dpi/tsim_device.cc -o /tvm/vta/apps/tsim_example/hardware/verilog/build/libhw.so\n"
          ],
          "name": "stdout"
        },
        {
          "output_type": "stream",
          "text": [
            "/tvm/vta/apps/tsim_example/hardware/verilog/build/VTestAccel.cpp: In static member function ‘static void VTestAccel::_sequent__TOP__1(VTestAccel__Syms*)’:\n",
            "/tvm/vta/apps/tsim_example/hardware/verilog/build/VTestAccel.cpp:485:6: warning: ‘__Vdlyvval__TestAccel__DOT__accel__DOT__rf__DOT__rf__v15’ may be used uninitialized in this function [-Wmaybe-uninitialized]\n",
            "  vlTOPp->TestAccel__DOT__accel__DOT__rf__DOT__rf[6U]\n",
            "  ~~~~~~~~~~~~~~~~~~~~~~~~~~~~~~~~~~~~~~~~~~~~~~~~~~~\n",
            "      = __Vdlyvval__TestAccel__DOT__accel__DOT__rf__DOT__rf__v15;\n",
            "      ^~~~~~~~~~~~~~~~~~~~~~~~~~~~~~~~~~~~~~~~~~~~~~~~~~~~~~~~~~\n",
            "/tvm/vta/apps/tsim_example/hardware/verilog/build/VTestAccel.cpp:478:6: warning: ‘__Vdlyvval__TestAccel__DOT__accel__DOT__rf__DOT__rf__v13’ may be used uninitialized in this function [-Wmaybe-uninitialized]\n",
            "  vlTOPp->TestAccel__DOT__accel__DOT__rf__DOT__rf[5U]\n",
            "  ~~~~~~~~~~~~~~~~~~~~~~~~~~~~~~~~~~~~~~~~~~~~~~~~~~~\n",
            "      = __Vdlyvval__TestAccel__DOT__accel__DOT__rf__DOT__rf__v13;\n",
            "      ^~~~~~~~~~~~~~~~~~~~~~~~~~~~~~~~~~~~~~~~~~~~~~~~~~~~~~~~~~\n",
            "/tvm/vta/apps/tsim_example/hardware/verilog/build/VTestAccel.cpp:471:6: warning: ‘__Vdlyvval__TestAccel__DOT__accel__DOT__rf__DOT__rf__v11’ may be used uninitialized in this function [-Wmaybe-uninitialized]\n",
            "  vlTOPp->TestAccel__DOT__accel__DOT__rf__DOT__rf[4U]\n",
            "  ~~~~~~~~~~~~~~~~~~~~~~~~~~~~~~~~~~~~~~~~~~~~~~~~~~~\n",
            "      = __Vdlyvval__TestAccel__DOT__accel__DOT__rf__DOT__rf__v11;\n",
            "      ^~~~~~~~~~~~~~~~~~~~~~~~~~~~~~~~~~~~~~~~~~~~~~~~~~~~~~~~~~\n",
            "/tvm/vta/apps/tsim_example/hardware/verilog/build/VTestAccel__Slow.cpp: In constructor ‘VTestAccel::VTestAccel(const char*)’:\n",
            "/tvm/vta/apps/tsim_example/hardware/verilog/build/VTestAccel__Slow.cpp:18:89: warning: ‘new’ of type ‘VTestAccel__Syms’ with extended alignment 64 [-Waligned-new=]\n",
            "     VTestAccel__Syms* __restrict vlSymsp = __VlSymsp = new VTestAccel__Syms(this, name());\n",
            "                                                                                         ^\n",
            "/tvm/vta/apps/tsim_example/hardware/verilog/build/VTestAccel__Slow.cpp:18:89: note: uses ‘void* operator new(long unsigned int)’, which does not have an alignment parameter\n",
            "/tvm/vta/apps/tsim_example/hardware/verilog/build/VTestAccel__Slow.cpp:18:89: note: use ‘-faligned-new’ to enable C++17 over-aligned new support\n",
            "/tvm/vta/hardware/dpi/tsim_device.cc: In function ‘int VTADPISim(uint64_t)’:\n",
            "<command-line>:0:14: warning: ‘new’ of type ‘VTestAccel’ with extended alignment 128 [-Waligned-new=]\n",
            "/tvm/vta/hardware/dpi/tsim_device.cc:89:27: note: in expansion of macro ‘VL_TSIM_NAME’\n",
            "   VL_TSIM_NAME* top = new VL_TSIM_NAME;\n",
            "                           ^~~~~~~~~~~~\n",
            "<command-line>:0:14: note: uses ‘void* operator new(long unsigned int)’, which does not have an alignment parameter\n",
            "/tvm/vta/hardware/dpi/tsim_device.cc:89:27: note: in expansion of macro ‘VL_TSIM_NAME’\n",
            "   VL_TSIM_NAME* top = new VL_TSIM_NAME;\n",
            "                           ^~~~~~~~~~~~\n",
            "<command-line>:0:14: note: use ‘-faligned-new’ to enable C++17 over-aligned new support\n",
            "/tvm/vta/hardware/dpi/tsim_device.cc:89:27: note: in expansion of macro ‘VL_TSIM_NAME’\n",
            "   VL_TSIM_NAME* top = new VL_TSIM_NAME;\n",
            "                           ^~~~~~~~~~~~\n"
          ],
          "name": "stderr"
        }
      ]
    },
    {
      "cell_type": "markdown",
      "metadata": {
        "id": "U2f-4bS_anKl",
        "colab_type": "text"
      },
      "source": [
        "## Chisel3 backend"
      ]
    },
    {
      "cell_type": "markdown",
      "metadata": {
        "id": "B4yPwse4apGO",
        "colab_type": "text"
      },
      "source": [
        "### Source files"
      ]
    },
    {
      "cell_type": "code",
      "metadata": {
        "id": "79v7pEeNbYPp",
        "colab_type": "code",
        "outputId": "b72f9532-36ec-4c8c-b0f4-3cfbdb37e398",
        "colab": {
          "base_uri": "https://localhost:8080/",
          "height": 238
        }
      },
      "source": [
        "%%bash\n",
        "tree -C /tvm/vta/apps/tsim_example/hardware/chisel/src"
      ],
      "execution_count": 4,
      "outputs": [
        {
          "output_type": "stream",
          "text": [
            "\u001b[01;34m/tvm/vta/apps/tsim_example/hardware/chisel/src\u001b[00m\n",
            "├── \u001b[01;34mmain\u001b[00m\n",
            "│   └── \u001b[01;34mscala\u001b[00m\n",
            "│       └── \u001b[01;34maccel\u001b[00m\n",
            "│           ├── Accel.scala\n",
            "│           ├── Compute.scala\n",
            "│           └── RegFile.scala\n",
            "└── \u001b[01;34mtest\u001b[00m\n",
            "    └── \u001b[01;34mscala\u001b[00m\n",
            "        └── \u001b[01;34mdut\u001b[00m\n",
            "            └── TestAccel.scala\n",
            "\n",
            "6 directories, 4 files\n"
          ],
          "name": "stdout"
        }
      ]
    },
    {
      "cell_type": "markdown",
      "metadata": {
        "id": "ubsiaH9iaqfF",
        "colab_type": "text"
      },
      "source": [
        "### How to build"
      ]
    },
    {
      "cell_type": "code",
      "metadata": {
        "id": "b4uMRE07Z2-9",
        "colab_type": "code",
        "colab": {
          "base_uri": "https://localhost:8080/",
          "height": 5426
        },
        "outputId": "0ddf74c0-257e-4ae7-8709-cf084f29f85b"
      },
      "source": [
        "%%bash\n",
        "cd /tvm/vta/apps/tsim_example/hardware/chisel\n",
        "make"
      ],
      "execution_count": 5,
      "outputs": [
        {
          "output_type": "stream",
          "text": [
            "cd /tvm/vta/hardware/chisel && sbt publishLocal\n",
            "Copying runtime jar.\n",
            "downloading https://repo1.maven.org/maven2/org/scala-sbt/sbt/1.1.1/sbt-1.1.1.jar ...\n",
            "\t[SUCCESSFUL ] org.scala-sbt#sbt;1.1.1!sbt.jar (97ms)\n",
            "downloading https://repo1.maven.org/maven2/org/scala-lang/scala-library/2.12.4/scala-library-2.12.4.jar ...\n",
            "\t[SUCCESSFUL ] org.scala-lang#scala-library;2.12.4!scala-library.jar (351ms)\n",
            "downloading https://repo1.maven.org/maven2/org/scala-sbt/main_2.12/1.1.1/main_2.12-1.1.1.jar ...\n",
            "\t[SUCCESSFUL ] org.scala-sbt#main_2.12;1.1.1!main_2.12.jar (100ms)\n",
            "downloading https://repo1.maven.org/maven2/org/scala-sbt/logic_2.12/1.1.1/logic_2.12-1.1.1.jar ...\n",
            "\t[SUCCESSFUL ] org.scala-sbt#logic_2.12;1.1.1!logic_2.12.jar (78ms)\n",
            "downloading https://repo1.maven.org/maven2/org/scala-sbt/actions_2.12/1.1.1/actions_2.12-1.1.1.jar ...\n",
            "\t[SUCCESSFUL ] org.scala-sbt#actions_2.12;1.1.1!actions_2.12.jar (80ms)\n",
            "downloading https://repo1.maven.org/maven2/org/scala-sbt/main-settings_2.12/1.1.1/main-settings_2.12-1.1.1.jar ...\n",
            "\t[SUCCESSFUL ] org.scala-sbt#main-settings_2.12;1.1.1!main-settings_2.12.jar (84ms)\n",
            "downloading https://repo1.maven.org/maven2/org/scala-sbt/run_2.12/1.1.1/run_2.12-1.1.1.jar ...\n",
            "\t[SUCCESSFUL ] org.scala-sbt#run_2.12;1.1.1!run_2.12.jar (79ms)\n",
            "downloading https://repo1.maven.org/maven2/org/scala-sbt/command_2.12/1.1.1/command_2.12-1.1.1.jar ...\n",
            "\t[SUCCESSFUL ] org.scala-sbt#command_2.12;1.1.1!command_2.12.jar (82ms)\n",
            "downloading https://repo1.maven.org/maven2/org/scala-sbt/collections_2.12/1.1.1/collections_2.12-1.1.1.jar ...\n",
            "\t[SUCCESSFUL ] org.scala-sbt#collections_2.12;1.1.1!collections_2.12.jar (83ms)\n",
            "downloading https://repo1.maven.org/maven2/org/scala-lang/modules/scala-xml_2.12/1.0.6/scala-xml_2.12-1.0.6.jar ...\n",
            "\t[SUCCESSFUL ] org.scala-lang.modules#scala-xml_2.12;1.0.6!scala-xml_2.12.jar(bundle) (84ms)\n",
            "downloading https://repo1.maven.org/maven2/org/scala-sbt/launcher-interface/1.0.2/launcher-interface-1.0.2.jar ...\n",
            "\t[SUCCESSFUL ] org.scala-sbt#launcher-interface;1.0.2!launcher-interface.jar (79ms)\n",
            "downloading https://repo1.maven.org/maven2/org/apache/logging/log4j/log4j-api/2.8.1/log4j-api-2.8.1.jar ...\n",
            "\t[SUCCESSFUL ] org.apache.logging.log4j#log4j-api;2.8.1!log4j-api.jar (90ms)\n",
            "downloading https://repo1.maven.org/maven2/org/apache/logging/log4j/log4j-core/2.8.1/log4j-core-2.8.1.jar ...\n",
            "\t[SUCCESSFUL ] org.apache.logging.log4j#log4j-core;2.8.1!log4j-core.jar (96ms)\n",
            "downloading https://repo1.maven.org/maven2/org/apache/logging/log4j/log4j-slf4j-impl/2.8.1/log4j-slf4j-impl-2.8.1.jar ...\n",
            "\t[SUCCESSFUL ] org.apache.logging.log4j#log4j-slf4j-impl;2.8.1!log4j-slf4j-impl.jar (77ms)\n",
            "downloading https://repo1.maven.org/maven2/com/github/cb372/scalacache-caffeine_2.12/0.20.0/scalacache-caffeine_2.12-0.20.0.jar ...\n",
            "\t[SUCCESSFUL ] com.github.cb372#scalacache-caffeine_2.12;0.20.0!scalacache-caffeine_2.12.jar (77ms)\n",
            "downloading https://repo1.maven.org/maven2/org/scala-sbt/io_2.12/1.1.4/io_2.12-1.1.4.jar ...\n",
            "\t[SUCCESSFUL ] org.scala-sbt#io_2.12;1.1.4!io_2.12.jar (109ms)\n",
            "downloading https://repo1.maven.org/maven2/org/scala-sbt/util-logging_2.12/1.1.2/util-logging_2.12-1.1.2.jar ...\n",
            "\t[SUCCESSFUL ] org.scala-sbt#util-logging_2.12;1.1.2!util-logging_2.12.jar (85ms)\n",
            "downloading https://repo1.maven.org/maven2/org/scala-sbt/librarymanagement-core_2.12/1.1.3/librarymanagement-core_2.12-1.1.3.jar ...\n",
            "\t[SUCCESSFUL ] org.scala-sbt#librarymanagement-core_2.12;1.1.3!librarymanagement-core_2.12.jar (89ms)\n",
            "downloading https://repo1.maven.org/maven2/org/scala-sbt/librarymanagement-ivy_2.12/1.1.3/librarymanagement-ivy_2.12-1.1.3.jar ...\n",
            "\t[SUCCESSFUL ] org.scala-sbt#librarymanagement-ivy_2.12;1.1.3!librarymanagement-ivy_2.12.jar (86ms)\n",
            "downloading https://repo1.maven.org/maven2/org/scala-sbt/compiler-interface/1.1.1/compiler-interface-1.1.1.jar ...\n",
            "\t[SUCCESSFUL ] org.scala-sbt#compiler-interface;1.1.1!compiler-interface.jar (78ms)\n",
            "downloading https://repo1.maven.org/maven2/org/scala-sbt/zinc-compile_2.12/1.1.1/zinc-compile_2.12-1.1.1.jar ...\n",
            "\t[SUCCESSFUL ] org.scala-sbt#zinc-compile_2.12;1.1.1!zinc-compile_2.12.jar (77ms)\n",
            "downloading https://repo1.maven.org/maven2/org/scala-sbt/util-relation_2.12/1.1.2/util-relation_2.12-1.1.2.jar ...\n",
            "\t[SUCCESSFUL ] org.scala-sbt#util-relation_2.12;1.1.2!util-relation_2.12.jar (78ms)\n",
            "downloading https://repo1.maven.org/maven2/com/eed3si9n/sjson-new-scalajson_2.12/0.8.2/sjson-new-scalajson_2.12-0.8.2.jar ...\n",
            "\t[SUCCESSFUL ] com.eed3si9n#sjson-new-scalajson_2.12;0.8.2!sjson-new-scalajson_2.12.jar (77ms)\n",
            "downloading https://repo1.maven.org/maven2/org/scala-sbt/util-position_2.12/1.1.2/util-position_2.12-1.1.2.jar ...\n",
            "\t[SUCCESSFUL ] org.scala-sbt#util-position_2.12;1.1.2!util-position_2.12.jar (78ms)\n",
            "downloading https://repo1.maven.org/maven2/com/eed3si9n/sjson-new-core_2.12/0.8.2/sjson-new-core_2.12-0.8.2.jar ...\n",
            "\t[SUCCESSFUL ] com.eed3si9n#sjson-new-core_2.12;0.8.2!sjson-new-core_2.12.jar (86ms)\n",
            "downloading https://repo1.maven.org/maven2/com/eed3si9n/shaded-scalajson_2.12/1.0.0-M4/shaded-scalajson_2.12-1.0.0-M4.jar ...\n",
            "\t[SUCCESSFUL ] com.eed3si9n#shaded-scalajson_2.12;1.0.0-M4!shaded-scalajson_2.12.jar (80ms)\n",
            "downloading https://repo1.maven.org/maven2/org/spire-math/jawn-parser_2.12/0.10.4/jawn-parser_2.12-0.10.4.jar ...\n",
            "\t[SUCCESSFUL ] org.spire-math#jawn-parser_2.12;0.10.4!jawn-parser_2.12.jar (78ms)\n",
            "downloading https://repo1.maven.org/maven2/org/scala-sbt/completion_2.12/1.1.1/completion_2.12-1.1.1.jar ...\n",
            "\t[SUCCESSFUL ] org.scala-sbt#completion_2.12;1.1.1!completion_2.12.jar (83ms)\n",
            "downloading https://repo1.maven.org/maven2/org/scala-sbt/task-system_2.12/1.1.1/task-system_2.12-1.1.1.jar ...\n",
            "\t[SUCCESSFUL ] org.scala-sbt#task-system_2.12;1.1.1!task-system_2.12.jar (79ms)\n",
            "downloading https://repo1.maven.org/maven2/org/scala-sbt/tasks_2.12/1.1.1/tasks_2.12-1.1.1.jar ...\n",
            "\t[SUCCESSFUL ] org.scala-sbt#tasks_2.12;1.1.1!tasks_2.12.jar (78ms)\n",
            "downloading https://repo1.maven.org/maven2/org/scala-sbt/testing_2.12/1.1.1/testing_2.12-1.1.1.jar ...\n",
            "\t[SUCCESSFUL ] org.scala-sbt#testing_2.12;1.1.1!testing_2.12.jar (79ms)\n",
            "downloading https://repo1.maven.org/maven2/org/scala-sbt/util-tracking_2.12/1.1.2/util-tracking_2.12-1.1.2.jar ...\n",
            "\t[SUCCESSFUL ] org.scala-sbt#util-tracking_2.12;1.1.2!util-tracking_2.12.jar (78ms)\n",
            "downloading https://repo1.maven.org/maven2/org/scala-sbt/zinc-classpath_2.12/1.1.1/zinc-classpath_2.12-1.1.1.jar ...\n",
            "\t[SUCCESSFUL ] org.scala-sbt#zinc-classpath_2.12;1.1.1!zinc-classpath_2.12.jar (78ms)\n",
            "downloading https://repo1.maven.org/maven2/org/scala-sbt/zinc-apiinfo_2.12/1.1.1/zinc-apiinfo_2.12-1.1.1.jar ...\n",
            "\t[SUCCESSFUL ] org.scala-sbt#zinc-apiinfo_2.12;1.1.1!zinc-apiinfo_2.12.jar (79ms)\n",
            "downloading https://repo1.maven.org/maven2/org/scala-sbt/zinc-ivy-integration_2.12/1.1.1/zinc-ivy-integration_2.12-1.1.1.jar ...\n",
            "\t[SUCCESSFUL ] org.scala-sbt#zinc-ivy-integration_2.12;1.1.1!zinc-ivy-integration_2.12.jar (78ms)\n",
            "downloading https://repo1.maven.org/maven2/org/scala-sbt/zinc_2.12/1.1.1/zinc_2.12-1.1.1.jar ...\n",
            "\t[SUCCESSFUL ] org.scala-sbt#zinc_2.12;1.1.1!zinc_2.12.jar (79ms)\n",
            "downloading https://repo1.maven.org/maven2/jline/jline/2.14.4/jline-2.14.4.jar ...\n",
            "\t[SUCCESSFUL ] jline#jline;2.14.4!jline.jar (81ms)\n",
            "downloading https://repo1.maven.org/maven2/org/scala-sbt/util-control_2.12/1.1.2/util-control_2.12-1.1.2.jar ...\n",
            "\t[SUCCESSFUL ] org.scala-sbt#util-control_2.12;1.1.2!util-control_2.12.jar (86ms)\n",
            "downloading https://repo1.maven.org/maven2/net/java/dev/jna/jna/4.5.0/jna-4.5.0.jar ...\n",
            "\t[SUCCESSFUL ] net.java.dev.jna#jna;4.5.0!jna.jar (99ms)\n",
            "downloading https://repo1.maven.org/maven2/net/java/dev/jna/jna-platform/4.5.0/jna-platform-4.5.0.jar ...\n",
            "\t[SUCCESSFUL ] net.java.dev.jna#jna-platform;4.5.0!jna-platform.jar (104ms)\n",
            "downloading https://repo1.maven.org/maven2/org/scala-sbt/util-interface/1.1.2/util-interface-1.1.2.jar ...\n",
            "\t[SUCCESSFUL ] org.scala-sbt#util-interface;1.1.2!util-interface.jar (77ms)\n",
            "downloading https://repo1.maven.org/maven2/com/lmax/disruptor/3.3.6/disruptor-3.3.6.jar ...\n",
            "\t[SUCCESSFUL ] com.lmax#disruptor;3.3.6!disruptor.jar (79ms)\n",
            "downloading https://repo1.maven.org/maven2/org/scala-lang/scala-reflect/2.12.4/scala-reflect-2.12.4.jar ...\n",
            "\t[SUCCESSFUL ] org.scala-lang#scala-reflect;2.12.4!scala-reflect.jar (128ms)\n",
            "downloading https://repo1.maven.org/maven2/org/scala-lang/scala-compiler/2.12.4/scala-compiler-2.12.4.jar ...\n",
            "\t[SUCCESSFUL ] org.scala-lang#scala-compiler;2.12.4!scala-compiler.jar (203ms)\n",
            "downloading https://repo1.maven.org/maven2/org/scala-sbt/util-cache_2.12/1.1.2/util-cache_2.12-1.1.2.jar ...\n",
            "\t[SUCCESSFUL ] org.scala-sbt#util-cache_2.12;1.1.2!util-cache_2.12.jar (83ms)\n",
            "downloading https://repo1.maven.org/maven2/com/eed3si9n/sjson-new-murmurhash_2.12/0.8.2/sjson-new-murmurhash_2.12-0.8.2.jar ...\n",
            "\t[SUCCESSFUL ] com.eed3si9n#sjson-new-murmurhash_2.12;0.8.2!sjson-new-murmurhash_2.12.jar (77ms)\n",
            "downloading https://repo1.maven.org/maven2/org/scala-sbt/test-agent/1.1.1/test-agent-1.1.1.jar ...\n",
            "\t[SUCCESSFUL ] org.scala-sbt#test-agent;1.1.1!test-agent.jar (77ms)\n",
            "downloading https://repo1.maven.org/maven2/org/scala-sbt/test-interface/1.0/test-interface-1.0.jar ...\n",
            "\t[SUCCESSFUL ] org.scala-sbt#test-interface;1.0!test-interface.jar (77ms)\n",
            "downloading https://repo1.maven.org/maven2/org/scala-sbt/zinc-classfile_2.12/1.1.1/zinc-classfile_2.12-1.1.1.jar ...\n",
            "\t[SUCCESSFUL ] org.scala-sbt#zinc-classfile_2.12;1.1.1!zinc-classfile_2.12.jar (78ms)\n",
            "downloading https://repo1.maven.org/maven2/com/jcraft/jsch/0.1.46/jsch-0.1.46.jar ...\n",
            "\t[SUCCESSFUL ] com.jcraft#jsch;0.1.46!jsch.jar (80ms)\n",
            "downloading https://repo1.maven.org/maven2/com/eed3si9n/gigahorse-okhttp_2.12/0.3.0/gigahorse-okhttp_2.12-0.3.0.jar ...\n",
            "\t[SUCCESSFUL ] com.eed3si9n#gigahorse-okhttp_2.12;0.3.0!gigahorse-okhttp_2.12.jar (78ms)\n",
            "downloading https://repo1.maven.org/maven2/com/squareup/okhttp3/okhttp-urlconnection/3.7.0/okhttp-urlconnection-3.7.0.jar ...\n",
            "\t[SUCCESSFUL ] com.squareup.okhttp3#okhttp-urlconnection;3.7.0!okhttp-urlconnection.jar (78ms)\n",
            "downloading https://repo1.maven.org/maven2/com/eed3si9n/gigahorse-core_2.12/0.3.0/gigahorse-core_2.12-0.3.0.jar ...\n",
            "\t[SUCCESSFUL ] com.eed3si9n#gigahorse-core_2.12;0.3.0!gigahorse-core_2.12.jar (82ms)\n",
            "downloading https://repo1.maven.org/maven2/com/squareup/okhttp3/okhttp/3.7.0/okhttp-3.7.0.jar ...\n",
            "\t[SUCCESSFUL ] com.squareup.okhttp3#okhttp;3.7.0!okhttp.jar (82ms)\n",
            "downloading https://repo1.maven.org/maven2/com/typesafe/ssl-config-core_2.12/0.2.2/ssl-config-core_2.12-0.2.2.jar ...\n",
            "\t[SUCCESSFUL ] com.typesafe#ssl-config-core_2.12;0.2.2!ssl-config-core_2.12.jar(bundle) (81ms)\n",
            "downloading https://repo1.maven.org/maven2/org/reactivestreams/reactive-streams/1.0.0/reactive-streams-1.0.0.jar ...\n",
            "\t[SUCCESSFUL ] org.reactivestreams#reactive-streams;1.0.0!reactive-streams.jar (78ms)\n",
            "downloading https://repo1.maven.org/maven2/org/slf4j/slf4j-api/1.7.25/slf4j-api-1.7.25.jar ...\n",
            "\t[SUCCESSFUL ] org.slf4j#slf4j-api;1.7.25!slf4j-api.jar (85ms)\n",
            "downloading https://repo1.maven.org/maven2/com/typesafe/config/1.2.0/config-1.2.0.jar ...\n",
            "\t[SUCCESSFUL ] com.typesafe#config;1.2.0!config.jar(bundle) (88ms)\n",
            "downloading https://repo1.maven.org/maven2/com/squareup/okio/okio/1.12.0/okio-1.12.0.jar ...\n",
            "\t[SUCCESSFUL ] com.squareup.okio#okio;1.12.0!okio.jar (79ms)\n",
            "downloading https://repo1.maven.org/maven2/org/scala-sbt/zinc-compile-core_2.12/1.1.1/zinc-compile-core_2.12-1.1.1.jar ...\n",
            "\t[SUCCESSFUL ] org.scala-sbt#zinc-compile-core_2.12;1.1.1!zinc-compile-core_2.12.jar (82ms)\n",
            "downloading https://repo1.maven.org/maven2/org/scala-lang/modules/scala-parser-combinators_2.12/1.0.5/scala-parser-combinators_2.12-1.0.5.jar ...\n",
            "\t[SUCCESSFUL ] org.scala-lang.modules#scala-parser-combinators_2.12;1.0.5!scala-parser-combinators_2.12.jar(bundle) (80ms)\n",
            "downloading https://repo1.maven.org/maven2/org/scala-sbt/zinc-core_2.12/1.1.1/zinc-core_2.12-1.1.1.jar ...\n",
            "\t[SUCCESSFUL ] org.scala-sbt#zinc-core_2.12;1.1.1!zinc-core_2.12.jar (83ms)\n",
            "downloading https://repo1.maven.org/maven2/org/scala-sbt/zinc-persist_2.12/1.1.1/zinc-persist_2.12-1.1.1.jar ...\n",
            "\t[SUCCESSFUL ] org.scala-sbt#zinc-persist_2.12;1.1.1!zinc-persist_2.12.jar (98ms)\n",
            "downloading https://repo1.maven.org/maven2/com/trueaccord/scalapb/scalapb-runtime_2.12/0.6.0/scalapb-runtime_2.12-0.6.0.jar ...\n",
            "\t[SUCCESSFUL ] com.trueaccord.scalapb#scalapb-runtime_2.12;0.6.0!scalapb-runtime_2.12.jar (96ms)\n",
            "downloading https://repo1.maven.org/maven2/org/scala-sbt/sbinary_2.12/0.4.4/sbinary_2.12-0.4.4.jar ...\n",
            "\t[SUCCESSFUL ] org.scala-sbt#sbinary_2.12;0.4.4!sbinary_2.12.jar (79ms)\n",
            "downloading https://repo1.maven.org/maven2/com/trueaccord/lenses/lenses_2.12/0.4.12/lenses_2.12-0.4.12.jar ...\n",
            "\t[SUCCESSFUL ] com.trueaccord.lenses#lenses_2.12;0.4.12!lenses_2.12.jar (79ms)\n",
            "downloading https://repo1.maven.org/maven2/com/lihaoyi/fastparse_2.12/0.4.2/fastparse_2.12-0.4.2.jar ...\n",
            "\t[SUCCESSFUL ] com.lihaoyi#fastparse_2.12;0.4.2!fastparse_2.12.jar (84ms)\n",
            "downloading https://repo1.maven.org/maven2/com/google/protobuf/protobuf-java/3.3.1/protobuf-java-3.3.1.jar ...\n",
            "\t[SUCCESSFUL ] com.google.protobuf#protobuf-java;3.3.1!protobuf-java.jar(bundle) (99ms)\n",
            "downloading https://repo1.maven.org/maven2/com/lihaoyi/fastparse-utils_2.12/0.4.2/fastparse-utils_2.12-0.4.2.jar ...\n",
            "\t[SUCCESSFUL ] com.lihaoyi#fastparse-utils_2.12;0.4.2!fastparse-utils_2.12.jar (78ms)\n",
            "downloading https://repo1.maven.org/maven2/com/lihaoyi/sourcecode_2.12/0.1.3/sourcecode_2.12-0.1.3.jar ...\n",
            "\t[SUCCESSFUL ] com.lihaoyi#sourcecode_2.12;0.1.3!sourcecode_2.12.jar (101ms)\n",
            "downloading https://repo1.maven.org/maven2/org/scala-sbt/core-macros_2.12/1.1.1/core-macros_2.12-1.1.1.jar ...\n",
            "\t[SUCCESSFUL ] org.scala-sbt#core-macros_2.12;1.1.1!core-macros_2.12.jar (80ms)\n",
            "downloading https://repo1.maven.org/maven2/org/scala-sbt/protocol_2.12/1.1.1/protocol_2.12-1.1.1.jar ...\n",
            "\t[SUCCESSFUL ] org.scala-sbt#protocol_2.12;1.1.1!protocol_2.12.jar (82ms)\n",
            "downloading https://repo1.maven.org/maven2/org/scala-sbt/template-resolver/0.1/template-resolver-0.1.jar ...\n",
            "\t[SUCCESSFUL ] org.scala-sbt#template-resolver;0.1!template-resolver.jar (78ms)\n",
            "downloading https://repo1.maven.org/maven2/org/scala-sbt/ipcsocket/ipcsocket/1.0.0/ipcsocket-1.0.0.jar ...\n",
            "\t[SUCCESSFUL ] org.scala-sbt.ipcsocket#ipcsocket;1.0.0!ipcsocket.jar (79ms)\n",
            "downloading https://repo1.maven.org/maven2/com/github/cb372/scalacache-core_2.12/0.20.0/scalacache-core_2.12-0.20.0.jar ...\n",
            "\t[SUCCESSFUL ] com.github.cb372#scalacache-core_2.12;0.20.0!scalacache-core_2.12.jar (79ms)\n",
            "downloading https://repo1.maven.org/maven2/com/github/ben-manes/caffeine/caffeine/2.5.6/caffeine-2.5.6.jar ...\n",
            "\t[SUCCESSFUL ] com.github.ben-manes.caffeine#caffeine;2.5.6!caffeine.jar (90ms)\n",
            "downloading https://repo1.maven.org/maven2/org/scala-sbt/ivy/ivy/2.3.0-sbt-b18f59ea3bc914a297bb6f1a4f7fb0ace399e310/ivy-2.3.0-sbt-b18f59ea3bc914a297bb6f1a4f7fb0ace399e310.jar ...\n",
            "\t[SUCCESSFUL ] org.scala-sbt.ivy#ivy;2.3.0-sbt-b18f59ea3bc914a297bb6f1a4f7fb0ace399e310!ivy.jar (93ms)\n",
            ":: retrieving :: org.scala-sbt#boot-app\n",
            "\tconfs: [default]\n",
            "\t75 artifacts copied, 0 already retrieved (27501kB/126ms)\n",
            "downloading https://repo1.maven.org/maven2/jline/jline/2.14.5/jline-2.14.5.jar ...\n",
            "\t[SUCCESSFUL ] jline#jline;2.14.5!jline.jar (89ms)\n",
            ":: retrieving :: org.scala-sbt#boot-scala\n",
            "\tconfs: [default]\n",
            "\t5 artifacts copied, 0 already retrieved (18986kB/62ms)\n",
            "\u001b[0m[\u001b[0m\u001b[0minfo\u001b[0m] \u001b[0m\u001b[0mLoading settings from plugins.sbt ...\u001b[0m\n",
            "\u001b[0m[\u001b[0m\u001b[0minfo\u001b[0m] \u001b[0m\u001b[0mLoading project definition from /tvm/vta/hardware/chisel/project\u001b[0m\n",
            "\u001b[0m[\u001b[0m\u001b[0minfo\u001b[0m] \u001b[0m\u001b[0mLoading settings from build.sbt ...\u001b[0m\n",
            "\u001b[0m[\u001b[0m\u001b[0minfo\u001b[0m] \u001b[0m\u001b[0mSet current project to vta (in build file:/tvm/vta/hardware/chisel/)\u001b[0m\n",
            "\u001b[0m[\u001b[0m\u001b[0minfo\u001b[0m] \u001b[0m\u001b[0mPackaging /tvm/vta/hardware/chisel/target/scala-2.11/vta_2.11-0.1.0-SNAPSHOT-sources.jar ...\u001b[0m\n",
            "\u001b[0m[\u001b[0m\u001b[0minfo\u001b[0m] \u001b[0m\u001b[0mUpdating ...\u001b[0m\n",
            "\u001b[0m[\u001b[0m\u001b[0minfo\u001b[0m] \u001b[0m\u001b[0mDone packaging.\u001b[0m\n",
            "\u001b[0m[\u001b[0m\u001b[0minfo\u001b[0m] \u001b[0m\u001b[0mdownloading https://repo1.maven.org/maven2/org/scala-lang/scala-library/2.11.12/scala-library-2.11.12.jar ...\u001b[0m\n",
            "\u001b[0m[\u001b[0m\u001b[0minfo\u001b[0m] \u001b[0m\u001b[0mdownloading https://repo1.maven.org/maven2/com/ibm/icu/icu4j/58.2/icu4j-58.2.jar ...\u001b[0m\n",
            "\u001b[0m[\u001b[0m\u001b[0minfo\u001b[0m] \u001b[0m\u001b[0mdownloading https://repo1.maven.org/maven2/org/yaml/snakeyaml/1.17/snakeyaml-1.17.jar ...\u001b[0m\n",
            "\u001b[0m[\u001b[0m\u001b[0minfo\u001b[0m] \u001b[0m\u001b[0mdownloading https://repo1.maven.org/maven2/com/typesafe/scala-logging/scala-logging_2.11/3.7.2/scala-logging_2.11-3.7.2.jar ...\u001b[0m\n",
            "\u001b[0m[\u001b[0m\u001b[0minfo\u001b[0m] \u001b[0m\u001b[0mdownloading https://repo1.maven.org/maven2/com/github/scopt/scopt_2.11/3.7.0/scopt_2.11-3.7.0.jar ...\u001b[0m\n",
            "\u001b[0m[\u001b[0m\u001b[0minfo\u001b[0m] \u001b[0m\u001b[0mdownloading https://repo1.maven.org/maven2/org/joda/joda-convert/1.2/joda-convert-1.2.jar ...\u001b[0m\n",
            "\u001b[0m[\u001b[0m\u001b[0minfo\u001b[0m] \u001b[0m\u001b[0mdownloading https://repo1.maven.org/maven2/ch/qos/logback/logback-core/1.2.3/logback-core-1.2.3.jar ...\u001b[0m\n",
            "\u001b[0m[\u001b[0m\u001b[0minfo\u001b[0m] \u001b[0m\u001b[0mdownloading https://repo1.maven.org/maven2/org/json4s/json4s-ast_2.11/3.5.3/json4s-ast_2.11-3.5.3.jar ...\u001b[0m\n",
            "\u001b[0m[\u001b[0m\u001b[0minfo\u001b[0m] \u001b[0m\u001b[0mdownloading https://repo1.maven.org/maven2/org/antlr/antlr4/4.7.1/antlr4-4.7.1.jar ...\u001b[0m\n",
            "\u001b[0m[\u001b[0m\u001b[0minfo\u001b[0m] \u001b[0m\u001b[0mdownloading https://repo1.maven.org/maven2/edu/berkeley/cs/chisel3_2.11/3.1.7/chisel3_2.11-3.1.7.jar ...\u001b[0m\n",
            "\u001b[0m[\u001b[0m\u001b[0minfo\u001b[0m] \u001b[0m\u001b[0mdownloading https://repo1.maven.org/maven2/org/scala-lang/scala-compiler/2.11.12/scala-compiler-2.11.12.jar ...\u001b[0m\n",
            "\u001b[0m[\u001b[0m\u001b[0minfo\u001b[0m] \u001b[0m\u001b[0mdownloading https://repo1.maven.org/maven2/org/scala-lang/modules/scala-parser-combinators_2.11/1.0.4/scala-parser-combinators_2.11-1.0.4.jar ...\u001b[0m\n",
            "\u001b[0m[\u001b[0m\u001b[0minfo\u001b[0m] \u001b[0m\u001b[0mdownloading https://repo1.maven.org/maven2/com/thoughtworks/paranamer/paranamer/2.8/paranamer-2.8.jar ...\u001b[0m\n",
            "\u001b[0m[\u001b[0m\u001b[0minfo\u001b[0m] \u001b[0m\u001b[0mdownloading https://repo1.maven.org/maven2/org/antlr/antlr-runtime/3.5.2/antlr-runtime-3.5.2.jar ...\u001b[0m\n",
            "\u001b[0m[\u001b[0m\u001b[0minfo\u001b[0m] \u001b[0m\u001b[0mdownloading https://repo1.maven.org/maven2/org/abego/treelayout/org.abego.treelayout.core/1.0.3/org.abego.treelayout.core-1.0.3.jar ...\u001b[0m\n",
            "\u001b[0m[\u001b[0m\u001b[0minfo\u001b[0m] \u001b[0m\u001b[0mdownloading https://repo1.maven.org/maven2/net/jcazevedo/moultingyaml_2.11/0.4.0/moultingyaml_2.11-0.4.0.jar ...\u001b[0m\n",
            "\u001b[0m[\u001b[0m\u001b[0minfo\u001b[0m] \u001b[0m\u001b[0m\t[SUCCESSFUL ] org.joda#joda-convert;1.2!joda-convert.jar (459ms)\u001b[0m\n",
            "\u001b[0m[\u001b[0m\u001b[0minfo\u001b[0m] \u001b[0m\u001b[0mdownloading https://repo1.maven.org/maven2/org/json4s/json4s-core_2.11/3.5.3/json4s-core_2.11-3.5.3.jar ...\u001b[0m\n",
            "\u001b[0m[\u001b[0m\u001b[0minfo\u001b[0m] \u001b[0m\u001b[0m\t[SUCCESSFUL ] org.json4s#json4s-ast_2.11;3.5.3!json4s-ast_2.11.jar (455ms)\u001b[0m\n",
            "\u001b[0m[\u001b[0m\u001b[0minfo\u001b[0m] \u001b[0m\u001b[0mdownloading https://repo1.maven.org/maven2/org/json4s/json4s-scalap_2.11/3.5.3/json4s-scalap_2.11-3.5.3.jar ...\u001b[0m\n",
            "\u001b[0m[\u001b[0m\u001b[0minfo\u001b[0m] \u001b[0m\u001b[0m\t[SUCCESSFUL ] ch.qos.logback#logback-core;1.2.3!logback-core.jar (461ms)\u001b[0m\n",
            "\u001b[0m[\u001b[0m\u001b[0minfo\u001b[0m] \u001b[0m\u001b[0mdownloading https://repo1.maven.org/maven2/com/github/nscala-time/nscala-time_2.11/2.14.0/nscala-time_2.11-2.14.0.jar ...\u001b[0m\n",
            "\u001b[0m[\u001b[0m\u001b[0minfo\u001b[0m] \u001b[0m\u001b[0m\t[SUCCESSFUL ] org.yaml#snakeyaml;1.17!snakeyaml.jar(bundle) (469ms)\u001b[0m\n",
            "\u001b[0m[\u001b[0m\u001b[0minfo\u001b[0m] \u001b[0m\u001b[0mdownloading https://repo1.maven.org/maven2/joda-time/joda-time/2.9.4/joda-time-2.9.4.jar ...\u001b[0m\n",
            "\u001b[0m[\u001b[0m\u001b[0minfo\u001b[0m] \u001b[0m\u001b[0m\t[SUCCESSFUL ] com.typesafe.scala-logging#scala-logging_2.11;3.7.2!scala-logging_2.11.jar(bundle) (474ms)\u001b[0m\n",
            "\u001b[0m[\u001b[0m\u001b[0minfo\u001b[0m] \u001b[0m\u001b[0mdownloading https://repo1.maven.org/maven2/ch/qos/logback/logback-classic/1.2.3/logback-classic-1.2.3.jar ...\u001b[0m\n",
            "\u001b[0m[\u001b[0m\u001b[0minfo\u001b[0m] \u001b[0m\u001b[0m\t[SUCCESSFUL ] com.github.scopt#scopt_2.11;3.7.0!scopt_2.11.jar (504ms)\u001b[0m\n",
            "\u001b[0m[\u001b[0m\u001b[0minfo\u001b[0m] \u001b[0m\u001b[0mdownloading https://repo1.maven.org/maven2/edu/berkeley/cs/firrtl_2.11/1.1.7/firrtl_2.11-1.1.7.jar ...\u001b[0m\n",
            "\u001b[0m[\u001b[0m\u001b[0minfo\u001b[0m] \u001b[0m\u001b[0m\t[SUCCESSFUL ] org.abego.treelayout#org.abego.treelayout.core;1.0.3!org.abego.treelayout.core.jar(bundle) (443ms)\u001b[0m\n",
            "\u001b[0m[\u001b[0m\u001b[0minfo\u001b[0m] \u001b[0m\u001b[0m\t[SUCCESSFUL ] net.jcazevedo#moultingyaml_2.11;0.4.0!moultingyaml_2.11.jar (434ms)\u001b[0m\n",
            "\u001b[0m[\u001b[0m\u001b[0minfo\u001b[0m] \u001b[0m\u001b[0mdownloading https://repo1.maven.org/maven2/org/glassfish/javax.json/1.0.4/javax.json-1.0.4.jar ...\u001b[0m\n",
            "\u001b[0m[\u001b[0m\u001b[0minfo\u001b[0m] \u001b[0m\u001b[0mdownloading https://repo1.maven.org/maven2/org/json4s/json4s-native_2.11/3.5.3/json4s-native_2.11-3.5.3.jar ...\u001b[0m\n",
            "\u001b[0m[\u001b[0m\u001b[0minfo\u001b[0m] \u001b[0m\u001b[0m\t[SUCCESSFUL ] com.thoughtworks.paranamer#paranamer;2.8!paranamer.jar(bundle) (481ms)\u001b[0m\n",
            "\u001b[0m[\u001b[0m\u001b[0minfo\u001b[0m] \u001b[0m\u001b[0mdownloading https://repo1.maven.org/maven2/org/scala-lang/modules/scala-xml_2.11/1.0.6/scala-xml_2.11-1.0.6.jar ...\u001b[0m\n",
            "\u001b[0m[\u001b[0m\u001b[0minfo\u001b[0m] \u001b[0m\u001b[0m\t[SUCCESSFUL ] org.antlr#antlr-runtime;3.5.2!antlr-runtime.jar (468ms)\u001b[0m\n",
            "\u001b[0m[\u001b[0m\u001b[0minfo\u001b[0m] \u001b[0m\u001b[0mdownloading https://repo1.maven.org/maven2/org/antlr/ST4/4.0.8/ST4-4.0.8.jar ...\u001b[0m\n",
            "\u001b[0m[\u001b[0m\u001b[0minfo\u001b[0m] \u001b[0m\u001b[0m\t[SUCCESSFUL ] org.scala-lang.modules#scala-parser-combinators_2.11;1.0.4!scala-parser-combinators_2.11.jar(bundle) (502ms)\u001b[0m\n",
            "\u001b[0m[\u001b[0m\u001b[0minfo\u001b[0m] \u001b[0m\u001b[0mdownloading https://repo1.maven.org/maven2/jline/jline/2.14.3/jline-2.14.3.jar ...\u001b[0m\n",
            "\u001b[0m[\u001b[0m\u001b[0minfo\u001b[0m] \u001b[0m\u001b[0m\t[SUCCESSFUL ] edu.berkeley.cs#chisel3_2.11;3.1.7!chisel3_2.11.jar (572ms)\u001b[0m\n",
            "\u001b[0m[\u001b[0m\u001b[0minfo\u001b[0m] \u001b[0m\u001b[0mdownloading https://repo1.maven.org/maven2/org/scala-lang/scala-reflect/2.11.12/scala-reflect-2.11.12.jar ...\u001b[0m\n",
            "\u001b[0m[\u001b[0m\u001b[0minfo\u001b[0m] \u001b[0m\u001b[0m\t[SUCCESSFUL ] org.antlr#antlr4;4.7.1!antlr4.jar (584ms)\u001b[0m\n",
            "\u001b[0m[\u001b[0m\u001b[0minfo\u001b[0m] \u001b[0m\u001b[0mdownloading https://repo1.maven.org/maven2/org/antlr/antlr4-runtime/4.7.1/antlr4-runtime-4.7.1.jar ...\u001b[0m\n",
            "\u001b[0m[\u001b[0m\u001b[0minfo\u001b[0m] \u001b[0m\u001b[0m\t[SUCCESSFUL ] org.scala-lang#scala-library;2.11.12!scala-library.jar (653ms)\u001b[0m\n",
            "\u001b[0m[\u001b[0m\u001b[0minfo\u001b[0m] \u001b[0m\u001b[0m\t[SUCCESSFUL ] com.github.nscala-time#nscala-time_2.11;2.14.0!nscala-time_2.11.jar (274ms)\u001b[0m\n",
            "\u001b[0m[\u001b[0m\u001b[0minfo\u001b[0m] \u001b[0m\u001b[0m\t[SUCCESSFUL ] joda-time#joda-time;2.9.4!joda-time.jar (272ms)\u001b[0m\n",
            "\u001b[0m[\u001b[0m\u001b[0minfo\u001b[0m] \u001b[0m\u001b[0m\t[SUCCESSFUL ] org.json4s#json4s-scalap_2.11;3.5.3!json4s-scalap_2.11.jar (283ms)\u001b[0m\n",
            "\u001b[0m[\u001b[0m\u001b[0minfo\u001b[0m] \u001b[0m\u001b[0m\t[SUCCESSFUL ] org.json4s#json4s-core_2.11;3.5.3!json4s-core_2.11.jar (285ms)\u001b[0m\n",
            "\u001b[0m[\u001b[0m\u001b[0minfo\u001b[0m] \u001b[0m\u001b[0m\t[SUCCESSFUL ] ch.qos.logback#logback-classic;1.2.3!logback-classic.jar (279ms)\u001b[0m\n",
            "\u001b[0m[\u001b[0m\u001b[0minfo\u001b[0m] \u001b[0m\u001b[0m\t[SUCCESSFUL ] org.json4s#json4s-native_2.11;3.5.3!json4s-native_2.11.jar (253ms)\u001b[0m\n",
            "\u001b[0m[\u001b[0m\u001b[0minfo\u001b[0m] \u001b[0m\u001b[0m\t[SUCCESSFUL ] org.glassfish#javax.json;1.0.4!javax.json.jar(bundle) (258ms)\u001b[0m\n",
            "\u001b[0m[\u001b[0m\u001b[0minfo\u001b[0m] \u001b[0m\u001b[0m\t[SUCCESSFUL ] com.ibm.icu#icu4j;58.2!icu4j.jar (823ms)\u001b[0m\n",
            "\u001b[0m[\u001b[0m\u001b[0minfo\u001b[0m] \u001b[0m\u001b[0m\t[SUCCESSFUL ] org.antlr#ST4;4.0.8!ST4.jar (254ms)\u001b[0m\n",
            "\u001b[0m[\u001b[0m\u001b[0minfo\u001b[0m] \u001b[0m\u001b[0m\t[SUCCESSFUL ] jline#jline;2.14.3!jline.jar (250ms)\u001b[0m\n",
            "\u001b[0m[\u001b[0m\u001b[0minfo\u001b[0m] \u001b[0m\u001b[0m\t[SUCCESSFUL ] org.antlr#antlr4-runtime;4.7.1!antlr4-runtime.jar (231ms)\u001b[0m\n",
            "\u001b[0m[\u001b[0m\u001b[0minfo\u001b[0m] \u001b[0m\u001b[0m\t[SUCCESSFUL ] org.scala-lang.modules#scala-xml_2.11;1.0.6!scala-xml_2.11.jar(bundle) (272ms)\u001b[0m\n",
            "\u001b[0m[\u001b[0m\u001b[0minfo\u001b[0m] \u001b[0m\u001b[0m\t[SUCCESSFUL ] edu.berkeley.cs#firrtl_2.11;1.1.7!firrtl_2.11.jar (357ms)\u001b[0m\n",
            "\u001b[0m[\u001b[0m\u001b[0minfo\u001b[0m] \u001b[0m\u001b[0m\t[SUCCESSFUL ] org.scala-lang#scala-reflect;2.11.12!scala-reflect.jar (282ms)\u001b[0m\n",
            "\u001b[0m[\u001b[0m\u001b[0minfo\u001b[0m] \u001b[0m\u001b[0m\t[SUCCESSFUL ] org.scala-lang#scala-compiler;2.11.12!scala-compiler.jar (883ms)\u001b[0m\n",
            "\u001b[0m[\u001b[0m\u001b[0minfo\u001b[0m] \u001b[0m\u001b[0mdownloading https://repo1.maven.org/maven2/org/scala-lang/modules/scala-xml_2.11/1.0.5/scala-xml_2.11-1.0.5.jar ...\u001b[0m\n",
            "\u001b[0m[\u001b[0m\u001b[0minfo\u001b[0m] \u001b[0m\u001b[0m\t[SUCCESSFUL ] org.scala-lang.modules#scala-xml_2.11;1.0.5!scala-xml_2.11.jar(bundle) (50ms)\u001b[0m\n",
            "\u001b[0m[\u001b[0m\u001b[0minfo\u001b[0m] \u001b[0m\u001b[0mDone updating.\u001b[0m\n",
            "\u001b[0m[\u001b[0m\u001b[0minfo\u001b[0m] \u001b[0m\u001b[0mWrote /tvm/vta/hardware/chisel/target/scala-2.11/vta_2.11-0.1.0-SNAPSHOT.pom\u001b[0m\n",
            "\u001b[0m[\u001b[0m\u001b[0minfo\u001b[0m] \u001b[0m\u001b[0mMain Scala API documentation to /tvm/vta/hardware/chisel/target/scala-2.11/api...\u001b[0m\n",
            "\u001b[0m[\u001b[0m\u001b[0minfo\u001b[0m] \u001b[0m\u001b[0mCompiling 30 Scala sources to /tvm/vta/hardware/chisel/target/scala-2.11/classes ...\u001b[0m\n",
            "\u001b[0m[\u001b[0m\u001b[0minfo\u001b[0m] \u001b[0m\u001b[0mNon-compiled module 'compiler-bridge_2.11' for Scala 2.11.12. Compiling...\u001b[0m\n",
            "\u001b[0m[\u001b[0m\u001b[0minfo\u001b[0m] \u001b[0m\u001b[0m  Compilation completed in 18.866s.\u001b[0m\n",
            "\u001b[0m[\u001b[0m\u001b[33mwarn\u001b[0m] \u001b[0m\u001b[0mthere were 1005 feature warnings; re-run with -feature for details\u001b[0m\n",
            "model contains 114 documentable templates\n",
            "\u001b[0m[\u001b[0m\u001b[33mwarn\u001b[0m] \u001b[0m\u001b[0mone warning found\u001b[0m\n",
            "\u001b[0m[\u001b[0m\u001b[0minfo\u001b[0m] \u001b[0m\u001b[0mMain Scala API documentation successful.\u001b[0m\n",
            "\u001b[0m[\u001b[0m\u001b[0minfo\u001b[0m] \u001b[0m\u001b[0mPackaging /tvm/vta/hardware/chisel/target/scala-2.11/vta_2.11-0.1.0-SNAPSHOT-javadoc.jar ...\u001b[0m\n",
            "\u001b[0m[\u001b[0m\u001b[0minfo\u001b[0m] \u001b[0m\u001b[0mDone packaging.\u001b[0m\n",
            "\u001b[0m[\u001b[0m\u001b[33mwarn\u001b[0m] \u001b[0m\u001b[0mthere were 1005 feature warnings; re-run with -feature for details\u001b[0m\n",
            "\u001b[0m[\u001b[0m\u001b[33mwarn\u001b[0m] \u001b[0m\u001b[0mone warning found\u001b[0m\n",
            "\u001b[0m[\u001b[0m\u001b[0minfo\u001b[0m] \u001b[0m\u001b[0mDone compiling.\u001b[0m\n",
            "\u001b[0m[\u001b[0m\u001b[33mwarn\u001b[0m] \u001b[0m\u001b[0mMultiple main classes detected.  Run 'show discoveredMainClasses' to see the list\u001b[0m\n",
            "\u001b[0m[\u001b[0m\u001b[0minfo\u001b[0m] \u001b[0m\u001b[0mPackaging /tvm/vta/hardware/chisel/target/scala-2.11/vta_2.11-0.1.0-SNAPSHOT.jar ...\u001b[0m\n",
            "\u001b[0m[\u001b[0m\u001b[0minfo\u001b[0m] \u001b[0m\u001b[0mDone packaging.\u001b[0m\n",
            "\u001b[0m[\u001b[0m\u001b[0minfo\u001b[0m] \u001b[0m\u001b[0m:: delivering :: edu.washington.cs#vta_2.11;0.1.0-SNAPSHOT :: 0.1.0-SNAPSHOT :: integration :: Sat Jun 15 00:55:49 UTC 2019\u001b[0m\n",
            "\u001b[0m[\u001b[0m\u001b[0minfo\u001b[0m] \u001b[0m\u001b[0m\tdelivering ivy file to /tvm/vta/hardware/chisel/target/scala-2.11/ivy-0.1.0-SNAPSHOT.xml\u001b[0m\n",
            "\u001b[0m[\u001b[0m\u001b[0minfo\u001b[0m] \u001b[0m\u001b[0m\tpublished vta_2.11 to /root/.ivy2/local/edu.washington.cs/vta_2.11/0.1.0-SNAPSHOT/poms/vta_2.11.pom\u001b[0m\n",
            "\u001b[0m[\u001b[0m\u001b[0minfo\u001b[0m] \u001b[0m\u001b[0m\tpublished vta_2.11 to /root/.ivy2/local/edu.washington.cs/vta_2.11/0.1.0-SNAPSHOT/jars/vta_2.11.jar\u001b[0m\n",
            "\u001b[0m[\u001b[0m\u001b[0minfo\u001b[0m] \u001b[0m\u001b[0m\tpublished vta_2.11 to /root/.ivy2/local/edu.washington.cs/vta_2.11/0.1.0-SNAPSHOT/srcs/vta_2.11-sources.jar\u001b[0m\n",
            "\u001b[0m[\u001b[0m\u001b[0minfo\u001b[0m] \u001b[0m\u001b[0m\tpublished vta_2.11 to /root/.ivy2/local/edu.washington.cs/vta_2.11/0.1.0-SNAPSHOT/docs/vta_2.11-javadoc.jar\u001b[0m\n",
            "\u001b[0m[\u001b[0m\u001b[0minfo\u001b[0m] \u001b[0m\u001b[0m\tpublished ivy to /root/.ivy2/local/edu.washington.cs/vta_2.11/0.1.0-SNAPSHOT/ivys/ivy.xml\u001b[0m\n",
            "\u001b[0m[\u001b[0m\u001b[32msuccess\u001b[0m] \u001b[0m\u001b[0mTotal time: 64 s, completed Jun 15, 2019, 12:55:50 AM\u001b[0m\n",
            "sbt 'test:runMain test.Elaborate --target-dir /tvm/vta/apps/tsim_example/hardware/chisel/build/chisel --top-name TestAccel'\n",
            "\u001b[0m[\u001b[0m\u001b[0minfo\u001b[0m] \u001b[0m\u001b[0mLoading settings from plugins.sbt ...\u001b[0m\n",
            "\u001b[0m[\u001b[0m\u001b[0minfo\u001b[0m] \u001b[0m\u001b[0mLoading project definition from /tvm/vta/apps/tsim_example/hardware/chisel/project\u001b[0m\n",
            "\u001b[0m[\u001b[0m\u001b[0minfo\u001b[0m] \u001b[0m\u001b[0mLoading settings from build.sbt ...\u001b[0m\n",
            "\u001b[0m[\u001b[0m\u001b[0minfo\u001b[0m] \u001b[0m\u001b[0mSet current project to accel (in build file:/tvm/vta/apps/tsim_example/hardware/chisel/)\u001b[0m\n",
            "\u001b[0m[\u001b[0m\u001b[0minfo\u001b[0m] \u001b[0m\u001b[0mUpdating ...\u001b[0m\n",
            "\u001b[0m[\u001b[0m\u001b[33mwarn\u001b[0m] \u001b[0m\u001b[0mChoosing local for edu.washington.cs#vta_2.11;0.1.0-SNAPSHOT\u001b[0m\n",
            "\u001b[0m[\u001b[0m\u001b[0minfo\u001b[0m] \u001b[0m\u001b[0mDone updating.\u001b[0m\n",
            "\u001b[0m[\u001b[0m\u001b[0minfo\u001b[0m] \u001b[0m\u001b[0mCompiling 3 Scala sources to /tvm/vta/apps/tsim_example/hardware/chisel/target/scala-2.11/classes ...\u001b[0m\n",
            "\u001b[0m[\u001b[0m\u001b[33mwarn\u001b[0m] \u001b[0m\u001b[0mthere were 87 feature warnings; re-run with -feature for details\u001b[0m\n",
            "\u001b[0m[\u001b[0m\u001b[33mwarn\u001b[0m] \u001b[0m\u001b[0mone warning found\u001b[0m\n",
            "\u001b[0m[\u001b[0m\u001b[0minfo\u001b[0m] \u001b[0m\u001b[0mDone compiling.\u001b[0m\n",
            "\u001b[0m[\u001b[0m\u001b[0minfo\u001b[0m] \u001b[0m\u001b[0mCompiling 1 Scala source to /tvm/vta/apps/tsim_example/hardware/chisel/target/scala-2.11/test-classes ...\u001b[0m\n",
            "\u001b[0m[\u001b[0m\u001b[0minfo\u001b[0m] \u001b[0m\u001b[0mPackaging /tvm/vta/apps/tsim_example/hardware/chisel/target/scala-2.11/accel_2.11-0.1.0-SNAPSHOT.jar ...\u001b[0m\n",
            "\u001b[0m[\u001b[0m\u001b[0minfo\u001b[0m] \u001b[0m\u001b[0mDone packaging.\u001b[0m\n",
            "\u001b[0m[\u001b[0m\u001b[33mwarn\u001b[0m] \u001b[0m\u001b[0mthere were 12 feature warnings; re-run with -feature for details\u001b[0m\n",
            "\u001b[0m[\u001b[0m\u001b[33mwarn\u001b[0m] \u001b[0m\u001b[0mone warning found\u001b[0m\n",
            "\u001b[0m[\u001b[0m\u001b[0minfo\u001b[0m] \u001b[0m\u001b[0mDone compiling.\u001b[0m\n",
            "\u001b[0m[\u001b[0m\u001b[0minfo\u001b[0m] \u001b[0m\u001b[0mPackaging /tvm/vta/apps/tsim_example/hardware/chisel/target/scala-2.11/accel_2.11-0.1.0-SNAPSHOT-tests.jar ...\u001b[0m\n",
            "\u001b[0m[\u001b[0m\u001b[0minfo\u001b[0m] \u001b[0m\u001b[0mDone packaging.\u001b[0m\n",
            "\u001b[0m[\u001b[0m\u001b[0minfo\u001b[0m] \u001b[0m\u001b[0mRunning test.Elaborate --target-dir /tvm/vta/apps/tsim_example/hardware/chisel/build/chisel --top-name TestAccel\u001b[0m\n",
            "[\u001b[35minfo\u001b[0m] [0.004] Elaborating design...\n",
            "[\u001b[35minfo\u001b[0m] [1.351] Done elaborating.\n",
            "Total FIRRTL Compile Time: 1478.1 ms\n",
            "\u001b[0m[\u001b[0m\u001b[32msuccess\u001b[0m] \u001b[0m\u001b[0mTotal time: 24 s, completed Jun 15, 2019, 12:56:41 AM\u001b[0m\n",
            "verilator --cc +define+RANDOMIZE_GARBAGE_ASSIGN +define+RANDOMIZE_REG_INIT +define+RANDOMIZE_MEM_INIT --x-assign unique --output-split 20000 --output-split-cfuncs 20000 --top-module TestAccel -Mdir /tvm/vta/apps/tsim_example/hardware/chisel/build/verilator -I/tvm/vta/apps/tsim_example/hardware/chisel/build/chisel /tvm/vta/apps/tsim_example/hardware/chisel/build/chisel/TestAccel.v\n",
            "echo /usr/share/verilator/include/verilated.cpp /usr/share/verilator/include/verilated_dpi.cpp /tvm/vta/apps/tsim_example/hardware/chisel/build/verilator/VTestAccel.cpp /tvm/vta/apps/tsim_example/hardware/chisel/build/verilator/VTestAccel__Slow.cpp /tvm/vta/apps/tsim_example/hardware/chisel/build/verilator/VTestAccel__Syms.cpp /tvm/vta/apps/tsim_example/hardware/chisel/build/verilator/VTestAccel__Dpi.cpp /tvm/vta/hardware/dpi/tsim_device.cc\n",
            "/usr/share/verilator/include/verilated.cpp /usr/share/verilator/include/verilated_dpi.cpp /tvm/vta/apps/tsim_example/hardware/chisel/build/verilator/VTestAccel.cpp /tvm/vta/apps/tsim_example/hardware/chisel/build/verilator/VTestAccel__Slow.cpp /tvm/vta/apps/tsim_example/hardware/chisel/build/verilator/VTestAccel__Syms.cpp /tvm/vta/apps/tsim_example/hardware/chisel/build/verilator/VTestAccel__Dpi.cpp /tvm/vta/hardware/dpi/tsim_device.cc\n",
            "g++ -O2 -Wall -fPIC -shared -fvisibility=hidden -std=c++11 -DVL_TSIM_NAME=VTestAccel -DVL_PRINTF=printf -DVL_USER_FINISH -DVM_COVERAGE=0 -DVM_SC=0 -Wno-sign-compare -include VTestAccel.h -I/tvm/vta/apps/tsim_example/hardware/chisel/build/verilator -I/usr/share/verilator/include -I/usr/share/verilator/include/vltstd -I/tvm/vta/include -I/tvm/include -I/tvm/3rdparty/dlpack/include -DVM_TRACE=0 /usr/share/verilator/include/verilated.cpp /usr/share/verilator/include/verilated_dpi.cpp /tvm/vta/apps/tsim_example/hardware/chisel/build/verilator/VTestAccel.cpp /tvm/vta/apps/tsim_example/hardware/chisel/build/verilator/VTestAccel__Slow.cpp /tvm/vta/apps/tsim_example/hardware/chisel/build/verilator/VTestAccel__Syms.cpp /tvm/vta/apps/tsim_example/hardware/chisel/build/verilator/VTestAccel__Dpi.cpp /tvm/vta/hardware/dpi/tsim_device.cc -o /tvm/vta/apps/tsim_example/hardware/chisel/build/libhw.so\n"
          ],
          "name": "stdout"
        },
        {
          "output_type": "stream",
          "text": [
            "Getting org.scala-sbt sbt 1.1.1  (this may take some time)...\n",
            "Getting Scala 2.12.4 (for sbt)...\n",
            "WARNING: An illegal reflective access operation has occurred\n",
            "WARNING: Illegal reflective access by com.google.protobuf.UnsafeUtil (file:/root/.sbt/boot/scala-2.12.4/org.scala-sbt/sbt/1.1.1/protobuf-java-3.3.1.jar) to field java.nio.Buffer.address\n",
            "WARNING: Please consider reporting this to the maintainers of com.google.protobuf.UnsafeUtil\n",
            "WARNING: Use --illegal-access=warn to enable warnings of further illegal reflective access operations\n",
            "WARNING: All illegal access operations will be denied in a future release\n",
            "WARNING: An illegal reflective access operation has occurred\n",
            "WARNING: Illegal reflective access by com.google.protobuf.UnsafeUtil (file:/root/.sbt/boot/scala-2.12.4/org.scala-sbt/sbt/1.1.1/protobuf-java-3.3.1.jar) to field java.nio.Buffer.address\n",
            "WARNING: Please consider reporting this to the maintainers of com.google.protobuf.UnsafeUtil\n",
            "WARNING: Use --illegal-access=warn to enable warnings of further illegal reflective access operations\n",
            "WARNING: All illegal access operations will be denied in a future release\n",
            "/tvm/vta/apps/tsim_example/hardware/chisel/build/verilator/VTestAccel__Slow.cpp: In constructor ‘VTestAccel::VTestAccel(const char*)’:\n",
            "/tvm/vta/apps/tsim_example/hardware/chisel/build/verilator/VTestAccel__Slow.cpp:18:89: warning: ‘new’ of type ‘VTestAccel__Syms’ with extended alignment 64 [-Waligned-new=]\n",
            "     VTestAccel__Syms* __restrict vlSymsp = __VlSymsp = new VTestAccel__Syms(this, name());\n",
            "                                                                                         ^\n",
            "/tvm/vta/apps/tsim_example/hardware/chisel/build/verilator/VTestAccel__Slow.cpp:18:89: note: uses ‘void* operator new(long unsigned int)’, which does not have an alignment parameter\n",
            "/tvm/vta/apps/tsim_example/hardware/chisel/build/verilator/VTestAccel__Slow.cpp:18:89: note: use ‘-faligned-new’ to enable C++17 over-aligned new support\n",
            "/tvm/vta/hardware/dpi/tsim_device.cc: In function ‘int VTADPISim(uint64_t)’:\n",
            "<command-line>:0:14: warning: ‘new’ of type ‘VTestAccel’ with extended alignment 128 [-Waligned-new=]\n",
            "/tvm/vta/hardware/dpi/tsim_device.cc:89:27: note: in expansion of macro ‘VL_TSIM_NAME’\n",
            "   VL_TSIM_NAME* top = new VL_TSIM_NAME;\n",
            "                           ^~~~~~~~~~~~\n",
            "<command-line>:0:14: note: uses ‘void* operator new(long unsigned int)’, which does not have an alignment parameter\n",
            "/tvm/vta/hardware/dpi/tsim_device.cc:89:27: note: in expansion of macro ‘VL_TSIM_NAME’\n",
            "   VL_TSIM_NAME* top = new VL_TSIM_NAME;\n",
            "                           ^~~~~~~~~~~~\n",
            "<command-line>:0:14: note: use ‘-faligned-new’ to enable C++17 over-aligned new support\n",
            "/tvm/vta/hardware/dpi/tsim_device.cc:89:27: note: in expansion of macro ‘VL_TSIM_NAME’\n",
            "   VL_TSIM_NAME* top = new VL_TSIM_NAME;\n",
            "                           ^~~~~~~~~~~~\n"
          ],
          "name": "stderr"
        }
      ]
    },
    {
      "cell_type": "markdown",
      "metadata": {
        "id": "4WsxS9S1axu5",
        "colab_type": "text"
      },
      "source": [
        "## Software driver"
      ]
    },
    {
      "cell_type": "markdown",
      "metadata": {
        "id": "QTeDBNP-aEtn",
        "colab_type": "text"
      },
      "source": [
        "### Source files"
      ]
    },
    {
      "cell_type": "code",
      "metadata": {
        "id": "IO3o8g_U8MGo",
        "colab_type": "code",
        "colab": {
          "base_uri": "https://localhost:8080/",
          "height": 1632
        },
        "outputId": "bbdbcc40-0f3c-471b-f178-d158a263acbc"
      },
      "source": [
        "%%bash\n",
        "cat /tvm/vta/apps/tsim_example/src/driver.cc"
      ],
      "execution_count": 6,
      "outputs": [
        {
          "output_type": "stream",
          "text": [
            "/*\n",
            " * Licensed to the Apache Software Foundation (ASF) under one\n",
            " * or more contributor license agreements.  See the NOTICE file\n",
            " * distributed with this work for additional information\n",
            " * regarding copyright ownership.  The ASF licenses this file\n",
            " * to you under the Apache License, Version 2.0 (the\n",
            " * \"License\"); you may not use this file except in compliance\n",
            " * with the License.  You may obtain a copy of the License at\n",
            " *\n",
            " *   http://www.apache.org/licenses/LICENSE-2.0\n",
            " *\n",
            " * Unless required by applicable law or agreed to in writing,\n",
            " * software distributed under the License is distributed on an\n",
            " * \"AS IS\" BASIS, WITHOUT WARRANTIES OR CONDITIONS OF ANY\n",
            " * KIND, either express or implied.  See the License for the\n",
            " * specific language governing permissions and limitations\n",
            " * under the License.\n",
            " */\n",
            "\n",
            "#include <tvm/runtime/module.h>\n",
            "#include <tvm/runtime/registry.h>\n",
            "#include <vta/dpi/module.h>\n",
            "\n",
            "namespace vta {\n",
            "namespace driver {\n",
            "\n",
            "uint32_t get_half_addr(void *p, bool upper) {\n",
            "  if (upper) {\n",
            "    return ((uint64_t) ((uint64_t*) p)) >> 32;\n",
            "  } else {\n",
            "    return ((uint64_t) ((uint64_t*) p));\n",
            "  }\n",
            "}\n",
            "\n",
            "using vta::dpi::DPIModuleNode;\n",
            "using tvm::runtime::Module;\n",
            "\n",
            "class Device {\n",
            " public:\n",
            "  Device(Module module)\n",
            "      : module_(module) {\n",
            "    dpi_ = static_cast<DPIModuleNode*>(\n",
            "        module.operator->());\n",
            "  }\n",
            "\n",
            "  uint32_t Run(uint32_t c, uint32_t length, void* inp, void* out) {\n",
            "    uint32_t cycles;\n",
            "    this->Launch(c, length, inp, out);\n",
            "    cycles = this->WaitForCompletion();\n",
            "    dpi_->Finish();\n",
            "    return cycles;\n",
            "  }\n",
            "\n",
            " private:\n",
            "  void Launch(uint32_t c, uint32_t length, void* inp, void* out) {\n",
            "    dpi_->Launch(wait_cycles_);\n",
            "    dpi_->WriteReg(0x08, c);\n",
            "    dpi_->WriteReg(0x0c, length);\n",
            "    dpi_->WriteReg(0x10, get_half_addr(inp, false));\n",
            "    dpi_->WriteReg(0x14, get_half_addr(inp, true));\n",
            "    dpi_->WriteReg(0x18, get_half_addr(out, false));\n",
            "    dpi_->WriteReg(0x1c, get_half_addr(out, true));\n",
            "    dpi_->WriteReg(0x00, 0x1); // launch\n",
            "  }\n",
            "\n",
            "  uint32_t WaitForCompletion() {\n",
            "    uint32_t i, val;\n",
            "    for (i = 0; i < wait_cycles_; i++) {\n",
            "      val = dpi_->ReadReg(0x00);\n",
            "      if (val == 2) break; // finish\n",
            "    }\n",
            "    val = dpi_->ReadReg(0x04);\n",
            "    return val;\n",
            "  }\n",
            "\n",
            "  uint32_t wait_cycles_{100000000};\n",
            "  DPIModuleNode* dpi_;\n",
            "  Module module_;\n",
            "};\n",
            "\n",
            "using tvm::runtime::TVMRetValue;\n",
            "using tvm::runtime::TVMArgs;\n",
            "\n",
            "TVM_REGISTER_GLOBAL(\"tvm.vta.driver\")\n",
            ".set_body([](TVMArgs args, TVMRetValue* rv) {\n",
            "    Module dev_mod = args[0];\n",
            "    DLTensor* A = args[1];\n",
            "    DLTensor* B = args[2];\n",
            "    Device dev_(dev_mod);\n",
            "    uint32_t cycles = dev_.Run(static_cast<int>(args[3]), A->shape[0], A->data, B->data);\n",
            "    *rv = static_cast<int>(cycles);\n",
            "  });\n",
            "\n",
            "}  // namespace driver\n",
            "}  // namespace vta\n"
          ],
          "name": "stdout"
        }
      ]
    },
    {
      "cell_type": "markdown",
      "metadata": {
        "id": "m5F7fygIZ_P1",
        "colab_type": "text"
      },
      "source": [
        "### How to build"
      ]
    },
    {
      "cell_type": "code",
      "metadata": {
        "id": "6gzmonAiZ-ae",
        "colab_type": "code",
        "colab": {
          "base_uri": "https://localhost:8080/",
          "height": 544
        },
        "outputId": "199ac261-e7d3-4f34-96e8-6307f8d78371"
      },
      "source": [
        "%%bash\n",
        "cd /tvm/vta/apps/tsim_example\n",
        "make driver"
      ],
      "execution_count": 7,
      "outputs": [
        {
          "output_type": "stream",
          "text": [
            "mkdir -p /tvm/vta/apps/tsim_example/build\n",
            "cd /tvm/vta/apps/tsim_example/build && cmake .. && make\n",
            "-- The C compiler identification is GNU 7.4.0\n",
            "-- The CXX compiler identification is GNU 7.4.0\n",
            "-- Check for working C compiler: /usr/bin/cc\n",
            "-- Check for working C compiler: /usr/bin/cc -- works\n",
            "-- Detecting C compiler ABI info\n",
            "-- Detecting C compiler ABI info - done\n",
            "-- Detecting C compile features\n",
            "-- Detecting C compile features - done\n",
            "-- Check for working CXX compiler: /usr/bin/c++\n",
            "-- Check for working CXX compiler: /usr/bin/c++ -- works\n",
            "-- Detecting CXX compiler ABI info\n",
            "-- Detecting CXX compiler ABI info - done\n",
            "-- Detecting CXX compile features\n",
            "-- Detecting CXX compile features - done\n",
            "-- Configuring done\n",
            "-- Generating done\n",
            "-- Build files have been written to: /tvm/vta/apps/tsim_example/build\n",
            "make[1]: Entering directory '/tvm/vta/apps/tsim_example/build'\n",
            "make[2]: Entering directory '/tvm/vta/apps/tsim_example/build'\n",
            "make[3]: Entering directory '/tvm/vta/apps/tsim_example/build'\n",
            "Scanning dependencies of target sw\n",
            "make[3]: Leaving directory '/tvm/vta/apps/tsim_example/build'\n",
            "make[3]: Entering directory '/tvm/vta/apps/tsim_example/build'\n",
            "[ 50%] Building CXX object CMakeFiles/sw.dir/src/driver.cc.o\n",
            "[100%] Linking CXX shared library libsw.so\n",
            "make[3]: Leaving directory '/tvm/vta/apps/tsim_example/build'\n",
            "[100%] Built target sw\n",
            "make[2]: Leaving directory '/tvm/vta/apps/tsim_example/build'\n",
            "make[1]: Leaving directory '/tvm/vta/apps/tsim_example/build'\n"
          ],
          "name": "stdout"
        }
      ]
    },
    {
      "cell_type": "markdown",
      "metadata": {
        "id": "pwSWJVIDbB9O",
        "colab_type": "text"
      },
      "source": [
        "## Create a test"
      ]
    },
    {
      "cell_type": "code",
      "metadata": {
        "id": "50mFCsaacQfp",
        "colab_type": "code",
        "colab": {}
      },
      "source": [
        "import tvm\n",
        "import numpy as np\n",
        "import ctypes"
      ],
      "execution_count": 0,
      "outputs": []
    },
    {
      "cell_type": "code",
      "metadata": {
        "id": "Hv3C59bxb3gl",
        "colab_type": "code",
        "colab": {}
      },
      "source": [
        "def tsim(hw_backend):\n",
        "  def load_dll(dll):\n",
        "    try:\n",
        "      return [ctypes.CDLL(dll, ctypes.RTLD_GLOBAL)]\n",
        "    except OSError:\n",
        "      return []\n",
        "\n",
        "  def run(a, b, c):\n",
        "    if hw_backend in [\"chisel\"]:\n",
        "      hw_lib = '/tvm/vta/apps/tsim_example/hardware/chisel/build/libhw.so'\n",
        "    else:\n",
        "      hw_lib = '/tvm/vta/apps/tsim_example/hardware/verilog/build/libhw.so'\n",
        "    sw_lib = '/tvm/vta/apps/tsim_example/build/libsw.so'\n",
        "    load_dll(sw_lib)\n",
        "    f = tvm.get_global_func(\"tvm.vta.driver\")\n",
        "    m = tvm.module.load(hw_lib, \"vta-tsim\")\n",
        "    cycles = f(m, a, b, c)\n",
        "    print(\"cycles:{}\".format(cycles))\n",
        "  return run"
      ],
      "execution_count": 0,
      "outputs": []
    },
    {
      "cell_type": "code",
      "metadata": {
        "id": "CTqdN7vHb_kg",
        "colab_type": "code",
        "colab": {}
      },
      "source": [
        "def test_accel(n, c, hw_backend):\n",
        "    ctx = tvm.cpu(0)\n",
        "    rmax = 64\n",
        "    a = tvm.nd.array(np.random.randint(rmax, size=n).astype(\"uint64\"), ctx)\n",
        "    b = tvm.nd.array(np.zeros(n).astype(\"uint64\"), ctx)\n",
        "    f = tsim(hw_backend)\n",
        "    f(a, b, c)\n",
        "    for i, (x, y) in enumerate(zip(a.asnumpy(), b.asnumpy())):\n",
        "      print(\"i:{0:<4} c:{1:<4} a:{2:<4} b:{3:<4}\".format(i, c, x, y))"
      ],
      "execution_count": 0,
      "outputs": []
    },
    {
      "cell_type": "markdown",
      "metadata": {
        "id": "E2yX6a6qbDQ7",
        "colab_type": "text"
      },
      "source": [
        "## Run Accelerator in Verilog"
      ]
    },
    {
      "cell_type": "code",
      "metadata": {
        "id": "InAbJlhXcCfc",
        "colab_type": "code",
        "colab": {
          "base_uri": "https://localhost:8080/",
          "height": 119
        },
        "outputId": "e83239c0-1346-4ef9-c4a0-b9446dc0f2bc"
      },
      "source": [
        "test_accel(5, 2, \"verilog\")"
      ],
      "execution_count": 27,
      "outputs": [
        {
          "output_type": "stream",
          "text": [
            "cycles:24\n",
            "i:0    c:2    a:51   b:53  \n",
            "i:1    c:2    a:57   b:59  \n",
            "i:2    c:2    a:53   b:55  \n",
            "i:3    c:2    a:60   b:62  \n",
            "i:4    c:2    a:37   b:39  \n"
          ],
          "name": "stdout"
        }
      ]
    },
    {
      "cell_type": "markdown",
      "metadata": {
        "id": "D4Obo36bcqwS",
        "colab_type": "text"
      },
      "source": [
        "## Run Accelerator in Chisel"
      ]
    },
    {
      "cell_type": "code",
      "metadata": {
        "id": "WHG1D238cvgZ",
        "colab_type": "code",
        "colab": {
          "base_uri": "https://localhost:8080/",
          "height": 374
        },
        "outputId": "0e03e319-dc80-4cb0-ef86-f87ca20f6a4c"
      },
      "source": [
        "test_accel(20, 40, \"chisel\")"
      ],
      "execution_count": 28,
      "outputs": [
        {
          "output_type": "stream",
          "text": [
            "cycles:99\n",
            "i:0    c:40   a:0    b:40  \n",
            "i:1    c:40   a:38   b:78  \n",
            "i:2    c:40   a:21   b:61  \n",
            "i:3    c:40   a:0    b:40  \n",
            "i:4    c:40   a:55   b:95  \n",
            "i:5    c:40   a:63   b:103 \n",
            "i:6    c:40   a:58   b:98  \n",
            "i:7    c:40   a:59   b:99  \n",
            "i:8    c:40   a:57   b:97  \n",
            "i:9    c:40   a:39   b:79  \n",
            "i:10   c:40   a:46   b:86  \n",
            "i:11   c:40   a:53   b:93  \n",
            "i:12   c:40   a:4    b:44  \n",
            "i:13   c:40   a:33   b:73  \n",
            "i:14   c:40   a:4    b:44  \n",
            "i:15   c:40   a:48   b:88  \n",
            "i:16   c:40   a:20   b:60  \n",
            "i:17   c:40   a:61   b:101 \n",
            "i:18   c:40   a:30   b:70  \n",
            "i:19   c:40   a:20   b:60  \n"
          ],
          "name": "stdout"
        }
      ]
    }
  ]
}