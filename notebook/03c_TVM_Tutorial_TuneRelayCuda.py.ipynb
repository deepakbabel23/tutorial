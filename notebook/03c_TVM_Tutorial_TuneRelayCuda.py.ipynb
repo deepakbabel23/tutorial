{
  "nbformat": 4,
  "nbformat_minor": 0,
  "metadata": {
    "colab": {
      "name": "03c_TVM_Tutorial_TuneRelayCuda.py.ipynb",
      "version": "0.3.2",
      "provenance": []
    },
    "kernelspec": {
      "name": "python3",
      "display_name": "Python 3"
    },
    "accelerator": "GPU"
  },
  "cells": [
    {
      "cell_type": "markdown",
      "metadata": {
        "id": "SeiRi-zc0NuZ",
        "colab_type": "text"
      },
      "source": [
        "[![Open In Colab](https://colab.research.google.com/assets/colab-badge.svg)](https://colab.research.google.com/github/uwsampl/tutorial/blob/master/notebook/03c_TVM_Tutorial_TuneRelayCuda.py.ipynb)"
      ]
    },
    {
      "cell_type": "markdown",
      "metadata": {
        "id": "OjPh_HPwUSrB",
        "colab_type": "text"
      },
      "source": [
        "\n",
        "Auto-tuning a convolutional network for NVIDIA GPU\n",
        "==================================================\n",
        "**Author**: `Lianmin Zheng <https://github.com/merrymercy>`_, `Eddie Yan <https://github.com/eqy/>`_\n",
        "\n",
        "Auto-tuning for specific devices and workloads is critical for getting the\n",
        "best performance. This is a tutorial on how to tune a whole convolutional\n",
        "network for NVIDIA GPU and an extension of the previous tutorial, which focused on tuning a single operator for the GPU.\n",
        "\n",
        "The operator implementation for NVIDIA GPU in TVM is written in template form.\n",
        "Whereas the previous tutorial showed how to write a template, in this tutorial we will leverage previously defined templates in TVM's operator inventori (TOPI).\n",
        "As we have seen, each template has many tunable knobs (tile factor, unrolling, etc).\n",
        "We will tune all convolution and depthwise convolution operators\n",
        "in the neural network. After tuning, we produce a log file which stores\n",
        "the best knob values for all required operators. When the tvm compiler compiles\n",
        "these operators, it will query this log file to get the best knob values.\n",
        "\n",
        "We also released pre-tuned parameters for some NVIDIA GPUs. You can go to\n",
        "[NVIDIA GPU Benchmark](https://github.com/dmlc/tvm/wiki/Benchmark#nvidia-gpu)\n",
        "to see the results."
      ]
    },
    {
      "cell_type": "markdown",
      "metadata": {
        "id": "BYNJGUSR0Nub",
        "colab_type": "text"
      },
      "source": [
        "Please run the following block to ensure TVM is setup for *this notebook*, each notebook may have its own runtime."
      ]
    },
    {
      "cell_type": "code",
      "metadata": {
        "id": "bdiA6WVx0Nuc",
        "colab_type": "code",
        "colab": {}
      },
      "source": [
        "! gsutil cp \"gs://tvm-fcrc-binariesd5fce43e-8373-11e9-bfb6-0242ac1c0002/tvm.tar.gz\" /tmp/tvm.tar.gz\n",
        "! mkdir -p /tvm\n",
        "! tar -xf /tmp/tvm.tar.gz --strip-components=4 --directory /tvm\n",
        "! ls -la /tvm\n",
        "# Move this block after we are done with pkg step\n",
        "! bash /tvm/package.sh\n",
        "import sys\n",
        "sys.path.append('/tvm/python')\n",
        "sys.path.append('/tvm/topi/python')\n"
      ],
      "execution_count": 0,
      "outputs": []
    },
    {
      "cell_type": "markdown",
      "metadata": {
        "id": "sUXKS7OtKFod",
        "colab_type": "text"
      },
      "source": [
        "Starting a Tracker\n",
        "---------------------\n",
        "We start an RPC tracker as in the previous tutorial to manage hardware resources for tuning."
      ]
    },
    {
      "cell_type": "code",
      "metadata": {
        "id": "yq48ZP-BpjK2",
        "colab_type": "code",
        "colab": {}
      },
      "source": [
        "%%script bash --bg --out output --err error\n",
        "PYTHONPATH=/tvm/python:$PYTHONPATH && python3 -m tvm.exec.rpc_tracker --host 0.0.0.0 --port 9190 &\n",
        "while true; do\n",
        "  res=$(PYTHONPATH=/tvm/python:$PYTHONPATH && python3 -m tvm.exec.query_rpc_tracker --host 0.0.0.0 --port 9190 2>&1 | grep 'Cannot connect to tracker')\n",
        "  if [ \"$res\" == \"\" ]; then\n",
        "    echo \"OK @ \" $(date) \"...\" >> status.log\n",
        "  else\n",
        "    echo \"RESTARTING @ \" $(date) \"...\" >> status.log\n",
        "    PYTHONPATH=/tvm/python:$PYTHONPATH && python3 -m tvm.exec.rpc_tracker --host 0.0.0.0 --port 9190 &\n",
        "  fi\n",
        "  sleep 5\n",
        "done"
      ],
      "execution_count": 0,
      "outputs": []
    },
    {
      "cell_type": "markdown",
      "metadata": {
        "id": "0Ig3Y1KIKRWz",
        "colab_type": "text"
      },
      "source": [
        "Starting an RPC Server\n",
        "-------------------------------------\n",
        "We stat an RPC server as in the previous tutorial to profile schedule configurations during tuning (in this case the GPU associated with the colab runtime), and connect it to the tracker."
      ]
    },
    {
      "cell_type": "code",
      "metadata": {
        "id": "Tuwb66vmpjK9",
        "colab_type": "code",
        "colab": {}
      },
      "source": [
        "%%script bash --bg --out output2 --err error2\n",
        "while true; do\n",
        "echo \"started server at \" $(date) >> status.log\n",
        "PYTHONPATH=/tvm/python:/tvm/topi/python:$PYTHONPATH && python3 -m tvm.exec.rpc_server --key 1080ti --tracker 0.0.0.0:9190\n",
        "sleep 30\n",
        "done"
      ],
      "execution_count": 0,
      "outputs": []
    },
    {
      "cell_type": "markdown",
      "metadata": {
        "id": "Vyd3KLYqK7_u",
        "colab_type": "text"
      },
      "source": [
        "Check the status of the Tracker and Server\n",
        "--------------------------------------------------------------------\n",
        "We check that there is a free GPU device reported by the tracker before continuing."
      ]
    },
    {
      "cell_type": "code",
      "metadata": {
        "id": "iwcyXJkIpjLD",
        "colab_type": "code",
        "colab": {}
      },
      "source": [
        "! cat status.log | tail\n",
        "! PYTHONPATH=/tvm/python:$PYTHONPATH && python3 -m tvm.exec.query_rpc_tracker --host 0.0.0.0 --port 9190 "
      ],
      "execution_count": 0,
      "outputs": []
    },
    {
      "cell_type": "markdown",
      "metadata": {
        "id": "hIPeDGkEOtad",
        "colab_type": "text"
      },
      "source": [
        "Import required python modules:"
      ]
    },
    {
      "cell_type": "code",
      "metadata": {
        "id": "YrAnKCTgpjLJ",
        "colab_type": "code",
        "colab": {}
      },
      "source": [
        "import os\n",
        "import numpy as np\n",
        "import tvm\n",
        "from tvm import autotvm\n",
        "from tvm import relay\n",
        "import tvm.relay.testing\n",
        "from tvm.autotvm.tuner import XGBTuner, GATuner, RandomTuner, GridSearchTuner\n",
        "from tvm.contrib.util import tempdir\n",
        "import tvm.contrib.graph_runtime as runtime"
      ],
      "execution_count": 0,
      "outputs": []
    },
    {
      "cell_type": "markdown",
      "metadata": {
        "id": "35ZwaCgjOx-I",
        "colab_type": "text"
      },
      "source": [
        " Define Network\n",
        " --------------\n",
        "First we need to define the network in relay frontend API.\n",
        "We can load some pre-defined network from :code:`nnvm.testing`.\n",
        "We can also load models from MXNet, ONNX and TensorFlow.\n",
        "\n",
        "\n"
      ]
    },
    {
      "cell_type": "code",
      "metadata": {
        "id": "5U927Df_OyPA",
        "colab_type": "code",
        "colab": {}
      },
      "source": [
        "def get_network(name, batch_size):\n",
        "    \"\"\"Get the symbol definition and random weight of a network\"\"\"\n",
        "    input_shape = (batch_size, 3, 224, 224)\n",
        "    output_shape = (batch_size, 1000)\n",
        "\n",
        "    if \"resnet\" in name:\n",
        "        n_layer = int(name.split('-')[1])\n",
        "        net, params = relay.testing.resnet.get_workload(num_layers=n_layer, batch_size=batch_size, dtype=dtype)\n",
        "    elif \"vgg\" in name:\n",
        "        n_layer = int(name.split('-')[1])\n",
        "        net, params = relay.testing.vgg.get_workload(num_layers=n_layer, batch_size=batch_size, dtype=dtype)\n",
        "    elif name == 'mobilenet':\n",
        "        net, params = relay.testing.mobilenet.get_workload(batch_size=batch_size, dtype=dtype)\n",
        "    elif name == 'squeezenet_v1.1':\n",
        "        net, params = relay.testing.squeezenet.get_workload(batch_size=batch_size, version='1.1', dtype=dtype)\n",
        "    elif name == 'inception_v3':\n",
        "        input_shape = (1, 3, 299, 299)\n",
        "        net, params = relay.testing.inception_v3.get_workload(batch_size=batch_size, dtype=dtype)\n",
        "    elif name == 'mxnet':\n",
        "        # an example for mxnet model\n",
        "        from mxnet.gluon.model_zoo.vision import get_model\n",
        "        block = get_model('resnet18_v1', pretrained=True)\n",
        "        net, params = relay.frontend.from_mxnet(block, shape={'data': input_shape}, dtype=dtype)\n",
        "        net = relay.Function(net.params, relay.nn.softmax(net.body), None, net.type_params, net.attrs)\n",
        "    else:\n",
        "        raise ValueError(\"Unsupported network: \" + name)\n",
        "\n",
        "    return net, params, input_shape, output_shape\n",
        "\n"
      ],
      "execution_count": 0,
      "outputs": []
    },
    {
      "cell_type": "markdown",
      "metadata": {
        "id": "MXK6iJXhO-gu",
        "colab_type": "text"
      },
      "source": [
        "Set Tuning Options\n",
        " ------------------\n",
        "Before tuning, we apply some configuration options. Thse include the target device (CUDA GPU), the selected network, paths for logging, and tuning parameters. The tuning parameters specify which tuner to use and how many trials (measurement on hardware) to perform before moving to the next tuning task.\n",
        "\n",
        "These parameters are set given the constraints of the colab runtime (CPU resources) and stability of long running jobs and for demo purposes. We recommend running full-scale experiments on dedicated hardware.\n",
        "If settings with larger time budgets,  set :code:`n_trial`, :code:`early_stopping` larger, which makes the tuning runs longer.\n",
        "If you have multiple devices, you can use all of them for measurement to accelerate the tuning process. (see the 'Scale up measurement` section below)."
      ]
    },
    {
      "cell_type": "code",
      "metadata": {
        "id": "ju3XOmuVO-t0",
        "colab_type": "code",
        "colab": {}
      },
      "source": [
        "#### DEVICE CONFIG ####\n",
        "target = tvm.target.cuda()\n",
        "\n",
        "#### TUNING OPTION ####\n",
        "network = 'resnet-18'\n",
        "log_file = \"%s.log\" % network\n",
        "dtype = 'float32'\n",
        "\n",
        "tuning_option = {\n",
        "    'log_filename': log_file,\n",
        "\n",
        "    'tuner': 'xgb',\n",
        "    'n_trial': 128,\n",
        "    'early_stopping': 32,\n",
        "\n",
        "    'measure_option': autotvm.measure_option(\n",
        "        builder=autotvm.LocalBuilder(timeout=2),\n",
        "        #runner=autotvm.LocalRunner(number=20, repeat=3, timeout=4, min_repeat_ms=150),\n",
        "        runner=autotvm.RPCRunner(\n",
        "            '1080ti',  # change the device key to your key\n",
        "            '0.0.0.0', 9190,\n",
        "            number=20, repeat=3, timeout=1, min_repeat_ms=50)\n",
        "    ),\n",
        "}\n",
        "\n"
      ],
      "execution_count": 0,
      "outputs": []
    },
    {
      "cell_type": "markdown",
      "metadata": {
        "id": "SbWifU_7UaDU",
        "colab_type": "text"
      },
      "source": [
        "Begin Tuning\n",
        "------------\n",
        "Now we can extract tuning tasks from the network and begin tuning.\n",
        "Here, we provide a simple utility function to tune a list of tasks.\n",
        "This function is just an initial implementation which tunes them in sequential order.\n",
        "We will introduce a more sophisticated tuning scheduler in the future."
      ]
    },
    {
      "cell_type": "code",
      "metadata": {
        "id": "iOML20VvUaZ8",
        "colab_type": "code",
        "colab": {}
      },
      "source": [
        "# You can skip the implementation of this function for this tutorial.\n",
        "def tune_tasks(tasks,\n",
        "               measure_option,\n",
        "               tuner='xgb',\n",
        "               n_trial=1000,\n",
        "               early_stopping=None,\n",
        "               log_filename='tuning.log',\n",
        "               use_transfer_learning=True,\n",
        "               try_winograd=True):\n",
        "    if try_winograd:\n",
        "        for i in range(len(tasks)):\n",
        "            try:  # try winograd template\n",
        "                tsk = autotvm.task.create(tasks[i].name, tasks[i].args,\n",
        "                                          tasks[i].target, tasks[i].target_host, 'winograd')\n",
        "                input_channel = tsk.workload[1][1]\n",
        "                if input_channel >= 64:\n",
        "                    tasks[i] = tsk\n",
        "            except Exception:\n",
        "                pass\n",
        "\n",
        "    # create tmp log file\n",
        "    tmp_log_file = log_filename + \".tmp\"\n",
        "    if os.path.exists(tmp_log_file):\n",
        "        os.remove(tmp_log_file)\n",
        "\n",
        "    for i, tsk in enumerate(reversed(tasks)):\n",
        "        prefix = \"[Task %2d/%2d] \" %(i+1, len(tasks))\n",
        "\n",
        "        # create tuner\n",
        "        if tuner == 'xgb' or tuner == 'xgb-rank':\n",
        "            tuner_obj = XGBTuner(tsk, feature_type='knob', loss_type='rank')\n",
        "        elif tuner == 'ga':\n",
        "            tuner_obj = GATuner(tsk, pop_size=100)\n",
        "        elif tuner == 'random':\n",
        "            tuner_obj = RandomTuner(tsk)\n",
        "        elif tuner == 'gridsearch':\n",
        "            tuner_obj = GridSearchTuner(tsk)\n",
        "        else:\n",
        "            raise ValueError(\"Invalid tuner: \" + tuner)\n",
        "\n",
        "        if use_transfer_learning:\n",
        "            if os.path.isfile(tmp_log_file):\n",
        "                tuner_obj.load_history(autotvm.record.load_from_file(tmp_log_file))\n",
        "\n",
        "        # do tuning\n",
        "        tuner_obj.tune(n_trial=min(n_trial, len(tsk.config_space)),\n",
        "                       early_stopping=early_stopping,\n",
        "                       measure_option=measure_option,\n",
        "                       callbacks=[\n",
        "                           autotvm.callback.progress_bar(n_trial, prefix=prefix),\n",
        "                           autotvm.callback.log_to_file(tmp_log_file)])\n",
        "\n",
        "    # pick best records to a cache file\n",
        "    autotvm.record.pick_best(tmp_log_file, log_filename)\n",
        "    os.remove(tmp_log_file)"
      ],
      "execution_count": 0,
      "outputs": []
    },
    {
      "cell_type": "markdown",
      "metadata": {
        "id": "PKt7yceqUrx3",
        "colab_type": "text"
      },
      "source": [
        "Next, we launch tuning jobs and evaluate the end-to-end performance.\n",
        "`tune_and_evaluate` extracts the tuning tasks (the operators/workloads to tune) from the specified network and tunes them.\n",
        "After tuning, `autotvm.apply_history_best` applies the best configurations logged during tuning and evaluates the end-to-end performance achieved when running the entire model using tuned operators."
      ]
    },
    {
      "cell_type": "code",
      "metadata": {
        "id": "I9f46QUKRuC0",
        "colab_type": "code",
        "colab": {}
      },
      "source": [
        "def tune_and_evaluate(tuning_opt):\n",
        "    # extract workloads from relay program\n",
        "    print(\"Extract tasks...\")\n",
        "    net, params, input_shape, out_shape = get_network(network, batch_size=1)\n",
        "    tasks = autotvm.task.extract_from_program(net, target=target,\n",
        "                                            params=params, ops=(relay.op.nn.conv2d,))\n",
        "\n",
        "    # run tuning tasks\n",
        "    print(\"Tuning...\")\n",
        "    tune_tasks(tasks, **tuning_opt)\n",
        "\n",
        "    # compile kernels with history best records\n",
        "    with autotvm.apply_history_best(log_file):\n",
        "        print(\"Compile...\")\n",
        "        with relay.build_config(opt_level=3):\n",
        "            graph, lib, params = relay.build_module.build(\n",
        "                net, target=target, params=params)\n",
        "\n",
        "        # export library\n",
        "        tmp = tempdir()\n",
        "        filename = \"net.tar\"\n",
        "        lib.export_library(tmp.relpath(filename))\n",
        "\n",
        "        # load parameters\n",
        "        ctx = tvm.context(str(target), 0)\n",
        "        module = runtime.create(graph, lib, ctx)\n",
        "        data_tvm = tvm.nd.array((np.random.uniform(size=input_shape)).astype(dtype))\n",
        "        module.set_input('data', data_tvm)\n",
        "        module.set_input(**params)\n",
        "\n",
        "        # evaluate\n",
        "        print(\"Evaluate inference time cost...\")\n",
        "        ftimer = module.module.time_evaluator(\"run\", ctx, number=1, repeat=600)\n",
        "        prof_res = np.array(ftimer().results) * 1000  # convert to millisecond\n",
        "        print(\"Mean inference time (std dev): %.2f ms (%.2f ms)\" %\n",
        "              (np.mean(prof_res), np.std(prof_res)))\n",
        "\n",
        "tune_and_evaluate(tuning_option)\n",
        "\n",
        "#################################################################\n",
        "# Scale up measurement by using multiple devices\n",
        "# ----------------------------------------------\n",
        "#\n",
        "# If you have multiple devices, you can use all of them for measurement.\n",
        "# TVM uses the RPC Tracker to manage distributed devices.\n",
        "# The RPC Tracker is a centralized master node. We can register all devices to\n",
        "# the tracker. For example, if we have 10 GPU cards, we can register all of them\n",
        "# to the tracker, and run 10 measurements in parallel, accelerating the tuning process.\n",
        "#\n",
        "# To start an RPC tracker, run this command on the host machine. The tracker is\n",
        "# required during the whole tuning process, so we need to open a new terminal for\n",
        "# this command:\n",
        "#\n",
        "# .. code-block:: bash\n",
        "#\n",
        "#   python -m tvm.exec.rpc_tracker --host=0.0.0.0 --port=9190\n",
        "#\n",
        "# The expected output is\n",
        "#\n",
        "# .. code-block:: bash\n",
        "#\n",
        "#   INFO:RPCTracker:bind to 0.0.0.0:9190\n",
        "#\n",
        "# Then open another new terminal for the RPC server. We need to start one server\n",
        "# for each dedicated device. We use a string key to distinguish the types of devices.\n",
        "# You can pick a name you like.\n",
        "# (Note: For rocm backend, there are some internal errors with the compiler,\n",
        "# we need to add `--no-fork` to the argument list.)\n",
        "#\n",
        "# .. code-block:: bash\n",
        "#\n",
        "#     python -m tvm.exec.rpc_server --tracker=0.0.0.0:9190 --key=1080ti\n",
        "#\n",
        "# After registering devices, we can confirm it by querying rpc_tracker\n",
        "#\n",
        "# .. code-block:: bash\n",
        "#\n",
        "#   python -m tvm.exec.query_rpc_tracker --host=0.0.0.0 --port=9190\n",
        "#\n",
        "# For example, if we have four 1080ti, two titanx and one gfx900, the output can be\n",
        "#\n",
        "# .. code-block:: bash\n",
        "#\n",
        "#    Queue Status\n",
        "#    ----------------------------------\n",
        "#    key          total  free  pending\n",
        "#    ----------------------------------\n",
        "#    1080ti       4      4     0\n",
        "#    titanx       2      2     0\n",
        "#    gfx900       1      1     0\n",
        "#    ----------------------------------\n",
        "#\n",
        "# Finally, we need to change the tuning option to use RPCRunner. Use the code below\n",
        "# to replace the corresponding part above.\n",
        "\n",
        "tuning_option = {\n",
        "    'log_filename': log_file,\n",
        "\n",
        "    'tuner': 'gatuner',\n",
        "    'n_trial': 2000,\n",
        "    'early_stopping': 200,\n",
        "\n",
        "    'measure_option': autotvm.measure_option(\n",
        "        builder=autotvm.LocalBuilder(timeout=10),\n",
        "        runner=autotvm.RPCRunner(\n",
        "            '1080ti',  # change the device key to your key\n",
        "            '0.0.0.0', 9190,\n",
        "            number=20, repeat=3, timeout=2, min_repeat_ms=50),\n",
        "    ),\n",
        "}"
      ],
      "execution_count": 0,
      "outputs": []
    }
  ]
}