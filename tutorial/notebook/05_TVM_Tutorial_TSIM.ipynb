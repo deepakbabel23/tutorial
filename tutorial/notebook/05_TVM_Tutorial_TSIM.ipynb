{
  "nbformat": 4,
  "nbformat_minor": 0,
  "metadata": {
    "colab": {
      "name": "tsim.ipynb",
      "version": "0.3.2",
      "provenance": [],
      "collapsed_sections": [],
      "toc_visible": true,
      "include_colab_link": true
    },
    "kernelspec": {
      "name": "python3",
      "display_name": "Python 3"
    }
  },
  "cells": [
    {
      "cell_type": "markdown",
      "metadata": {
        "id": "view-in-github",
        "colab_type": "text"
      },
      "source": [
        "<a href=\"https://colab.research.google.com/github/uwsampl/tutorial/blob/master/tutorial/notebook/05_TVM_Tutorial_TSIM.ipynb\" target=\"_parent\"><img src=\"https://colab.research.google.com/assets/colab-badge.svg\" alt=\"Open In Colab\"/></a>"
      ]
    },
    {
      "cell_type": "markdown",
      "metadata": {
        "id": "OH2iSBsvWKuy",
        "colab_type": "text"
      },
      "source": [
        "# TSIM: Cycle Accurate Simulation for Custom HW in TVM\n",
        "\n",
        "TSIM uses [Verilator](https://www.veripool.org/wiki/verilator) to integrate accelerators, including VTA, into TVM and provides flexibility in the hardware language used to implement them.\n",
        "For example, one could use OpenCL, C/C++ or Chisel3 to describe a VTA design that would eventually be compiled down to Verilog, since it is the standard input language for FPGA/ASIC tools.\n",
        "Additionally, Verilator supports the Direct Programming Interface (DPI), which is part of the Verilog standard and provides a mechanism to support foreign programming languages.\n",
        "\n",
        "We leveraged these features available in Verilator and created DPI modules that provide interfaces to hardware and software. The following figure describes at higher level what TSIM can do.\n",
        "\n",
        "<img src=\"https://raw.githubusercontent.com/vegaluisjose/fcrc-images/master/overview.png\" width=\"640\">\n",
        "\n",
        "## Hardware DPI module\n",
        "\n",
        "Normally, a hardware accelerator interface can be simplified in two main components, one for control and another for data. The control interface is driven by a host CPU, whereas the data interface is connected to either external memories (DRAM) or internal memories in the form of scratchpads or caches. Currently, we support a shared-memory model between the host and accelerator. This implies that the host is in charge of passing values and addresses or pointers, including data and code if needed, to the accelerator.\n",
        "\n",
        "\n",
        "There are two hardware modules written in Verilog implementing these two interfaces called `VTAHostDPI.v` and `VTAMemDPI.v`. Accelerators implemented in Verilog can use these modules directly. However, we also provide Chisel3 wrappers `BlackBox` for accelerators described in this language.\n",
        "\n",
        "The following block diagram shows how to wire-up an accelerator to the host and memory interface.\n",
        "\n",
        "<img src=\"https://raw.githubusercontent.com/vegaluisjose/fcrc-images/master/hwapi.png\" width=\"640\">\n",
        "\n",
        "## Software DPI module\n",
        "\n",
        "The software DPI module allows users to write drivers to handle the accelerator. For example, some accelerators may need to know memory addresses before issuing data or code requests to memory. This module provides this support via functions that write and read register in the accelerator such as:\n",
        "```c\n",
        "\n",
        "// Read an accelerator register\n",
        "uint32_t ReadReg(int addr);\n",
        "\n",
        "// Write an accelerator register\n",
        "void WriteReg(int addr, uint32_t value);\n",
        "```\n",
        "\n",
        "In addition to accessing registers, users can manage the hardware simulation thread with launch and finish functions.\n",
        "\n",
        "```c\n",
        "// Launch hardware simulation until accelerator finishes or reach max_cycles\n",
        "void Launch(uint64_t max_cycles);\n",
        "\n",
        "// Finish hardware simulation\n",
        "void Finish();\n",
        "```"
      ]
    },
    {
      "cell_type": "markdown",
      "metadata": {
        "id": "1lk73yOB9u8-",
        "colab_type": "text"
      },
      "source": [
        "# Setup"
      ]
    },
    {
      "cell_type": "markdown",
      "metadata": {
        "id": "qp-KxyNpv-iS",
        "colab_type": "text"
      },
      "source": [
        "## Get TVM"
      ]
    },
    {
      "cell_type": "code",
      "metadata": {
        "id": "s8etCk-x7mlG",
        "colab_type": "code",
        "colab": {}
      },
      "source": [
        "try:\n",
        "  import google.colab\n",
        "  IN_COLAB = True\n",
        "except:\n",
        "  IN_COLAB = False\n",
        "\n",
        "if IN_COLAB:\n",
        "    ! gsutil cp \"gs://tvm-fcrc-binariesd5fce43e-8373-11e9-bfb6-0242ac1c0002/tvm.tar.gz\" /tmp/tvm.tar.gz\n",
        "    ! mkdir -p /tvm\n",
        "    ! tar -xf /tmp/tvm.tar.gz --strip-components=4 --directory /tvm\n",
        "    ! ls -la /tvm\n",
        "    ! bash /tvm/package.sh\n",
        "    # Add TVM to the Python path.\n",
        "    import sys\n",
        "    sys.path.append('/tvm/python')\n",
        "    sys.path.append('/tvm/topi/python')\n",
        "    sys.path.append('/tvm/nnvm/python')\n",
        "    sys.path.append('/tvm/vta/python')\n",
        "else:\n",
        "    print(\"Notebook executing locally, skipping Colab setup ...\")"
      ],
      "execution_count": 0,
      "outputs": []
    },
    {
      "cell_type": "markdown",
      "metadata": {
        "id": "AatLeNA290fc",
        "colab_type": "text"
      },
      "source": [
        "# Vanilla accelerator\n",
        "\n",
        "We built a vanilla accelerator to showcase how TSIM works in TVM. The vanilla accelerator is implemented in two hardware backends, including Verilog and Chisel3, to demonstrate the flexibility of this infrastructure and help users understand how to add accelerators written in Verilog and \"hardware languages\" that can generate Verilog. \n",
        "\n",
        "The accelerator performs the operation **A = B + C**, where **A** and **B** are 1-D tensors and **C** just a constant. The following figure shows the hardware architecture.\n",
        "\n",
        "<img src=\"https://raw.githubusercontent.com/vegaluisjose/fcrc-images/master/accel.png\" width=\"320\">"
      ]
    },
    {
      "cell_type": "markdown",
      "metadata": {
        "id": "fEODcTJPNuwf",
        "colab_type": "text"
      },
      "source": [
        "## Verilog backend"
      ]
    },
    {
      "cell_type": "markdown",
      "metadata": {
        "id": "E19tjgUkaadY",
        "colab_type": "text"
      },
      "source": [
        "### Source files"
      ]
    },
    {
      "cell_type": "code",
      "metadata": {
        "id": "DorxT0OpbNLZ",
        "colab_type": "code",
        "outputId": "ced56d3e-5c51-4942-c41b-b1609d4d39d6",
        "colab": {
          "base_uri": "https://localhost:8080/",
          "height": 170
        }
      },
      "source": [
        "%%bash\n",
        "tree -C /tvm/vta/apps/tsim_example/hardware/verilog"
      ],
      "execution_count": 2,
      "outputs": [
        {
          "output_type": "stream",
          "text": [
            "\u001b[01;34m/tvm/vta/apps/tsim_example/hardware/verilog\u001b[00m\n",
            "├── Makefile\n",
            "└── \u001b[01;34msrc\u001b[00m\n",
            "    ├── Accel.v\n",
            "    ├── Compute.v\n",
            "    ├── RegFile.v\n",
            "    └── TestAccel.v\n",
            "\n",
            "1 directory, 5 files\n"
          ],
          "name": "stdout"
        }
      ]
    },
    {
      "cell_type": "markdown",
      "metadata": {
        "id": "KMqRb-psaeHf",
        "colab_type": "text"
      },
      "source": [
        "### How to build"
      ]
    },
    {
      "cell_type": "code",
      "metadata": {
        "id": "z-HdlAPObgQW",
        "colab_type": "code",
        "colab": {
          "base_uri": "https://localhost:8080/",
          "height": 683
        },
        "outputId": "ad374c53-338a-405e-b1b8-df5265912aa3"
      },
      "source": [
        "%%bash\n",
        "cd /tvm/vta/apps/tsim_example/hardware/verilog\n",
        "make"
      ],
      "execution_count": 3,
      "outputs": [
        {
          "output_type": "stream",
          "text": [
            "mkdir -p /tvm/vta/apps/tsim_example/hardware/verilog/build\n",
            "verilator --cc +define+RANDOMIZE_GARBAGE_ASSIGN +define+RANDOMIZE_REG_INIT +define+RANDOMIZE_MEM_INIT --x-assign unique --output-split 20000 --output-split-cfuncs 20000 --top-module TestAccel -Mdir /tvm/vta/apps/tsim_example/hardware/verilog/build /tvm/vta/apps/tsim_example/hardware/verilog/src/Accel.v /tvm/vta/apps/tsim_example/hardware/verilog/src/RegFile.v /tvm/vta/apps/tsim_example/hardware/verilog/src/TestAccel.v /tvm/vta/apps/tsim_example/hardware/verilog/src/Compute.v /tvm/vta/hardware/chisel/src/main/resources/verilog/VTAMemDPI.v /tvm/vta/hardware/chisel/src/main/resources/verilog/VTAHostDPI.v\n",
            "g++ -O2 -Wall -fPIC -shared -fvisibility=hidden -std=c++11 -DVL_TSIM_NAME=VTestAccel -DVL_PRINTF=printf -DVL_USER_FINISH -DVM_COVERAGE=0 -DVM_SC=0 -Wno-sign-compare -include VTestAccel.h -I/tvm/vta/apps/tsim_example/hardware/verilog/build -I/usr/share/verilator/include -I/usr/share/verilator/include/vltstd -I/tvm/vta/include -I/tvm/include -I/tvm/3rdparty/dlpack/include -DVM_TRACE=0 /usr/share/verilator/include/verilated.cpp /usr/share/verilator/include/verilated_dpi.cpp /tvm/vta/apps/tsim_example/hardware/verilog/build/VTestAccel.cpp /tvm/vta/apps/tsim_example/hardware/verilog/build/VTestAccel__Slow.cpp /tvm/vta/apps/tsim_example/hardware/verilog/build/VTestAccel__Syms.cpp /tvm/vta/apps/tsim_example/hardware/verilog/build/VTestAccel__Dpi.cpp /tvm/vta/hardware/dpi/tsim_device.cc -o /tvm/vta/apps/tsim_example/hardware/verilog/build/libhw.so\n"
          ],
          "name": "stdout"
        },
        {
          "output_type": "stream",
          "text": [
            "/tvm/vta/apps/tsim_example/hardware/verilog/build/VTestAccel.cpp: In static member function ‘static void VTestAccel::_sequent__TOP__1(VTestAccel__Syms*)’:\n",
            "/tvm/vta/apps/tsim_example/hardware/verilog/build/VTestAccel.cpp:485:6: warning: ‘__Vdlyvval__TestAccel__DOT__accel__DOT__rf__DOT__rf__v15’ may be used uninitialized in this function [-Wmaybe-uninitialized]\n",
            "  vlTOPp->TestAccel__DOT__accel__DOT__rf__DOT__rf[6U]\n",
            "  ~~~~~~~~~~~~~~~~~~~~~~~~~~~~~~~~~~~~~~~~~~~~~~~~~~~\n",
            "      = __Vdlyvval__TestAccel__DOT__accel__DOT__rf__DOT__rf__v15;\n",
            "      ^~~~~~~~~~~~~~~~~~~~~~~~~~~~~~~~~~~~~~~~~~~~~~~~~~~~~~~~~~\n",
            "/tvm/vta/apps/tsim_example/hardware/verilog/build/VTestAccel.cpp:478:6: warning: ‘__Vdlyvval__TestAccel__DOT__accel__DOT__rf__DOT__rf__v13’ may be used uninitialized in this function [-Wmaybe-uninitialized]\n",
            "  vlTOPp->TestAccel__DOT__accel__DOT__rf__DOT__rf[5U]\n",
            "  ~~~~~~~~~~~~~~~~~~~~~~~~~~~~~~~~~~~~~~~~~~~~~~~~~~~\n",
            "      = __Vdlyvval__TestAccel__DOT__accel__DOT__rf__DOT__rf__v13;\n",
            "      ^~~~~~~~~~~~~~~~~~~~~~~~~~~~~~~~~~~~~~~~~~~~~~~~~~~~~~~~~~\n",
            "/tvm/vta/apps/tsim_example/hardware/verilog/build/VTestAccel.cpp:471:6: warning: ‘__Vdlyvval__TestAccel__DOT__accel__DOT__rf__DOT__rf__v11’ may be used uninitialized in this function [-Wmaybe-uninitialized]\n",
            "  vlTOPp->TestAccel__DOT__accel__DOT__rf__DOT__rf[4U]\n",
            "  ~~~~~~~~~~~~~~~~~~~~~~~~~~~~~~~~~~~~~~~~~~~~~~~~~~~\n",
            "      = __Vdlyvval__TestAccel__DOT__accel__DOT__rf__DOT__rf__v11;\n",
            "      ^~~~~~~~~~~~~~~~~~~~~~~~~~~~~~~~~~~~~~~~~~~~~~~~~~~~~~~~~~\n",
            "/tvm/vta/apps/tsim_example/hardware/verilog/build/VTestAccel__Slow.cpp: In constructor ‘VTestAccel::VTestAccel(const char*)’:\n",
            "/tvm/vta/apps/tsim_example/hardware/verilog/build/VTestAccel__Slow.cpp:18:89: warning: ‘new’ of type ‘VTestAccel__Syms’ with extended alignment 64 [-Waligned-new=]\n",
            "     VTestAccel__Syms* __restrict vlSymsp = __VlSymsp = new VTestAccel__Syms(this, name());\n",
            "                                                                                         ^\n",
            "/tvm/vta/apps/tsim_example/hardware/verilog/build/VTestAccel__Slow.cpp:18:89: note: uses ‘void* operator new(long unsigned int)’, which does not have an alignment parameter\n",
            "/tvm/vta/apps/tsim_example/hardware/verilog/build/VTestAccel__Slow.cpp:18:89: note: use ‘-faligned-new’ to enable C++17 over-aligned new support\n",
            "/tvm/vta/hardware/dpi/tsim_device.cc: In function ‘int VTADPISim(uint64_t)’:\n",
            "<command-line>:0:14: warning: ‘new’ of type ‘VTestAccel’ with extended alignment 128 [-Waligned-new=]\n",
            "/tvm/vta/hardware/dpi/tsim_device.cc:89:27: note: in expansion of macro ‘VL_TSIM_NAME’\n",
            "   VL_TSIM_NAME* top = new VL_TSIM_NAME;\n",
            "                           ^~~~~~~~~~~~\n",
            "<command-line>:0:14: note: uses ‘void* operator new(long unsigned int)’, which does not have an alignment parameter\n",
            "/tvm/vta/hardware/dpi/tsim_device.cc:89:27: note: in expansion of macro ‘VL_TSIM_NAME’\n",
            "   VL_TSIM_NAME* top = new VL_TSIM_NAME;\n",
            "                           ^~~~~~~~~~~~\n",
            "<command-line>:0:14: note: use ‘-faligned-new’ to enable C++17 over-aligned new support\n",
            "/tvm/vta/hardware/dpi/tsim_device.cc:89:27: note: in expansion of macro ‘VL_TSIM_NAME’\n",
            "   VL_TSIM_NAME* top = new VL_TSIM_NAME;\n",
            "                           ^~~~~~~~~~~~\n"
          ],
          "name": "stderr"
        }
      ]
    },
    {
      "cell_type": "markdown",
      "metadata": {
        "id": "U2f-4bS_anKl",
        "colab_type": "text"
      },
      "source": [
        "## Chisel3 backend"
      ]
    },
    {
      "cell_type": "markdown",
      "metadata": {
        "id": "B4yPwse4apGO",
        "colab_type": "text"
      },
      "source": [
        "### Source files"
      ]
    },
    {
      "cell_type": "code",
      "metadata": {
        "id": "79v7pEeNbYPp",
        "colab_type": "code",
        "outputId": "ae835052-61f6-4daf-d4bb-5d87fb3891cc",
        "colab": {
          "base_uri": "https://localhost:8080/",
          "height": 238
        }
      },
      "source": [
        "%%bash\n",
        "tree -C /tvm/vta/apps/tsim_example/hardware/chisel/src"
      ],
      "execution_count": 4,
      "outputs": [
        {
          "output_type": "stream",
          "text": [
            "\u001b[01;34m/tvm/vta/apps/tsim_example/hardware/chisel/src\u001b[00m\n",
            "├── \u001b[01;34mmain\u001b[00m\n",
            "│   └── \u001b[01;34mscala\u001b[00m\n",
            "│       └── \u001b[01;34maccel\u001b[00m\n",
            "│           ├── Accel.scala\n",
            "│           ├── Compute.scala\n",
            "│           └── RegFile.scala\n",
            "└── \u001b[01;34mtest\u001b[00m\n",
            "    └── \u001b[01;34mscala\u001b[00m\n",
            "        └── \u001b[01;34mdut\u001b[00m\n",
            "            └── TestAccel.scala\n",
            "\n",
            "6 directories, 4 files\n"
          ],
          "name": "stdout"
        }
      ]
    },
    {
      "cell_type": "markdown",
      "metadata": {
        "id": "ubsiaH9iaqfF",
        "colab_type": "text"
      },
      "source": [
        "### How to build"
      ]
    },
    {
      "cell_type": "code",
      "metadata": {
        "id": "b4uMRE07Z2-9",
        "colab_type": "code",
        "colab": {
          "base_uri": "https://localhost:8080/",
          "height": 1380
        },
        "outputId": "eef261cd-b59b-4c5a-a14e-d90246b379a7"
      },
      "source": [
        "%%bash\n",
        "cd /tvm/vta/apps/tsim_example/hardware/chisel\n",
        "make"
      ],
      "execution_count": 6,
      "outputs": [
        {
          "output_type": "stream",
          "text": [
            "cd /tvm/vta/hardware/chisel && sbt publishLocal\n",
            "\u001b[0m[\u001b[0m\u001b[0minfo\u001b[0m] \u001b[0m\u001b[0mLoading settings from plugins.sbt ...\u001b[0m\n",
            "\u001b[0m[\u001b[0m\u001b[0minfo\u001b[0m] \u001b[0m\u001b[0mLoading project definition from /tvm/vta/hardware/chisel/project\u001b[0m\n",
            "\u001b[0m[\u001b[0m\u001b[0minfo\u001b[0m] \u001b[0m\u001b[0mLoading settings from build.sbt ...\u001b[0m\n",
            "\u001b[0m[\u001b[0m\u001b[0minfo\u001b[0m] \u001b[0m\u001b[0mSet current project to vta (in build file:/tvm/vta/hardware/chisel/)\u001b[0m\n",
            "\u001b[0m[\u001b[0m\u001b[0minfo\u001b[0m] \u001b[0m\u001b[0mPackaging /tvm/vta/hardware/chisel/target/scala-2.11/vta_2.11-0.1.0-SNAPSHOT-sources.jar ...\u001b[0m\n",
            "\u001b[0m[\u001b[0m\u001b[0minfo\u001b[0m] \u001b[0m\u001b[0mDone packaging.\u001b[0m\n",
            "\u001b[0m[\u001b[0m\u001b[0minfo\u001b[0m] \u001b[0m\u001b[0mWrote /tvm/vta/hardware/chisel/target/scala-2.11/vta_2.11-0.1.0-SNAPSHOT.pom\u001b[0m\n",
            "\u001b[0m[\u001b[0m\u001b[0minfo\u001b[0m] \u001b[0m\u001b[0mMain Scala API documentation to /tvm/vta/hardware/chisel/target/scala-2.11/api...\u001b[0m\n",
            "\u001b[0m[\u001b[0m\u001b[33mwarn\u001b[0m] \u001b[0m\u001b[0mMultiple main classes detected.  Run 'show discoveredMainClasses' to see the list\u001b[0m\n",
            "\u001b[0m[\u001b[0m\u001b[0minfo\u001b[0m] \u001b[0m\u001b[0mPackaging /tvm/vta/hardware/chisel/target/scala-2.11/vta_2.11-0.1.0-SNAPSHOT.jar ...\u001b[0m\n",
            "\u001b[0m[\u001b[0m\u001b[0minfo\u001b[0m] \u001b[0m\u001b[0mDone packaging.\u001b[0m\n",
            "\u001b[0m[\u001b[0m\u001b[33mwarn\u001b[0m] \u001b[0m\u001b[0mthere were 1005 feature warnings; re-run with -feature for details\u001b[0m\n",
            "model contains 114 documentable templates\n",
            "\u001b[0m[\u001b[0m\u001b[33mwarn\u001b[0m] \u001b[0m\u001b[0mone warning found\u001b[0m\n",
            "\u001b[0m[\u001b[0m\u001b[0minfo\u001b[0m] \u001b[0m\u001b[0mMain Scala API documentation successful.\u001b[0m\n",
            "\u001b[0m[\u001b[0m\u001b[0minfo\u001b[0m] \u001b[0m\u001b[0mPackaging /tvm/vta/hardware/chisel/target/scala-2.11/vta_2.11-0.1.0-SNAPSHOT-javadoc.jar ...\u001b[0m\n",
            "\u001b[0m[\u001b[0m\u001b[0minfo\u001b[0m] \u001b[0m\u001b[0mDone packaging.\u001b[0m\n",
            "\u001b[0m[\u001b[0m\u001b[0minfo\u001b[0m] \u001b[0m\u001b[0m:: delivering :: edu.washington.cs#vta_2.11;0.1.0-SNAPSHOT :: 0.1.0-SNAPSHOT :: integration :: Fri Jun 14 00:37:27 UTC 2019\u001b[0m\n",
            "\u001b[0m[\u001b[0m\u001b[0minfo\u001b[0m] \u001b[0m\u001b[0m\tdelivering ivy file to /tvm/vta/hardware/chisel/target/scala-2.11/ivy-0.1.0-SNAPSHOT.xml\u001b[0m\n",
            "\u001b[0m[\u001b[0m\u001b[0minfo\u001b[0m] \u001b[0m\u001b[0m\tpublished vta_2.11 to /root/.ivy2/local/edu.washington.cs/vta_2.11/0.1.0-SNAPSHOT/poms/vta_2.11.pom\u001b[0m\n",
            "\u001b[0m[\u001b[0m\u001b[0minfo\u001b[0m] \u001b[0m\u001b[0m\tpublished vta_2.11 to /root/.ivy2/local/edu.washington.cs/vta_2.11/0.1.0-SNAPSHOT/jars/vta_2.11.jar\u001b[0m\n",
            "\u001b[0m[\u001b[0m\u001b[0minfo\u001b[0m] \u001b[0m\u001b[0m\tpublished vta_2.11 to /root/.ivy2/local/edu.washington.cs/vta_2.11/0.1.0-SNAPSHOT/srcs/vta_2.11-sources.jar\u001b[0m\n",
            "\u001b[0m[\u001b[0m\u001b[0minfo\u001b[0m] \u001b[0m\u001b[0m\tpublished vta_2.11 to /root/.ivy2/local/edu.washington.cs/vta_2.11/0.1.0-SNAPSHOT/docs/vta_2.11-javadoc.jar\u001b[0m\n",
            "\u001b[0m[\u001b[0m\u001b[0minfo\u001b[0m] \u001b[0m\u001b[0m\tpublished ivy to /root/.ivy2/local/edu.washington.cs/vta_2.11/0.1.0-SNAPSHOT/ivys/ivy.xml\u001b[0m\n",
            "\u001b[0m[\u001b[0m\u001b[32msuccess\u001b[0m] \u001b[0m\u001b[0mTotal time: 24 s, completed Jun 14, 2019, 12:37:27 AM\u001b[0m\n",
            "sbt 'test:runMain test.Elaborate --target-dir /tvm/vta/apps/tsim_example/hardware/chisel/build/chisel --top-name TestAccel'\n",
            "\u001b[0m[\u001b[0m\u001b[0minfo\u001b[0m] \u001b[0m\u001b[0mLoading settings from plugins.sbt ...\u001b[0m\n",
            "\u001b[0m[\u001b[0m\u001b[0minfo\u001b[0m] \u001b[0m\u001b[0mLoading project definition from /tvm/vta/apps/tsim_example/hardware/chisel/project\u001b[0m\n",
            "\u001b[0m[\u001b[0m\u001b[0minfo\u001b[0m] \u001b[0m\u001b[0mLoading settings from build.sbt ...\u001b[0m\n",
            "\u001b[0m[\u001b[0m\u001b[0minfo\u001b[0m] \u001b[0m\u001b[0mSet current project to accel (in build file:/tvm/vta/apps/tsim_example/hardware/chisel/)\u001b[0m\n",
            "\u001b[0m[\u001b[0m\u001b[0minfo\u001b[0m] \u001b[0m\u001b[0mUpdating ...\u001b[0m\n",
            "\u001b[0m[\u001b[0m\u001b[33mwarn\u001b[0m] \u001b[0m\u001b[0mChoosing local for edu.washington.cs#vta_2.11;0.1.0-SNAPSHOT\u001b[0m\n",
            "\u001b[0m[\u001b[0m\u001b[0minfo\u001b[0m] \u001b[0m\u001b[0mDone updating.\u001b[0m\n",
            "\u001b[0m[\u001b[0m\u001b[0minfo\u001b[0m] \u001b[0m\u001b[0mCompiling 3 Scala sources to /tvm/vta/apps/tsim_example/hardware/chisel/target/scala-2.11/classes ...\u001b[0m\n",
            "\u001b[0m[\u001b[0m\u001b[33mwarn\u001b[0m] \u001b[0m\u001b[0mthere were 87 feature warnings; re-run with -feature for details\u001b[0m\n",
            "\u001b[0m[\u001b[0m\u001b[33mwarn\u001b[0m] \u001b[0m\u001b[0mone warning found\u001b[0m\n",
            "\u001b[0m[\u001b[0m\u001b[0minfo\u001b[0m] \u001b[0m\u001b[0mDone compiling.\u001b[0m\n",
            "\u001b[0m[\u001b[0m\u001b[0minfo\u001b[0m] \u001b[0m\u001b[0mPackaging /tvm/vta/apps/tsim_example/hardware/chisel/target/scala-2.11/accel_2.11-0.1.0-SNAPSHOT.jar ...\u001b[0m\n",
            "\u001b[0m[\u001b[0m\u001b[0minfo\u001b[0m] \u001b[0m\u001b[0mDone packaging.\u001b[0m\n",
            "\u001b[0m[\u001b[0m\u001b[0minfo\u001b[0m] \u001b[0m\u001b[0mCompiling 1 Scala source to /tvm/vta/apps/tsim_example/hardware/chisel/target/scala-2.11/test-classes ...\u001b[0m\n",
            "\u001b[0m[\u001b[0m\u001b[33mwarn\u001b[0m] \u001b[0m\u001b[0mthere were 12 feature warnings; re-run with -feature for details\u001b[0m\n",
            "\u001b[0m[\u001b[0m\u001b[33mwarn\u001b[0m] \u001b[0m\u001b[0mone warning found\u001b[0m\n",
            "\u001b[0m[\u001b[0m\u001b[0minfo\u001b[0m] \u001b[0m\u001b[0mDone compiling.\u001b[0m\n",
            "\u001b[0m[\u001b[0m\u001b[0minfo\u001b[0m] \u001b[0m\u001b[0mPackaging /tvm/vta/apps/tsim_example/hardware/chisel/target/scala-2.11/accel_2.11-0.1.0-SNAPSHOT-tests.jar ...\u001b[0m\n",
            "\u001b[0m[\u001b[0m\u001b[0minfo\u001b[0m] \u001b[0m\u001b[0mDone packaging.\u001b[0m\n",
            "\u001b[0m[\u001b[0m\u001b[0minfo\u001b[0m] \u001b[0m\u001b[0mRunning test.Elaborate --target-dir /tvm/vta/apps/tsim_example/hardware/chisel/build/chisel --top-name TestAccel\u001b[0m\n",
            "[\u001b[35minfo\u001b[0m] [0.003] Elaborating design...\n",
            "[\u001b[35minfo\u001b[0m] [1.216] Done elaborating.\n",
            "Total FIRRTL Compile Time: 1379.2 ms\n",
            "\u001b[0m[\u001b[0m\u001b[32msuccess\u001b[0m] \u001b[0m\u001b[0mTotal time: 24 s, completed Jun 14, 2019, 12:38:03 AM\u001b[0m\n",
            "verilator --cc +define+RANDOMIZE_GARBAGE_ASSIGN +define+RANDOMIZE_REG_INIT +define+RANDOMIZE_MEM_INIT --x-assign unique --output-split 20000 --output-split-cfuncs 20000 --top-module TestAccel -Mdir /tvm/vta/apps/tsim_example/hardware/chisel/build/verilator -I/tvm/vta/apps/tsim_example/hardware/chisel/build/chisel /tvm/vta/apps/tsim_example/hardware/chisel/build/chisel/TestAccel.v\n",
            "echo /usr/share/verilator/include/verilated.cpp /usr/share/verilator/include/verilated_dpi.cpp /tvm/vta/apps/tsim_example/hardware/chisel/build/verilator/VTestAccel.cpp /tvm/vta/apps/tsim_example/hardware/chisel/build/verilator/VTestAccel__Slow.cpp /tvm/vta/apps/tsim_example/hardware/chisel/build/verilator/VTestAccel__Syms.cpp /tvm/vta/apps/tsim_example/hardware/chisel/build/verilator/VTestAccel__Dpi.cpp /tvm/vta/hardware/dpi/tsim_device.cc\n",
            "/usr/share/verilator/include/verilated.cpp /usr/share/verilator/include/verilated_dpi.cpp /tvm/vta/apps/tsim_example/hardware/chisel/build/verilator/VTestAccel.cpp /tvm/vta/apps/tsim_example/hardware/chisel/build/verilator/VTestAccel__Slow.cpp /tvm/vta/apps/tsim_example/hardware/chisel/build/verilator/VTestAccel__Syms.cpp /tvm/vta/apps/tsim_example/hardware/chisel/build/verilator/VTestAccel__Dpi.cpp /tvm/vta/hardware/dpi/tsim_device.cc\n",
            "g++ -O2 -Wall -fPIC -shared -fvisibility=hidden -std=c++11 -DVL_TSIM_NAME=VTestAccel -DVL_PRINTF=printf -DVL_USER_FINISH -DVM_COVERAGE=0 -DVM_SC=0 -Wno-sign-compare -include VTestAccel.h -I/tvm/vta/apps/tsim_example/hardware/chisel/build/verilator -I/usr/share/verilator/include -I/usr/share/verilator/include/vltstd -I/tvm/vta/include -I/tvm/include -I/tvm/3rdparty/dlpack/include -DVM_TRACE=0 /usr/share/verilator/include/verilated.cpp /usr/share/verilator/include/verilated_dpi.cpp /tvm/vta/apps/tsim_example/hardware/chisel/build/verilator/VTestAccel.cpp /tvm/vta/apps/tsim_example/hardware/chisel/build/verilator/VTestAccel__Slow.cpp /tvm/vta/apps/tsim_example/hardware/chisel/build/verilator/VTestAccel__Syms.cpp /tvm/vta/apps/tsim_example/hardware/chisel/build/verilator/VTestAccel__Dpi.cpp /tvm/vta/hardware/dpi/tsim_device.cc -o /tvm/vta/apps/tsim_example/hardware/chisel/build/libhw.so\n"
          ],
          "name": "stdout"
        },
        {
          "output_type": "stream",
          "text": [
            "WARNING: An illegal reflective access operation has occurred\n",
            "WARNING: Illegal reflective access by com.google.protobuf.UnsafeUtil (file:/root/.sbt/boot/scala-2.12.4/org.scala-sbt/sbt/1.1.1/protobuf-java-3.3.1.jar) to field java.nio.Buffer.address\n",
            "WARNING: Please consider reporting this to the maintainers of com.google.protobuf.UnsafeUtil\n",
            "WARNING: Use --illegal-access=warn to enable warnings of further illegal reflective access operations\n",
            "WARNING: All illegal access operations will be denied in a future release\n",
            "/tvm/vta/apps/tsim_example/hardware/chisel/build/verilator/VTestAccel__Slow.cpp: In constructor ‘VTestAccel::VTestAccel(const char*)’:\n",
            "/tvm/vta/apps/tsim_example/hardware/chisel/build/verilator/VTestAccel__Slow.cpp:18:89: warning: ‘new’ of type ‘VTestAccel__Syms’ with extended alignment 64 [-Waligned-new=]\n",
            "     VTestAccel__Syms* __restrict vlSymsp = __VlSymsp = new VTestAccel__Syms(this, name());\n",
            "                                                                                         ^\n",
            "/tvm/vta/apps/tsim_example/hardware/chisel/build/verilator/VTestAccel__Slow.cpp:18:89: note: uses ‘void* operator new(long unsigned int)’, which does not have an alignment parameter\n",
            "/tvm/vta/apps/tsim_example/hardware/chisel/build/verilator/VTestAccel__Slow.cpp:18:89: note: use ‘-faligned-new’ to enable C++17 over-aligned new support\n",
            "/tvm/vta/hardware/dpi/tsim_device.cc: In function ‘int VTADPISim(uint64_t)’:\n",
            "<command-line>:0:14: warning: ‘new’ of type ‘VTestAccel’ with extended alignment 128 [-Waligned-new=]\n",
            "/tvm/vta/hardware/dpi/tsim_device.cc:89:27: note: in expansion of macro ‘VL_TSIM_NAME’\n",
            "   VL_TSIM_NAME* top = new VL_TSIM_NAME;\n",
            "                           ^~~~~~~~~~~~\n",
            "<command-line>:0:14: note: uses ‘void* operator new(long unsigned int)’, which does not have an alignment parameter\n",
            "/tvm/vta/hardware/dpi/tsim_device.cc:89:27: note: in expansion of macro ‘VL_TSIM_NAME’\n",
            "   VL_TSIM_NAME* top = new VL_TSIM_NAME;\n",
            "                           ^~~~~~~~~~~~\n",
            "<command-line>:0:14: note: use ‘-faligned-new’ to enable C++17 over-aligned new support\n",
            "/tvm/vta/hardware/dpi/tsim_device.cc:89:27: note: in expansion of macro ‘VL_TSIM_NAME’\n",
            "   VL_TSIM_NAME* top = new VL_TSIM_NAME;\n",
            "                           ^~~~~~~~~~~~\n"
          ],
          "name": "stderr"
        }
      ]
    },
    {
      "cell_type": "markdown",
      "metadata": {
        "id": "4WsxS9S1axu5",
        "colab_type": "text"
      },
      "source": [
        "## Software driver"
      ]
    },
    {
      "cell_type": "markdown",
      "metadata": {
        "id": "QTeDBNP-aEtn",
        "colab_type": "text"
      },
      "source": [
        "### Source files"
      ]
    },
    {
      "cell_type": "code",
      "metadata": {
        "id": "IO3o8g_U8MGo",
        "colab_type": "code",
        "colab": {}
      },
      "source": [
        "%%bash\n",
        "cat /tvm/vta/apps/tsim_example/src/driver.cc"
      ],
      "execution_count": 0,
      "outputs": []
    },
    {
      "cell_type": "markdown",
      "metadata": {
        "id": "m5F7fygIZ_P1",
        "colab_type": "text"
      },
      "source": [
        "### How to build"
      ]
    },
    {
      "cell_type": "code",
      "metadata": {
        "id": "6gzmonAiZ-ae",
        "colab_type": "code",
        "colab": {
          "base_uri": "https://localhost:8080/",
          "height": 544
        },
        "outputId": "50377b00-c064-492d-c0fc-f95f3e930221"
      },
      "source": [
        "%%bash\n",
        "cd /tvm/vta/apps/tsim_example\n",
        "make driver"
      ],
      "execution_count": 7,
      "outputs": [
        {
          "output_type": "stream",
          "text": [
            "mkdir -p /tvm/vta/apps/tsim_example/build\n",
            "cd /tvm/vta/apps/tsim_example/build && cmake .. && make\n",
            "-- The C compiler identification is GNU 7.4.0\n",
            "-- The CXX compiler identification is GNU 7.4.0\n",
            "-- Check for working C compiler: /usr/bin/cc\n",
            "-- Check for working C compiler: /usr/bin/cc -- works\n",
            "-- Detecting C compiler ABI info\n",
            "-- Detecting C compiler ABI info - done\n",
            "-- Detecting C compile features\n",
            "-- Detecting C compile features - done\n",
            "-- Check for working CXX compiler: /usr/bin/c++\n",
            "-- Check for working CXX compiler: /usr/bin/c++ -- works\n",
            "-- Detecting CXX compiler ABI info\n",
            "-- Detecting CXX compiler ABI info - done\n",
            "-- Detecting CXX compile features\n",
            "-- Detecting CXX compile features - done\n",
            "-- Configuring done\n",
            "-- Generating done\n",
            "-- Build files have been written to: /tvm/vta/apps/tsim_example/build\n",
            "make[1]: Entering directory '/tvm/vta/apps/tsim_example/build'\n",
            "make[2]: Entering directory '/tvm/vta/apps/tsim_example/build'\n",
            "make[3]: Entering directory '/tvm/vta/apps/tsim_example/build'\n",
            "Scanning dependencies of target sw\n",
            "make[3]: Leaving directory '/tvm/vta/apps/tsim_example/build'\n",
            "make[3]: Entering directory '/tvm/vta/apps/tsim_example/build'\n",
            "[ 50%] Building CXX object CMakeFiles/sw.dir/src/driver.cc.o\n",
            "[100%] Linking CXX shared library libsw.so\n",
            "make[3]: Leaving directory '/tvm/vta/apps/tsim_example/build'\n",
            "[100%] Built target sw\n",
            "make[2]: Leaving directory '/tvm/vta/apps/tsim_example/build'\n",
            "make[1]: Leaving directory '/tvm/vta/apps/tsim_example/build'\n"
          ],
          "name": "stdout"
        }
      ]
    },
    {
      "cell_type": "markdown",
      "metadata": {
        "id": "pwSWJVIDbB9O",
        "colab_type": "text"
      },
      "source": [
        "## Create a test"
      ]
    },
    {
      "cell_type": "code",
      "metadata": {
        "id": "50mFCsaacQfp",
        "colab_type": "code",
        "colab": {}
      },
      "source": [
        "import tvm\n",
        "import numpy as np\n",
        "import ctypes"
      ],
      "execution_count": 0,
      "outputs": []
    },
    {
      "cell_type": "code",
      "metadata": {
        "id": "Hv3C59bxb3gl",
        "colab_type": "code",
        "colab": {}
      },
      "source": [
        "def tsim(hw_backend):\n",
        "  def load_dll(dll):\n",
        "    try:\n",
        "      return [ctypes.CDLL(dll, ctypes.RTLD_GLOBAL)]\n",
        "    except OSError:\n",
        "      return []\n",
        "\n",
        "  def run(a, b):\n",
        "    if hw_backend in [\"chisel\"]:\n",
        "      hw_lib = '/tvm/vta/apps/tsim_example/hardware/chisel/build/libhw.so'\n",
        "    else:\n",
        "      hw_lib = '/tvm/vta/apps/tsim_example/hardware/verilog/build/libhw.so'\n",
        "    sw_lib = '/tvm/vta/apps/tsim_example/build/libsw.so'\n",
        "    load_dll(sw_lib)\n",
        "    f = tvm.get_global_func(\"tvm.vta.driver\")\n",
        "    m = tvm.module.load(hw_lib, \"vta-tsim\")\n",
        "    f(m, a, b)\n",
        "  return run"
      ],
      "execution_count": 0,
      "outputs": []
    },
    {
      "cell_type": "code",
      "metadata": {
        "id": "CTqdN7vHb_kg",
        "colab_type": "code",
        "colab": {}
      },
      "source": [
        "def test_accel(n, hw_backend):\n",
        "    ctx = tvm.cpu(0)\n",
        "    rmax = 64\n",
        "    a = tvm.nd.array(np.random.randint(rmax, size=n).astype(\"uint64\"), ctx)\n",
        "    b = tvm.nd.array(np.zeros(n).astype(\"uint64\"), ctx)\n",
        "    f = tsim(hw_backend)\n",
        "    f(a, b)\n",
        "    for i, (x, y) in enumerate(zip(a.asnumpy(), b.asnumpy())):\n",
        "      print(\"i:{} a:{} b:{}\".format(i, x, y))"
      ],
      "execution_count": 0,
      "outputs": []
    },
    {
      "cell_type": "markdown",
      "metadata": {
        "id": "E2yX6a6qbDQ7",
        "colab_type": "text"
      },
      "source": [
        "## Run Accelerator in Verilog"
      ]
    },
    {
      "cell_type": "code",
      "metadata": {
        "id": "InAbJlhXcCfc",
        "colab_type": "code",
        "colab": {}
      },
      "source": [
        "test_accel(10, \"verilog\")"
      ],
      "execution_count": 0,
      "outputs": []
    },
    {
      "cell_type": "markdown",
      "metadata": {
        "id": "D4Obo36bcqwS",
        "colab_type": "text"
      },
      "source": [
        "## Run Accelerator in Chisel"
      ]
    },
    {
      "cell_type": "code",
      "metadata": {
        "id": "WHG1D238cvgZ",
        "colab_type": "code",
        "colab": {}
      },
      "source": [
        "test_accel(20, \"chisel\")"
      ],
      "execution_count": 0,
      "outputs": []
    }
  ]
}